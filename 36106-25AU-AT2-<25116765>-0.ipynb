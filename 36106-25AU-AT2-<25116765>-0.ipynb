{
 "cells": [
  {
   "cell_type": "markdown",
   "metadata": {
    "id": "uQ6wc2HE0pke"
   },
   "source": [
    "# **Experiment Notebook**\n",
    "\n"
   ]
  },
  {
   "cell_type": "markdown",
   "metadata": {
    "id": "KFVpE17Ahezu"
   },
   "source": [
    "---\n",
    "## 0. Setup Environment"
   ]
  },
  {
   "cell_type": "markdown",
   "metadata": {
    "id": "kWUmi7fakv5O"
   },
   "source": [
    "### 0.a Install Environment and Mandatory Packages"
   ]
  },
  {
   "cell_type": "code",
   "execution_count": null,
   "metadata": {},
   "outputs": [],
   "source": [
    "# Do not modify this code\n",
    "!pip install -q utstd\n",
    "\n",
    "from utstd.folders import *\n",
    "from utstd.ipyrenders import *\n",
    "\n",
    "at = AtFolder(\n",
    "    course_code=36106,\n",
    "    assignment=\"AT2\",\n",
    ")\n",
    "at.run()"
   ]
  },
  {
   "cell_type": "markdown",
   "metadata": {
    "id": "jM39DExClCc5"
   },
   "source": [
    "### 0.b Disable Warnings Messages"
   ]
  },
  {
   "cell_type": "code",
   "execution_count": null,
   "metadata": {
    "executionInfo": {
     "elapsed": 3,
     "status": "ok",
     "timestamp": 1744063179840,
     "user": {
      "displayName": "Anthony So",
      "userId": "05258592867336372279"
     },
     "user_tz": -600
    },
    "id": "6FneOmBfka9G"
   },
   "outputs": [],
   "source": [
    "# Do not modify this code\n",
    "import warnings\n",
    "warnings.simplefilter(action='ignore', category=FutureWarning)"
   ]
  },
  {
   "cell_type": "markdown",
   "metadata": {
    "id": "CgTrMfyylVLf"
   },
   "source": [
    "### 0.c Install Additional Packages"
   ]
  },
  {
   "cell_type": "markdown",
   "metadata": {
    "id": "mXFKfa2tp1ch"
   },
   "source": [
    "### 0.d Import Packages\n",
    "\n",
    "> If you are using additional packages, you need to install them here using the command: `! pip install <package_name>`"
   ]
  },
  {
   "cell_type": "code",
   "execution_count": null,
   "metadata": {
    "executionInfo": {
     "elapsed": 1,
     "status": "ok",
     "timestamp": 1744063179841,
     "user": {
      "displayName": "Anthony So",
      "userId": "05258592867336372279"
     },
     "user_tz": -600
    },
    "id": "r0iZBItTznvr"
   },
   "outputs": [],
   "source": [
    "# <Student to fill this section>"
   ]
  },
  {
   "cell_type": "code",
   "execution_count": 6,
   "metadata": {
    "executionInfo": {
     "elapsed": 822,
     "status": "ok",
     "timestamp": 1744063180663,
     "user": {
      "displayName": "Anthony So",
      "userId": "05258592867336372279"
     },
     "user_tz": -600
    },
    "id": "GBEAwdncnlAx"
   },
   "outputs": [
    {
     "name": "stderr",
     "output_type": "stream",
     "text": [
      "/Users/ratikpant/anaconda3/lib/python3.11/site-packages/pandas/core/arrays/masked.py:60: UserWarning: Pandas requires version '1.3.6' or newer of 'bottleneck' (version '1.3.5' currently installed).\n",
      "  from pandas.core import (\n"
     ]
    }
   ],
   "source": [
    "# <Student to fill this section>\n",
    "import pandas as pd\n",
    "import altair as alt\n",
    "import numpy as np\n",
    "import matplotlib.pyplot as plt\n",
    "import seaborn as sns\n"
   ]
  },
  {
   "cell_type": "markdown",
   "metadata": {
    "id": "tQgxLRrvjiJb"
   },
   "source": [
    "---\n",
    "## A. Project Description\n"
   ]
  },
  {
   "cell_type": "code",
   "execution_count": null,
   "metadata": {
    "executionInfo": {
     "elapsed": 13,
     "status": "ok",
     "timestamp": 1744063180677,
     "user": {
      "displayName": "Anthony So",
      "userId": "05258592867336372279"
     },
     "user_tz": -600
    },
    "id": "SS-pQF1Nuhh_"
   },
   "outputs": [],
   "source": [
    "# <Student to fill this section>\n",
    "student_name = \"Ratik Pant\"\n",
    "student_id = \"25116765\""
   ]
  },
  {
   "cell_type": "code",
   "execution_count": null,
   "metadata": {},
   "outputs": [],
   "source": [
    "# Do not modify this code\n",
    "print_tile(size=\"h1\", key='student_name', value=student_name)"
   ]
  },
  {
   "cell_type": "code",
   "execution_count": null,
   "metadata": {},
   "outputs": [],
   "source": [
    "# Do not modify this code\n",
    "print_tile(size=\"h1\", key='student_id', value=student_id)"
   ]
  },
  {
   "cell_type": "code",
   "execution_count": null,
   "metadata": {
    "executionInfo": {
     "elapsed": 14,
     "status": "ok",
     "timestamp": 1744063180726,
     "user": {
      "displayName": "Anthony So",
      "userId": "05258592867336372279"
     },
     "user_tz": -600
    },
    "id": "00teGgpAv1d1"
   },
   "outputs": [],
   "source": [
    "business_objective = \"The primary goal of this project is to develop a predictive model that accurately classifies university students into 4 performance categories—Excellent, Good, Average, Poor on their demographic, academic, behavioral, and socio-economic characteristics. This initiative is driven by the need to proactively identify students at risk of underperforming in the current academic semester and to ensure timely academic interventions.\"\n",
    "#Explain clearly what is the goal of this project for the business. How will the results be used? What will be the impact of accurate or incorrect results?"
   ]
  },
  {
   "cell_type": "code",
   "execution_count": null,
   "metadata": {},
   "outputs": [],
   "source": [
    "# Do not modify this code\n",
    "print_tile(size=\"h3\", key='business_objective', value=business_objective)"
   ]
  },
  {
   "cell_type": "markdown",
   "metadata": {
    "id": "4q1Bzcejvfpm"
   },
   "source": [
    "---\n",
    "## B. Experiment Description"
   ]
  },
  {
   "cell_type": "code",
   "execution_count": null,
   "metadata": {},
   "outputs": [],
   "source": [
    "# Do not modify this code\n",
    "experiment_id = \"1\"\n",
    "print_tile(size=\"h1\", key='experiment_id', value=experiment_id)"
   ]
  },
  {
   "cell_type": "markdown",
   "metadata": {
    "executionInfo": {
     "elapsed": 1,
     "status": "ok",
     "timestamp": 1744063180750,
     "user": {
      "displayName": "Anthony So",
      "userId": "05258592867336372279"
     },
     "user_tz": -600
    },
    "id": "-NNroN2fwCQB"
   },
   "source": [
    "# <Student to fill this section>\n",
    "\n"
   ]
  },
  {
   "cell_type": "markdown",
   "metadata": {},
   "source": [
    "#Hypothesis 1:\n",
    "Higher class attendance is associated with higher academic performance.\n",
    " Why: To validate the impact of attendance on academic success and support potential attendance-based alerts or interventions."
   ]
  },
  {
   "cell_type": "markdown",
   "metadata": {},
   "source": [
    "Hypothesis 2:\n",
    "Higher social media usage is associated with poorer performance.\n",
    " Why: To understand the academic impact from influence of social media and spread awareness on it.."
   ]
  },
  {
   "cell_type": "code",
   "execution_count": null,
   "metadata": {
    "executionInfo": {
     "elapsed": 1,
     "status": "ok",
     "timestamp": 1744063180757,
     "user": {
      "displayName": "Anthony So",
      "userId": "05258592867336372279"
     },
     "user_tz": -600
    },
    "id": "wRkZ3TudwI4n"
   },
   "outputs": [],
   "source": [
    "# <Student to fill this section>\n",
    "experiment_expectations = \"\"\"\n",
    "Detail what will be the expected outcome of the experiment. If possible, estimate the goal you are expecting.\n",
    "List the possible scenarios resulting from this experiment.\n",
    "\"\"\""
   ]
  },
  {
   "cell_type": "code",
   "execution_count": null,
   "metadata": {},
   "outputs": [],
   "source": [
    "# Do not modify this code\n",
    "print_tile(size=\"h3\", key='experiment_expectations', value=experiment_expectations)"
   ]
  },
  {
   "cell_type": "code",
   "execution_count": null,
   "metadata": {},
   "outputs": [],
   "source": [
    "pwd"
   ]
  },
  {
   "cell_type": "markdown",
   "metadata": {
    "id": "P0zsEPshwy1K"
   },
   "source": [
    "---\n",
    "## C. Data Understanding"
   ]
  },
  {
   "cell_type": "markdown",
   "metadata": {
    "id": "gL5f0ePt0SGX"
   },
   "source": [
    "### C.1 Explore Dataset"
   ]
  },
  {
   "cell_type": "code",
   "execution_count": null,
   "metadata": {
    "executionInfo": {
     "elapsed": 25,
     "status": "ok",
     "timestamp": 1744063180791,
     "user": {
      "displayName": "Anthony So",
      "userId": "05258592867336372279"
     },
     "user_tz": -600
    },
    "id": "OfWPmPTD0UGo"
   },
   "outputs": [],
   "source": [
    "# <Student to fill this section>"
   ]
  },
  {
   "cell_type": "code",
   "execution_count": 7,
   "metadata": {
    "executionInfo": {
     "elapsed": 5,
     "status": "ok",
     "timestamp": 1744063180791,
     "user": {
      "displayName": "Anthony So",
      "userId": "05258592867336372279"
     },
     "user_tz": -600
    },
    "id": "RpCXNEdsPG3H"
   },
   "outputs": [],
   "source": [
    "df = pd.read_csv(  \"/Users/ratikpant/Desktop/machinelearningass2/students_performance.csv\")"
   ]
  },
  {
   "cell_type": "code",
   "execution_count": 8,
   "metadata": {},
   "outputs": [
    {
     "data": {
      "text/html": [
       "<div>\n",
       "<style scoped>\n",
       "    .dataframe tbody tr th:only-of-type {\n",
       "        vertical-align: middle;\n",
       "    }\n",
       "\n",
       "    .dataframe tbody tr th {\n",
       "        vertical-align: top;\n",
       "    }\n",
       "\n",
       "    .dataframe thead th {\n",
       "        text-align: right;\n",
       "    }\n",
       "</style>\n",
       "<table border=\"1\" class=\"dataframe\">\n",
       "  <thead>\n",
       "    <tr style=\"text-align: right;\">\n",
       "      <th></th>\n",
       "      <th>student_id</th>\n",
       "      <th>full_name</th>\n",
       "      <th>age</th>\n",
       "      <th>email</th>\n",
       "      <th>phone_number</th>\n",
       "      <th>gender</th>\n",
       "      <th>birth_country</th>\n",
       "      <th>secondary_address</th>\n",
       "      <th>building_number</th>\n",
       "      <th>street_name</th>\n",
       "      <th>...</th>\n",
       "      <th>social_media_hours</th>\n",
       "      <th>average_attendance</th>\n",
       "      <th>skills</th>\n",
       "      <th>skills_development_hours</th>\n",
       "      <th>area_of_interest</th>\n",
       "      <th>previous_gpa</th>\n",
       "      <th>current_gpa</th>\n",
       "      <th>completed_credits</th>\n",
       "      <th>has_diploma</th>\n",
       "      <th>house_income</th>\n",
       "    </tr>\n",
       "  </thead>\n",
       "  <tbody>\n",
       "    <tr>\n",
       "      <th>0</th>\n",
       "      <td>7</td>\n",
       "      <td>Lauren Moon</td>\n",
       "      <td>22.0</td>\n",
       "      <td>kimberlypark@example.org</td>\n",
       "      <td>(08)35431944</td>\n",
       "      <td>Female</td>\n",
       "      <td>AU</td>\n",
       "      <td>Unit 93</td>\n",
       "      <td>0</td>\n",
       "      <td>April Amble</td>\n",
       "      <td>...</td>\n",
       "      <td>2.0</td>\n",
       "      <td>100.0</td>\n",
       "      <td>Web development skill(Frontend)</td>\n",
       "      <td>1.0</td>\n",
       "      <td>Networking</td>\n",
       "      <td>3.80</td>\n",
       "      <td>3.64</td>\n",
       "      <td>35.0</td>\n",
       "      <td>False</td>\n",
       "      <td>32500.0</td>\n",
       "    </tr>\n",
       "    <tr>\n",
       "      <th>1</th>\n",
       "      <td>11</td>\n",
       "      <td>Larry Green</td>\n",
       "      <td>22.0</td>\n",
       "      <td>smithamy@example.net</td>\n",
       "      <td>(07)35774291</td>\n",
       "      <td>Male</td>\n",
       "      <td>AU</td>\n",
       "      <td>Level 2</td>\n",
       "      <td>43</td>\n",
       "      <td>Davis Crest</td>\n",
       "      <td>...</td>\n",
       "      <td>2.0</td>\n",
       "      <td>90.0</td>\n",
       "      <td>Programming</td>\n",
       "      <td>1.0</td>\n",
       "      <td>Data Science</td>\n",
       "      <td>3.40</td>\n",
       "      <td>3.53</td>\n",
       "      <td>35.0</td>\n",
       "      <td>False</td>\n",
       "      <td>20000.0</td>\n",
       "    </tr>\n",
       "    <tr>\n",
       "      <th>2</th>\n",
       "      <td>15</td>\n",
       "      <td>Alexander Scott</td>\n",
       "      <td>20.0</td>\n",
       "      <td>qlee@example.org</td>\n",
       "      <td>20356212</td>\n",
       "      <td>Male</td>\n",
       "      <td>NZ</td>\n",
       "      <td>937/</td>\n",
       "      <td>96</td>\n",
       "      <td>Emily Little</td>\n",
       "      <td>...</td>\n",
       "      <td>1.0</td>\n",
       "      <td>95.0</td>\n",
       "      <td>Programming</td>\n",
       "      <td>3.0</td>\n",
       "      <td>Machine Learning / Deep Learning</td>\n",
       "      <td>3.93</td>\n",
       "      <td>3.89</td>\n",
       "      <td>35.0</td>\n",
       "      <td>False</td>\n",
       "      <td>30000.0</td>\n",
       "    </tr>\n",
       "    <tr>\n",
       "      <th>3</th>\n",
       "      <td>18</td>\n",
       "      <td>Jonathan Thornton</td>\n",
       "      <td>21.0</td>\n",
       "      <td>cmorgan@example.com</td>\n",
       "      <td>0627-6253</td>\n",
       "      <td>Male</td>\n",
       "      <td>AU</td>\n",
       "      <td>Level 3</td>\n",
       "      <td>5</td>\n",
       "      <td>William Pathway</td>\n",
       "      <td>...</td>\n",
       "      <td>3.0</td>\n",
       "      <td>95.0</td>\n",
       "      <td>Programming</td>\n",
       "      <td>1.0</td>\n",
       "      <td>Artificial Intelligence</td>\n",
       "      <td>3.10</td>\n",
       "      <td>3.50</td>\n",
       "      <td>35.0</td>\n",
       "      <td>False</td>\n",
       "      <td>25000.0</td>\n",
       "    </tr>\n",
       "    <tr>\n",
       "      <th>4</th>\n",
       "      <td>20</td>\n",
       "      <td>Susan Smith</td>\n",
       "      <td>21.0</td>\n",
       "      <td>xtodd@example.com</td>\n",
       "      <td>9957-3583</td>\n",
       "      <td>Female</td>\n",
       "      <td>AU</td>\n",
       "      <td>00/</td>\n",
       "      <td>5</td>\n",
       "      <td>Martin Close</td>\n",
       "      <td>...</td>\n",
       "      <td>2.0</td>\n",
       "      <td>96.0</td>\n",
       "      <td>Web development skill(Frontend)</td>\n",
       "      <td>1.0</td>\n",
       "      <td>Web Development</td>\n",
       "      <td>3.81</td>\n",
       "      <td>3.65</td>\n",
       "      <td>34.0</td>\n",
       "      <td>False</td>\n",
       "      <td>30000.0</td>\n",
       "    </tr>\n",
       "    <tr>\n",
       "      <th>...</th>\n",
       "      <td>...</td>\n",
       "      <td>...</td>\n",
       "      <td>...</td>\n",
       "      <td>...</td>\n",
       "      <td>...</td>\n",
       "      <td>...</td>\n",
       "      <td>...</td>\n",
       "      <td>...</td>\n",
       "      <td>...</td>\n",
       "      <td>...</td>\n",
       "      <td>...</td>\n",
       "      <td>...</td>\n",
       "      <td>...</td>\n",
       "      <td>...</td>\n",
       "      <td>...</td>\n",
       "      <td>...</td>\n",
       "      <td>...</td>\n",
       "      <td>...</td>\n",
       "      <td>...</td>\n",
       "      <td>...</td>\n",
       "      <td>...</td>\n",
       "    </tr>\n",
       "    <tr>\n",
       "      <th>1004</th>\n",
       "      <td>1189</td>\n",
       "      <td>Teresa Williamson</td>\n",
       "      <td>20.0</td>\n",
       "      <td>coffeyhannah@example.net</td>\n",
       "      <td>02.3506.9584</td>\n",
       "      <td>Female</td>\n",
       "      <td>AU</td>\n",
       "      <td>Suite 101</td>\n",
       "      <td>0</td>\n",
       "      <td>Matthew Cutting</td>\n",
       "      <td>...</td>\n",
       "      <td>2.0</td>\n",
       "      <td>46.0</td>\n",
       "      <td>Cyber security</td>\n",
       "      <td>2.0</td>\n",
       "      <td>Data Science</td>\n",
       "      <td>2.65</td>\n",
       "      <td>3.77</td>\n",
       "      <td>100.0</td>\n",
       "      <td>False</td>\n",
       "      <td>180000.0</td>\n",
       "    </tr>\n",
       "    <tr>\n",
       "      <th>1005</th>\n",
       "      <td>1190</td>\n",
       "      <td>Joseph Foley</td>\n",
       "      <td>23.0</td>\n",
       "      <td>nelsonscott@example.org</td>\n",
       "      <td>03 5425 4092</td>\n",
       "      <td>Male</td>\n",
       "      <td>AU</td>\n",
       "      <td>Apt. 760</td>\n",
       "      <td>394</td>\n",
       "      <td>Daniel Frontage</td>\n",
       "      <td>...</td>\n",
       "      <td>4.0</td>\n",
       "      <td>100.0</td>\n",
       "      <td>Programming</td>\n",
       "      <td>2.0</td>\n",
       "      <td>Software</td>\n",
       "      <td>2.50</td>\n",
       "      <td>2.22</td>\n",
       "      <td>18.0</td>\n",
       "      <td>False</td>\n",
       "      <td>200000.0</td>\n",
       "    </tr>\n",
       "    <tr>\n",
       "      <th>1006</th>\n",
       "      <td>1191</td>\n",
       "      <td>Steven Blair</td>\n",
       "      <td>22.0</td>\n",
       "      <td>rogerjones@example.net</td>\n",
       "      <td>+61-8-1110-6095</td>\n",
       "      <td>Male</td>\n",
       "      <td>AU</td>\n",
       "      <td>8/</td>\n",
       "      <td>23</td>\n",
       "      <td>Daniel Run</td>\n",
       "      <td>...</td>\n",
       "      <td>2.0</td>\n",
       "      <td>100.0</td>\n",
       "      <td>Networking</td>\n",
       "      <td>2.0</td>\n",
       "      <td>Hardware</td>\n",
       "      <td>1.56</td>\n",
       "      <td>2.78</td>\n",
       "      <td>121.0</td>\n",
       "      <td>False</td>\n",
       "      <td>200000.0</td>\n",
       "    </tr>\n",
       "    <tr>\n",
       "      <th>1007</th>\n",
       "      <td>1192</td>\n",
       "      <td>Martha Shelton</td>\n",
       "      <td>25.0</td>\n",
       "      <td>arthurcooper@example.net</td>\n",
       "      <td>+61380987424</td>\n",
       "      <td>Female</td>\n",
       "      <td>AU</td>\n",
       "      <td>Suite 919</td>\n",
       "      <td>0</td>\n",
       "      <td>Rodriguez Tollway</td>\n",
       "      <td>...</td>\n",
       "      <td>3.0</td>\n",
       "      <td>100.0</td>\n",
       "      <td>Web development skill(Frontend)</td>\n",
       "      <td>4.0</td>\n",
       "      <td>Software</td>\n",
       "      <td>1.40</td>\n",
       "      <td>2.52</td>\n",
       "      <td>144.0</td>\n",
       "      <td>False</td>\n",
       "      <td>210000.0</td>\n",
       "    </tr>\n",
       "    <tr>\n",
       "      <th>1008</th>\n",
       "      <td>1193</td>\n",
       "      <td>Patricia Tapia</td>\n",
       "      <td>23.0</td>\n",
       "      <td>gwilliams@example.net</td>\n",
       "      <td>02 2128 7183</td>\n",
       "      <td>Female</td>\n",
       "      <td>AU</td>\n",
       "      <td>39/</td>\n",
       "      <td>203</td>\n",
       "      <td>Smith Vale</td>\n",
       "      <td>...</td>\n",
       "      <td>5.0</td>\n",
       "      <td>100.0</td>\n",
       "      <td>Networking</td>\n",
       "      <td>1.0</td>\n",
       "      <td>Hardware</td>\n",
       "      <td>1.34</td>\n",
       "      <td>2.88</td>\n",
       "      <td>88.0</td>\n",
       "      <td>False</td>\n",
       "      <td>250000.0</td>\n",
       "    </tr>\n",
       "  </tbody>\n",
       "</table>\n",
       "<p>1009 rows × 45 columns</p>\n",
       "</div>"
      ],
      "text/plain": [
       "      student_id          full_name   age                     email  \\\n",
       "0              7        Lauren Moon  22.0  kimberlypark@example.org   \n",
       "1             11        Larry Green  22.0      smithamy@example.net   \n",
       "2             15    Alexander Scott  20.0          qlee@example.org   \n",
       "3             18  Jonathan Thornton  21.0       cmorgan@example.com   \n",
       "4             20        Susan Smith  21.0         xtodd@example.com   \n",
       "...          ...                ...   ...                       ...   \n",
       "1004        1189  Teresa Williamson  20.0  coffeyhannah@example.net   \n",
       "1005        1190       Joseph Foley  23.0   nelsonscott@example.org   \n",
       "1006        1191       Steven Blair  22.0    rogerjones@example.net   \n",
       "1007        1192     Martha Shelton  25.0  arthurcooper@example.net   \n",
       "1008        1193     Patricia Tapia  23.0     gwilliams@example.net   \n",
       "\n",
       "         phone_number  gender birth_country secondary_address  \\\n",
       "0        (08)35431944  Female            AU          Unit 93    \n",
       "1        (07)35774291    Male            AU          Level 2    \n",
       "2            20356212    Male            NZ              937/   \n",
       "3           0627-6253    Male            AU          Level 3    \n",
       "4           9957-3583  Female            AU               00/   \n",
       "...               ...     ...           ...               ...   \n",
       "1004     02.3506.9584  Female            AU        Suite 101    \n",
       "1005     03 5425 4092    Male            AU         Apt. 760    \n",
       "1006  +61-8-1110-6095    Male            AU                8/   \n",
       "1007     +61380987424  Female            AU        Suite 919    \n",
       "1008     02 2128 7183  Female            AU               39/   \n",
       "\n",
       "      building_number        street_name  ... social_media_hours  \\\n",
       "0                   0        April Amble  ...                2.0   \n",
       "1                  43        Davis Crest  ...                2.0   \n",
       "2                  96       Emily Little  ...                1.0   \n",
       "3                   5    William Pathway  ...                3.0   \n",
       "4                   5       Martin Close  ...                2.0   \n",
       "...               ...                ...  ...                ...   \n",
       "1004                0    Matthew Cutting  ...                2.0   \n",
       "1005              394    Daniel Frontage  ...                4.0   \n",
       "1006               23         Daniel Run  ...                2.0   \n",
       "1007                0  Rodriguez Tollway  ...                3.0   \n",
       "1008              203         Smith Vale  ...                5.0   \n",
       "\n",
       "     average_attendance                           skills  \\\n",
       "0                 100.0  Web development skill(Frontend)   \n",
       "1                  90.0                      Programming   \n",
       "2                  95.0                      Programming   \n",
       "3                  95.0                      Programming   \n",
       "4                  96.0  Web development skill(Frontend)   \n",
       "...                 ...                              ...   \n",
       "1004               46.0                   Cyber security   \n",
       "1005              100.0                      Programming   \n",
       "1006              100.0                       Networking   \n",
       "1007              100.0  Web development skill(Frontend)   \n",
       "1008              100.0                       Networking   \n",
       "\n",
       "     skills_development_hours                  area_of_interest  previous_gpa  \\\n",
       "0                         1.0                        Networking          3.80   \n",
       "1                         1.0                      Data Science          3.40   \n",
       "2                         3.0  Machine Learning / Deep Learning          3.93   \n",
       "3                         1.0           Artificial Intelligence          3.10   \n",
       "4                         1.0                   Web Development          3.81   \n",
       "...                       ...                               ...           ...   \n",
       "1004                      2.0                      Data Science          2.65   \n",
       "1005                      2.0                          Software          2.50   \n",
       "1006                      2.0                          Hardware          1.56   \n",
       "1007                      4.0                          Software          1.40   \n",
       "1008                      1.0                          Hardware          1.34   \n",
       "\n",
       "     current_gpa completed_credits has_diploma house_income  \n",
       "0           3.64              35.0       False      32500.0  \n",
       "1           3.53              35.0       False      20000.0  \n",
       "2           3.89              35.0       False      30000.0  \n",
       "3           3.50              35.0       False      25000.0  \n",
       "4           3.65              34.0       False      30000.0  \n",
       "...          ...               ...         ...          ...  \n",
       "1004        3.77             100.0       False     180000.0  \n",
       "1005        2.22              18.0       False     200000.0  \n",
       "1006        2.78             121.0       False     200000.0  \n",
       "1007        2.52             144.0       False     210000.0  \n",
       "1008        2.88              88.0       False     250000.0  \n",
       "\n",
       "[1009 rows x 45 columns]"
      ]
     },
     "execution_count": 8,
     "metadata": {},
     "output_type": "execute_result"
    }
   ],
   "source": [
    "df"
   ]
  },
  {
   "cell_type": "code",
   "execution_count": 9,
   "metadata": {},
   "outputs": [
    {
     "name": "stdout",
     "output_type": "stream",
     "text": [
      "<class 'pandas.core.frame.DataFrame'>\n",
      "RangeIndex: 1009 entries, 0 to 1008\n",
      "Data columns (total 45 columns):\n",
      " #   Column                    Non-Null Count  Dtype  \n",
      "---  ------                    --------------  -----  \n",
      " 0   student_id                1009 non-null   int64  \n",
      " 1   full_name                 1009 non-null   object \n",
      " 2   age                       1009 non-null   float64\n",
      " 3   email                     1009 non-null   object \n",
      " 4   phone_number              1009 non-null   object \n",
      " 5   gender                    1009 non-null   object \n",
      " 6   birth_country             1009 non-null   object \n",
      " 7   secondary_address         1009 non-null   object \n",
      " 8   building_number           1009 non-null   int64  \n",
      " 9   street_name               1009 non-null   object \n",
      " 10  street_suffix             1009 non-null   object \n",
      " 11  city                      1009 non-null   object \n",
      " 12  postcode                  1009 non-null   int64  \n",
      " 13  state_abbr                1009 non-null   object \n",
      " 14  admission_year            1009 non-null   float64\n",
      " 15  hsc_year                  1009 non-null   float64\n",
      " 16  program                   1009 non-null   object \n",
      " 17  scholarship               1009 non-null   object \n",
      " 18  university_transport      1009 non-null   object \n",
      " 19  learning_mode             1009 non-null   object \n",
      " 20  has_phone                 1009 non-null   object \n",
      " 21  has_laptop                1009 non-null   object \n",
      " 22  english_proficiency       1009 non-null   object \n",
      " 23  on_probation              1009 non-null   object \n",
      " 24  is_suspended              1009 non-null   object \n",
      " 25  has_consulted_teacher     1009 non-null   object \n",
      " 26  relationship              1009 non-null   object \n",
      " 27  co_curricular             1009 non-null   object \n",
      " 28  living_arrangement        1009 non-null   object \n",
      " 29  health_issues             1009 non-null   object \n",
      " 30  disabilities              1009 non-null   object \n",
      " 31  target                    1009 non-null   object \n",
      " 32  current _semester         1009 non-null   float64\n",
      " 33  study_hours               1009 non-null   float64\n",
      " 34  study_sessions            1009 non-null   float64\n",
      " 35  social_media_hours        1009 non-null   float64\n",
      " 36  average_attendance        1009 non-null   float64\n",
      " 37  skills                    1008 non-null   object \n",
      " 38  skills_development_hours  1009 non-null   float64\n",
      " 39  area_of_interest          1002 non-null   object \n",
      " 40  previous_gpa              1009 non-null   float64\n",
      " 41  current_gpa               1009 non-null   float64\n",
      " 42  completed_credits         1009 non-null   float64\n",
      " 43  has_diploma               1009 non-null   bool   \n",
      " 44  house_income              1009 non-null   float64\n",
      "dtypes: bool(1), float64(13), int64(3), object(28)\n",
      "memory usage: 348.0+ KB\n"
     ]
    }
   ],
   "source": [
    "df.info()"
   ]
  },
  {
   "cell_type": "code",
   "execution_count": 10,
   "metadata": {},
   "outputs": [
    {
     "data": {
      "text/plain": [
       "(1009, 45)"
      ]
     },
     "execution_count": 10,
     "metadata": {},
     "output_type": "execute_result"
    }
   ],
   "source": [
    "df.shape"
   ]
  },
  {
   "cell_type": "code",
   "execution_count": 11,
   "metadata": {},
   "outputs": [],
   "source": [
    "#changing year and age to int"
   ]
  },
  {
   "cell_type": "code",
   "execution_count": 12,
   "metadata": {},
   "outputs": [],
   "source": [
    "df[['age','admission_year', 'hsc_year']] = df[['age', 'admission_year', 'hsc_year']].astype(int)"
   ]
  },
  {
   "cell_type": "code",
   "execution_count": 13,
   "metadata": {},
   "outputs": [],
   "source": [
    " df['has_diploma'] = df['has_diploma'].astype(str)"
   ]
  },
  {
   "cell_type": "code",
   "execution_count": 14,
   "metadata": {},
   "outputs": [
    {
     "name": "stderr",
     "output_type": "stream",
     "text": [
      "/var/folders/c_/03m83m793nj_w8twppm_5whc0000gn/T/ipykernel_87333/633880439.py:1: FutureWarning: Downcasting behavior in `replace` is deprecated and will be removed in a future version. To retain the old behavior, explicitly call `result.infer_objects(copy=False)`. To opt-in to the future behavior, set `pd.set_option('future.no_silent_downcasting', True)`\n",
      "  df['has_diploma']  = df['has_diploma'].replace({'False' : 0,\n"
     ]
    }
   ],
   "source": [
    "df['has_diploma']  = df['has_diploma'].replace({'False' : 0,\n",
    "                          'True' : 1})"
   ]
  },
  {
   "cell_type": "code",
   "execution_count": 15,
   "metadata": {},
   "outputs": [],
   "source": [
    "#duplicates ? "
   ]
  },
  {
   "cell_type": "code",
   "execution_count": 16,
   "metadata": {},
   "outputs": [
    {
     "data": {
      "text/plain": [
       "0"
      ]
     },
     "execution_count": 16,
     "metadata": {},
     "output_type": "execute_result"
    }
   ],
   "source": [
    "df.duplicated().sum()"
   ]
  },
  {
   "cell_type": "code",
   "execution_count": 17,
   "metadata": {},
   "outputs": [],
   "source": [
    "#null values ?"
   ]
  },
  {
   "cell_type": "code",
   "execution_count": 18,
   "metadata": {},
   "outputs": [
    {
     "data": {
      "text/plain": [
       "student_id                  0\n",
       "full_name                   0\n",
       "age                         0\n",
       "email                       0\n",
       "phone_number                0\n",
       "gender                      0\n",
       "birth_country               0\n",
       "secondary_address           0\n",
       "building_number             0\n",
       "street_name                 0\n",
       "street_suffix               0\n",
       "city                        0\n",
       "postcode                    0\n",
       "state_abbr                  0\n",
       "admission_year              0\n",
       "hsc_year                    0\n",
       "program                     0\n",
       "scholarship                 0\n",
       "university_transport        0\n",
       "learning_mode               0\n",
       "has_phone                   0\n",
       "has_laptop                  0\n",
       "english_proficiency         0\n",
       "on_probation                0\n",
       "is_suspended                0\n",
       "has_consulted_teacher       0\n",
       "relationship                0\n",
       "co_curricular               0\n",
       "living_arrangement          0\n",
       "health_issues               0\n",
       "disabilities                0\n",
       "target                      0\n",
       "current _semester           0\n",
       "study_hours                 0\n",
       "study_sessions              0\n",
       "social_media_hours          0\n",
       "average_attendance          0\n",
       "skills                      1\n",
       "skills_development_hours    0\n",
       "area_of_interest            7\n",
       "previous_gpa                0\n",
       "current_gpa                 0\n",
       "completed_credits           0\n",
       "has_diploma                 0\n",
       "house_income                0\n",
       "dtype: int64"
      ]
     },
     "execution_count": 18,
     "metadata": {},
     "output_type": "execute_result"
    }
   ],
   "source": [
    "df.isnull().sum()"
   ]
  },
  {
   "cell_type": "code",
   "execution_count": 19,
   "metadata": {},
   "outputs": [
    {
     "data": {
      "text/html": [
       "<div>\n",
       "<style scoped>\n",
       "    .dataframe tbody tr th:only-of-type {\n",
       "        vertical-align: middle;\n",
       "    }\n",
       "\n",
       "    .dataframe tbody tr th {\n",
       "        vertical-align: top;\n",
       "    }\n",
       "\n",
       "    .dataframe thead th {\n",
       "        text-align: right;\n",
       "    }\n",
       "</style>\n",
       "<table border=\"1\" class=\"dataframe\">\n",
       "  <thead>\n",
       "    <tr style=\"text-align: right;\">\n",
       "      <th></th>\n",
       "      <th>student_id</th>\n",
       "      <th>full_name</th>\n",
       "      <th>age</th>\n",
       "      <th>email</th>\n",
       "      <th>phone_number</th>\n",
       "      <th>gender</th>\n",
       "      <th>birth_country</th>\n",
       "      <th>secondary_address</th>\n",
       "      <th>building_number</th>\n",
       "      <th>street_name</th>\n",
       "      <th>...</th>\n",
       "      <th>social_media_hours</th>\n",
       "      <th>average_attendance</th>\n",
       "      <th>skills</th>\n",
       "      <th>skills_development_hours</th>\n",
       "      <th>area_of_interest</th>\n",
       "      <th>previous_gpa</th>\n",
       "      <th>current_gpa</th>\n",
       "      <th>completed_credits</th>\n",
       "      <th>has_diploma</th>\n",
       "      <th>house_income</th>\n",
       "    </tr>\n",
       "  </thead>\n",
       "  <tbody>\n",
       "    <tr>\n",
       "      <th>282</th>\n",
       "      <td>447</td>\n",
       "      <td>Jose Robinson</td>\n",
       "      <td>20</td>\n",
       "      <td>kanderson@example.org</td>\n",
       "      <td>+61.460.408.536</td>\n",
       "      <td>Male</td>\n",
       "      <td>AU</td>\n",
       "      <td>Unit 54</td>\n",
       "      <td>1</td>\n",
       "      <td>Haley Gap</td>\n",
       "      <td>...</td>\n",
       "      <td>5.0</td>\n",
       "      <td>80.0</td>\n",
       "      <td>NaN</td>\n",
       "      <td>0.0</td>\n",
       "      <td>Software</td>\n",
       "      <td>3.25</td>\n",
       "      <td>3.2</td>\n",
       "      <td>11.0</td>\n",
       "      <td>0</td>\n",
       "      <td>40000.0</td>\n",
       "    </tr>\n",
       "  </tbody>\n",
       "</table>\n",
       "<p>1 rows × 45 columns</p>\n",
       "</div>"
      ],
      "text/plain": [
       "     student_id      full_name  age                  email     phone_number  \\\n",
       "282         447  Jose Robinson   20  kanderson@example.org  +61.460.408.536   \n",
       "\n",
       "    gender birth_country secondary_address  building_number street_name  ...  \\\n",
       "282   Male            AU          Unit 54                 1   Haley Gap  ...   \n",
       "\n",
       "    social_media_hours average_attendance  skills skills_development_hours  \\\n",
       "282                5.0               80.0     NaN                      0.0   \n",
       "\n",
       "     area_of_interest  previous_gpa current_gpa completed_credits has_diploma  \\\n",
       "282          Software          3.25         3.2              11.0           0   \n",
       "\n",
       "    house_income  \n",
       "282      40000.0  \n",
       "\n",
       "[1 rows x 45 columns]"
      ]
     },
     "execution_count": 19,
     "metadata": {},
     "output_type": "execute_result"
    }
   ],
   "source": [
    "df[df['skills'].isnull()]"
   ]
  },
  {
   "cell_type": "code",
   "execution_count": 20,
   "metadata": {},
   "outputs": [],
   "source": [
    "#Let's replace the missing skills from checking other student's area_of_interest which is software."
   ]
  },
  {
   "cell_type": "code",
   "execution_count": 21,
   "metadata": {},
   "outputs": [
    {
     "data": {
      "text/html": [
       "<div>\n",
       "<style scoped>\n",
       "    .dataframe tbody tr th:only-of-type {\n",
       "        vertical-align: middle;\n",
       "    }\n",
       "\n",
       "    .dataframe tbody tr th {\n",
       "        vertical-align: top;\n",
       "    }\n",
       "\n",
       "    .dataframe thead th {\n",
       "        text-align: right;\n",
       "    }\n",
       "</style>\n",
       "<table border=\"1\" class=\"dataframe\">\n",
       "  <thead>\n",
       "    <tr style=\"text-align: right;\">\n",
       "      <th></th>\n",
       "      <th>student_id</th>\n",
       "      <th>full_name</th>\n",
       "      <th>age</th>\n",
       "      <th>email</th>\n",
       "      <th>phone_number</th>\n",
       "      <th>gender</th>\n",
       "      <th>birth_country</th>\n",
       "      <th>secondary_address</th>\n",
       "      <th>building_number</th>\n",
       "      <th>street_name</th>\n",
       "      <th>...</th>\n",
       "      <th>social_media_hours</th>\n",
       "      <th>average_attendance</th>\n",
       "      <th>skills</th>\n",
       "      <th>skills_development_hours</th>\n",
       "      <th>area_of_interest</th>\n",
       "      <th>previous_gpa</th>\n",
       "      <th>current_gpa</th>\n",
       "      <th>completed_credits</th>\n",
       "      <th>has_diploma</th>\n",
       "      <th>house_income</th>\n",
       "    </tr>\n",
       "  </thead>\n",
       "  <tbody>\n",
       "    <tr>\n",
       "      <th>6</th>\n",
       "      <td>25</td>\n",
       "      <td>Kathleen Hubbard</td>\n",
       "      <td>20</td>\n",
       "      <td>christine70@example.com</td>\n",
       "      <td>7348-9943</td>\n",
       "      <td>Female</td>\n",
       "      <td>AU</td>\n",
       "      <td>Unit 98</td>\n",
       "      <td>693</td>\n",
       "      <td>Yates Stairs</td>\n",
       "      <td>...</td>\n",
       "      <td>1.0</td>\n",
       "      <td>97.0</td>\n",
       "      <td>Programming</td>\n",
       "      <td>2.0</td>\n",
       "      <td>Software</td>\n",
       "      <td>3.79</td>\n",
       "      <td>3.82</td>\n",
       "      <td>39.0</td>\n",
       "      <td>0</td>\n",
       "      <td>50000.0</td>\n",
       "    </tr>\n",
       "    <tr>\n",
       "      <th>9</th>\n",
       "      <td>48</td>\n",
       "      <td>Danielle Hall</td>\n",
       "      <td>20</td>\n",
       "      <td>brookeporter@example.com</td>\n",
       "      <td>11214818</td>\n",
       "      <td>Female</td>\n",
       "      <td>AU</td>\n",
       "      <td>Flat 29</td>\n",
       "      <td>996</td>\n",
       "      <td>Golden Copse</td>\n",
       "      <td>...</td>\n",
       "      <td>3.0</td>\n",
       "      <td>99.0</td>\n",
       "      <td>Programming</td>\n",
       "      <td>1.0</td>\n",
       "      <td>Software</td>\n",
       "      <td>3.78</td>\n",
       "      <td>3.88</td>\n",
       "      <td>35.0</td>\n",
       "      <td>0</td>\n",
       "      <td>200000.0</td>\n",
       "    </tr>\n",
       "    <tr>\n",
       "      <th>14</th>\n",
       "      <td>79</td>\n",
       "      <td>Lynn Levy</td>\n",
       "      <td>20</td>\n",
       "      <td>mnelson@example.org</td>\n",
       "      <td>(02)-5317-6057</td>\n",
       "      <td>Female</td>\n",
       "      <td>AU</td>\n",
       "      <td>Flat 65</td>\n",
       "      <td>40</td>\n",
       "      <td>Watson Copse</td>\n",
       "      <td>...</td>\n",
       "      <td>5.0</td>\n",
       "      <td>80.0</td>\n",
       "      <td>Web development skill(Frontend)</td>\n",
       "      <td>2.0</td>\n",
       "      <td>Software</td>\n",
       "      <td>3.49</td>\n",
       "      <td>3.67</td>\n",
       "      <td>71.0</td>\n",
       "      <td>0</td>\n",
       "      <td>40000.0</td>\n",
       "    </tr>\n",
       "    <tr>\n",
       "      <th>18</th>\n",
       "      <td>87</td>\n",
       "      <td>Carlos Johnson</td>\n",
       "      <td>21</td>\n",
       "      <td>jbrown@example.net</td>\n",
       "      <td>+61-495-759-083</td>\n",
       "      <td>Male</td>\n",
       "      <td>AU</td>\n",
       "      <td>208/</td>\n",
       "      <td>3</td>\n",
       "      <td>Benjamin Place</td>\n",
       "      <td>...</td>\n",
       "      <td>1.0</td>\n",
       "      <td>95.0</td>\n",
       "      <td>Programming</td>\n",
       "      <td>1.0</td>\n",
       "      <td>Software</td>\n",
       "      <td>3.65</td>\n",
       "      <td>3.39</td>\n",
       "      <td>11.0</td>\n",
       "      <td>0</td>\n",
       "      <td>45000.0</td>\n",
       "    </tr>\n",
       "    <tr>\n",
       "      <th>21</th>\n",
       "      <td>106</td>\n",
       "      <td>Jeremy Williams</td>\n",
       "      <td>21</td>\n",
       "      <td>hhood@example.com</td>\n",
       "      <td>2595-6584</td>\n",
       "      <td>Male</td>\n",
       "      <td>AU</td>\n",
       "      <td>805/</td>\n",
       "      <td>212</td>\n",
       "      <td>Lewis Lees</td>\n",
       "      <td>...</td>\n",
       "      <td>2.0</td>\n",
       "      <td>90.0</td>\n",
       "      <td>Programming, Web development</td>\n",
       "      <td>2.0</td>\n",
       "      <td>Software</td>\n",
       "      <td>3.38</td>\n",
       "      <td>3.82</td>\n",
       "      <td>27.0</td>\n",
       "      <td>0</td>\n",
       "      <td>40000.0</td>\n",
       "    </tr>\n",
       "    <tr>\n",
       "      <th>...</th>\n",
       "      <td>...</td>\n",
       "      <td>...</td>\n",
       "      <td>...</td>\n",
       "      <td>...</td>\n",
       "      <td>...</td>\n",
       "      <td>...</td>\n",
       "      <td>...</td>\n",
       "      <td>...</td>\n",
       "      <td>...</td>\n",
       "      <td>...</td>\n",
       "      <td>...</td>\n",
       "      <td>...</td>\n",
       "      <td>...</td>\n",
       "      <td>...</td>\n",
       "      <td>...</td>\n",
       "      <td>...</td>\n",
       "      <td>...</td>\n",
       "      <td>...</td>\n",
       "      <td>...</td>\n",
       "      <td>...</td>\n",
       "      <td>...</td>\n",
       "    </tr>\n",
       "    <tr>\n",
       "      <th>994</th>\n",
       "      <td>1179</td>\n",
       "      <td>Christopher Lynn</td>\n",
       "      <td>20</td>\n",
       "      <td>leonardkiara@example.org</td>\n",
       "      <td>(02).7757.5486</td>\n",
       "      <td>Male</td>\n",
       "      <td>AU</td>\n",
       "      <td>Unit 14</td>\n",
       "      <td>90</td>\n",
       "      <td>Sandra Extension</td>\n",
       "      <td>...</td>\n",
       "      <td>3.0</td>\n",
       "      <td>100.0</td>\n",
       "      <td>Web development skill(Frontend)</td>\n",
       "      <td>4.0</td>\n",
       "      <td>Software</td>\n",
       "      <td>1.87</td>\n",
       "      <td>2.94</td>\n",
       "      <td>68.0</td>\n",
       "      <td>0</td>\n",
       "      <td>121000.0</td>\n",
       "    </tr>\n",
       "    <tr>\n",
       "      <th>995</th>\n",
       "      <td>1180</td>\n",
       "      <td>Jason Hayes</td>\n",
       "      <td>20</td>\n",
       "      <td>jeffreyfreeman@example.org</td>\n",
       "      <td>7263 4484</td>\n",
       "      <td>Male</td>\n",
       "      <td>AU</td>\n",
       "      <td>0/</td>\n",
       "      <td>40</td>\n",
       "      <td>Jessica Quays</td>\n",
       "      <td>...</td>\n",
       "      <td>9.0</td>\n",
       "      <td>80.0</td>\n",
       "      <td>Programming</td>\n",
       "      <td>2.0</td>\n",
       "      <td>Software</td>\n",
       "      <td>1.22</td>\n",
       "      <td>2.78</td>\n",
       "      <td>107.0</td>\n",
       "      <td>0</td>\n",
       "      <td>130000.0</td>\n",
       "    </tr>\n",
       "    <tr>\n",
       "      <th>998</th>\n",
       "      <td>1183</td>\n",
       "      <td>Jonathan Cobb</td>\n",
       "      <td>20</td>\n",
       "      <td>joshua25@example.com</td>\n",
       "      <td>0497.163.003</td>\n",
       "      <td>Male</td>\n",
       "      <td>AU</td>\n",
       "      <td>129/</td>\n",
       "      <td>118</td>\n",
       "      <td>Navarro Circlet</td>\n",
       "      <td>...</td>\n",
       "      <td>3.0</td>\n",
       "      <td>78.0</td>\n",
       "      <td>Web development skill(Frontend)</td>\n",
       "      <td>4.0</td>\n",
       "      <td>Software</td>\n",
       "      <td>1.77</td>\n",
       "      <td>2.85</td>\n",
       "      <td>63.0</td>\n",
       "      <td>0</td>\n",
       "      <td>136000.0</td>\n",
       "    </tr>\n",
       "    <tr>\n",
       "      <th>1005</th>\n",
       "      <td>1190</td>\n",
       "      <td>Joseph Foley</td>\n",
       "      <td>23</td>\n",
       "      <td>nelsonscott@example.org</td>\n",
       "      <td>03 5425 4092</td>\n",
       "      <td>Male</td>\n",
       "      <td>AU</td>\n",
       "      <td>Apt. 760</td>\n",
       "      <td>394</td>\n",
       "      <td>Daniel Frontage</td>\n",
       "      <td>...</td>\n",
       "      <td>4.0</td>\n",
       "      <td>100.0</td>\n",
       "      <td>Programming</td>\n",
       "      <td>2.0</td>\n",
       "      <td>Software</td>\n",
       "      <td>2.50</td>\n",
       "      <td>2.22</td>\n",
       "      <td>18.0</td>\n",
       "      <td>0</td>\n",
       "      <td>200000.0</td>\n",
       "    </tr>\n",
       "    <tr>\n",
       "      <th>1007</th>\n",
       "      <td>1192</td>\n",
       "      <td>Martha Shelton</td>\n",
       "      <td>25</td>\n",
       "      <td>arthurcooper@example.net</td>\n",
       "      <td>+61380987424</td>\n",
       "      <td>Female</td>\n",
       "      <td>AU</td>\n",
       "      <td>Suite 919</td>\n",
       "      <td>0</td>\n",
       "      <td>Rodriguez Tollway</td>\n",
       "      <td>...</td>\n",
       "      <td>3.0</td>\n",
       "      <td>100.0</td>\n",
       "      <td>Web development skill(Frontend)</td>\n",
       "      <td>4.0</td>\n",
       "      <td>Software</td>\n",
       "      <td>1.40</td>\n",
       "      <td>2.52</td>\n",
       "      <td>144.0</td>\n",
       "      <td>0</td>\n",
       "      <td>210000.0</td>\n",
       "    </tr>\n",
       "  </tbody>\n",
       "</table>\n",
       "<p>296 rows × 45 columns</p>\n",
       "</div>"
      ],
      "text/plain": [
       "      student_id         full_name  age                       email  \\\n",
       "6             25  Kathleen Hubbard   20     christine70@example.com   \n",
       "9             48     Danielle Hall   20    brookeporter@example.com   \n",
       "14            79         Lynn Levy   20         mnelson@example.org   \n",
       "18            87    Carlos Johnson   21          jbrown@example.net   \n",
       "21           106   Jeremy Williams   21           hhood@example.com   \n",
       "...          ...               ...  ...                         ...   \n",
       "994         1179  Christopher Lynn   20    leonardkiara@example.org   \n",
       "995         1180       Jason Hayes   20  jeffreyfreeman@example.org   \n",
       "998         1183     Jonathan Cobb   20        joshua25@example.com   \n",
       "1005        1190      Joseph Foley   23     nelsonscott@example.org   \n",
       "1007        1192    Martha Shelton   25    arthurcooper@example.net   \n",
       "\n",
       "         phone_number  gender birth_country secondary_address  \\\n",
       "6           7348-9943  Female            AU          Unit 98    \n",
       "9            11214818  Female            AU          Flat 29    \n",
       "14     (02)-5317-6057  Female            AU          Flat 65    \n",
       "18    +61-495-759-083    Male            AU              208/   \n",
       "21          2595-6584    Male            AU              805/   \n",
       "...               ...     ...           ...               ...   \n",
       "994    (02).7757.5486    Male            AU          Unit 14    \n",
       "995         7263 4484    Male            AU                0/   \n",
       "998      0497.163.003    Male            AU              129/   \n",
       "1005     03 5425 4092    Male            AU         Apt. 760    \n",
       "1007     +61380987424  Female            AU        Suite 919    \n",
       "\n",
       "      building_number        street_name  ... social_media_hours  \\\n",
       "6                 693       Yates Stairs  ...                1.0   \n",
       "9                 996       Golden Copse  ...                3.0   \n",
       "14                 40       Watson Copse  ...                5.0   \n",
       "18                  3     Benjamin Place  ...                1.0   \n",
       "21                212         Lewis Lees  ...                2.0   \n",
       "...               ...                ...  ...                ...   \n",
       "994                90   Sandra Extension  ...                3.0   \n",
       "995                40      Jessica Quays  ...                9.0   \n",
       "998               118    Navarro Circlet  ...                3.0   \n",
       "1005              394    Daniel Frontage  ...                4.0   \n",
       "1007                0  Rodriguez Tollway  ...                3.0   \n",
       "\n",
       "     average_attendance                           skills  \\\n",
       "6                  97.0                      Programming   \n",
       "9                  99.0                      Programming   \n",
       "14                 80.0  Web development skill(Frontend)   \n",
       "18                 95.0                      Programming   \n",
       "21                 90.0     Programming, Web development   \n",
       "...                 ...                              ...   \n",
       "994               100.0  Web development skill(Frontend)   \n",
       "995                80.0                      Programming   \n",
       "998                78.0  Web development skill(Frontend)   \n",
       "1005              100.0                      Programming   \n",
       "1007              100.0  Web development skill(Frontend)   \n",
       "\n",
       "     skills_development_hours  area_of_interest  previous_gpa current_gpa  \\\n",
       "6                         2.0          Software          3.79        3.82   \n",
       "9                         1.0          Software          3.78        3.88   \n",
       "14                        2.0          Software          3.49        3.67   \n",
       "18                        1.0          Software          3.65        3.39   \n",
       "21                        2.0          Software          3.38        3.82   \n",
       "...                       ...               ...           ...         ...   \n",
       "994                       4.0          Software          1.87        2.94   \n",
       "995                       2.0          Software          1.22        2.78   \n",
       "998                       4.0          Software          1.77        2.85   \n",
       "1005                      2.0          Software          2.50        2.22   \n",
       "1007                      4.0          Software          1.40        2.52   \n",
       "\n",
       "     completed_credits has_diploma house_income  \n",
       "6                 39.0           0      50000.0  \n",
       "9                 35.0           0     200000.0  \n",
       "14                71.0           0      40000.0  \n",
       "18                11.0           0      45000.0  \n",
       "21                27.0           0      40000.0  \n",
       "...                ...         ...          ...  \n",
       "994               68.0           0     121000.0  \n",
       "995              107.0           0     130000.0  \n",
       "998               63.0           0     136000.0  \n",
       "1005              18.0           0     200000.0  \n",
       "1007             144.0           0     210000.0  \n",
       "\n",
       "[296 rows x 45 columns]"
      ]
     },
     "execution_count": 21,
     "metadata": {},
     "output_type": "execute_result"
    }
   ],
   "source": [
    "df[df['area_of_interest'] ==  'Software']"
   ]
  },
  {
   "cell_type": "code",
   "execution_count": 22,
   "metadata": {},
   "outputs": [],
   "source": [
    "#THE POPOLAR STREAM IS PROGRAMMING, THEREFORE WE REPLACE IT WITH PROGRAMMING"
   ]
  },
  {
   "cell_type": "code",
   "execution_count": 23,
   "metadata": {},
   "outputs": [
    {
     "name": "stderr",
     "output_type": "stream",
     "text": [
      "/var/folders/c_/03m83m793nj_w8twppm_5whc0000gn/T/ipykernel_87333/3396083651.py:1: FutureWarning: A value is trying to be set on a copy of a DataFrame or Series through chained assignment using an inplace method.\n",
      "The behavior will change in pandas 3.0. This inplace method will never work because the intermediate object on which we are setting values always behaves as a copy.\n",
      "\n",
      "For example, when doing 'df[col].method(value, inplace=True)', try using 'df.method({col: value}, inplace=True)' or df[col] = df[col].method(value) instead, to perform the operation inplace on the original object.\n",
      "\n",
      "\n",
      "  df['skills'].fillna('Programming', inplace = True)\n"
     ]
    }
   ],
   "source": [
    "df['skills'].fillna('Programming', inplace = True)"
   ]
  },
  {
   "cell_type": "code",
   "execution_count": 24,
   "metadata": {},
   "outputs": [
    {
     "data": {
      "text/html": [
       "<div>\n",
       "<style scoped>\n",
       "    .dataframe tbody tr th:only-of-type {\n",
       "        vertical-align: middle;\n",
       "    }\n",
       "\n",
       "    .dataframe tbody tr th {\n",
       "        vertical-align: top;\n",
       "    }\n",
       "\n",
       "    .dataframe thead th {\n",
       "        text-align: right;\n",
       "    }\n",
       "</style>\n",
       "<table border=\"1\" class=\"dataframe\">\n",
       "  <thead>\n",
       "    <tr style=\"text-align: right;\">\n",
       "      <th></th>\n",
       "      <th>student_id</th>\n",
       "      <th>full_name</th>\n",
       "      <th>age</th>\n",
       "      <th>email</th>\n",
       "      <th>phone_number</th>\n",
       "      <th>gender</th>\n",
       "      <th>birth_country</th>\n",
       "      <th>secondary_address</th>\n",
       "      <th>building_number</th>\n",
       "      <th>street_name</th>\n",
       "      <th>...</th>\n",
       "      <th>social_media_hours</th>\n",
       "      <th>average_attendance</th>\n",
       "      <th>skills</th>\n",
       "      <th>skills_development_hours</th>\n",
       "      <th>area_of_interest</th>\n",
       "      <th>previous_gpa</th>\n",
       "      <th>current_gpa</th>\n",
       "      <th>completed_credits</th>\n",
       "      <th>has_diploma</th>\n",
       "      <th>house_income</th>\n",
       "    </tr>\n",
       "  </thead>\n",
       "  <tbody>\n",
       "    <tr>\n",
       "      <th>641</th>\n",
       "      <td>826</td>\n",
       "      <td>Cindy Gomez</td>\n",
       "      <td>25</td>\n",
       "      <td>spencerdavid@example.org</td>\n",
       "      <td>+61386293074</td>\n",
       "      <td>Female</td>\n",
       "      <td>AU</td>\n",
       "      <td>Flat 76</td>\n",
       "      <td>79</td>\n",
       "      <td>Hobbs Green</td>\n",
       "      <td>...</td>\n",
       "      <td>1.0</td>\n",
       "      <td>78.0</td>\n",
       "      <td>Artificial Intelligence</td>\n",
       "      <td>4.0</td>\n",
       "      <td>NaN</td>\n",
       "      <td>2.83</td>\n",
       "      <td>3.90</td>\n",
       "      <td>143.0</td>\n",
       "      <td>0</td>\n",
       "      <td>79000.0</td>\n",
       "    </tr>\n",
       "    <tr>\n",
       "      <th>813</th>\n",
       "      <td>998</td>\n",
       "      <td>Jennifer Butler</td>\n",
       "      <td>21</td>\n",
       "      <td>leblancbryan@example.net</td>\n",
       "      <td>(03)10578550</td>\n",
       "      <td>Female</td>\n",
       "      <td>AU</td>\n",
       "      <td>651/</td>\n",
       "      <td>68</td>\n",
       "      <td>Cruz Edge</td>\n",
       "      <td>...</td>\n",
       "      <td>2.0</td>\n",
       "      <td>100.0</td>\n",
       "      <td>Artificial Intelligence</td>\n",
       "      <td>2.0</td>\n",
       "      <td>NaN</td>\n",
       "      <td>1.88</td>\n",
       "      <td>2.91</td>\n",
       "      <td>74.0</td>\n",
       "      <td>0</td>\n",
       "      <td>80000.0</td>\n",
       "    </tr>\n",
       "    <tr>\n",
       "      <th>823</th>\n",
       "      <td>1008</td>\n",
       "      <td>Aaron Faulkner</td>\n",
       "      <td>20</td>\n",
       "      <td>zgutierrez@example.org</td>\n",
       "      <td>+61 459 399 473</td>\n",
       "      <td>Female</td>\n",
       "      <td>NZ</td>\n",
       "      <td>8/</td>\n",
       "      <td>708</td>\n",
       "      <td>Villarreal Vista</td>\n",
       "      <td>...</td>\n",
       "      <td>2.0</td>\n",
       "      <td>100.0</td>\n",
       "      <td>Artificial Intelligence</td>\n",
       "      <td>5.0</td>\n",
       "      <td>NaN</td>\n",
       "      <td>1.76</td>\n",
       "      <td>2.81</td>\n",
       "      <td>96.0</td>\n",
       "      <td>0</td>\n",
       "      <td>88000.0</td>\n",
       "    </tr>\n",
       "    <tr>\n",
       "      <th>832</th>\n",
       "      <td>1017</td>\n",
       "      <td>Kathleen Jones</td>\n",
       "      <td>23</td>\n",
       "      <td>paul26@example.com</td>\n",
       "      <td>(08)01012966</td>\n",
       "      <td>Female</td>\n",
       "      <td>AU</td>\n",
       "      <td>088/</td>\n",
       "      <td>98</td>\n",
       "      <td>Heather Foreshore</td>\n",
       "      <td>...</td>\n",
       "      <td>3.0</td>\n",
       "      <td>100.0</td>\n",
       "      <td>Programming</td>\n",
       "      <td>2.0</td>\n",
       "      <td>NaN</td>\n",
       "      <td>2.76</td>\n",
       "      <td>3.84</td>\n",
       "      <td>144.0</td>\n",
       "      <td>0</td>\n",
       "      <td>96000.0</td>\n",
       "    </tr>\n",
       "    <tr>\n",
       "      <th>916</th>\n",
       "      <td>1101</td>\n",
       "      <td>Judy Green</td>\n",
       "      <td>21</td>\n",
       "      <td>xhampton@example.net</td>\n",
       "      <td>+61 425 617 027</td>\n",
       "      <td>Female</td>\n",
       "      <td>AU</td>\n",
       "      <td>Level 7</td>\n",
       "      <td>84</td>\n",
       "      <td>Christopher Glen</td>\n",
       "      <td>...</td>\n",
       "      <td>1.0</td>\n",
       "      <td>100.0</td>\n",
       "      <td>Artificial Intelligence</td>\n",
       "      <td>1.0</td>\n",
       "      <td>NaN</td>\n",
       "      <td>2.73</td>\n",
       "      <td>3.81</td>\n",
       "      <td>135.0</td>\n",
       "      <td>0</td>\n",
       "      <td>61000.0</td>\n",
       "    </tr>\n",
       "    <tr>\n",
       "      <th>973</th>\n",
       "      <td>1158</td>\n",
       "      <td>Nicole Garrison</td>\n",
       "      <td>20</td>\n",
       "      <td>hudsoncody@example.com</td>\n",
       "      <td>+61-3-8324-8287</td>\n",
       "      <td>Female</td>\n",
       "      <td>AU</td>\n",
       "      <td>73/</td>\n",
       "      <td>1</td>\n",
       "      <td>Martinez Roadway</td>\n",
       "      <td>...</td>\n",
       "      <td>4.0</td>\n",
       "      <td>65.0</td>\n",
       "      <td>Artificial Intelligence</td>\n",
       "      <td>2.0</td>\n",
       "      <td>NaN</td>\n",
       "      <td>1.66</td>\n",
       "      <td>2.45</td>\n",
       "      <td>105.0</td>\n",
       "      <td>0</td>\n",
       "      <td>90000.0</td>\n",
       "    </tr>\n",
       "    <tr>\n",
       "      <th>1000</th>\n",
       "      <td>1185</td>\n",
       "      <td>Gary Wyatt</td>\n",
       "      <td>20</td>\n",
       "      <td>chelseasullivan@example.org</td>\n",
       "      <td>+61 3 8802 4581</td>\n",
       "      <td>Male</td>\n",
       "      <td>AU</td>\n",
       "      <td>Unit 08</td>\n",
       "      <td>94</td>\n",
       "      <td>Dylan Gate</td>\n",
       "      <td>...</td>\n",
       "      <td>2.0</td>\n",
       "      <td>100.0</td>\n",
       "      <td>Artificial Intelligence</td>\n",
       "      <td>1.0</td>\n",
       "      <td>NaN</td>\n",
       "      <td>2.65</td>\n",
       "      <td>3.88</td>\n",
       "      <td>125.0</td>\n",
       "      <td>0</td>\n",
       "      <td>140000.0</td>\n",
       "    </tr>\n",
       "  </tbody>\n",
       "</table>\n",
       "<p>7 rows × 45 columns</p>\n",
       "</div>"
      ],
      "text/plain": [
       "      student_id        full_name  age                        email  \\\n",
       "641          826      Cindy Gomez   25     spencerdavid@example.org   \n",
       "813          998  Jennifer Butler   21     leblancbryan@example.net   \n",
       "823         1008   Aaron Faulkner   20       zgutierrez@example.org   \n",
       "832         1017   Kathleen Jones   23           paul26@example.com   \n",
       "916         1101       Judy Green   21         xhampton@example.net   \n",
       "973         1158  Nicole Garrison   20       hudsoncody@example.com   \n",
       "1000        1185       Gary Wyatt   20  chelseasullivan@example.org   \n",
       "\n",
       "         phone_number  gender birth_country secondary_address  \\\n",
       "641      +61386293074  Female            AU          Flat 76    \n",
       "813      (03)10578550  Female            AU              651/   \n",
       "823   +61 459 399 473  Female            NZ                8/   \n",
       "832      (08)01012966  Female            AU              088/   \n",
       "916   +61 425 617 027  Female            AU          Level 7    \n",
       "973   +61-3-8324-8287  Female            AU               73/   \n",
       "1000  +61 3 8802 4581    Male            AU          Unit 08    \n",
       "\n",
       "      building_number        street_name  ... social_media_hours  \\\n",
       "641                79        Hobbs Green  ...                1.0   \n",
       "813                68          Cruz Edge  ...                2.0   \n",
       "823               708   Villarreal Vista  ...                2.0   \n",
       "832                98  Heather Foreshore  ...                3.0   \n",
       "916                84   Christopher Glen  ...                1.0   \n",
       "973                 1   Martinez Roadway  ...                4.0   \n",
       "1000               94         Dylan Gate  ...                2.0   \n",
       "\n",
       "     average_attendance                   skills skills_development_hours  \\\n",
       "641                78.0  Artificial Intelligence                      4.0   \n",
       "813               100.0  Artificial Intelligence                      2.0   \n",
       "823               100.0  Artificial Intelligence                      5.0   \n",
       "832               100.0              Programming                      2.0   \n",
       "916               100.0  Artificial Intelligence                      1.0   \n",
       "973                65.0  Artificial Intelligence                      2.0   \n",
       "1000              100.0  Artificial Intelligence                      1.0   \n",
       "\n",
       "      area_of_interest  previous_gpa current_gpa completed_credits  \\\n",
       "641                NaN          2.83        3.90             143.0   \n",
       "813                NaN          1.88        2.91              74.0   \n",
       "823                NaN          1.76        2.81              96.0   \n",
       "832                NaN          2.76        3.84             144.0   \n",
       "916                NaN          2.73        3.81             135.0   \n",
       "973                NaN          1.66        2.45             105.0   \n",
       "1000               NaN          2.65        3.88             125.0   \n",
       "\n",
       "     has_diploma house_income  \n",
       "641            0      79000.0  \n",
       "813            0      80000.0  \n",
       "823            0      88000.0  \n",
       "832            0      96000.0  \n",
       "916            0      61000.0  \n",
       "973            0      90000.0  \n",
       "1000           0     140000.0  \n",
       "\n",
       "[7 rows x 45 columns]"
      ]
     },
     "execution_count": 24,
     "metadata": {},
     "output_type": "execute_result"
    }
   ],
   "source": [
    "df[df['area_of_interest'].isnull()]"
   ]
  },
  {
   "cell_type": "code",
   "execution_count": 25,
   "metadata": {},
   "outputs": [],
   "source": [
    "#let's check out area of interest null values"
   ]
  },
  {
   "cell_type": "code",
   "execution_count": 26,
   "metadata": {},
   "outputs": [
    {
     "data": {
      "text/html": [
       "<div>\n",
       "<style scoped>\n",
       "    .dataframe tbody tr th:only-of-type {\n",
       "        vertical-align: middle;\n",
       "    }\n",
       "\n",
       "    .dataframe tbody tr th {\n",
       "        vertical-align: top;\n",
       "    }\n",
       "\n",
       "    .dataframe thead th {\n",
       "        text-align: right;\n",
       "    }\n",
       "</style>\n",
       "<table border=\"1\" class=\"dataframe\">\n",
       "  <thead>\n",
       "    <tr style=\"text-align: right;\">\n",
       "      <th></th>\n",
       "      <th>student_id</th>\n",
       "      <th>full_name</th>\n",
       "      <th>age</th>\n",
       "      <th>email</th>\n",
       "      <th>phone_number</th>\n",
       "      <th>gender</th>\n",
       "      <th>birth_country</th>\n",
       "      <th>secondary_address</th>\n",
       "      <th>building_number</th>\n",
       "      <th>street_name</th>\n",
       "      <th>...</th>\n",
       "      <th>social_media_hours</th>\n",
       "      <th>average_attendance</th>\n",
       "      <th>skills</th>\n",
       "      <th>skills_development_hours</th>\n",
       "      <th>area_of_interest</th>\n",
       "      <th>previous_gpa</th>\n",
       "      <th>current_gpa</th>\n",
       "      <th>completed_credits</th>\n",
       "      <th>has_diploma</th>\n",
       "      <th>house_income</th>\n",
       "    </tr>\n",
       "  </thead>\n",
       "  <tbody>\n",
       "    <tr>\n",
       "      <th>641</th>\n",
       "      <td>826</td>\n",
       "      <td>Cindy Gomez</td>\n",
       "      <td>25</td>\n",
       "      <td>spencerdavid@example.org</td>\n",
       "      <td>+61386293074</td>\n",
       "      <td>Female</td>\n",
       "      <td>AU</td>\n",
       "      <td>Flat 76</td>\n",
       "      <td>79</td>\n",
       "      <td>Hobbs Green</td>\n",
       "      <td>...</td>\n",
       "      <td>1.0</td>\n",
       "      <td>78.0</td>\n",
       "      <td>Artificial Intelligence</td>\n",
       "      <td>4.0</td>\n",
       "      <td>NaN</td>\n",
       "      <td>2.83</td>\n",
       "      <td>3.90</td>\n",
       "      <td>143.0</td>\n",
       "      <td>0</td>\n",
       "      <td>79000.0</td>\n",
       "    </tr>\n",
       "    <tr>\n",
       "      <th>813</th>\n",
       "      <td>998</td>\n",
       "      <td>Jennifer Butler</td>\n",
       "      <td>21</td>\n",
       "      <td>leblancbryan@example.net</td>\n",
       "      <td>(03)10578550</td>\n",
       "      <td>Female</td>\n",
       "      <td>AU</td>\n",
       "      <td>651/</td>\n",
       "      <td>68</td>\n",
       "      <td>Cruz Edge</td>\n",
       "      <td>...</td>\n",
       "      <td>2.0</td>\n",
       "      <td>100.0</td>\n",
       "      <td>Artificial Intelligence</td>\n",
       "      <td>2.0</td>\n",
       "      <td>NaN</td>\n",
       "      <td>1.88</td>\n",
       "      <td>2.91</td>\n",
       "      <td>74.0</td>\n",
       "      <td>0</td>\n",
       "      <td>80000.0</td>\n",
       "    </tr>\n",
       "    <tr>\n",
       "      <th>823</th>\n",
       "      <td>1008</td>\n",
       "      <td>Aaron Faulkner</td>\n",
       "      <td>20</td>\n",
       "      <td>zgutierrez@example.org</td>\n",
       "      <td>+61 459 399 473</td>\n",
       "      <td>Female</td>\n",
       "      <td>NZ</td>\n",
       "      <td>8/</td>\n",
       "      <td>708</td>\n",
       "      <td>Villarreal Vista</td>\n",
       "      <td>...</td>\n",
       "      <td>2.0</td>\n",
       "      <td>100.0</td>\n",
       "      <td>Artificial Intelligence</td>\n",
       "      <td>5.0</td>\n",
       "      <td>NaN</td>\n",
       "      <td>1.76</td>\n",
       "      <td>2.81</td>\n",
       "      <td>96.0</td>\n",
       "      <td>0</td>\n",
       "      <td>88000.0</td>\n",
       "    </tr>\n",
       "    <tr>\n",
       "      <th>832</th>\n",
       "      <td>1017</td>\n",
       "      <td>Kathleen Jones</td>\n",
       "      <td>23</td>\n",
       "      <td>paul26@example.com</td>\n",
       "      <td>(08)01012966</td>\n",
       "      <td>Female</td>\n",
       "      <td>AU</td>\n",
       "      <td>088/</td>\n",
       "      <td>98</td>\n",
       "      <td>Heather Foreshore</td>\n",
       "      <td>...</td>\n",
       "      <td>3.0</td>\n",
       "      <td>100.0</td>\n",
       "      <td>Programming</td>\n",
       "      <td>2.0</td>\n",
       "      <td>NaN</td>\n",
       "      <td>2.76</td>\n",
       "      <td>3.84</td>\n",
       "      <td>144.0</td>\n",
       "      <td>0</td>\n",
       "      <td>96000.0</td>\n",
       "    </tr>\n",
       "    <tr>\n",
       "      <th>916</th>\n",
       "      <td>1101</td>\n",
       "      <td>Judy Green</td>\n",
       "      <td>21</td>\n",
       "      <td>xhampton@example.net</td>\n",
       "      <td>+61 425 617 027</td>\n",
       "      <td>Female</td>\n",
       "      <td>AU</td>\n",
       "      <td>Level 7</td>\n",
       "      <td>84</td>\n",
       "      <td>Christopher Glen</td>\n",
       "      <td>...</td>\n",
       "      <td>1.0</td>\n",
       "      <td>100.0</td>\n",
       "      <td>Artificial Intelligence</td>\n",
       "      <td>1.0</td>\n",
       "      <td>NaN</td>\n",
       "      <td>2.73</td>\n",
       "      <td>3.81</td>\n",
       "      <td>135.0</td>\n",
       "      <td>0</td>\n",
       "      <td>61000.0</td>\n",
       "    </tr>\n",
       "    <tr>\n",
       "      <th>973</th>\n",
       "      <td>1158</td>\n",
       "      <td>Nicole Garrison</td>\n",
       "      <td>20</td>\n",
       "      <td>hudsoncody@example.com</td>\n",
       "      <td>+61-3-8324-8287</td>\n",
       "      <td>Female</td>\n",
       "      <td>AU</td>\n",
       "      <td>73/</td>\n",
       "      <td>1</td>\n",
       "      <td>Martinez Roadway</td>\n",
       "      <td>...</td>\n",
       "      <td>4.0</td>\n",
       "      <td>65.0</td>\n",
       "      <td>Artificial Intelligence</td>\n",
       "      <td>2.0</td>\n",
       "      <td>NaN</td>\n",
       "      <td>1.66</td>\n",
       "      <td>2.45</td>\n",
       "      <td>105.0</td>\n",
       "      <td>0</td>\n",
       "      <td>90000.0</td>\n",
       "    </tr>\n",
       "    <tr>\n",
       "      <th>1000</th>\n",
       "      <td>1185</td>\n",
       "      <td>Gary Wyatt</td>\n",
       "      <td>20</td>\n",
       "      <td>chelseasullivan@example.org</td>\n",
       "      <td>+61 3 8802 4581</td>\n",
       "      <td>Male</td>\n",
       "      <td>AU</td>\n",
       "      <td>Unit 08</td>\n",
       "      <td>94</td>\n",
       "      <td>Dylan Gate</td>\n",
       "      <td>...</td>\n",
       "      <td>2.0</td>\n",
       "      <td>100.0</td>\n",
       "      <td>Artificial Intelligence</td>\n",
       "      <td>1.0</td>\n",
       "      <td>NaN</td>\n",
       "      <td>2.65</td>\n",
       "      <td>3.88</td>\n",
       "      <td>125.0</td>\n",
       "      <td>0</td>\n",
       "      <td>140000.0</td>\n",
       "    </tr>\n",
       "  </tbody>\n",
       "</table>\n",
       "<p>7 rows × 45 columns</p>\n",
       "</div>"
      ],
      "text/plain": [
       "      student_id        full_name  age                        email  \\\n",
       "641          826      Cindy Gomez   25     spencerdavid@example.org   \n",
       "813          998  Jennifer Butler   21     leblancbryan@example.net   \n",
       "823         1008   Aaron Faulkner   20       zgutierrez@example.org   \n",
       "832         1017   Kathleen Jones   23           paul26@example.com   \n",
       "916         1101       Judy Green   21         xhampton@example.net   \n",
       "973         1158  Nicole Garrison   20       hudsoncody@example.com   \n",
       "1000        1185       Gary Wyatt   20  chelseasullivan@example.org   \n",
       "\n",
       "         phone_number  gender birth_country secondary_address  \\\n",
       "641      +61386293074  Female            AU          Flat 76    \n",
       "813      (03)10578550  Female            AU              651/   \n",
       "823   +61 459 399 473  Female            NZ                8/   \n",
       "832      (08)01012966  Female            AU              088/   \n",
       "916   +61 425 617 027  Female            AU          Level 7    \n",
       "973   +61-3-8324-8287  Female            AU               73/   \n",
       "1000  +61 3 8802 4581    Male            AU          Unit 08    \n",
       "\n",
       "      building_number        street_name  ... social_media_hours  \\\n",
       "641                79        Hobbs Green  ...                1.0   \n",
       "813                68          Cruz Edge  ...                2.0   \n",
       "823               708   Villarreal Vista  ...                2.0   \n",
       "832                98  Heather Foreshore  ...                3.0   \n",
       "916                84   Christopher Glen  ...                1.0   \n",
       "973                 1   Martinez Roadway  ...                4.0   \n",
       "1000               94         Dylan Gate  ...                2.0   \n",
       "\n",
       "     average_attendance                   skills skills_development_hours  \\\n",
       "641                78.0  Artificial Intelligence                      4.0   \n",
       "813               100.0  Artificial Intelligence                      2.0   \n",
       "823               100.0  Artificial Intelligence                      5.0   \n",
       "832               100.0              Programming                      2.0   \n",
       "916               100.0  Artificial Intelligence                      1.0   \n",
       "973                65.0  Artificial Intelligence                      2.0   \n",
       "1000              100.0  Artificial Intelligence                      1.0   \n",
       "\n",
       "      area_of_interest  previous_gpa current_gpa completed_credits  \\\n",
       "641                NaN          2.83        3.90             143.0   \n",
       "813                NaN          1.88        2.91              74.0   \n",
       "823                NaN          1.76        2.81              96.0   \n",
       "832                NaN          2.76        3.84             144.0   \n",
       "916                NaN          2.73        3.81             135.0   \n",
       "973                NaN          1.66        2.45             105.0   \n",
       "1000               NaN          2.65        3.88             125.0   \n",
       "\n",
       "     has_diploma house_income  \n",
       "641            0      79000.0  \n",
       "813            0      80000.0  \n",
       "823            0      88000.0  \n",
       "832            0      96000.0  \n",
       "916            0      61000.0  \n",
       "973            0      90000.0  \n",
       "1000           0     140000.0  \n",
       "\n",
       "[7 rows x 45 columns]"
      ]
     },
     "execution_count": 26,
     "metadata": {},
     "output_type": "execute_result"
    }
   ],
   "source": [
    "df[df['area_of_interest'].isnull()]"
   ]
  },
  {
   "cell_type": "code",
   "execution_count": 27,
   "metadata": {},
   "outputs": [],
   "source": [
    "#most of the  null values in area of interest has artificial intelligence as a skill. \n",
    "#Let's explore skills to see people with artifical intelligence as their skills are interested in what mostly."
   ]
  },
  {
   "cell_type": "markdown",
   "metadata": {},
   "source": [
    "# we will use mode replacement method here "
   ]
  },
  {
   "cell_type": "code",
   "execution_count": 28,
   "metadata": {},
   "outputs": [
    {
     "name": "stdout",
     "output_type": "stream",
     "text": [
      "Data Science\n"
     ]
    }
   ],
   "source": [
    "mode_interest = df[df['skills'] == 'Artificial Intelligence']['area_of_interest'].mode().iloc[0]\n",
    "print(mode_interest)\n",
    "    "
   ]
  },
  {
   "cell_type": "markdown",
   "metadata": {},
   "source": [
    "#we get most of the students with Artificial Intelligence as their skill want to get into Data Science"
   ]
  },
  {
   "cell_type": "code",
   "execution_count": 29,
   "metadata": {},
   "outputs": [],
   "source": [
    "df['area_of_interest'] = df.apply(lambda x: mode_interest if pd.isna(x['area_of_interest']) and x['skills'] == 'Artificial Intelligence'\n",
    "                                                                    else x['area_of_interest'], axis =1)"
   ]
  },
  {
   "cell_type": "code",
   "execution_count": 30,
   "metadata": {},
   "outputs": [],
   "source": [
    "#Now handling the only missing value 'area of interest' this is where the skill in programming."
   ]
  },
  {
   "cell_type": "code",
   "execution_count": 31,
   "metadata": {},
   "outputs": [],
   "source": [
    "#we replace it with mode of the skills"
   ]
  },
  {
   "cell_type": "code",
   "execution_count": 32,
   "metadata": {},
   "outputs": [
    {
     "name": "stdout",
     "output_type": "stream",
     "text": [
      "Software\n"
     ]
    }
   ],
   "source": [
    "mode_programming = df[df['skills'] == 'Programming']['area_of_interest'].mode().iloc[0]\n",
    "print(mode_programming)"
   ]
  },
  {
   "cell_type": "markdown",
   "metadata": {},
   "source": [
    "#we get most of the students with prgramming as their skill want to get into Software"
   ]
  },
  {
   "cell_type": "code",
   "execution_count": 33,
   "metadata": {},
   "outputs": [],
   "source": [
    "df['area_of_interest'] = df['area_of_interest'].fillna(mode_programming)"
   ]
  },
  {
   "cell_type": "code",
   "execution_count": 34,
   "metadata": {},
   "outputs": [
    {
     "name": "stdout",
     "output_type": "stream",
     "text": [
      "<class 'pandas.core.frame.DataFrame'>\n",
      "RangeIndex: 1009 entries, 0 to 1008\n",
      "Data columns (total 45 columns):\n",
      " #   Column                    Non-Null Count  Dtype  \n",
      "---  ------                    --------------  -----  \n",
      " 0   student_id                1009 non-null   int64  \n",
      " 1   full_name                 1009 non-null   object \n",
      " 2   age                       1009 non-null   int64  \n",
      " 3   email                     1009 non-null   object \n",
      " 4   phone_number              1009 non-null   object \n",
      " 5   gender                    1009 non-null   object \n",
      " 6   birth_country             1009 non-null   object \n",
      " 7   secondary_address         1009 non-null   object \n",
      " 8   building_number           1009 non-null   int64  \n",
      " 9   street_name               1009 non-null   object \n",
      " 10  street_suffix             1009 non-null   object \n",
      " 11  city                      1009 non-null   object \n",
      " 12  postcode                  1009 non-null   int64  \n",
      " 13  state_abbr                1009 non-null   object \n",
      " 14  admission_year            1009 non-null   int64  \n",
      " 15  hsc_year                  1009 non-null   int64  \n",
      " 16  program                   1009 non-null   object \n",
      " 17  scholarship               1009 non-null   object \n",
      " 18  university_transport      1009 non-null   object \n",
      " 19  learning_mode             1009 non-null   object \n",
      " 20  has_phone                 1009 non-null   object \n",
      " 21  has_laptop                1009 non-null   object \n",
      " 22  english_proficiency       1009 non-null   object \n",
      " 23  on_probation              1009 non-null   object \n",
      " 24  is_suspended              1009 non-null   object \n",
      " 25  has_consulted_teacher     1009 non-null   object \n",
      " 26  relationship              1009 non-null   object \n",
      " 27  co_curricular             1009 non-null   object \n",
      " 28  living_arrangement        1009 non-null   object \n",
      " 29  health_issues             1009 non-null   object \n",
      " 30  disabilities              1009 non-null   object \n",
      " 31  target                    1009 non-null   object \n",
      " 32  current _semester         1009 non-null   float64\n",
      " 33  study_hours               1009 non-null   float64\n",
      " 34  study_sessions            1009 non-null   float64\n",
      " 35  social_media_hours        1009 non-null   float64\n",
      " 36  average_attendance        1009 non-null   float64\n",
      " 37  skills                    1009 non-null   object \n",
      " 38  skills_development_hours  1009 non-null   float64\n",
      " 39  area_of_interest          1009 non-null   object \n",
      " 40  previous_gpa              1009 non-null   float64\n",
      " 41  current_gpa               1009 non-null   float64\n",
      " 42  completed_credits         1009 non-null   float64\n",
      " 43  has_diploma               1009 non-null   int64  \n",
      " 44  house_income              1009 non-null   float64\n",
      "dtypes: float64(10), int64(7), object(28)\n",
      "memory usage: 354.9+ KB\n"
     ]
    }
   ],
   "source": [
    "#we check for any missing values in the dataset.\n",
    "df.info()"
   ]
  },
  {
   "cell_type": "code",
   "execution_count": 35,
   "metadata": {},
   "outputs": [],
   "source": [
    "#Let's change all the object type into binary."
   ]
  },
  {
   "cell_type": "code",
   "execution_count": 36,
   "metadata": {},
   "outputs": [
    {
     "data": {
      "text/html": [
       "<div>\n",
       "<style scoped>\n",
       "    .dataframe tbody tr th:only-of-type {\n",
       "        vertical-align: middle;\n",
       "    }\n",
       "\n",
       "    .dataframe tbody tr th {\n",
       "        vertical-align: top;\n",
       "    }\n",
       "\n",
       "    .dataframe thead th {\n",
       "        text-align: right;\n",
       "    }\n",
       "</style>\n",
       "<table border=\"1\" class=\"dataframe\">\n",
       "  <thead>\n",
       "    <tr style=\"text-align: right;\">\n",
       "      <th></th>\n",
       "      <th>student_id</th>\n",
       "      <th>full_name</th>\n",
       "      <th>age</th>\n",
       "      <th>email</th>\n",
       "      <th>phone_number</th>\n",
       "      <th>gender</th>\n",
       "      <th>birth_country</th>\n",
       "      <th>secondary_address</th>\n",
       "      <th>building_number</th>\n",
       "      <th>street_name</th>\n",
       "      <th>...</th>\n",
       "      <th>social_media_hours</th>\n",
       "      <th>average_attendance</th>\n",
       "      <th>skills</th>\n",
       "      <th>skills_development_hours</th>\n",
       "      <th>area_of_interest</th>\n",
       "      <th>previous_gpa</th>\n",
       "      <th>current_gpa</th>\n",
       "      <th>completed_credits</th>\n",
       "      <th>has_diploma</th>\n",
       "      <th>house_income</th>\n",
       "    </tr>\n",
       "  </thead>\n",
       "  <tbody>\n",
       "    <tr>\n",
       "      <th>0</th>\n",
       "      <td>7</td>\n",
       "      <td>Lauren Moon</td>\n",
       "      <td>22</td>\n",
       "      <td>kimberlypark@example.org</td>\n",
       "      <td>(08)35431944</td>\n",
       "      <td>Female</td>\n",
       "      <td>AU</td>\n",
       "      <td>Unit 93</td>\n",
       "      <td>0</td>\n",
       "      <td>April Amble</td>\n",
       "      <td>...</td>\n",
       "      <td>2.0</td>\n",
       "      <td>100.0</td>\n",
       "      <td>Web development skill(Frontend)</td>\n",
       "      <td>1.0</td>\n",
       "      <td>Networking</td>\n",
       "      <td>3.80</td>\n",
       "      <td>3.64</td>\n",
       "      <td>35.0</td>\n",
       "      <td>0</td>\n",
       "      <td>32500.0</td>\n",
       "    </tr>\n",
       "    <tr>\n",
       "      <th>1</th>\n",
       "      <td>11</td>\n",
       "      <td>Larry Green</td>\n",
       "      <td>22</td>\n",
       "      <td>smithamy@example.net</td>\n",
       "      <td>(07)35774291</td>\n",
       "      <td>Male</td>\n",
       "      <td>AU</td>\n",
       "      <td>Level 2</td>\n",
       "      <td>43</td>\n",
       "      <td>Davis Crest</td>\n",
       "      <td>...</td>\n",
       "      <td>2.0</td>\n",
       "      <td>90.0</td>\n",
       "      <td>Programming</td>\n",
       "      <td>1.0</td>\n",
       "      <td>Data Science</td>\n",
       "      <td>3.40</td>\n",
       "      <td>3.53</td>\n",
       "      <td>35.0</td>\n",
       "      <td>0</td>\n",
       "      <td>20000.0</td>\n",
       "    </tr>\n",
       "    <tr>\n",
       "      <th>2</th>\n",
       "      <td>15</td>\n",
       "      <td>Alexander Scott</td>\n",
       "      <td>20</td>\n",
       "      <td>qlee@example.org</td>\n",
       "      <td>20356212</td>\n",
       "      <td>Male</td>\n",
       "      <td>NZ</td>\n",
       "      <td>937/</td>\n",
       "      <td>96</td>\n",
       "      <td>Emily Little</td>\n",
       "      <td>...</td>\n",
       "      <td>1.0</td>\n",
       "      <td>95.0</td>\n",
       "      <td>Programming</td>\n",
       "      <td>3.0</td>\n",
       "      <td>Machine Learning / Deep Learning</td>\n",
       "      <td>3.93</td>\n",
       "      <td>3.89</td>\n",
       "      <td>35.0</td>\n",
       "      <td>0</td>\n",
       "      <td>30000.0</td>\n",
       "    </tr>\n",
       "    <tr>\n",
       "      <th>3</th>\n",
       "      <td>18</td>\n",
       "      <td>Jonathan Thornton</td>\n",
       "      <td>21</td>\n",
       "      <td>cmorgan@example.com</td>\n",
       "      <td>0627-6253</td>\n",
       "      <td>Male</td>\n",
       "      <td>AU</td>\n",
       "      <td>Level 3</td>\n",
       "      <td>5</td>\n",
       "      <td>William Pathway</td>\n",
       "      <td>...</td>\n",
       "      <td>3.0</td>\n",
       "      <td>95.0</td>\n",
       "      <td>Programming</td>\n",
       "      <td>1.0</td>\n",
       "      <td>Artificial Intelligence</td>\n",
       "      <td>3.10</td>\n",
       "      <td>3.50</td>\n",
       "      <td>35.0</td>\n",
       "      <td>0</td>\n",
       "      <td>25000.0</td>\n",
       "    </tr>\n",
       "    <tr>\n",
       "      <th>4</th>\n",
       "      <td>20</td>\n",
       "      <td>Susan Smith</td>\n",
       "      <td>21</td>\n",
       "      <td>xtodd@example.com</td>\n",
       "      <td>9957-3583</td>\n",
       "      <td>Female</td>\n",
       "      <td>AU</td>\n",
       "      <td>00/</td>\n",
       "      <td>5</td>\n",
       "      <td>Martin Close</td>\n",
       "      <td>...</td>\n",
       "      <td>2.0</td>\n",
       "      <td>96.0</td>\n",
       "      <td>Web development skill(Frontend)</td>\n",
       "      <td>1.0</td>\n",
       "      <td>Web Development</td>\n",
       "      <td>3.81</td>\n",
       "      <td>3.65</td>\n",
       "      <td>34.0</td>\n",
       "      <td>0</td>\n",
       "      <td>30000.0</td>\n",
       "    </tr>\n",
       "    <tr>\n",
       "      <th>...</th>\n",
       "      <td>...</td>\n",
       "      <td>...</td>\n",
       "      <td>...</td>\n",
       "      <td>...</td>\n",
       "      <td>...</td>\n",
       "      <td>...</td>\n",
       "      <td>...</td>\n",
       "      <td>...</td>\n",
       "      <td>...</td>\n",
       "      <td>...</td>\n",
       "      <td>...</td>\n",
       "      <td>...</td>\n",
       "      <td>...</td>\n",
       "      <td>...</td>\n",
       "      <td>...</td>\n",
       "      <td>...</td>\n",
       "      <td>...</td>\n",
       "      <td>...</td>\n",
       "      <td>...</td>\n",
       "      <td>...</td>\n",
       "      <td>...</td>\n",
       "    </tr>\n",
       "    <tr>\n",
       "      <th>1004</th>\n",
       "      <td>1189</td>\n",
       "      <td>Teresa Williamson</td>\n",
       "      <td>20</td>\n",
       "      <td>coffeyhannah@example.net</td>\n",
       "      <td>02.3506.9584</td>\n",
       "      <td>Female</td>\n",
       "      <td>AU</td>\n",
       "      <td>Suite 101</td>\n",
       "      <td>0</td>\n",
       "      <td>Matthew Cutting</td>\n",
       "      <td>...</td>\n",
       "      <td>2.0</td>\n",
       "      <td>46.0</td>\n",
       "      <td>Cyber security</td>\n",
       "      <td>2.0</td>\n",
       "      <td>Data Science</td>\n",
       "      <td>2.65</td>\n",
       "      <td>3.77</td>\n",
       "      <td>100.0</td>\n",
       "      <td>0</td>\n",
       "      <td>180000.0</td>\n",
       "    </tr>\n",
       "    <tr>\n",
       "      <th>1005</th>\n",
       "      <td>1190</td>\n",
       "      <td>Joseph Foley</td>\n",
       "      <td>23</td>\n",
       "      <td>nelsonscott@example.org</td>\n",
       "      <td>03 5425 4092</td>\n",
       "      <td>Male</td>\n",
       "      <td>AU</td>\n",
       "      <td>Apt. 760</td>\n",
       "      <td>394</td>\n",
       "      <td>Daniel Frontage</td>\n",
       "      <td>...</td>\n",
       "      <td>4.0</td>\n",
       "      <td>100.0</td>\n",
       "      <td>Programming</td>\n",
       "      <td>2.0</td>\n",
       "      <td>Software</td>\n",
       "      <td>2.50</td>\n",
       "      <td>2.22</td>\n",
       "      <td>18.0</td>\n",
       "      <td>0</td>\n",
       "      <td>200000.0</td>\n",
       "    </tr>\n",
       "    <tr>\n",
       "      <th>1006</th>\n",
       "      <td>1191</td>\n",
       "      <td>Steven Blair</td>\n",
       "      <td>22</td>\n",
       "      <td>rogerjones@example.net</td>\n",
       "      <td>+61-8-1110-6095</td>\n",
       "      <td>Male</td>\n",
       "      <td>AU</td>\n",
       "      <td>8/</td>\n",
       "      <td>23</td>\n",
       "      <td>Daniel Run</td>\n",
       "      <td>...</td>\n",
       "      <td>2.0</td>\n",
       "      <td>100.0</td>\n",
       "      <td>Networking</td>\n",
       "      <td>2.0</td>\n",
       "      <td>Hardware</td>\n",
       "      <td>1.56</td>\n",
       "      <td>2.78</td>\n",
       "      <td>121.0</td>\n",
       "      <td>0</td>\n",
       "      <td>200000.0</td>\n",
       "    </tr>\n",
       "    <tr>\n",
       "      <th>1007</th>\n",
       "      <td>1192</td>\n",
       "      <td>Martha Shelton</td>\n",
       "      <td>25</td>\n",
       "      <td>arthurcooper@example.net</td>\n",
       "      <td>+61380987424</td>\n",
       "      <td>Female</td>\n",
       "      <td>AU</td>\n",
       "      <td>Suite 919</td>\n",
       "      <td>0</td>\n",
       "      <td>Rodriguez Tollway</td>\n",
       "      <td>...</td>\n",
       "      <td>3.0</td>\n",
       "      <td>100.0</td>\n",
       "      <td>Web development skill(Frontend)</td>\n",
       "      <td>4.0</td>\n",
       "      <td>Software</td>\n",
       "      <td>1.40</td>\n",
       "      <td>2.52</td>\n",
       "      <td>144.0</td>\n",
       "      <td>0</td>\n",
       "      <td>210000.0</td>\n",
       "    </tr>\n",
       "    <tr>\n",
       "      <th>1008</th>\n",
       "      <td>1193</td>\n",
       "      <td>Patricia Tapia</td>\n",
       "      <td>23</td>\n",
       "      <td>gwilliams@example.net</td>\n",
       "      <td>02 2128 7183</td>\n",
       "      <td>Female</td>\n",
       "      <td>AU</td>\n",
       "      <td>39/</td>\n",
       "      <td>203</td>\n",
       "      <td>Smith Vale</td>\n",
       "      <td>...</td>\n",
       "      <td>5.0</td>\n",
       "      <td>100.0</td>\n",
       "      <td>Networking</td>\n",
       "      <td>1.0</td>\n",
       "      <td>Hardware</td>\n",
       "      <td>1.34</td>\n",
       "      <td>2.88</td>\n",
       "      <td>88.0</td>\n",
       "      <td>0</td>\n",
       "      <td>250000.0</td>\n",
       "    </tr>\n",
       "  </tbody>\n",
       "</table>\n",
       "<p>1009 rows × 45 columns</p>\n",
       "</div>"
      ],
      "text/plain": [
       "      student_id          full_name  age                     email  \\\n",
       "0              7        Lauren Moon   22  kimberlypark@example.org   \n",
       "1             11        Larry Green   22      smithamy@example.net   \n",
       "2             15    Alexander Scott   20          qlee@example.org   \n",
       "3             18  Jonathan Thornton   21       cmorgan@example.com   \n",
       "4             20        Susan Smith   21         xtodd@example.com   \n",
       "...          ...                ...  ...                       ...   \n",
       "1004        1189  Teresa Williamson   20  coffeyhannah@example.net   \n",
       "1005        1190       Joseph Foley   23   nelsonscott@example.org   \n",
       "1006        1191       Steven Blair   22    rogerjones@example.net   \n",
       "1007        1192     Martha Shelton   25  arthurcooper@example.net   \n",
       "1008        1193     Patricia Tapia   23     gwilliams@example.net   \n",
       "\n",
       "         phone_number  gender birth_country secondary_address  \\\n",
       "0        (08)35431944  Female            AU          Unit 93    \n",
       "1        (07)35774291    Male            AU          Level 2    \n",
       "2            20356212    Male            NZ              937/   \n",
       "3           0627-6253    Male            AU          Level 3    \n",
       "4           9957-3583  Female            AU               00/   \n",
       "...               ...     ...           ...               ...   \n",
       "1004     02.3506.9584  Female            AU        Suite 101    \n",
       "1005     03 5425 4092    Male            AU         Apt. 760    \n",
       "1006  +61-8-1110-6095    Male            AU                8/   \n",
       "1007     +61380987424  Female            AU        Suite 919    \n",
       "1008     02 2128 7183  Female            AU               39/   \n",
       "\n",
       "      building_number        street_name  ... social_media_hours  \\\n",
       "0                   0        April Amble  ...                2.0   \n",
       "1                  43        Davis Crest  ...                2.0   \n",
       "2                  96       Emily Little  ...                1.0   \n",
       "3                   5    William Pathway  ...                3.0   \n",
       "4                   5       Martin Close  ...                2.0   \n",
       "...               ...                ...  ...                ...   \n",
       "1004                0    Matthew Cutting  ...                2.0   \n",
       "1005              394    Daniel Frontage  ...                4.0   \n",
       "1006               23         Daniel Run  ...                2.0   \n",
       "1007                0  Rodriguez Tollway  ...                3.0   \n",
       "1008              203         Smith Vale  ...                5.0   \n",
       "\n",
       "     average_attendance                           skills  \\\n",
       "0                 100.0  Web development skill(Frontend)   \n",
       "1                  90.0                      Programming   \n",
       "2                  95.0                      Programming   \n",
       "3                  95.0                      Programming   \n",
       "4                  96.0  Web development skill(Frontend)   \n",
       "...                 ...                              ...   \n",
       "1004               46.0                   Cyber security   \n",
       "1005              100.0                      Programming   \n",
       "1006              100.0                       Networking   \n",
       "1007              100.0  Web development skill(Frontend)   \n",
       "1008              100.0                       Networking   \n",
       "\n",
       "     skills_development_hours                  area_of_interest  previous_gpa  \\\n",
       "0                         1.0                        Networking          3.80   \n",
       "1                         1.0                      Data Science          3.40   \n",
       "2                         3.0  Machine Learning / Deep Learning          3.93   \n",
       "3                         1.0           Artificial Intelligence          3.10   \n",
       "4                         1.0                   Web Development          3.81   \n",
       "...                       ...                               ...           ...   \n",
       "1004                      2.0                      Data Science          2.65   \n",
       "1005                      2.0                          Software          2.50   \n",
       "1006                      2.0                          Hardware          1.56   \n",
       "1007                      4.0                          Software          1.40   \n",
       "1008                      1.0                          Hardware          1.34   \n",
       "\n",
       "     current_gpa completed_credits has_diploma house_income  \n",
       "0           3.64              35.0           0      32500.0  \n",
       "1           3.53              35.0           0      20000.0  \n",
       "2           3.89              35.0           0      30000.0  \n",
       "3           3.50              35.0           0      25000.0  \n",
       "4           3.65              34.0           0      30000.0  \n",
       "...          ...               ...         ...          ...  \n",
       "1004        3.77             100.0           0     180000.0  \n",
       "1005        2.22              18.0           0     200000.0  \n",
       "1006        2.78             121.0           0     200000.0  \n",
       "1007        2.52             144.0           0     210000.0  \n",
       "1008        2.88              88.0           0     250000.0  \n",
       "\n",
       "[1009 rows x 45 columns]"
      ]
     },
     "execution_count": 36,
     "metadata": {},
     "output_type": "execute_result"
    }
   ],
   "source": [
    "df"
   ]
  },
  {
   "cell_type": "markdown",
   "metadata": {},
   "source": [
    "#columns to transform are ['gender', 'scholarship', 'university_transport', 'learning_mode', 'has_phone', 'has_laptop', 'english_proficiency', 'on_probation'\n",
    ", 'on_probation', 'is_suspended', 'has_consulted_teacher', 'relationship', 'co_curricular', 'living_arrangement', 'health_issues', 'target', 'has_diploma']"
   ]
  },
  {
   "cell_type": "code",
   "execution_count": 37,
   "metadata": {},
   "outputs": [
    {
     "name": "stderr",
     "output_type": "stream",
     "text": [
      "/var/folders/c_/03m83m793nj_w8twppm_5whc0000gn/T/ipykernel_87333/1117263926.py:14: FutureWarning: Downcasting behavior in `replace` is deprecated and will be removed in a future version. To retain the old behavior, explicitly call `result.infer_objects(copy=False)`. To opt-in to the future behavior, set `pd.set_option('future.no_silent_downcasting', True)`\n",
      "  df[yes_no_columns] = df[yes_no_columns].replace({'Yes' : 1, 'No' : 0})\n"
     ]
    }
   ],
   "source": [
    "yes_no_columns = [\n",
    "    'scholarship',\n",
    "    'university_transport',\n",
    "    'has_phone',\n",
    "    'has_laptop',\n",
    "    'on_probation',\n",
    "    'is_suspended',\n",
    "    'has_consulted_teacher',\n",
    "    'co_curricular',\n",
    "    'health_issues',\n",
    "    'disabilities',\n",
    "    'has_diploma'\n",
    "]\n",
    "df[yes_no_columns] = df[yes_no_columns].replace({'Yes' : 1, 'No' : 0})"
   ]
  },
  {
   "cell_type": "code",
   "execution_count": 38,
   "metadata": {},
   "outputs": [],
   "source": [
    "#lET'S DROP ALL THE COLUMNS WHICH ARE NOT REQUIRED AND DOES NOT MAKE BUSINESS SENSE."
   ]
  },
  {
   "cell_type": "code",
   "execution_count": 39,
   "metadata": {},
   "outputs": [],
   "source": [
    "COLUMNS_TO_DROP =['student_id', 'full_name' , 'email', 'phone_number', 'birth_country','secondary_address','building_number', 'street_name','street_suffix','city','postcode','state_abbr',\n",
    "                 'program']"
   ]
  },
  {
   "cell_type": "code",
   "execution_count": 40,
   "metadata": {},
   "outputs": [],
   "source": [
    "df = df.drop(columns = COLUMNS_TO_DROP)"
   ]
  },
  {
   "cell_type": "code",
   "execution_count": 41,
   "metadata": {},
   "outputs": [
    {
     "name": "stdout",
     "output_type": "stream",
     "text": [
      "<class 'pandas.core.frame.DataFrame'>\n",
      "RangeIndex: 1009 entries, 0 to 1008\n",
      "Data columns (total 32 columns):\n",
      " #   Column                    Non-Null Count  Dtype  \n",
      "---  ------                    --------------  -----  \n",
      " 0   age                       1009 non-null   int64  \n",
      " 1   gender                    1009 non-null   object \n",
      " 2   admission_year            1009 non-null   int64  \n",
      " 3   hsc_year                  1009 non-null   int64  \n",
      " 4   scholarship               1009 non-null   int64  \n",
      " 5   university_transport      1009 non-null   int64  \n",
      " 6   learning_mode             1009 non-null   object \n",
      " 7   has_phone                 1009 non-null   int64  \n",
      " 8   has_laptop                1009 non-null   int64  \n",
      " 9   english_proficiency       1009 non-null   object \n",
      " 10  on_probation              1009 non-null   int64  \n",
      " 11  is_suspended              1009 non-null   int64  \n",
      " 12  has_consulted_teacher     1009 non-null   int64  \n",
      " 13  relationship              1009 non-null   object \n",
      " 14  co_curricular             1009 non-null   int64  \n",
      " 15  living_arrangement        1009 non-null   object \n",
      " 16  health_issues             1009 non-null   int64  \n",
      " 17  disabilities              1009 non-null   int64  \n",
      " 18  target                    1009 non-null   object \n",
      " 19  current _semester         1009 non-null   float64\n",
      " 20  study_hours               1009 non-null   float64\n",
      " 21  study_sessions            1009 non-null   float64\n",
      " 22  social_media_hours        1009 non-null   float64\n",
      " 23  average_attendance        1009 non-null   float64\n",
      " 24  skills                    1009 non-null   object \n",
      " 25  skills_development_hours  1009 non-null   float64\n",
      " 26  area_of_interest          1009 non-null   object \n",
      " 27  previous_gpa              1009 non-null   float64\n",
      " 28  current_gpa               1009 non-null   float64\n",
      " 29  completed_credits         1009 non-null   float64\n",
      " 30  has_diploma               1009 non-null   int64  \n",
      " 31  house_income              1009 non-null   float64\n",
      "dtypes: float64(10), int64(14), object(8)\n",
      "memory usage: 252.4+ KB\n"
     ]
    }
   ],
   "source": [
    "df.info()"
   ]
  },
  {
   "cell_type": "code",
   "execution_count": 42,
   "metadata": {},
   "outputs": [],
   "source": [
    "#Let's visualise how the current gpa is between boys and girls?"
   ]
  },
  {
   "cell_type": "code",
   "execution_count": 43,
   "metadata": {},
   "outputs": [
    {
     "name": "stderr",
     "output_type": "stream",
     "text": [
      "/Users/ratikpant/anaconda3/lib/python3.11/site-packages/seaborn/_oldcore.py:1119: FutureWarning: use_inf_as_na option is deprecated and will be removed in a future version. Convert inf values to NaN before operating instead.\n",
      "  with pd.option_context('mode.use_inf_as_na', True):\n",
      "/Users/ratikpant/anaconda3/lib/python3.11/site-packages/seaborn/_oldcore.py:1075: FutureWarning: When grouping with a length-1 list-like, you will need to pass a length-1 tuple to get_group in a future version of pandas. Pass `(name,)` instead of `name` to silence this warning.\n",
      "  data_subset = grouped_data.get_group(pd_key)\n",
      "/Users/ratikpant/anaconda3/lib/python3.11/site-packages/seaborn/_oldcore.py:1075: FutureWarning: When grouping with a length-1 list-like, you will need to pass a length-1 tuple to get_group in a future version of pandas. Pass `(name,)` instead of `name` to silence this warning.\n",
      "  data_subset = grouped_data.get_group(pd_key)\n",
      "/Users/ratikpant/anaconda3/lib/python3.11/site-packages/seaborn/_oldcore.py:1075: FutureWarning: When grouping with a length-1 list-like, you will need to pass a length-1 tuple to get_group in a future version of pandas. Pass `(name,)` instead of `name` to silence this warning.\n",
      "  data_subset = grouped_data.get_group(pd_key)\n",
      "/Users/ratikpant/anaconda3/lib/python3.11/site-packages/seaborn/_oldcore.py:1075: FutureWarning: When grouping with a length-1 list-like, you will need to pass a length-1 tuple to get_group in a future version of pandas. Pass `(name,)` instead of `name` to silence this warning.\n",
      "  data_subset = grouped_data.get_group(pd_key)\n"
     ]
    },
    {
     "data": {
      "image/png": "[encoded data removed]",
      "text/plain": [
       "<Figure size 1000x600 with 1 Axes>"
      ]
     },
     "metadata": {},
     "output_type": "display_data"
    }
   ],
   "source": [
    "plt.figure(figsize = (10,6))\n",
    "sns.histplot(x = 'current_gpa', data = df,  bins = 10, kde = True,hue = 'gender')\n",
    "plt.title(\"DISTRIBUTION OF GPA SCORES\", fontsize = 15)\n",
    "plt.xlabel(\"CURRENT GPA SCORES\",fontsize =15)\n",
    "plt.ylabel(\"Number of students \", fontsize =15)\n",
    "plt.show()"
   ]
  },
  {
   "cell_type": "markdown",
   "metadata": {},
   "source": [
    "# there are a few scores touching 0 , let's inspect that."
   ]
  },
  {
   "cell_type": "code",
   "execution_count": 44,
   "metadata": {},
   "outputs": [],
   "source": [
    "#we will drop the rows where previous and current semester are both 0 first"
   ]
  },
  {
   "cell_type": "code",
   "execution_count": 45,
   "metadata": {},
   "outputs": [],
   "source": [
    "df = df[~((df['previous_gpa'] == 0) & (df['current_gpa'] == 0))]"
   ]
  },
  {
   "cell_type": "code",
   "execution_count": 46,
   "metadata": {},
   "outputs": [],
   "source": [
    "#now let's look at 0 score is current_gpa"
   ]
  },
  {
   "cell_type": "code",
   "execution_count": 47,
   "metadata": {},
   "outputs": [
    {
     "data": {
      "text/html": [
       "<div>\n",
       "<style scoped>\n",
       "    .dataframe tbody tr th:only-of-type {\n",
       "        vertical-align: middle;\n",
       "    }\n",
       "\n",
       "    .dataframe tbody tr th {\n",
       "        vertical-align: top;\n",
       "    }\n",
       "\n",
       "    .dataframe thead th {\n",
       "        text-align: right;\n",
       "    }\n",
       "</style>\n",
       "<table border=\"1\" class=\"dataframe\">\n",
       "  <thead>\n",
       "    <tr style=\"text-align: right;\">\n",
       "      <th></th>\n",
       "      <th>age</th>\n",
       "      <th>gender</th>\n",
       "      <th>admission_year</th>\n",
       "      <th>hsc_year</th>\n",
       "      <th>scholarship</th>\n",
       "      <th>university_transport</th>\n",
       "      <th>learning_mode</th>\n",
       "      <th>has_phone</th>\n",
       "      <th>has_laptop</th>\n",
       "      <th>english_proficiency</th>\n",
       "      <th>...</th>\n",
       "      <th>social_media_hours</th>\n",
       "      <th>average_attendance</th>\n",
       "      <th>skills</th>\n",
       "      <th>skills_development_hours</th>\n",
       "      <th>area_of_interest</th>\n",
       "      <th>previous_gpa</th>\n",
       "      <th>current_gpa</th>\n",
       "      <th>completed_credits</th>\n",
       "      <th>has_diploma</th>\n",
       "      <th>house_income</th>\n",
       "    </tr>\n",
       "  </thead>\n",
       "  <tbody>\n",
       "    <tr>\n",
       "      <th>67</th>\n",
       "      <td>23</td>\n",
       "      <td>Male</td>\n",
       "      <td>2021</td>\n",
       "      <td>2020</td>\n",
       "      <td>1</td>\n",
       "      <td>0</td>\n",
       "      <td>Online</td>\n",
       "      <td>1</td>\n",
       "      <td>0</td>\n",
       "      <td>Basic</td>\n",
       "      <td>...</td>\n",
       "      <td>3.0</td>\n",
       "      <td>85.0</td>\n",
       "      <td>Programming</td>\n",
       "      <td>1.0</td>\n",
       "      <td>Software</td>\n",
       "      <td>1.96</td>\n",
       "      <td>0.0</td>\n",
       "      <td>11.0</td>\n",
       "      <td>1</td>\n",
       "      <td>20000.0</td>\n",
       "    </tr>\n",
       "    <tr>\n",
       "      <th>81</th>\n",
       "      <td>21</td>\n",
       "      <td>Female</td>\n",
       "      <td>2022</td>\n",
       "      <td>2019</td>\n",
       "      <td>1</td>\n",
       "      <td>1</td>\n",
       "      <td>Offline</td>\n",
       "      <td>1</td>\n",
       "      <td>1</td>\n",
       "      <td>Intermediate</td>\n",
       "      <td>...</td>\n",
       "      <td>5.0</td>\n",
       "      <td>90.0</td>\n",
       "      <td>Software Development skill</td>\n",
       "      <td>3.0</td>\n",
       "      <td>Software</td>\n",
       "      <td>3.68</td>\n",
       "      <td>0.0</td>\n",
       "      <td>11.0</td>\n",
       "      <td>0</td>\n",
       "      <td>25000.0</td>\n",
       "    </tr>\n",
       "    <tr>\n",
       "      <th>124</th>\n",
       "      <td>22</td>\n",
       "      <td>Male</td>\n",
       "      <td>2022</td>\n",
       "      <td>2019</td>\n",
       "      <td>0</td>\n",
       "      <td>0</td>\n",
       "      <td>Offline</td>\n",
       "      <td>1</td>\n",
       "      <td>1</td>\n",
       "      <td>Intermediate</td>\n",
       "      <td>...</td>\n",
       "      <td>3.0</td>\n",
       "      <td>80.0</td>\n",
       "      <td>Programming</td>\n",
       "      <td>1.0</td>\n",
       "      <td>UI/UX</td>\n",
       "      <td>4.00</td>\n",
       "      <td>0.0</td>\n",
       "      <td>11.0</td>\n",
       "      <td>0</td>\n",
       "      <td>40000.0</td>\n",
       "    </tr>\n",
       "    <tr>\n",
       "      <th>207</th>\n",
       "      <td>21</td>\n",
       "      <td>Male</td>\n",
       "      <td>2022</td>\n",
       "      <td>2020</td>\n",
       "      <td>0</td>\n",
       "      <td>0</td>\n",
       "      <td>Offline</td>\n",
       "      <td>1</td>\n",
       "      <td>0</td>\n",
       "      <td>Basic</td>\n",
       "      <td>...</td>\n",
       "      <td>4.0</td>\n",
       "      <td>60.0</td>\n",
       "      <td>Programming</td>\n",
       "      <td>1.0</td>\n",
       "      <td>Software</td>\n",
       "      <td>0.50</td>\n",
       "      <td>0.0</td>\n",
       "      <td>2.0</td>\n",
       "      <td>0</td>\n",
       "      <td>5000.0</td>\n",
       "    </tr>\n",
       "    <tr>\n",
       "      <th>209</th>\n",
       "      <td>20</td>\n",
       "      <td>Male</td>\n",
       "      <td>2022</td>\n",
       "      <td>2020</td>\n",
       "      <td>1</td>\n",
       "      <td>0</td>\n",
       "      <td>Offline</td>\n",
       "      <td>1</td>\n",
       "      <td>1</td>\n",
       "      <td>Basic</td>\n",
       "      <td>...</td>\n",
       "      <td>2.0</td>\n",
       "      <td>95.0</td>\n",
       "      <td>Programming</td>\n",
       "      <td>2.0</td>\n",
       "      <td>Software</td>\n",
       "      <td>2.52</td>\n",
       "      <td>0.0</td>\n",
       "      <td>12.0</td>\n",
       "      <td>0</td>\n",
       "      <td>50000.0</td>\n",
       "    </tr>\n",
       "    <tr>\n",
       "      <th>221</th>\n",
       "      <td>19</td>\n",
       "      <td>Female</td>\n",
       "      <td>2021</td>\n",
       "      <td>2020</td>\n",
       "      <td>0</td>\n",
       "      <td>1</td>\n",
       "      <td>Offline</td>\n",
       "      <td>1</td>\n",
       "      <td>1</td>\n",
       "      <td>Intermediate</td>\n",
       "      <td>...</td>\n",
       "      <td>3.0</td>\n",
       "      <td>100.0</td>\n",
       "      <td>Programming</td>\n",
       "      <td>3.0</td>\n",
       "      <td>Artificial Intelligence</td>\n",
       "      <td>3.78</td>\n",
       "      <td>0.0</td>\n",
       "      <td>11.0</td>\n",
       "      <td>0</td>\n",
       "      <td>40000.0</td>\n",
       "    </tr>\n",
       "    <tr>\n",
       "      <th>263</th>\n",
       "      <td>20</td>\n",
       "      <td>Female</td>\n",
       "      <td>2021</td>\n",
       "      <td>2020</td>\n",
       "      <td>1</td>\n",
       "      <td>0</td>\n",
       "      <td>Offline</td>\n",
       "      <td>1</td>\n",
       "      <td>1</td>\n",
       "      <td>Intermediate</td>\n",
       "      <td>...</td>\n",
       "      <td>3.0</td>\n",
       "      <td>98.0</td>\n",
       "      <td>Programming</td>\n",
       "      <td>3.0</td>\n",
       "      <td>Networking</td>\n",
       "      <td>3.75</td>\n",
       "      <td>0.0</td>\n",
       "      <td>11.0</td>\n",
       "      <td>0</td>\n",
       "      <td>60000.0</td>\n",
       "    </tr>\n",
       "    <tr>\n",
       "      <th>294</th>\n",
       "      <td>20</td>\n",
       "      <td>Male</td>\n",
       "      <td>2022</td>\n",
       "      <td>2020</td>\n",
       "      <td>0</td>\n",
       "      <td>0</td>\n",
       "      <td>Offline</td>\n",
       "      <td>1</td>\n",
       "      <td>0</td>\n",
       "      <td>Basic</td>\n",
       "      <td>...</td>\n",
       "      <td>1.0</td>\n",
       "      <td>95.0</td>\n",
       "      <td>Programming</td>\n",
       "      <td>2.0</td>\n",
       "      <td>Software</td>\n",
       "      <td>4.55</td>\n",
       "      <td>0.0</td>\n",
       "      <td>11.0</td>\n",
       "      <td>0</td>\n",
       "      <td>35000.0</td>\n",
       "    </tr>\n",
       "    <tr>\n",
       "      <th>303</th>\n",
       "      <td>20</td>\n",
       "      <td>Female</td>\n",
       "      <td>2022</td>\n",
       "      <td>2020</td>\n",
       "      <td>0</td>\n",
       "      <td>0</td>\n",
       "      <td>Offline</td>\n",
       "      <td>1</td>\n",
       "      <td>1</td>\n",
       "      <td>Basic</td>\n",
       "      <td>...</td>\n",
       "      <td>2.0</td>\n",
       "      <td>97.0</td>\n",
       "      <td>Programming</td>\n",
       "      <td>2.0</td>\n",
       "      <td>Software</td>\n",
       "      <td>4.70</td>\n",
       "      <td>0.0</td>\n",
       "      <td>11.0</td>\n",
       "      <td>0</td>\n",
       "      <td>35000.0</td>\n",
       "    </tr>\n",
       "    <tr>\n",
       "      <th>330</th>\n",
       "      <td>19</td>\n",
       "      <td>Female</td>\n",
       "      <td>2021</td>\n",
       "      <td>2020</td>\n",
       "      <td>0</td>\n",
       "      <td>1</td>\n",
       "      <td>Offline</td>\n",
       "      <td>1</td>\n",
       "      <td>0</td>\n",
       "      <td>Intermediate</td>\n",
       "      <td>...</td>\n",
       "      <td>2.0</td>\n",
       "      <td>98.0</td>\n",
       "      <td>Programming</td>\n",
       "      <td>1.0</td>\n",
       "      <td>Data Science</td>\n",
       "      <td>3.37</td>\n",
       "      <td>0.0</td>\n",
       "      <td>11.0</td>\n",
       "      <td>0</td>\n",
       "      <td>25000.0</td>\n",
       "    </tr>\n",
       "    <tr>\n",
       "      <th>334</th>\n",
       "      <td>20</td>\n",
       "      <td>Male</td>\n",
       "      <td>2022</td>\n",
       "      <td>2020</td>\n",
       "      <td>0</td>\n",
       "      <td>1</td>\n",
       "      <td>Offline</td>\n",
       "      <td>1</td>\n",
       "      <td>0</td>\n",
       "      <td>Intermediate</td>\n",
       "      <td>...</td>\n",
       "      <td>4.0</td>\n",
       "      <td>98.0</td>\n",
       "      <td>I have no</td>\n",
       "      <td>2.0</td>\n",
       "      <td>Data Science</td>\n",
       "      <td>3.73</td>\n",
       "      <td>0.0</td>\n",
       "      <td>11.0</td>\n",
       "      <td>0</td>\n",
       "      <td>35000.0</td>\n",
       "    </tr>\n",
       "    <tr>\n",
       "      <th>343</th>\n",
       "      <td>18</td>\n",
       "      <td>Female</td>\n",
       "      <td>2022</td>\n",
       "      <td>2020</td>\n",
       "      <td>1</td>\n",
       "      <td>0</td>\n",
       "      <td>Online</td>\n",
       "      <td>1</td>\n",
       "      <td>1</td>\n",
       "      <td>Intermediate</td>\n",
       "      <td>...</td>\n",
       "      <td>1.0</td>\n",
       "      <td>100.0</td>\n",
       "      <td>Programming, Software Development</td>\n",
       "      <td>1.0</td>\n",
       "      <td>Software</td>\n",
       "      <td>3.54</td>\n",
       "      <td>0.0</td>\n",
       "      <td>11.0</td>\n",
       "      <td>0</td>\n",
       "      <td>14000.0</td>\n",
       "    </tr>\n",
       "    <tr>\n",
       "      <th>348</th>\n",
       "      <td>21</td>\n",
       "      <td>Male</td>\n",
       "      <td>2022</td>\n",
       "      <td>2020</td>\n",
       "      <td>0</td>\n",
       "      <td>0</td>\n",
       "      <td>Online</td>\n",
       "      <td>1</td>\n",
       "      <td>1</td>\n",
       "      <td>Advance</td>\n",
       "      <td>...</td>\n",
       "      <td>4.0</td>\n",
       "      <td>80.0</td>\n",
       "      <td>Cyber security, Networking,</td>\n",
       "      <td>0.0</td>\n",
       "      <td>Networking</td>\n",
       "      <td>3.75</td>\n",
       "      <td>0.0</td>\n",
       "      <td>12.0</td>\n",
       "      <td>0</td>\n",
       "      <td>50000.0</td>\n",
       "    </tr>\n",
       "    <tr>\n",
       "      <th>350</th>\n",
       "      <td>21</td>\n",
       "      <td>Male</td>\n",
       "      <td>2021</td>\n",
       "      <td>2020</td>\n",
       "      <td>0</td>\n",
       "      <td>0</td>\n",
       "      <td>Online</td>\n",
       "      <td>1</td>\n",
       "      <td>1</td>\n",
       "      <td>Intermediate</td>\n",
       "      <td>...</td>\n",
       "      <td>1.0</td>\n",
       "      <td>97.0</td>\n",
       "      <td>Programming</td>\n",
       "      <td>3.0</td>\n",
       "      <td>Machine Learning / Deep Learning</td>\n",
       "      <td>3.50</td>\n",
       "      <td>0.0</td>\n",
       "      <td>13.0</td>\n",
       "      <td>0</td>\n",
       "      <td>33000.0</td>\n",
       "    </tr>\n",
       "    <tr>\n",
       "      <th>367</th>\n",
       "      <td>20</td>\n",
       "      <td>Female</td>\n",
       "      <td>2021</td>\n",
       "      <td>2020</td>\n",
       "      <td>0</td>\n",
       "      <td>1</td>\n",
       "      <td>Offline</td>\n",
       "      <td>1</td>\n",
       "      <td>1</td>\n",
       "      <td>Basic</td>\n",
       "      <td>...</td>\n",
       "      <td>2.0</td>\n",
       "      <td>99.0</td>\n",
       "      <td>Programming</td>\n",
       "      <td>1.0</td>\n",
       "      <td>Machine Learning / Deep Learning</td>\n",
       "      <td>3.90</td>\n",
       "      <td>0.0</td>\n",
       "      <td>11.0</td>\n",
       "      <td>0</td>\n",
       "      <td>20000.0</td>\n",
       "    </tr>\n",
       "    <tr>\n",
       "      <th>370</th>\n",
       "      <td>20</td>\n",
       "      <td>Male</td>\n",
       "      <td>2022</td>\n",
       "      <td>2020</td>\n",
       "      <td>1</td>\n",
       "      <td>1</td>\n",
       "      <td>Offline</td>\n",
       "      <td>1</td>\n",
       "      <td>1</td>\n",
       "      <td>Intermediate</td>\n",
       "      <td>...</td>\n",
       "      <td>2.0</td>\n",
       "      <td>100.0</td>\n",
       "      <td>Programming</td>\n",
       "      <td>2.0</td>\n",
       "      <td>Networking</td>\n",
       "      <td>3.45</td>\n",
       "      <td>0.0</td>\n",
       "      <td>11.0</td>\n",
       "      <td>0</td>\n",
       "      <td>20000.0</td>\n",
       "    </tr>\n",
       "    <tr>\n",
       "      <th>373</th>\n",
       "      <td>22</td>\n",
       "      <td>Female</td>\n",
       "      <td>2022</td>\n",
       "      <td>2020</td>\n",
       "      <td>1</td>\n",
       "      <td>1</td>\n",
       "      <td>Online</td>\n",
       "      <td>1</td>\n",
       "      <td>1</td>\n",
       "      <td>Intermediate</td>\n",
       "      <td>...</td>\n",
       "      <td>1.0</td>\n",
       "      <td>95.0</td>\n",
       "      <td>Programming, Networking</td>\n",
       "      <td>2.0</td>\n",
       "      <td>Networking</td>\n",
       "      <td>3.65</td>\n",
       "      <td>0.0</td>\n",
       "      <td>11.0</td>\n",
       "      <td>1</td>\n",
       "      <td>20000.0</td>\n",
       "    </tr>\n",
       "    <tr>\n",
       "      <th>507</th>\n",
       "      <td>21</td>\n",
       "      <td>Male</td>\n",
       "      <td>2022</td>\n",
       "      <td>2020</td>\n",
       "      <td>1</td>\n",
       "      <td>1</td>\n",
       "      <td>Offline</td>\n",
       "      <td>1</td>\n",
       "      <td>1</td>\n",
       "      <td>Basic</td>\n",
       "      <td>...</td>\n",
       "      <td>2.0</td>\n",
       "      <td>100.0</td>\n",
       "      <td>Programming</td>\n",
       "      <td>2.0</td>\n",
       "      <td>Software</td>\n",
       "      <td>2.98</td>\n",
       "      <td>0.0</td>\n",
       "      <td>11.0</td>\n",
       "      <td>0</td>\n",
       "      <td>30000.0</td>\n",
       "    </tr>\n",
       "  </tbody>\n",
       "</table>\n",
       "<p>18 rows × 32 columns</p>\n",
       "</div>"
      ],
      "text/plain": [
       "     age  gender  admission_year  hsc_year  scholarship  university_transport  \\\n",
       "67    23    Male            2021      2020            1                     0   \n",
       "81    21  Female            2022      2019            1                     1   \n",
       "124   22    Male            2022      2019            0                     0   \n",
       "207   21    Male            2022      2020            0                     0   \n",
       "209   20    Male            2022      2020            1                     0   \n",
       "221   19  Female            2021      2020            0                     1   \n",
       "263   20  Female            2021      2020            1                     0   \n",
       "294   20    Male            2022      2020            0                     0   \n",
       "303   20  Female            2022      2020            0                     0   \n",
       "330   19  Female            2021      2020            0                     1   \n",
       "334   20    Male            2022      2020            0                     1   \n",
       "343   18  Female            2022      2020            1                     0   \n",
       "348   21    Male            2022      2020            0                     0   \n",
       "350   21    Male            2021      2020            0                     0   \n",
       "367   20  Female            2021      2020            0                     1   \n",
       "370   20    Male            2022      2020            1                     1   \n",
       "373   22  Female            2022      2020            1                     1   \n",
       "507   21    Male            2022      2020            1                     1   \n",
       "\n",
       "    learning_mode  has_phone  has_laptop english_proficiency  ...  \\\n",
       "67         Online          1           0               Basic  ...   \n",
       "81        Offline          1           1        Intermediate  ...   \n",
       "124       Offline          1           1        Intermediate  ...   \n",
       "207       Offline          1           0               Basic  ...   \n",
       "209       Offline          1           1               Basic  ...   \n",
       "221       Offline          1           1        Intermediate  ...   \n",
       "263       Offline          1           1        Intermediate  ...   \n",
       "294       Offline          1           0               Basic  ...   \n",
       "303       Offline          1           1               Basic  ...   \n",
       "330       Offline          1           0        Intermediate  ...   \n",
       "334       Offline          1           0        Intermediate  ...   \n",
       "343        Online          1           1        Intermediate  ...   \n",
       "348        Online          1           1             Advance  ...   \n",
       "350        Online          1           1        Intermediate  ...   \n",
       "367       Offline          1           1               Basic  ...   \n",
       "370       Offline          1           1        Intermediate  ...   \n",
       "373        Online          1           1        Intermediate  ...   \n",
       "507       Offline          1           1               Basic  ...   \n",
       "\n",
       "     social_media_hours  average_attendance  \\\n",
       "67                  3.0                85.0   \n",
       "81                  5.0                90.0   \n",
       "124                 3.0                80.0   \n",
       "207                 4.0                60.0   \n",
       "209                 2.0                95.0   \n",
       "221                 3.0               100.0   \n",
       "263                 3.0                98.0   \n",
       "294                 1.0                95.0   \n",
       "303                 2.0                97.0   \n",
       "330                 2.0                98.0   \n",
       "334                 4.0                98.0   \n",
       "343                 1.0               100.0   \n",
       "348                 4.0                80.0   \n",
       "350                 1.0                97.0   \n",
       "367                 2.0                99.0   \n",
       "370                 2.0               100.0   \n",
       "373                 1.0                95.0   \n",
       "507                 2.0               100.0   \n",
       "\n",
       "                                skills skills_development_hours  \\\n",
       "67                         Programming                      1.0   \n",
       "81          Software Development skill                      3.0   \n",
       "124                        Programming                      1.0   \n",
       "207                        Programming                      1.0   \n",
       "209                        Programming                      2.0   \n",
       "221                        Programming                      3.0   \n",
       "263                        Programming                      3.0   \n",
       "294                        Programming                      2.0   \n",
       "303                        Programming                      2.0   \n",
       "330                        Programming                      1.0   \n",
       "334                          I have no                      2.0   \n",
       "343  Programming, Software Development                      1.0   \n",
       "348        Cyber security, Networking,                      0.0   \n",
       "350                        Programming                      3.0   \n",
       "367                        Programming                      1.0   \n",
       "370                        Programming                      2.0   \n",
       "373            Programming, Networking                      2.0   \n",
       "507                        Programming                      2.0   \n",
       "\n",
       "                     area_of_interest previous_gpa  current_gpa  \\\n",
       "67                           Software         1.96          0.0   \n",
       "81                           Software         3.68          0.0   \n",
       "124                             UI/UX         4.00          0.0   \n",
       "207                          Software         0.50          0.0   \n",
       "209                          Software         2.52          0.0   \n",
       "221           Artificial Intelligence         3.78          0.0   \n",
       "263                        Networking         3.75          0.0   \n",
       "294                          Software         4.55          0.0   \n",
       "303                          Software         4.70          0.0   \n",
       "330                      Data Science         3.37          0.0   \n",
       "334                      Data Science         3.73          0.0   \n",
       "343                          Software         3.54          0.0   \n",
       "348                        Networking         3.75          0.0   \n",
       "350  Machine Learning / Deep Learning         3.50          0.0   \n",
       "367  Machine Learning / Deep Learning         3.90          0.0   \n",
       "370                        Networking         3.45          0.0   \n",
       "373                        Networking         3.65          0.0   \n",
       "507                          Software         2.98          0.0   \n",
       "\n",
       "     completed_credits has_diploma  house_income  \n",
       "67                11.0           1       20000.0  \n",
       "81                11.0           0       25000.0  \n",
       "124               11.0           0       40000.0  \n",
       "207                2.0           0        5000.0  \n",
       "209               12.0           0       50000.0  \n",
       "221               11.0           0       40000.0  \n",
       "263               11.0           0       60000.0  \n",
       "294               11.0           0       35000.0  \n",
       "303               11.0           0       35000.0  \n",
       "330               11.0           0       25000.0  \n",
       "334               11.0           0       35000.0  \n",
       "343               11.0           0       14000.0  \n",
       "348               12.0           0       50000.0  \n",
       "350               13.0           0       33000.0  \n",
       "367               11.0           0       20000.0  \n",
       "370               11.0           0       20000.0  \n",
       "373               11.0           1       20000.0  \n",
       "507               11.0           0       30000.0  \n",
       "\n",
       "[18 rows x 32 columns]"
      ]
     },
     "execution_count": 47,
     "metadata": {},
     "output_type": "execute_result"
    }
   ],
   "source": [
    "anomalies = df[df['current_gpa']== 0]\n",
    "anomalies"
   ]
  },
  {
   "cell_type": "code",
   "execution_count": 48,
   "metadata": {},
   "outputs": [
    {
     "data": {
      "text/plain": [
       "target\n",
       "Poor    18\n",
       "Name: count, dtype: int64"
      ]
     },
     "execution_count": 48,
     "metadata": {},
     "output_type": "execute_result"
    }
   ],
   "source": [
    "anomalies['target'].value_counts()"
   ]
  },
  {
   "cell_type": "code",
   "execution_count": 49,
   "metadata": {},
   "outputs": [],
   "source": [
    "#lets replace 0's with nan values"
   ]
  },
  {
   "cell_type": "code",
   "execution_count": 50,
   "metadata": {},
   "outputs": [],
   "source": [
    "df['current_gpa'] = df['current_gpa'].replace(0, np.nan)"
   ]
  },
  {
   "cell_type": "code",
   "execution_count": 51,
   "metadata": {},
   "outputs": [],
   "source": [
    "#changing current_gpa 0 values to its current gpa average, segregating the average of performance group poor"
   ]
  },
  {
   "cell_type": "code",
   "execution_count": 52,
   "metadata": {},
   "outputs": [],
   "source": [
    "Current_gpa_prog_mean = df[df['target'] == 'Poor']['current_gpa'].mean()\n",
    "df['current_gpa'] = df['current_gpa'].apply(lambda x: Current_gpa_prog_mean if pd.isna(x) else x)"
   ]
  },
  {
   "cell_type": "markdown",
   "metadata": {},
   "source": [
    "# since the common thing about all the current_gpa 0 is that they come under the same performance group : 'Poor'\n",
    "# We will replace them with their skill wise averages"
   ]
  },
  {
   "cell_type": "markdown",
   "metadata": {},
   "source": [
    "# NOW LET'S TRANSFORM THE 0 VALUES FROM Previous gpa column"
   ]
  },
  {
   "cell_type": "code",
   "execution_count": 53,
   "metadata": {},
   "outputs": [
    {
     "data": {
      "text/html": [
       "<div>\n",
       "<style scoped>\n",
       "    .dataframe tbody tr th:only-of-type {\n",
       "        vertical-align: middle;\n",
       "    }\n",
       "\n",
       "    .dataframe tbody tr th {\n",
       "        vertical-align: top;\n",
       "    }\n",
       "\n",
       "    .dataframe thead th {\n",
       "        text-align: right;\n",
       "    }\n",
       "</style>\n",
       "<table border=\"1\" class=\"dataframe\">\n",
       "  <thead>\n",
       "    <tr style=\"text-align: right;\">\n",
       "      <th></th>\n",
       "      <th>age</th>\n",
       "      <th>gender</th>\n",
       "      <th>admission_year</th>\n",
       "      <th>hsc_year</th>\n",
       "      <th>scholarship</th>\n",
       "      <th>university_transport</th>\n",
       "      <th>learning_mode</th>\n",
       "      <th>has_phone</th>\n",
       "      <th>has_laptop</th>\n",
       "      <th>english_proficiency</th>\n",
       "      <th>...</th>\n",
       "      <th>social_media_hours</th>\n",
       "      <th>average_attendance</th>\n",
       "      <th>skills</th>\n",
       "      <th>skills_development_hours</th>\n",
       "      <th>area_of_interest</th>\n",
       "      <th>previous_gpa</th>\n",
       "      <th>current_gpa</th>\n",
       "      <th>completed_credits</th>\n",
       "      <th>has_diploma</th>\n",
       "      <th>house_income</th>\n",
       "    </tr>\n",
       "  </thead>\n",
       "  <tbody>\n",
       "    <tr>\n",
       "      <th>24</th>\n",
       "      <td>25</td>\n",
       "      <td>Male</td>\n",
       "      <td>2019</td>\n",
       "      <td>2018</td>\n",
       "      <td>1</td>\n",
       "      <td>0</td>\n",
       "      <td>Offline</td>\n",
       "      <td>1</td>\n",
       "      <td>1</td>\n",
       "      <td>Intermediate</td>\n",
       "      <td>...</td>\n",
       "      <td>2.0</td>\n",
       "      <td>70.0</td>\n",
       "      <td>Programming, Web development</td>\n",
       "      <td>4.0</td>\n",
       "      <td>Networking</td>\n",
       "      <td>0.0</td>\n",
       "      <td>2.53</td>\n",
       "      <td>91.0</td>\n",
       "      <td>0</td>\n",
       "      <td>30000.0</td>\n",
       "    </tr>\n",
       "    <tr>\n",
       "      <th>42</th>\n",
       "      <td>21</td>\n",
       "      <td>Male</td>\n",
       "      <td>2021</td>\n",
       "      <td>2020</td>\n",
       "      <td>0</td>\n",
       "      <td>0</td>\n",
       "      <td>Offline</td>\n",
       "      <td>0</td>\n",
       "      <td>1</td>\n",
       "      <td>Intermediate</td>\n",
       "      <td>...</td>\n",
       "      <td>2.0</td>\n",
       "      <td>97.0</td>\n",
       "      <td>Programming, Software Development</td>\n",
       "      <td>4.0</td>\n",
       "      <td>Software</td>\n",
       "      <td>0.0</td>\n",
       "      <td>2.31</td>\n",
       "      <td>46.0</td>\n",
       "      <td>0</td>\n",
       "      <td>50000.0</td>\n",
       "    </tr>\n",
       "    <tr>\n",
       "      <th>407</th>\n",
       "      <td>20</td>\n",
       "      <td>Female</td>\n",
       "      <td>2022</td>\n",
       "      <td>2018</td>\n",
       "      <td>0</td>\n",
       "      <td>1</td>\n",
       "      <td>Online</td>\n",
       "      <td>1</td>\n",
       "      <td>1</td>\n",
       "      <td>Basic</td>\n",
       "      <td>...</td>\n",
       "      <td>6.0</td>\n",
       "      <td>100.0</td>\n",
       "      <td>Programming</td>\n",
       "      <td>2.0</td>\n",
       "      <td>Networking</td>\n",
       "      <td>0.0</td>\n",
       "      <td>3.78</td>\n",
       "      <td>11.0</td>\n",
       "      <td>0</td>\n",
       "      <td>4000.0</td>\n",
       "    </tr>\n",
       "  </tbody>\n",
       "</table>\n",
       "<p>3 rows × 32 columns</p>\n",
       "</div>"
      ],
      "text/plain": [
       "     age  gender  admission_year  hsc_year  scholarship  university_transport  \\\n",
       "24    25    Male            2019      2018            1                     0   \n",
       "42    21    Male            2021      2020            0                     0   \n",
       "407   20  Female            2022      2018            0                     1   \n",
       "\n",
       "    learning_mode  has_phone  has_laptop english_proficiency  ...  \\\n",
       "24        Offline          1           1        Intermediate  ...   \n",
       "42        Offline          0           1        Intermediate  ...   \n",
       "407        Online          1           1               Basic  ...   \n",
       "\n",
       "     social_media_hours  average_attendance  \\\n",
       "24                  2.0                70.0   \n",
       "42                  2.0                97.0   \n",
       "407                 6.0               100.0   \n",
       "\n",
       "                                skills skills_development_hours  \\\n",
       "24        Programming, Web development                      4.0   \n",
       "42   Programming, Software Development                      4.0   \n",
       "407                        Programming                      2.0   \n",
       "\n",
       "     area_of_interest previous_gpa  current_gpa  completed_credits  \\\n",
       "24         Networking          0.0         2.53               91.0   \n",
       "42           Software          0.0         2.31               46.0   \n",
       "407        Networking          0.0         3.78               11.0   \n",
       "\n",
       "    has_diploma  house_income  \n",
       "24            0       30000.0  \n",
       "42            0       50000.0  \n",
       "407           0        4000.0  \n",
       "\n",
       "[3 rows x 32 columns]"
      ]
     },
     "execution_count": 53,
     "metadata": {},
     "output_type": "execute_result"
    }
   ],
   "source": [
    "df[df['previous_gpa'] == 0]"
   ]
  },
  {
   "cell_type": "markdown",
   "metadata": {},
   "source": [
    "# since previouss gpa shows 0 and current gpa is uploaded, Also, all of the students are segregated in the poor performance category\n",
    "# we will make an assumption that the student scored the average score of that skill"
   ]
  },
  {
   "cell_type": "code",
   "execution_count": 54,
   "metadata": {},
   "outputs": [],
   "source": [
    "df['previous_gpa'] = df['previous_gpa'].replace(0, np.nan)"
   ]
  },
  {
   "cell_type": "code",
   "execution_count": 55,
   "metadata": {},
   "outputs": [],
   "source": [
    "ProgrammingWebdevelopment_mean = df[(df['target'] == 'Poor') & (df['skills'] == 'Programming, Web development')]['previous_gpa'].mean()\n",
    "df['previous_gpa'] = df['previous_gpa'].apply(lambda x: ProgrammingWebdevelopment_mean if pd.isna(x) else x)"
   ]
  },
  {
   "cell_type": "code",
   "execution_count": 56,
   "metadata": {},
   "outputs": [
    {
     "data": {
      "text/plain": [
       "3.0488888888888885"
      ]
     },
     "execution_count": 56,
     "metadata": {},
     "output_type": "execute_result"
    }
   ],
   "source": [
    "ProgrammingWebdevelopment_mean"
   ]
  },
  {
   "cell_type": "markdown",
   "metadata": {},
   "source": [
    "# similarly replacing for Programming, Software Development"
   ]
  },
  {
   "cell_type": "code",
   "execution_count": 57,
   "metadata": {},
   "outputs": [],
   "source": [
    "Programmingsoftwaredevelopment_mean = df[(df['target'] == 'Poor') & (df['skills'] == 'Programming, Software Development')]['previous_gpa'].mean()\n",
    "df['previous_gpa'] = df['previous_gpa'].apply(lambda x: Programmingsoftwaredevelopment_mean if pd.isna(x) else x)"
   ]
  },
  {
   "cell_type": "code",
   "execution_count": 58,
   "metadata": {},
   "outputs": [
    {
     "data": {
      "text/plain": [
       "2.59320987654321"
      ]
     },
     "execution_count": 58,
     "metadata": {},
     "output_type": "execute_result"
    }
   ],
   "source": [
    "Programmingsoftwaredevelopment_mean"
   ]
  },
  {
   "cell_type": "markdown",
   "metadata": {},
   "source": [
    "# REPLACING FOR Programming"
   ]
  },
  {
   "cell_type": "code",
   "execution_count": 59,
   "metadata": {},
   "outputs": [],
   "source": [
    "Programming_mean = df[(df['target'] == 'Poor') & (df['skills'] == 'Programming')]['previous_gpa'].mean()\n",
    "df['previous_gpa'] = df['previous_gpa'].apply(lambda x: Programming_mean if pd.isna(x) else x)"
   ]
  },
  {
   "cell_type": "code",
   "execution_count": 60,
   "metadata": {},
   "outputs": [
    {
     "data": {
      "text/plain": [
       "2.398582140422631"
      ]
     },
     "execution_count": 60,
     "metadata": {},
     "output_type": "execute_result"
    }
   ],
   "source": [
    "Programming_mean"
   ]
  },
  {
   "cell_type": "code",
   "execution_count": 61,
   "metadata": {},
   "outputs": [],
   "source": [
    "#Now let's look at the distribution of current and previous gpa's"
   ]
  },
  {
   "cell_type": "code",
   "execution_count": 62,
   "metadata": {},
   "outputs": [
    {
     "name": "stderr",
     "output_type": "stream",
     "text": [
      "/Users/ratikpant/anaconda3/lib/python3.11/site-packages/seaborn/_oldcore.py:1119: FutureWarning: use_inf_as_na option is deprecated and will be removed in a future version. Convert inf values to NaN before operating instead.\n",
      "  with pd.option_context('mode.use_inf_as_na', True):\n",
      "/Users/ratikpant/anaconda3/lib/python3.11/site-packages/seaborn/_oldcore.py:1075: FutureWarning: When grouping with a length-1 list-like, you will need to pass a length-1 tuple to get_group in a future version of pandas. Pass `(name,)` instead of `name` to silence this warning.\n",
      "  data_subset = grouped_data.get_group(pd_key)\n",
      "/Users/ratikpant/anaconda3/lib/python3.11/site-packages/seaborn/_oldcore.py:1075: FutureWarning: When grouping with a length-1 list-like, you will need to pass a length-1 tuple to get_group in a future version of pandas. Pass `(name,)` instead of `name` to silence this warning.\n",
      "  data_subset = grouped_data.get_group(pd_key)\n",
      "/Users/ratikpant/anaconda3/lib/python3.11/site-packages/seaborn/_oldcore.py:1075: FutureWarning: When grouping with a length-1 list-like, you will need to pass a length-1 tuple to get_group in a future version of pandas. Pass `(name,)` instead of `name` to silence this warning.\n",
      "  data_subset = grouped_data.get_group(pd_key)\n",
      "/Users/ratikpant/anaconda3/lib/python3.11/site-packages/seaborn/_oldcore.py:1075: FutureWarning: When grouping with a length-1 list-like, you will need to pass a length-1 tuple to get_group in a future version of pandas. Pass `(name,)` instead of `name` to silence this warning.\n",
      "  data_subset = grouped_data.get_group(pd_key)\n",
      "/Users/ratikpant/anaconda3/lib/python3.11/site-packages/seaborn/_oldcore.py:1119: FutureWarning: use_inf_as_na option is deprecated and will be removed in a future version. Convert inf values to NaN before operating instead.\n",
      "  with pd.option_context('mode.use_inf_as_na', True):\n",
      "/Users/ratikpant/anaconda3/lib/python3.11/site-packages/seaborn/_oldcore.py:1075: FutureWarning: When grouping with a length-1 list-like, you will need to pass a length-1 tuple to get_group in a future version of pandas. Pass `(name,)` instead of `name` to silence this warning.\n",
      "  data_subset = grouped_data.get_group(pd_key)\n",
      "/Users/ratikpant/anaconda3/lib/python3.11/site-packages/seaborn/_oldcore.py:1075: FutureWarning: When grouping with a length-1 list-like, you will need to pass a length-1 tuple to get_group in a future version of pandas. Pass `(name,)` instead of `name` to silence this warning.\n",
      "  data_subset = grouped_data.get_group(pd_key)\n",
      "/Users/ratikpant/anaconda3/lib/python3.11/site-packages/seaborn/_oldcore.py:1075: FutureWarning: When grouping with a length-1 list-like, you will need to pass a length-1 tuple to get_group in a future version of pandas. Pass `(name,)` instead of `name` to silence this warning.\n",
      "  data_subset = grouped_data.get_group(pd_key)\n",
      "/Users/ratikpant/anaconda3/lib/python3.11/site-packages/seaborn/_oldcore.py:1075: FutureWarning: When grouping with a length-1 list-like, you will need to pass a length-1 tuple to get_group in a future version of pandas. Pass `(name,)` instead of `name` to silence this warning.\n",
      "  data_subset = grouped_data.get_group(pd_key)\n"
     ]
    },
    {
     "data": {
      "image/png": "[encoded data removed]",
      "text/plain": [
       "<Figure size 1400x600 with 2 Axes>"
      ]
     },
     "metadata": {},
     "output_type": "display_data"
    }
   ],
   "source": [
    "fig , axes = plt.subplots(1,2, figsize = (14,6))\n",
    "sns.histplot(x = 'previous_gpa', ax=axes[0], hue = 'gender', data = df, kde=True)\n",
    "axes[0].set_title('Previous Gpa Score')\n",
    "axes[0].set_xlabel(\"GPA SCORES\")\n",
    "sns.histplot( x = 'current_gpa', hue = 'gender', data = df, kde = True)\n",
    "axes[1].set_title('Current Gpa Score')\n",
    "axes[1].set_xlabel(\"GPA SCORES\")\n",
    "plt.show()\n"
   ]
  },
  {
   "cell_type": "code",
   "execution_count": 63,
   "metadata": {},
   "outputs": [],
   "source": [
    " df.rename(columns = {'current _semester' : 'current_semester'},inplace = True)"
   ]
  },
  {
   "cell_type": "code",
   "execution_count": 64,
   "metadata": {},
   "outputs": [
    {
     "name": "stdout",
     "output_type": "stream",
     "text": [
      "<class 'pandas.core.frame.DataFrame'>\n",
      "Index: 998 entries, 0 to 1008\n",
      "Data columns (total 32 columns):\n",
      " #   Column                    Non-Null Count  Dtype  \n",
      "---  ------                    --------------  -----  \n",
      " 0   age                       998 non-null    int64  \n",
      " 1   gender                    998 non-null    object \n",
      " 2   admission_year            998 non-null    int64  \n",
      " 3   hsc_year                  998 non-null    int64  \n",
      " 4   scholarship               998 non-null    int64  \n",
      " 5   university_transport      998 non-null    int64  \n",
      " 6   learning_mode             998 non-null    object \n",
      " 7   has_phone                 998 non-null    int64  \n",
      " 8   has_laptop                998 non-null    int64  \n",
      " 9   english_proficiency       998 non-null    object \n",
      " 10  on_probation              998 non-null    int64  \n",
      " 11  is_suspended              998 non-null    int64  \n",
      " 12  has_consulted_teacher     998 non-null    int64  \n",
      " 13  relationship              998 non-null    object \n",
      " 14  co_curricular             998 non-null    int64  \n",
      " 15  living_arrangement        998 non-null    object \n",
      " 16  health_issues             998 non-null    int64  \n",
      " 17  disabilities              998 non-null    int64  \n",
      " 18  target                    998 non-null    object \n",
      " 19  current_semester          998 non-null    float64\n",
      " 20  study_hours               998 non-null    float64\n",
      " 21  study_sessions            998 non-null    float64\n",
      " 22  social_media_hours        998 non-null    float64\n",
      " 23  average_attendance        998 non-null    float64\n",
      " 24  skills                    998 non-null    object \n",
      " 25  skills_development_hours  998 non-null    float64\n",
      " 26  area_of_interest          998 non-null    object \n",
      " 27  previous_gpa              998 non-null    float64\n",
      " 28  current_gpa               998 non-null    float64\n",
      " 29  completed_credits         998 non-null    float64\n",
      " 30  has_diploma               998 non-null    int64  \n",
      " 31  house_income              998 non-null    float64\n",
      "dtypes: float64(10), int64(14), object(8)\n",
      "memory usage: 257.3+ KB\n"
     ]
    }
   ],
   "source": [
    "df.info()"
   ]
  },
  {
   "cell_type": "code",
   "execution_count": 65,
   "metadata": {},
   "outputs": [],
   "source": [
    "#checking current_semester values"
   ]
  },
  {
   "cell_type": "code",
   "execution_count": 66,
   "metadata": {},
   "outputs": [
    {
     "data": {
      "text/plain": [
       "current_semester\n",
       "2.0       157\n",
       "11.0      153\n",
       "8.0       137\n",
       "3.0        98\n",
       "9.0        93\n",
       "10.0       81\n",
       "5.0        62\n",
       "6.0        54\n",
       "7.0        53\n",
       "4.0        38\n",
       "2022.0     18\n",
       "22.0       13\n",
       "14.0       11\n",
       "12.0       10\n",
       "1.0         6\n",
       "13.0        6\n",
       "15.0        3\n",
       "17.0        2\n",
       "18.0        1\n",
       "19.0        1\n",
       "24.0        1\n",
       "Name: count, dtype: int64"
      ]
     },
     "execution_count": 66,
     "metadata": {},
     "output_type": "execute_result"
    }
   ],
   "source": [
    "df['current_semester'].value_counts()"
   ]
  },
  {
   "cell_type": "code",
   "execution_count": 67,
   "metadata": {},
   "outputs": [],
   "source": [
    "#since we have too many inconsistencies we will drop the column.\n",
    "df.drop(columns= {'current_semester'},inplace = True)"
   ]
  },
  {
   "cell_type": "code",
   "execution_count": 68,
   "metadata": {},
   "outputs": [],
   "source": [
    "#checking for further outliers through boxplot."
   ]
  },
  {
   "cell_type": "code",
   "execution_count": 69,
   "metadata": {},
   "outputs": [
    {
     "data": {
      "image/png": "[encoded data removed]",
      "text/plain": [
       "<Figure size 1400x600 with 2 Axes>"
      ]
     },
     "metadata": {},
     "output_type": "display_data"
    }
   ],
   "source": [
    "fig , axes = plt.subplots(1,2, figsize = (14,6))\n",
    "sns.boxplot(y = 'previous_gpa', ax=axes[0], data = df,color = 'blue')\n",
    "axes[0].set_title('Previous Gpa Score')\n",
    "\n",
    "sns.boxplot( y = 'current_gpa', data = df, color = 'brown')\n",
    "axes[1].set_title('Current Gpa Score')\n",
    "\n",
    "plt.show()"
   ]
  },
  {
   "cell_type": "code",
   "execution_count": 70,
   "metadata": {},
   "outputs": [],
   "source": [
    "#looking for outliers in current gpa and making sure if those are outliers or possibily real gpa's"
   ]
  },
  {
   "cell_type": "code",
   "execution_count": 71,
   "metadata": {},
   "outputs": [],
   "source": [
    "q1 = df['current_gpa'].quantile(0.25)\n",
    "q3 = df['current_gpa'].quantile(0.75)\n",
    "iqr = q3 - q1"
   ]
  },
  {
   "cell_type": "code",
   "execution_count": 72,
   "metadata": {},
   "outputs": [],
   "source": [
    "lower_bound = q1 - 1.5 * iqr\n",
    "upper_bound = q3 + 1.5 * iqr"
   ]
  },
  {
   "cell_type": "code",
   "execution_count": 73,
   "metadata": {},
   "outputs": [],
   "source": [
    "outliers = df[(df['current_gpa'] < lower_bound) | (df['current_gpa'] > upper_bound)]"
   ]
  },
  {
   "cell_type": "code",
   "execution_count": 74,
   "metadata": {},
   "outputs": [
    {
     "data": {
      "text/html": [
       "<div>\n",
       "<style scoped>\n",
       "    .dataframe tbody tr th:only-of-type {\n",
       "        vertical-align: middle;\n",
       "    }\n",
       "\n",
       "    .dataframe tbody tr th {\n",
       "        vertical-align: top;\n",
       "    }\n",
       "\n",
       "    .dataframe thead th {\n",
       "        text-align: right;\n",
       "    }\n",
       "</style>\n",
       "<table border=\"1\" class=\"dataframe\">\n",
       "  <thead>\n",
       "    <tr style=\"text-align: right;\">\n",
       "      <th></th>\n",
       "      <th>age</th>\n",
       "      <th>gender</th>\n",
       "      <th>admission_year</th>\n",
       "      <th>hsc_year</th>\n",
       "      <th>scholarship</th>\n",
       "      <th>university_transport</th>\n",
       "      <th>learning_mode</th>\n",
       "      <th>has_phone</th>\n",
       "      <th>has_laptop</th>\n",
       "      <th>english_proficiency</th>\n",
       "      <th>...</th>\n",
       "      <th>social_media_hours</th>\n",
       "      <th>average_attendance</th>\n",
       "      <th>skills</th>\n",
       "      <th>skills_development_hours</th>\n",
       "      <th>area_of_interest</th>\n",
       "      <th>previous_gpa</th>\n",
       "      <th>current_gpa</th>\n",
       "      <th>completed_credits</th>\n",
       "      <th>has_diploma</th>\n",
       "      <th>house_income</th>\n",
       "    </tr>\n",
       "  </thead>\n",
       "  <tbody>\n",
       "    <tr>\n",
       "      <th>333</th>\n",
       "      <td>22</td>\n",
       "      <td>Male</td>\n",
       "      <td>2022</td>\n",
       "      <td>2019</td>\n",
       "      <td>0</td>\n",
       "      <td>0</td>\n",
       "      <td>Offline</td>\n",
       "      <td>1</td>\n",
       "      <td>1</td>\n",
       "      <td>Basic</td>\n",
       "      <td>...</td>\n",
       "      <td>3.0</td>\n",
       "      <td>95.0</td>\n",
       "      <td>Programming, Software Development</td>\n",
       "      <td>1.0</td>\n",
       "      <td>Networking</td>\n",
       "      <td>1.62</td>\n",
       "      <td>1.45</td>\n",
       "      <td>11.0</td>\n",
       "      <td>0</td>\n",
       "      <td>40000.0</td>\n",
       "    </tr>\n",
       "    <tr>\n",
       "      <th>487</th>\n",
       "      <td>21</td>\n",
       "      <td>Female</td>\n",
       "      <td>2021</td>\n",
       "      <td>2021</td>\n",
       "      <td>1</td>\n",
       "      <td>0</td>\n",
       "      <td>Offline</td>\n",
       "      <td>1</td>\n",
       "      <td>1</td>\n",
       "      <td>Basic</td>\n",
       "      <td>...</td>\n",
       "      <td>3.0</td>\n",
       "      <td>99.0</td>\n",
       "      <td>Programming</td>\n",
       "      <td>1.0</td>\n",
       "      <td>Machine Learning / Deep Learning</td>\n",
       "      <td>1.52</td>\n",
       "      <td>1.64</td>\n",
       "      <td>8.0</td>\n",
       "      <td>0</td>\n",
       "      <td>60000.0</td>\n",
       "    </tr>\n",
       "    <tr>\n",
       "      <th>877</th>\n",
       "      <td>23</td>\n",
       "      <td>Male</td>\n",
       "      <td>2022</td>\n",
       "      <td>2020</td>\n",
       "      <td>0</td>\n",
       "      <td>1</td>\n",
       "      <td>Offline</td>\n",
       "      <td>1</td>\n",
       "      <td>1</td>\n",
       "      <td>Basic</td>\n",
       "      <td>...</td>\n",
       "      <td>1.0</td>\n",
       "      <td>100.0</td>\n",
       "      <td>Programming</td>\n",
       "      <td>3.0</td>\n",
       "      <td>Software</td>\n",
       "      <td>1.58</td>\n",
       "      <td>1.42</td>\n",
       "      <td>14.0</td>\n",
       "      <td>0</td>\n",
       "      <td>35000.0</td>\n",
       "    </tr>\n",
       "  </tbody>\n",
       "</table>\n",
       "<p>3 rows × 31 columns</p>\n",
       "</div>"
      ],
      "text/plain": [
       "     age  gender  admission_year  hsc_year  scholarship  university_transport  \\\n",
       "333   22    Male            2022      2019            0                     0   \n",
       "487   21  Female            2021      2021            1                     0   \n",
       "877   23    Male            2022      2020            0                     1   \n",
       "\n",
       "    learning_mode  has_phone  has_laptop english_proficiency  ...  \\\n",
       "333       Offline          1           1               Basic  ...   \n",
       "487       Offline          1           1               Basic  ...   \n",
       "877       Offline          1           1               Basic  ...   \n",
       "\n",
       "     social_media_hours  average_attendance  \\\n",
       "333                 3.0                95.0   \n",
       "487                 3.0                99.0   \n",
       "877                 1.0               100.0   \n",
       "\n",
       "                                skills skills_development_hours  \\\n",
       "333  Programming, Software Development                      1.0   \n",
       "487                        Programming                      1.0   \n",
       "877                        Programming                      3.0   \n",
       "\n",
       "                     area_of_interest previous_gpa  current_gpa  \\\n",
       "333                        Networking         1.62         1.45   \n",
       "487  Machine Learning / Deep Learning         1.52         1.64   \n",
       "877                          Software         1.58         1.42   \n",
       "\n",
       "     completed_credits has_diploma  house_income  \n",
       "333               11.0           0       40000.0  \n",
       "487                8.0           0       60000.0  \n",
       "877               14.0           0       35000.0  \n",
       "\n",
       "[3 rows x 31 columns]"
      ]
     },
     "execution_count": 74,
     "metadata": {},
     "output_type": "execute_result"
    }
   ],
   "source": [
    "outliers"
   ]
  },
  {
   "cell_type": "code",
   "execution_count": 75,
   "metadata": {},
   "outputs": [],
   "source": [
    "#storing the df without the outliers."
   ]
  },
  {
   "cell_type": "code",
   "execution_count": 76,
   "metadata": {},
   "outputs": [],
   "source": [
    "df = df[(df['current_gpa'] > lower_bound) & (df['current_gpa'] < upper_bound)]"
   ]
  },
  {
   "cell_type": "code",
   "execution_count": 77,
   "metadata": {},
   "outputs": [
    {
     "data": {
      "text/html": [
       "<div>\n",
       "<style scoped>\n",
       "    .dataframe tbody tr th:only-of-type {\n",
       "        vertical-align: middle;\n",
       "    }\n",
       "\n",
       "    .dataframe tbody tr th {\n",
       "        vertical-align: top;\n",
       "    }\n",
       "\n",
       "    .dataframe thead th {\n",
       "        text-align: right;\n",
       "    }\n",
       "</style>\n",
       "<table border=\"1\" class=\"dataframe\">\n",
       "  <thead>\n",
       "    <tr style=\"text-align: right;\">\n",
       "      <th></th>\n",
       "      <th>age</th>\n",
       "      <th>gender</th>\n",
       "      <th>admission_year</th>\n",
       "      <th>hsc_year</th>\n",
       "      <th>scholarship</th>\n",
       "      <th>university_transport</th>\n",
       "      <th>learning_mode</th>\n",
       "      <th>has_phone</th>\n",
       "      <th>has_laptop</th>\n",
       "      <th>english_proficiency</th>\n",
       "      <th>...</th>\n",
       "      <th>social_media_hours</th>\n",
       "      <th>average_attendance</th>\n",
       "      <th>skills</th>\n",
       "      <th>skills_development_hours</th>\n",
       "      <th>area_of_interest</th>\n",
       "      <th>previous_gpa</th>\n",
       "      <th>current_gpa</th>\n",
       "      <th>completed_credits</th>\n",
       "      <th>has_diploma</th>\n",
       "      <th>house_income</th>\n",
       "    </tr>\n",
       "  </thead>\n",
       "  <tbody>\n",
       "    <tr>\n",
       "      <th>0</th>\n",
       "      <td>22</td>\n",
       "      <td>Female</td>\n",
       "      <td>2021</td>\n",
       "      <td>2019</td>\n",
       "      <td>1</td>\n",
       "      <td>0</td>\n",
       "      <td>Offline</td>\n",
       "      <td>1</td>\n",
       "      <td>1</td>\n",
       "      <td>Basic</td>\n",
       "      <td>...</td>\n",
       "      <td>2.0</td>\n",
       "      <td>100.0</td>\n",
       "      <td>Web development skill(Frontend)</td>\n",
       "      <td>1.0</td>\n",
       "      <td>Networking</td>\n",
       "      <td>3.80</td>\n",
       "      <td>3.64</td>\n",
       "      <td>35.0</td>\n",
       "      <td>0</td>\n",
       "      <td>32500.0</td>\n",
       "    </tr>\n",
       "    <tr>\n",
       "      <th>1</th>\n",
       "      <td>22</td>\n",
       "      <td>Male</td>\n",
       "      <td>2021</td>\n",
       "      <td>2019</td>\n",
       "      <td>0</td>\n",
       "      <td>0</td>\n",
       "      <td>Offline</td>\n",
       "      <td>1</td>\n",
       "      <td>1</td>\n",
       "      <td>Basic</td>\n",
       "      <td>...</td>\n",
       "      <td>2.0</td>\n",
       "      <td>90.0</td>\n",
       "      <td>Programming</td>\n",
       "      <td>1.0</td>\n",
       "      <td>Data Science</td>\n",
       "      <td>3.40</td>\n",
       "      <td>3.53</td>\n",
       "      <td>35.0</td>\n",
       "      <td>0</td>\n",
       "      <td>20000.0</td>\n",
       "    </tr>\n",
       "    <tr>\n",
       "      <th>2</th>\n",
       "      <td>20</td>\n",
       "      <td>Male</td>\n",
       "      <td>2021</td>\n",
       "      <td>2020</td>\n",
       "      <td>1</td>\n",
       "      <td>1</td>\n",
       "      <td>Offline</td>\n",
       "      <td>1</td>\n",
       "      <td>1</td>\n",
       "      <td>Basic</td>\n",
       "      <td>...</td>\n",
       "      <td>1.0</td>\n",
       "      <td>95.0</td>\n",
       "      <td>Programming</td>\n",
       "      <td>3.0</td>\n",
       "      <td>Machine Learning / Deep Learning</td>\n",
       "      <td>3.93</td>\n",
       "      <td>3.89</td>\n",
       "      <td>35.0</td>\n",
       "      <td>0</td>\n",
       "      <td>30000.0</td>\n",
       "    </tr>\n",
       "    <tr>\n",
       "      <th>3</th>\n",
       "      <td>21</td>\n",
       "      <td>Male</td>\n",
       "      <td>2021</td>\n",
       "      <td>2020</td>\n",
       "      <td>1</td>\n",
       "      <td>0</td>\n",
       "      <td>Online</td>\n",
       "      <td>1</td>\n",
       "      <td>1</td>\n",
       "      <td>Advance</td>\n",
       "      <td>...</td>\n",
       "      <td>3.0</td>\n",
       "      <td>95.0</td>\n",
       "      <td>Programming</td>\n",
       "      <td>1.0</td>\n",
       "      <td>Artificial Intelligence</td>\n",
       "      <td>3.10</td>\n",
       "      <td>3.50</td>\n",
       "      <td>35.0</td>\n",
       "      <td>0</td>\n",
       "      <td>25000.0</td>\n",
       "    </tr>\n",
       "    <tr>\n",
       "      <th>4</th>\n",
       "      <td>21</td>\n",
       "      <td>Female</td>\n",
       "      <td>2021</td>\n",
       "      <td>2019</td>\n",
       "      <td>1</td>\n",
       "      <td>0</td>\n",
       "      <td>Offline</td>\n",
       "      <td>1</td>\n",
       "      <td>1</td>\n",
       "      <td>Intermediate</td>\n",
       "      <td>...</td>\n",
       "      <td>2.0</td>\n",
       "      <td>96.0</td>\n",
       "      <td>Web development skill(Frontend)</td>\n",
       "      <td>1.0</td>\n",
       "      <td>Web Development</td>\n",
       "      <td>3.81</td>\n",
       "      <td>3.65</td>\n",
       "      <td>34.0</td>\n",
       "      <td>0</td>\n",
       "      <td>30000.0</td>\n",
       "    </tr>\n",
       "    <tr>\n",
       "      <th>...</th>\n",
       "      <td>...</td>\n",
       "      <td>...</td>\n",
       "      <td>...</td>\n",
       "      <td>...</td>\n",
       "      <td>...</td>\n",
       "      <td>...</td>\n",
       "      <td>...</td>\n",
       "      <td>...</td>\n",
       "      <td>...</td>\n",
       "      <td>...</td>\n",
       "      <td>...</td>\n",
       "      <td>...</td>\n",
       "      <td>...</td>\n",
       "      <td>...</td>\n",
       "      <td>...</td>\n",
       "      <td>...</td>\n",
       "      <td>...</td>\n",
       "      <td>...</td>\n",
       "      <td>...</td>\n",
       "      <td>...</td>\n",
       "      <td>...</td>\n",
       "    </tr>\n",
       "    <tr>\n",
       "      <th>1004</th>\n",
       "      <td>20</td>\n",
       "      <td>Female</td>\n",
       "      <td>2021</td>\n",
       "      <td>2020</td>\n",
       "      <td>0</td>\n",
       "      <td>1</td>\n",
       "      <td>Online</td>\n",
       "      <td>1</td>\n",
       "      <td>1</td>\n",
       "      <td>Basic</td>\n",
       "      <td>...</td>\n",
       "      <td>2.0</td>\n",
       "      <td>46.0</td>\n",
       "      <td>Cyber security</td>\n",
       "      <td>2.0</td>\n",
       "      <td>Data Science</td>\n",
       "      <td>2.65</td>\n",
       "      <td>3.77</td>\n",
       "      <td>100.0</td>\n",
       "      <td>0</td>\n",
       "      <td>180000.0</td>\n",
       "    </tr>\n",
       "    <tr>\n",
       "      <th>1005</th>\n",
       "      <td>23</td>\n",
       "      <td>Male</td>\n",
       "      <td>2022</td>\n",
       "      <td>2020</td>\n",
       "      <td>1</td>\n",
       "      <td>1</td>\n",
       "      <td>Offline</td>\n",
       "      <td>1</td>\n",
       "      <td>1</td>\n",
       "      <td>Basic</td>\n",
       "      <td>...</td>\n",
       "      <td>4.0</td>\n",
       "      <td>100.0</td>\n",
       "      <td>Programming</td>\n",
       "      <td>2.0</td>\n",
       "      <td>Software</td>\n",
       "      <td>2.50</td>\n",
       "      <td>2.22</td>\n",
       "      <td>18.0</td>\n",
       "      <td>0</td>\n",
       "      <td>200000.0</td>\n",
       "    </tr>\n",
       "    <tr>\n",
       "      <th>1006</th>\n",
       "      <td>22</td>\n",
       "      <td>Male</td>\n",
       "      <td>2021</td>\n",
       "      <td>2020</td>\n",
       "      <td>0</td>\n",
       "      <td>1</td>\n",
       "      <td>Offline</td>\n",
       "      <td>1</td>\n",
       "      <td>0</td>\n",
       "      <td>Basic</td>\n",
       "      <td>...</td>\n",
       "      <td>2.0</td>\n",
       "      <td>100.0</td>\n",
       "      <td>Networking</td>\n",
       "      <td>2.0</td>\n",
       "      <td>Hardware</td>\n",
       "      <td>1.56</td>\n",
       "      <td>2.78</td>\n",
       "      <td>121.0</td>\n",
       "      <td>0</td>\n",
       "      <td>200000.0</td>\n",
       "    </tr>\n",
       "    <tr>\n",
       "      <th>1007</th>\n",
       "      <td>25</td>\n",
       "      <td>Female</td>\n",
       "      <td>2019</td>\n",
       "      <td>2018</td>\n",
       "      <td>0</td>\n",
       "      <td>1</td>\n",
       "      <td>Offline</td>\n",
       "      <td>1</td>\n",
       "      <td>1</td>\n",
       "      <td>Intermediate</td>\n",
       "      <td>...</td>\n",
       "      <td>3.0</td>\n",
       "      <td>100.0</td>\n",
       "      <td>Web development skill(Frontend)</td>\n",
       "      <td>4.0</td>\n",
       "      <td>Software</td>\n",
       "      <td>1.40</td>\n",
       "      <td>2.52</td>\n",
       "      <td>144.0</td>\n",
       "      <td>0</td>\n",
       "      <td>210000.0</td>\n",
       "    </tr>\n",
       "    <tr>\n",
       "      <th>1008</th>\n",
       "      <td>23</td>\n",
       "      <td>Female</td>\n",
       "      <td>2018</td>\n",
       "      <td>2017</td>\n",
       "      <td>0</td>\n",
       "      <td>1</td>\n",
       "      <td>Online</td>\n",
       "      <td>1</td>\n",
       "      <td>1</td>\n",
       "      <td>Intermediate</td>\n",
       "      <td>...</td>\n",
       "      <td>5.0</td>\n",
       "      <td>100.0</td>\n",
       "      <td>Networking</td>\n",
       "      <td>1.0</td>\n",
       "      <td>Hardware</td>\n",
       "      <td>1.34</td>\n",
       "      <td>2.88</td>\n",
       "      <td>88.0</td>\n",
       "      <td>0</td>\n",
       "      <td>250000.0</td>\n",
       "    </tr>\n",
       "  </tbody>\n",
       "</table>\n",
       "<p>995 rows × 31 columns</p>\n",
       "</div>"
      ],
      "text/plain": [
       "      age  gender  admission_year  hsc_year  scholarship  \\\n",
       "0      22  Female            2021      2019            1   \n",
       "1      22    Male            2021      2019            0   \n",
       "2      20    Male            2021      2020            1   \n",
       "3      21    Male            2021      2020            1   \n",
       "4      21  Female            2021      2019            1   \n",
       "...   ...     ...             ...       ...          ...   \n",
       "1004   20  Female            2021      2020            0   \n",
       "1005   23    Male            2022      2020            1   \n",
       "1006   22    Male            2021      2020            0   \n",
       "1007   25  Female            2019      2018            0   \n",
       "1008   23  Female            2018      2017            0   \n",
       "\n",
       "      university_transport learning_mode  has_phone  has_laptop  \\\n",
       "0                        0       Offline          1           1   \n",
       "1                        0       Offline          1           1   \n",
       "2                        1       Offline          1           1   \n",
       "3                        0        Online          1           1   \n",
       "4                        0       Offline          1           1   \n",
       "...                    ...           ...        ...         ...   \n",
       "1004                     1        Online          1           1   \n",
       "1005                     1       Offline          1           1   \n",
       "1006                     1       Offline          1           0   \n",
       "1007                     1       Offline          1           1   \n",
       "1008                     1        Online          1           1   \n",
       "\n",
       "     english_proficiency  ...  social_media_hours  average_attendance  \\\n",
       "0                  Basic  ...                 2.0               100.0   \n",
       "1                  Basic  ...                 2.0                90.0   \n",
       "2                  Basic  ...                 1.0                95.0   \n",
       "3                Advance  ...                 3.0                95.0   \n",
       "4           Intermediate  ...                 2.0                96.0   \n",
       "...                  ...  ...                 ...                 ...   \n",
       "1004               Basic  ...                 2.0                46.0   \n",
       "1005               Basic  ...                 4.0               100.0   \n",
       "1006               Basic  ...                 2.0               100.0   \n",
       "1007        Intermediate  ...                 3.0               100.0   \n",
       "1008        Intermediate  ...                 5.0               100.0   \n",
       "\n",
       "                               skills skills_development_hours  \\\n",
       "0     Web development skill(Frontend)                      1.0   \n",
       "1                         Programming                      1.0   \n",
       "2                         Programming                      3.0   \n",
       "3                         Programming                      1.0   \n",
       "4     Web development skill(Frontend)                      1.0   \n",
       "...                               ...                      ...   \n",
       "1004                   Cyber security                      2.0   \n",
       "1005                      Programming                      2.0   \n",
       "1006                       Networking                      2.0   \n",
       "1007  Web development skill(Frontend)                      4.0   \n",
       "1008                       Networking                      1.0   \n",
       "\n",
       "                      area_of_interest previous_gpa  current_gpa  \\\n",
       "0                           Networking         3.80         3.64   \n",
       "1                         Data Science         3.40         3.53   \n",
       "2     Machine Learning / Deep Learning         3.93         3.89   \n",
       "3              Artificial Intelligence         3.10         3.50   \n",
       "4                      Web Development         3.81         3.65   \n",
       "...                                ...          ...          ...   \n",
       "1004                      Data Science         2.65         3.77   \n",
       "1005                          Software         2.50         2.22   \n",
       "1006                          Hardware         1.56         2.78   \n",
       "1007                          Software         1.40         2.52   \n",
       "1008                          Hardware         1.34         2.88   \n",
       "\n",
       "      completed_credits has_diploma  house_income  \n",
       "0                  35.0           0       32500.0  \n",
       "1                  35.0           0       20000.0  \n",
       "2                  35.0           0       30000.0  \n",
       "3                  35.0           0       25000.0  \n",
       "4                  34.0           0       30000.0  \n",
       "...                 ...         ...           ...  \n",
       "1004              100.0           0      180000.0  \n",
       "1005               18.0           0      200000.0  \n",
       "1006              121.0           0      200000.0  \n",
       "1007              144.0           0      210000.0  \n",
       "1008               88.0           0      250000.0  \n",
       "\n",
       "[995 rows x 31 columns]"
      ]
     },
     "execution_count": 77,
     "metadata": {},
     "output_type": "execute_result"
    }
   ],
   "source": [
    "df"
   ]
  },
  {
   "cell_type": "code",
   "execution_count": 78,
   "metadata": {},
   "outputs": [],
   "source": [
    "#household income distribution"
   ]
  },
  {
   "cell_type": "code",
   "execution_count": 79,
   "metadata": {},
   "outputs": [
    {
     "data": {
      "text/plain": [
       "<Axes: ylabel='house_income'>"
      ]
     },
     "execution_count": 79,
     "metadata": {},
     "output_type": "execute_result"
    },
    {
     "data": {
      "image/png": "[encoded data removed]",
      "text/plain": [
       "<Figure size 640x480 with 1 Axes>"
      ]
     },
     "metadata": {},
     "output_type": "display_data"
    }
   ],
   "source": [
    "sns.boxplot(y = 'house_income', data = df, color = 'blue')"
   ]
  },
  {
   "cell_type": "code",
   "execution_count": 80,
   "metadata": {},
   "outputs": [
    {
     "data": {
      "text/html": [
       "<div>\n",
       "<style scoped>\n",
       "    .dataframe tbody tr th:only-of-type {\n",
       "        vertical-align: middle;\n",
       "    }\n",
       "\n",
       "    .dataframe tbody tr th {\n",
       "        vertical-align: top;\n",
       "    }\n",
       "\n",
       "    .dataframe thead th {\n",
       "        text-align: right;\n",
       "    }\n",
       "</style>\n",
       "<table border=\"1\" class=\"dataframe\">\n",
       "  <thead>\n",
       "    <tr style=\"text-align: right;\">\n",
       "      <th></th>\n",
       "      <th>age</th>\n",
       "      <th>gender</th>\n",
       "      <th>admission_year</th>\n",
       "      <th>hsc_year</th>\n",
       "      <th>scholarship</th>\n",
       "      <th>university_transport</th>\n",
       "      <th>learning_mode</th>\n",
       "      <th>has_phone</th>\n",
       "      <th>has_laptop</th>\n",
       "      <th>english_proficiency</th>\n",
       "      <th>...</th>\n",
       "      <th>social_media_hours</th>\n",
       "      <th>average_attendance</th>\n",
       "      <th>skills</th>\n",
       "      <th>skills_development_hours</th>\n",
       "      <th>area_of_interest</th>\n",
       "      <th>previous_gpa</th>\n",
       "      <th>current_gpa</th>\n",
       "      <th>completed_credits</th>\n",
       "      <th>has_diploma</th>\n",
       "      <th>house_income</th>\n",
       "    </tr>\n",
       "  </thead>\n",
       "  <tbody>\n",
       "    <tr>\n",
       "      <th>183</th>\n",
       "      <td>22</td>\n",
       "      <td>Female</td>\n",
       "      <td>2019</td>\n",
       "      <td>2018</td>\n",
       "      <td>0</td>\n",
       "      <td>1</td>\n",
       "      <td>Offline</td>\n",
       "      <td>1</td>\n",
       "      <td>1</td>\n",
       "      <td>Advance</td>\n",
       "      <td>...</td>\n",
       "      <td>2.0</td>\n",
       "      <td>80.0</td>\n",
       "      <td>Programming</td>\n",
       "      <td>2.0</td>\n",
       "      <td>Data Science</td>\n",
       "      <td>3.0</td>\n",
       "      <td>3.09</td>\n",
       "      <td>105.0</td>\n",
       "      <td>0</td>\n",
       "      <td>2000000.0</td>\n",
       "    </tr>\n",
       "  </tbody>\n",
       "</table>\n",
       "<p>1 rows × 31 columns</p>\n",
       "</div>"
      ],
      "text/plain": [
       "     age  gender  admission_year  hsc_year  scholarship  university_transport  \\\n",
       "183   22  Female            2019      2018            0                     1   \n",
       "\n",
       "    learning_mode  has_phone  has_laptop english_proficiency  ...  \\\n",
       "183       Offline          1           1             Advance  ...   \n",
       "\n",
       "     social_media_hours  average_attendance       skills  \\\n",
       "183                 2.0                80.0  Programming   \n",
       "\n",
       "    skills_development_hours  area_of_interest previous_gpa  current_gpa  \\\n",
       "183                      2.0      Data Science          3.0         3.09   \n",
       "\n",
       "     completed_credits has_diploma  house_income  \n",
       "183              105.0           0     2000000.0  \n",
       "\n",
       "[1 rows x 31 columns]"
      ]
     },
     "execution_count": 80,
     "metadata": {},
     "output_type": "execute_result"
    }
   ],
   "source": [
    "df[df['house_income']  > 500000]"
   ]
  },
  {
   "cell_type": "code",
   "execution_count": 81,
   "metadata": {},
   "outputs": [],
   "source": [
    "mean_income =  df['house_income'].mean().round(2)"
   ]
  },
  {
   "cell_type": "code",
   "execution_count": 82,
   "metadata": {},
   "outputs": [],
   "source": [
    "df.loc[df['house_income'] > 500000, 'house_income'] = mean_income"
   ]
  },
  {
   "cell_type": "code",
   "execution_count": 83,
   "metadata": {},
   "outputs": [
    {
     "name": "stderr",
     "output_type": "stream",
     "text": [
      "/Users/ratikpant/anaconda3/lib/python3.11/site-packages/seaborn/_oldcore.py:1119: FutureWarning: use_inf_as_na option is deprecated and will be removed in a future version. Convert inf values to NaN before operating instead.\n",
      "  with pd.option_context('mode.use_inf_as_na', True):\n"
     ]
    },
    {
     "data": {
      "image/png": "[encoded data removed]",
      "text/plain": [
       "<Figure size 640x480 with 1 Axes>"
      ]
     },
     "metadata": {},
     "output_type": "display_data"
    }
   ],
   "source": [
    "sns.histplot(x = 'house_income', data = df, bins = 10, kde = True, color = 'purple')\n",
    "plt.title(\"House Income\")\n",
    "plt.xlabel(\"income\")\n",
    "plt.ylabel(\" \")\n",
    "plt.show()"
   ]
  },
  {
   "cell_type": "markdown",
   "metadata": {},
   "source": [
    "# So far we have changed dtypes of variables, handled missing (null values), handled outliers  in current gpa handled \n",
    "# the one extreme outlier in household income and changed it into the mean income. dropped personal information columns \n",
    "# in attaining data integrity"
   ]
  },
  {
   "cell_type": "code",
   "execution_count": 84,
   "metadata": {},
   "outputs": [],
   "source": [
    "# now let's test our hypothesis ."
   ]
  },
  {
   "cell_type": "markdown",
   "metadata": {},
   "source": [
    "# Null Hypothesis (H0): There is no difference in Attendance between different academic performance groups\n",
    "\n",
    "# Alternative Hypothesis (H1): There is a statistical difference in attendance between atleast one of the peformance groups"
   ]
  },
  {
   "cell_type": "markdown",
   "metadata": {},
   "source": [
    "#reason to test this To validate whether students who consistently attend classes perform better academically. If this holds true, the university can use attendance data as an early-warning signal and offer targeted academic interventions or nudges (like reminders, support workshops, or faculty outreach) for students with lower attendance."
   ]
  },
  {
   "cell_type": "code",
   "execution_count": 85,
   "metadata": {},
   "outputs": [],
   "source": [
    "#take a quick look through boxplot"
   ]
  },
  {
   "cell_type": "code",
   "execution_count": 86,
   "metadata": {},
   "outputs": [
    {
     "data": {
      "image/png": "[encoded data removed]",
      "text/plain": [
       "<Figure size 800x600 with 1 Axes>"
      ]
     },
     "metadata": {},
     "output_type": "display_data"
    }
   ],
   "source": [
    "\n",
    "plt.figure(figsize=(8, 6))\n",
    "sns.boxplot(x='target', y='average_attendance', data=df)\n",
    "plt.title('Average Attendance vs Student Performance')\n",
    "plt.xlabel('Performance Level')\n",
    "plt.ylabel('Average Attendance')\n",
    "plt.show()"
   ]
  },
  {
   "cell_type": "markdown",
   "metadata": {},
   "source": [
    "#handling extreme outliers in poor category and replacing it with poor average_attendance"
   ]
  },
  {
   "cell_type": "code",
   "execution_count": 87,
   "metadata": {},
   "outputs": [],
   "source": [
    "Q1 = df[df['target'] == 'Poor']['average_attendance'].quantile(0.25)\n",
    "Q3 = df[df['target'] == 'Poor']['average_attendance'].quantile(0.75)\n",
    "Iqr = Q3 - Q1\n",
    "Lower_bound = Q1 -1.5 * Iqr\n",
    "Upper_bound = Q3  -1.5 * Iqr"
   ]
  },
  {
   "cell_type": "code",
   "execution_count": 88,
   "metadata": {},
   "outputs": [],
   "source": [
    "Outlier = df[df['average_attendance'] < Lower_bound]"
   ]
  },
  {
   "cell_type": "code",
   "execution_count": 89,
   "metadata": {},
   "outputs": [
    {
     "data": {
      "text/html": [
       "<div>\n",
       "<style scoped>\n",
       "    .dataframe tbody tr th:only-of-type {\n",
       "        vertical-align: middle;\n",
       "    }\n",
       "\n",
       "    .dataframe tbody tr th {\n",
       "        vertical-align: top;\n",
       "    }\n",
       "\n",
       "    .dataframe thead th {\n",
       "        text-align: right;\n",
       "    }\n",
       "</style>\n",
       "<table border=\"1\" class=\"dataframe\">\n",
       "  <thead>\n",
       "    <tr style=\"text-align: right;\">\n",
       "      <th></th>\n",
       "      <th>age</th>\n",
       "      <th>gender</th>\n",
       "      <th>admission_year</th>\n",
       "      <th>hsc_year</th>\n",
       "      <th>scholarship</th>\n",
       "      <th>university_transport</th>\n",
       "      <th>learning_mode</th>\n",
       "      <th>has_phone</th>\n",
       "      <th>has_laptop</th>\n",
       "      <th>english_proficiency</th>\n",
       "      <th>...</th>\n",
       "      <th>social_media_hours</th>\n",
       "      <th>average_attendance</th>\n",
       "      <th>skills</th>\n",
       "      <th>skills_development_hours</th>\n",
       "      <th>area_of_interest</th>\n",
       "      <th>previous_gpa</th>\n",
       "      <th>current_gpa</th>\n",
       "      <th>completed_credits</th>\n",
       "      <th>has_diploma</th>\n",
       "      <th>house_income</th>\n",
       "    </tr>\n",
       "  </thead>\n",
       "  <tbody>\n",
       "    <tr>\n",
       "      <th>127</th>\n",
       "      <td>21</td>\n",
       "      <td>Female</td>\n",
       "      <td>2022</td>\n",
       "      <td>2020</td>\n",
       "      <td>1</td>\n",
       "      <td>1</td>\n",
       "      <td>Offline</td>\n",
       "      <td>1</td>\n",
       "      <td>1</td>\n",
       "      <td>Basic</td>\n",
       "      <td>...</td>\n",
       "      <td>3.0</td>\n",
       "      <td>2.0</td>\n",
       "      <td>Programming</td>\n",
       "      <td>0.0</td>\n",
       "      <td>Software</td>\n",
       "      <td>3.40</td>\n",
       "      <td>3.40</td>\n",
       "      <td>11.0</td>\n",
       "      <td>0</td>\n",
       "      <td>40000.0</td>\n",
       "    </tr>\n",
       "    <tr>\n",
       "      <th>316</th>\n",
       "      <td>22</td>\n",
       "      <td>Male</td>\n",
       "      <td>2021</td>\n",
       "      <td>2019</td>\n",
       "      <td>0</td>\n",
       "      <td>1</td>\n",
       "      <td>Online</td>\n",
       "      <td>1</td>\n",
       "      <td>1</td>\n",
       "      <td>Basic</td>\n",
       "      <td>...</td>\n",
       "      <td>3.0</td>\n",
       "      <td>0.0</td>\n",
       "      <td>Programming, Web development</td>\n",
       "      <td>6.0</td>\n",
       "      <td>Machine Learning / Deep Learning</td>\n",
       "      <td>2.08</td>\n",
       "      <td>2.91</td>\n",
       "      <td>49.0</td>\n",
       "      <td>0</td>\n",
       "      <td>30000.0</td>\n",
       "    </tr>\n",
       "    <tr>\n",
       "      <th>327</th>\n",
       "      <td>20</td>\n",
       "      <td>Male</td>\n",
       "      <td>2022</td>\n",
       "      <td>2020</td>\n",
       "      <td>1</td>\n",
       "      <td>1</td>\n",
       "      <td>Offline</td>\n",
       "      <td>1</td>\n",
       "      <td>1</td>\n",
       "      <td>Basic</td>\n",
       "      <td>...</td>\n",
       "      <td>2.0</td>\n",
       "      <td>10.0</td>\n",
       "      <td>Programming</td>\n",
       "      <td>1.0</td>\n",
       "      <td>Cyber Security</td>\n",
       "      <td>3.68</td>\n",
       "      <td>3.68</td>\n",
       "      <td>14.0</td>\n",
       "      <td>0</td>\n",
       "      <td>24000.0</td>\n",
       "    </tr>\n",
       "    <tr>\n",
       "      <th>519</th>\n",
       "      <td>22</td>\n",
       "      <td>Male</td>\n",
       "      <td>2020</td>\n",
       "      <td>2019</td>\n",
       "      <td>0</td>\n",
       "      <td>0</td>\n",
       "      <td>Offline</td>\n",
       "      <td>1</td>\n",
       "      <td>1</td>\n",
       "      <td>Intermediate</td>\n",
       "      <td>...</td>\n",
       "      <td>2.0</td>\n",
       "      <td>0.0</td>\n",
       "      <td>Programming, Web development</td>\n",
       "      <td>1.0</td>\n",
       "      <td>Data Science</td>\n",
       "      <td>3.30</td>\n",
       "      <td>3.15</td>\n",
       "      <td>90.0</td>\n",
       "      <td>0</td>\n",
       "      <td>36000.0</td>\n",
       "    </tr>\n",
       "    <tr>\n",
       "      <th>735</th>\n",
       "      <td>22</td>\n",
       "      <td>Male</td>\n",
       "      <td>2022</td>\n",
       "      <td>2021</td>\n",
       "      <td>0</td>\n",
       "      <td>0</td>\n",
       "      <td>Online</td>\n",
       "      <td>1</td>\n",
       "      <td>1</td>\n",
       "      <td>Basic</td>\n",
       "      <td>...</td>\n",
       "      <td>3.0</td>\n",
       "      <td>23.0</td>\n",
       "      <td>Networking</td>\n",
       "      <td>4.0</td>\n",
       "      <td>Hardware</td>\n",
       "      <td>1.81</td>\n",
       "      <td>2.88</td>\n",
       "      <td>72.0</td>\n",
       "      <td>0</td>\n",
       "      <td>45000.0</td>\n",
       "    </tr>\n",
       "    <tr>\n",
       "      <th>899</th>\n",
       "      <td>20</td>\n",
       "      <td>Female</td>\n",
       "      <td>2021</td>\n",
       "      <td>2020</td>\n",
       "      <td>0</td>\n",
       "      <td>1</td>\n",
       "      <td>Online</td>\n",
       "      <td>1</td>\n",
       "      <td>1</td>\n",
       "      <td>Basic</td>\n",
       "      <td>...</td>\n",
       "      <td>3.0</td>\n",
       "      <td>24.0</td>\n",
       "      <td>Programming</td>\n",
       "      <td>4.0</td>\n",
       "      <td>UI/UX</td>\n",
       "      <td>1.87</td>\n",
       "      <td>2.93</td>\n",
       "      <td>117.0</td>\n",
       "      <td>0</td>\n",
       "      <td>52000.0</td>\n",
       "    </tr>\n",
       "  </tbody>\n",
       "</table>\n",
       "<p>6 rows × 31 columns</p>\n",
       "</div>"
      ],
      "text/plain": [
       "     age  gender  admission_year  hsc_year  scholarship  university_transport  \\\n",
       "127   21  Female            2022      2020            1                     1   \n",
       "316   22    Male            2021      2019            0                     1   \n",
       "327   20    Male            2022      2020            1                     1   \n",
       "519   22    Male            2020      2019            0                     0   \n",
       "735   22    Male            2022      2021            0                     0   \n",
       "899   20  Female            2021      2020            0                     1   \n",
       "\n",
       "    learning_mode  has_phone  has_laptop english_proficiency  ...  \\\n",
       "127       Offline          1           1               Basic  ...   \n",
       "316        Online          1           1               Basic  ...   \n",
       "327       Offline          1           1               Basic  ...   \n",
       "519       Offline          1           1        Intermediate  ...   \n",
       "735        Online          1           1               Basic  ...   \n",
       "899        Online          1           1               Basic  ...   \n",
       "\n",
       "     social_media_hours  average_attendance                        skills  \\\n",
       "127                 3.0                 2.0                   Programming   \n",
       "316                 3.0                 0.0  Programming, Web development   \n",
       "327                 2.0                10.0                   Programming   \n",
       "519                 2.0                 0.0  Programming, Web development   \n",
       "735                 3.0                23.0                    Networking   \n",
       "899                 3.0                24.0                   Programming   \n",
       "\n",
       "    skills_development_hours                  area_of_interest previous_gpa  \\\n",
       "127                      0.0                          Software         3.40   \n",
       "316                      6.0  Machine Learning / Deep Learning         2.08   \n",
       "327                      1.0                    Cyber Security         3.68   \n",
       "519                      1.0                      Data Science         3.30   \n",
       "735                      4.0                          Hardware         1.81   \n",
       "899                      4.0                             UI/UX         1.87   \n",
       "\n",
       "     current_gpa  completed_credits has_diploma  house_income  \n",
       "127         3.40               11.0           0       40000.0  \n",
       "316         2.91               49.0           0       30000.0  \n",
       "327         3.68               14.0           0       24000.0  \n",
       "519         3.15               90.0           0       36000.0  \n",
       "735         2.88               72.0           0       45000.0  \n",
       "899         2.93              117.0           0       52000.0  \n",
       "\n",
       "[6 rows x 31 columns]"
      ]
     },
     "execution_count": 89,
     "metadata": {},
     "output_type": "execute_result"
    }
   ],
   "source": [
    "Outlier"
   ]
  },
  {
   "cell_type": "markdown",
   "metadata": {},
   "source": [
    "#great we have all the extremeties, replacing it with the lower_bound of poor group"
   ]
  },
  {
   "cell_type": "code",
   "execution_count": 90,
   "metadata": {},
   "outputs": [],
   "source": [
    "df.loc[(df['target'] == 'Poor') & (df['average_attendance'] < Lower_bound), 'average_attendance' ] = Lower_bound"
   ]
  },
  {
   "cell_type": "markdown",
   "metadata": {},
   "source": [
    "# handled outliers in Poor category of our target column."
   ]
  },
  {
   "cell_type": "code",
   "execution_count": 91,
   "metadata": {},
   "outputs": [],
   "source": [
    "#let's check the  variation of average_attendance"
   ]
  },
  {
   "cell_type": "code",
   "execution_count": 92,
   "metadata": {},
   "outputs": [
    {
     "name": "stderr",
     "output_type": "stream",
     "text": [
      "/Users/ratikpant/anaconda3/lib/python3.11/site-packages/seaborn/_oldcore.py:1119: FutureWarning: use_inf_as_na option is deprecated and will be removed in a future version. Convert inf values to NaN before operating instead.\n",
      "  with pd.option_context('mode.use_inf_as_na', True):\n"
     ]
    },
    {
     "data": {
      "text/plain": [
       "<Axes: xlabel='average_attendance', ylabel='Count'>"
      ]
     },
     "execution_count": 92,
     "metadata": {},
     "output_type": "execute_result"
    },
    {
     "data": {
      "image/png": "[encoded data removed]",
      "text/plain": [
       "<Figure size 640x480 with 1 Axes>"
      ]
     },
     "metadata": {},
     "output_type": "display_data"
    }
   ],
   "source": [
    "sns.histplot(x = 'average_attendance', data = df, bins = 10, kde = True, color = 'blue')"
   ]
  },
  {
   "cell_type": "code",
   "execution_count": 93,
   "metadata": {},
   "outputs": [],
   "source": [
    "#visualising the attendance vs performance chart."
   ]
  },
  {
   "cell_type": "code",
   "execution_count": 94,
   "metadata": {},
   "outputs": [],
   "source": [
    "#checking the distribution of attendance in each of the target groups\n",
    "#using shapiro-wilk test"
   ]
  },
  {
   "cell_type": "code",
   "execution_count": 95,
   "metadata": {},
   "outputs": [],
   "source": [
    "from scipy.stats import shapiro"
   ]
  },
  {
   "cell_type": "code",
   "execution_count": 96,
   "metadata": {},
   "outputs": [
    {
     "name": "stdout",
     "output_type": "stream",
     "text": [
      "{4.42401410644111e-12, 'Good'} Not a normal distribution\n",
      "{1.3007118381351607e-18, 'Average'} Not a normal distribution\n",
      "{1.5907978934137645e-07, 'Excellent'} Not a normal distribution\n",
      "{1.3977542894556208e-20, 'Poor'} Not a normal distribution\n"
     ]
    }
   ],
   "source": [
    "performance_group = df['target'].unique()\n",
    "for group in performance_group:\n",
    "    data = df[df['target'] == group]['average_attendance']\n",
    "    stat, pvalue = shapiro(data)\n",
    "    if pvalue >= 0.05:\n",
    "        print({group , pvalue} , \"normal distribution\")\n",
    "    else:\n",
    "        print({group, pvalue}  , \"Not a normal distribution\")        "
   ]
  },
  {
   "cell_type": "code",
   "execution_count": 97,
   "metadata": {},
   "outputs": [],
   "source": [
    "#checking variance between different group throuh levene test"
   ]
  },
  {
   "cell_type": "code",
   "execution_count": 98,
   "metadata": {},
   "outputs": [],
   "source": [
    "from scipy.stats import levene"
   ]
  },
  {
   "cell_type": "code",
   "execution_count": 99,
   "metadata": {},
   "outputs": [
    {
     "name": "stdout",
     "output_type": "stream",
     "text": [
      "variance not equal\n"
     ]
    }
   ],
   "source": [
    "poor_Atten = df[df['target'] == 'Poor']['average_attendance']\n",
    "average_atten = df[df['target'] == 'Average']['average_attendance']\n",
    "Good_atten = df[df['target'] == 'Good']['average_attendance']\n",
    "excellent_atten = df[df['target'] == 'Excellent']['average_attendance']\n",
    "stat , p = levene(poor_Atten, average_atten, Good_atten, excellent_atten)\n",
    "if p <= 0.05:\n",
    "    print(\"variance not equal\")\n",
    "else:\n",
    "    (\"variance equal\")\n"
   ]
  },
  {
   "cell_type": "code",
   "execution_count": 100,
   "metadata": {},
   "outputs": [],
   "source": [
    "#checked for variance and it is not equal, we run  kruskal for statistical significance."
   ]
  },
  {
   "cell_type": "code",
   "execution_count": 101,
   "metadata": {},
   "outputs": [],
   "source": [
    "#data is not normally distributed , therefore we will choose kruskal walis"
   ]
  },
  {
   "cell_type": "code",
   "execution_count": 102,
   "metadata": {},
   "outputs": [],
   "source": [
    "from scipy.stats import kruskal"
   ]
  },
  {
   "cell_type": "code",
   "execution_count": 103,
   "metadata": {},
   "outputs": [
    {
     "name": "stdout",
     "output_type": "stream",
     "text": [
      "Reject the Null HYPOTHESES\n"
     ]
    }
   ],
   "source": [
    "poor_Attendance = df[df['target'] == 'Poor']['average_attendance']\n",
    "average_attendance = df[df['target'] == 'Average']['average_attendance']\n",
    "Good_attendance = df[df['target'] == 'Good']['average_attendance']\n",
    "excellent_attendance = df[df['target'] == 'Excellent']['average_attendance']\n",
    "stats, p_value = kruskal(poor_Attendance, average_attendance, Good_attendance,excellent_attendance )\n",
    "\n",
    "#checking statistical significance.\n",
    "    \n",
    "if p_value < 0.05:\n",
    "    print(\"Reject the Null HYPOTHESES\")\n",
    "else:\n",
    "    print(\"FAILED TO REJECT NULL HYPOTHESIS\")\n",
    "          "
   ]
  },
  {
   "cell_type": "markdown",
   "metadata": {},
   "source": [
    "# there is a statistical significant difference in atleast one of the performance groups and average attendance. "
   ]
  },
  {
   "cell_type": "code",
   "execution_count": 104,
   "metadata": {},
   "outputs": [],
   "source": [
    "#Let's visualise it to check if which group is different"
   ]
  },
  {
   "cell_type": "code",
   "execution_count": 105,
   "metadata": {},
   "outputs": [
    {
     "data": {
      "image/png": "[encoded data removed]",
      "text/plain": [
       "<Figure size 1000x600 with 1 Axes>"
      ]
     },
     "metadata": {},
     "output_type": "display_data"
    }
   ],
   "source": [
    "plt.figure(figsize = (10,6))   \n",
    "df.groupby('target')['average_attendance'].mean().sort_values(ascending = True).plot(kind = 'barh', width =0.2,color =\n",
    "                                                                                 ['darkblue'])\n",
    "plt.title(\"ATTENDANCE VS PERFORMANCE\")\n",
    "plt.xlabel(\"Average Attendance \", fontsize =15)\n",
    "plt.ylabel(\" \")\n",
    "plt.xticks(rotation = 45)\n",
    "plt.show()\n"
   ]
  },
  {
   "cell_type": "markdown",
   "metadata": {},
   "source": [
    "#This shows that average attendance of poor performing students tend to be lesser than those performing exceptionally well academically."
   ]
  },
  {
   "cell_type": "markdown",
   "metadata": {},
   "source": [
    "#This could a great alarming factor considered by the administration to let students know to attend most of the classes."
   ]
  },
  {
   "cell_type": "code",
   "execution_count": 106,
   "metadata": {},
   "outputs": [
    {
     "name": "stdout",
     "output_type": "stream",
     "text": [
      "<class 'pandas.core.frame.DataFrame'>\n",
      "Index: 995 entries, 0 to 1008\n",
      "Data columns (total 31 columns):\n",
      " #   Column                    Non-Null Count  Dtype  \n",
      "---  ------                    --------------  -----  \n",
      " 0   age                       995 non-null    int64  \n",
      " 1   gender                    995 non-null    object \n",
      " 2   admission_year            995 non-null    int64  \n",
      " 3   hsc_year                  995 non-null    int64  \n",
      " 4   scholarship               995 non-null    int64  \n",
      " 5   university_transport      995 non-null    int64  \n",
      " 6   learning_mode             995 non-null    object \n",
      " 7   has_phone                 995 non-null    int64  \n",
      " 8   has_laptop                995 non-null    int64  \n",
      " 9   english_proficiency       995 non-null    object \n",
      " 10  on_probation              995 non-null    int64  \n",
      " 11  is_suspended              995 non-null    int64  \n",
      " 12  has_consulted_teacher     995 non-null    int64  \n",
      " 13  relationship              995 non-null    object \n",
      " 14  co_curricular             995 non-null    int64  \n",
      " 15  living_arrangement        995 non-null    object \n",
      " 16  health_issues             995 non-null    int64  \n",
      " 17  disabilities              995 non-null    int64  \n",
      " 18  target                    995 non-null    object \n",
      " 19  study_hours               995 non-null    float64\n",
      " 20  study_sessions            995 non-null    float64\n",
      " 21  social_media_hours        995 non-null    float64\n",
      " 22  average_attendance        995 non-null    float64\n",
      " 23  skills                    995 non-null    object \n",
      " 24  skills_development_hours  995 non-null    float64\n",
      " 25  area_of_interest          995 non-null    object \n",
      " 26  previous_gpa              995 non-null    float64\n",
      " 27  current_gpa               995 non-null    float64\n",
      " 28  completed_credits         995 non-null    float64\n",
      " 29  has_diploma               995 non-null    int64  \n",
      " 30  house_income              995 non-null    float64\n",
      "dtypes: float64(9), int64(14), object(8)\n",
      "memory usage: 248.8+ KB\n"
     ]
    }
   ],
   "source": [
    "df.info()"
   ]
  },
  {
   "cell_type": "markdown",
   "metadata": {},
   "source": [
    "# Hypothesis\tInterpretation\n",
    "# Null Hypothesis (H₀)\tNo difference in social media hours among Poor, Average, Good, Excellent students.\n",
    "# Alternative Hypothesis (H₁)\tThere is a difference in social media hours among at least some groups."
   ]
  },
  {
   "cell_type": "code",
   "execution_count": 107,
   "metadata": {},
   "outputs": [
    {
     "name": "stderr",
     "output_type": "stream",
     "text": [
      "/Users/ratikpant/anaconda3/lib/python3.11/site-packages/seaborn/_oldcore.py:1119: FutureWarning: use_inf_as_na option is deprecated and will be removed in a future version. Convert inf values to NaN before operating instead.\n",
      "  with pd.option_context('mode.use_inf_as_na', True):\n"
     ]
    },
    {
     "data": {
      "image/png": "[encoded data removed]",
      "text/plain": [
       "<Figure size 640x480 with 1 Axes>"
      ]
     },
     "metadata": {},
     "output_type": "display_data"
    }
   ],
   "source": [
    "sns.histplot(x = 'social_media_hours', data = df, bins = 10, kde = True,color = 'blue')\n",
    "plt.title(\"distribution of social media hours\")\n",
    "plt.xlabel(\"Hours\")\n",
    "plt.ylabel(\"count of students\")\n",
    "plt.show()"
   ]
  },
  {
   "cell_type": "code",
   "execution_count": 108,
   "metadata": {},
   "outputs": [
    {
     "data": {
      "image/png": "[encoded data removed]",
      "text/plain": [
       "<Figure size 640x480 with 1 Axes>"
      ]
     },
     "metadata": {},
     "output_type": "display_data"
    }
   ],
   "source": [
    "sns.boxplot(y = 'social_media_hours', data = df)\n",
    "plt.title('Outliers in Social_media_hours', fontsize = 15)\n",
    "plt.ylabel(\"Hours\", fontsize = 14)\n",
    "plt.show()\n"
   ]
  },
  {
   "cell_type": "code",
   "execution_count": 109,
   "metadata": {},
   "outputs": [],
   "source": [
    "#let's see if the outliers have anything common between them"
   ]
  },
  {
   "cell_type": "code",
   "execution_count": 110,
   "metadata": {},
   "outputs": [],
   "source": [
    " social_anomaly = df[df['social_media_hours'] > 7.5]"
   ]
  },
  {
   "cell_type": "code",
   "execution_count": 111,
   "metadata": {},
   "outputs": [
    {
     "data": {
      "text/plain": [
       "target\n",
       "Poor    67\n",
       "Name: count, dtype: int64"
      ]
     },
     "execution_count": 111,
     "metadata": {},
     "output_type": "execute_result"
    }
   ],
   "source": [
    "social_anomaly['target'].value_counts()"
   ]
  },
  {
   "cell_type": "code",
   "execution_count": 112,
   "metadata": {},
   "outputs": [],
   "source": [
    "#Let's replace the outliers with the lower band"
   ]
  },
  {
   "cell_type": "code",
   "execution_count": 113,
   "metadata": {},
   "outputs": [],
   "source": [
    "quartile1 = df['social_media_hours'].quantile(0.25)\n",
    "quartile3 = df['social_media_hours'].quantile(0.75)\n",
    "interqr = quartile3 - quartile1"
   ]
  },
  {
   "cell_type": "code",
   "execution_count": 114,
   "metadata": {},
   "outputs": [],
   "source": [
    "up_bound = quartile3 + 1.5 * interqr\n",
    "low_bound = quartile1 - 1.5 * interqr"
   ]
  },
  {
   "cell_type": "code",
   "execution_count": 115,
   "metadata": {},
   "outputs": [],
   "source": [
    "df.loc[(df['social_media_hours'] > 7.5), 'social_media_hours'] = up_bound"
   ]
  },
  {
   "cell_type": "code",
   "execution_count": 116,
   "metadata": {},
   "outputs": [],
   "source": [
    "#let;s look at the distribution again"
   ]
  },
  {
   "cell_type": "code",
   "execution_count": 117,
   "metadata": {},
   "outputs": [
    {
     "name": "stderr",
     "output_type": "stream",
     "text": [
      "/Users/ratikpant/anaconda3/lib/python3.11/site-packages/seaborn/_oldcore.py:1119: FutureWarning: use_inf_as_na option is deprecated and will be removed in a future version. Convert inf values to NaN before operating instead.\n",
      "  with pd.option_context('mode.use_inf_as_na', True):\n"
     ]
    },
    {
     "data": {
      "image/png": "[encoded data removed]",
      "text/plain": [
       "<Figure size 640x480 with 1 Axes>"
      ]
     },
     "metadata": {},
     "output_type": "display_data"
    }
   ],
   "source": [
    "sns.histplot(x = 'social_media_hours', data = df, bins = 8, kde = True,color = 'blue')\n",
    "plt.title(\"distribution of social media hours\")\n",
    "plt.xlabel(\"Hours\")\n",
    "plt.ylabel(\"count of students\")\n",
    "plt.show()"
   ]
  },
  {
   "cell_type": "code",
   "execution_count": 118,
   "metadata": {},
   "outputs": [],
   "source": [
    "poor_social_hours = df[df['target'] == 'Poor']['social_media_hours']\n",
    "good_social_hours = df[df['target'] == 'Good']['social_media_hours']\n",
    "average_social_hours = df[df['target'] == 'Average']['social_media_hours']\n",
    "excellent_social_hours = df[df['target'] == 'Excellent']['social_media_hours']"
   ]
  },
  {
   "cell_type": "code",
   "execution_count": 119,
   "metadata": {},
   "outputs": [
    {
     "name": "stdout",
     "output_type": "stream",
     "text": [
      "Reject the Null Hypothesis : 3.739953050342566e-41\n"
     ]
    }
   ],
   "source": [
    "STATSS, P_VALUEE = kruskal(poor_social_hours,good_social_hours,average_social_hours,excellent_social_hours)\n",
    "if P_VALUEE < 0.05:\n",
    "    print( \"Reject the Null Hypothesis :\", P_VALUEE)\n",
    "else:\n",
    "    print(\"Failed to reject null hypothesis :\", P_VALUEE)\n",
    "    \n",
    "    "
   ]
  },
  {
   "cell_type": "markdown",
   "metadata": {},
   "source": [
    "# There is a significant difference between at least of the groups and their social media usage"
   ]
  },
  {
   "cell_type": "code",
   "execution_count": 120,
   "metadata": {},
   "outputs": [],
   "source": [
    "#Let's check out through visualisation which performance group spends more time on social media."
   ]
  },
  {
   "cell_type": "code",
   "execution_count": 121,
   "metadata": {},
   "outputs": [
    {
     "data": {
      "image/png": "[encoded data removed]",
      "text/plain": [
       "<Figure size 640x480 with 1 Axes>"
      ]
     },
     "metadata": {},
     "output_type": "display_data"
    }
   ],
   "source": [
    "df.groupby('target')['social_media_hours'].mean().sort_values(ascending = True).plot(kind = 'bar', title = 'Social media Usage',\n",
    "                                                       color=['lightblue','lightblue','lightblue','brown'])\n",
    "plt.xticks(rotation = 45)\n",
    "plt.xlabel(\" \")\n",
    "plt.ylabel(\"Hours \", fontsize = 13)\n",
    "plt.show()\n"
   ]
  },
  {
   "cell_type": "markdown",
   "metadata": {},
   "source": [
    "# Hyptothesis stated in the begining that people spending more time on social media are tend to performm less has been proven right through the tests and then the visualisation."
   ]
  },
  {
   "cell_type": "code",
   "execution_count": 122,
   "metadata": {},
   "outputs": [],
   "source": [
    "#Visualising as per subject stream of students that are performing under par"
   ]
  },
  {
   "cell_type": "code",
   "execution_count": 123,
   "metadata": {},
   "outputs": [
    {
     "data": {
      "image/png": "[encoded data removed]",
      "text/plain": [
       "<Figure size 640x480 with 1 Axes>"
      ]
     },
     "metadata": {},
     "output_type": "display_data"
    }
   ],
   "source": [
    "df[df['target'] == 'Poor']['area_of_interest'].value_counts().nlargest(5).plot(kind = 'pie', autopct = '%1.1f%%')\n",
    "plt.ylabel(\" \")\n",
    "plt.legend(loc = 'upper right', bbox_to_anchor = (1.5,1))\n",
    "plt.title(\" TOP UNDER PERFORMING STUDENTS  \")\n",
    "plt.show()\n"
   ]
  },
  {
   "cell_type": "markdown",
   "metadata": {},
   "source": [
    "# This can help us reach out , or conduct remedial classes for such students to help them improve"
   ]
  },
  {
   "cell_type": "code",
   "execution_count": 124,
   "metadata": {},
   "outputs": [],
   "source": [
    "#SCHOLARSHIP VS NO SCHLARSHIP"
   ]
  },
  {
   "cell_type": "code",
   "execution_count": 125,
   "metadata": {},
   "outputs": [
    {
     "data": {
      "image/png": "[encoded data removed]",
      "text/plain": [
       "<Figure size 640x480 with 1 Axes>"
      ]
     },
     "metadata": {},
     "output_type": "display_data"
    }
   ],
   "source": [
    "df['scholarship'].value_counts().plot(kind = 'bar', title = 'SCHOLARSHIP VS NO SCHLARSHIP', color = ['orange', 'blue'])\n",
    "plt.xlabel(\"SCHOLARSHIP\")\n",
    "plt.show()\n"
   ]
  },
  {
   "cell_type": "code",
   "execution_count": 126,
   "metadata": {},
   "outputs": [],
   "source": [
    "#identify performance groups based on their sholarship status"
   ]
  },
  {
   "cell_type": "code",
   "execution_count": 127,
   "metadata": {},
   "outputs": [
    {
     "data": {
      "image/png": "[encoded data removed]",
      "text/plain": [
       "<Figure size 640x480 with 1 Axes>"
      ]
     },
     "metadata": {},
     "output_type": "display_data"
    }
   ],
   "source": [
    "sns.countplot(data=df, x='target', hue='scholarship')\n",
    "\n",
    "plt.title('Student Performance by Scholarship Status')\n",
    "plt.xlabel('Performance Groups')\n",
    "plt.ylabel('')\n",
    "plt.legend(title='Scholarship')\n",
    "plt.show()"
   ]
  },
  {
   "cell_type": "code",
   "execution_count": 128,
   "metadata": {},
   "outputs": [],
   "source": [
    "#poor performance group has the most non scholarship members."
   ]
  },
  {
   "cell_type": "code",
   "execution_count": 129,
   "metadata": {},
   "outputs": [],
   "source": [
    "#checking how many times student study"
   ]
  },
  {
   "cell_type": "code",
   "execution_count": 170,
   "metadata": {},
   "outputs": [
    {
     "data": {
      "image/png": "[encoded data removed]",
      "text/plain": [
       "<Figure size 640x480 with 1 Axes>"
      ]
     },
     "metadata": {},
     "output_type": "display_data"
    }
   ],
   "source": [
    "sns.boxplot(y = 'study_sessions', data = df)\n",
    "plt.title(\"outliers in study sessions\")\n",
    "plt.ylabel(\" \")\n",
    "plt.show()"
   ]
  },
  {
   "cell_type": "code",
   "execution_count": 131,
   "metadata": {},
   "outputs": [
    {
     "data": {
      "text/html": [
       "<div>\n",
       "<style scoped>\n",
       "    .dataframe tbody tr th:only-of-type {\n",
       "        vertical-align: middle;\n",
       "    }\n",
       "\n",
       "    .dataframe tbody tr th {\n",
       "        vertical-align: top;\n",
       "    }\n",
       "\n",
       "    .dataframe thead th {\n",
       "        text-align: right;\n",
       "    }\n",
       "</style>\n",
       "<table border=\"1\" class=\"dataframe\">\n",
       "  <thead>\n",
       "    <tr style=\"text-align: right;\">\n",
       "      <th></th>\n",
       "      <th>age</th>\n",
       "      <th>gender</th>\n",
       "      <th>admission_year</th>\n",
       "      <th>hsc_year</th>\n",
       "      <th>scholarship</th>\n",
       "      <th>university_transport</th>\n",
       "      <th>learning_mode</th>\n",
       "      <th>has_phone</th>\n",
       "      <th>has_laptop</th>\n",
       "      <th>english_proficiency</th>\n",
       "      <th>...</th>\n",
       "      <th>social_media_hours</th>\n",
       "      <th>average_attendance</th>\n",
       "      <th>skills</th>\n",
       "      <th>skills_development_hours</th>\n",
       "      <th>area_of_interest</th>\n",
       "      <th>previous_gpa</th>\n",
       "      <th>current_gpa</th>\n",
       "      <th>completed_credits</th>\n",
       "      <th>has_diploma</th>\n",
       "      <th>house_income</th>\n",
       "    </tr>\n",
       "  </thead>\n",
       "  <tbody>\n",
       "    <tr>\n",
       "      <th>35</th>\n",
       "      <td>23</td>\n",
       "      <td>Male</td>\n",
       "      <td>2019</td>\n",
       "      <td>2018</td>\n",
       "      <td>0</td>\n",
       "      <td>1</td>\n",
       "      <td>Offline</td>\n",
       "      <td>1</td>\n",
       "      <td>1</td>\n",
       "      <td>Intermediate</td>\n",
       "      <td>...</td>\n",
       "      <td>3.0</td>\n",
       "      <td>90.0</td>\n",
       "      <td>Networking</td>\n",
       "      <td>2.0</td>\n",
       "      <td>Networking</td>\n",
       "      <td>3.29</td>\n",
       "      <td>3.230000</td>\n",
       "      <td>114.0</td>\n",
       "      <td>0</td>\n",
       "      <td>28000.0</td>\n",
       "    </tr>\n",
       "    <tr>\n",
       "      <th>53</th>\n",
       "      <td>21</td>\n",
       "      <td>Female</td>\n",
       "      <td>2018</td>\n",
       "      <td>2017</td>\n",
       "      <td>0</td>\n",
       "      <td>0</td>\n",
       "      <td>Online</td>\n",
       "      <td>1</td>\n",
       "      <td>1</td>\n",
       "      <td>Advance</td>\n",
       "      <td>...</td>\n",
       "      <td>5.0</td>\n",
       "      <td>95.0</td>\n",
       "      <td>Programming</td>\n",
       "      <td>1.0</td>\n",
       "      <td>Software</td>\n",
       "      <td>3.50</td>\n",
       "      <td>3.200000</td>\n",
       "      <td>122.0</td>\n",
       "      <td>0</td>\n",
       "      <td>15000.0</td>\n",
       "    </tr>\n",
       "    <tr>\n",
       "      <th>64</th>\n",
       "      <td>22</td>\n",
       "      <td>Male</td>\n",
       "      <td>2020</td>\n",
       "      <td>2018</td>\n",
       "      <td>0</td>\n",
       "      <td>0</td>\n",
       "      <td>Online</td>\n",
       "      <td>1</td>\n",
       "      <td>0</td>\n",
       "      <td>Intermediate</td>\n",
       "      <td>...</td>\n",
       "      <td>4.0</td>\n",
       "      <td>90.0</td>\n",
       "      <td>Software Development skill,</td>\n",
       "      <td>5.0</td>\n",
       "      <td>Data Science</td>\n",
       "      <td>3.48</td>\n",
       "      <td>3.350000</td>\n",
       "      <td>75.0</td>\n",
       "      <td>0</td>\n",
       "      <td>40000.0</td>\n",
       "    </tr>\n",
       "    <tr>\n",
       "      <th>79</th>\n",
       "      <td>20</td>\n",
       "      <td>Male</td>\n",
       "      <td>2022</td>\n",
       "      <td>2020</td>\n",
       "      <td>1</td>\n",
       "      <td>1</td>\n",
       "      <td>Offline</td>\n",
       "      <td>1</td>\n",
       "      <td>1</td>\n",
       "      <td>Basic</td>\n",
       "      <td>...</td>\n",
       "      <td>6.0</td>\n",
       "      <td>100.0</td>\n",
       "      <td>Web development skill(Backend),</td>\n",
       "      <td>4.0</td>\n",
       "      <td>Data Science</td>\n",
       "      <td>4.00</td>\n",
       "      <td>4.000000</td>\n",
       "      <td>14.0</td>\n",
       "      <td>0</td>\n",
       "      <td>20000.0</td>\n",
       "    </tr>\n",
       "    <tr>\n",
       "      <th>101</th>\n",
       "      <td>24</td>\n",
       "      <td>Male</td>\n",
       "      <td>2018</td>\n",
       "      <td>2017</td>\n",
       "      <td>0</td>\n",
       "      <td>0</td>\n",
       "      <td>Offline</td>\n",
       "      <td>1</td>\n",
       "      <td>1</td>\n",
       "      <td>Intermediate</td>\n",
       "      <td>...</td>\n",
       "      <td>1.0</td>\n",
       "      <td>90.0</td>\n",
       "      <td>Networking</td>\n",
       "      <td>3.0</td>\n",
       "      <td>Networking</td>\n",
       "      <td>3.68</td>\n",
       "      <td>3.330000</td>\n",
       "      <td>118.0</td>\n",
       "      <td>0</td>\n",
       "      <td>20000.0</td>\n",
       "    </tr>\n",
       "    <tr>\n",
       "      <th>113</th>\n",
       "      <td>19</td>\n",
       "      <td>Male</td>\n",
       "      <td>2021</td>\n",
       "      <td>2020</td>\n",
       "      <td>1</td>\n",
       "      <td>1</td>\n",
       "      <td>Offline</td>\n",
       "      <td>1</td>\n",
       "      <td>1</td>\n",
       "      <td>Intermediate</td>\n",
       "      <td>...</td>\n",
       "      <td>5.0</td>\n",
       "      <td>100.0</td>\n",
       "      <td>Programming, Web development</td>\n",
       "      <td>2.0</td>\n",
       "      <td>Data Science</td>\n",
       "      <td>3.72</td>\n",
       "      <td>3.890000</td>\n",
       "      <td>26.0</td>\n",
       "      <td>0</td>\n",
       "      <td>60000.0</td>\n",
       "    </tr>\n",
       "    <tr>\n",
       "      <th>150</th>\n",
       "      <td>21</td>\n",
       "      <td>Male</td>\n",
       "      <td>2022</td>\n",
       "      <td>2020</td>\n",
       "      <td>1</td>\n",
       "      <td>1</td>\n",
       "      <td>Offline</td>\n",
       "      <td>1</td>\n",
       "      <td>1</td>\n",
       "      <td>Intermediate</td>\n",
       "      <td>...</td>\n",
       "      <td>6.0</td>\n",
       "      <td>70.0</td>\n",
       "      <td>Programming</td>\n",
       "      <td>4.0</td>\n",
       "      <td>Software</td>\n",
       "      <td>4.00</td>\n",
       "      <td>4.000000</td>\n",
       "      <td>12.0</td>\n",
       "      <td>0</td>\n",
       "      <td>30000.0</td>\n",
       "    </tr>\n",
       "    <tr>\n",
       "      <th>221</th>\n",
       "      <td>19</td>\n",
       "      <td>Female</td>\n",
       "      <td>2021</td>\n",
       "      <td>2020</td>\n",
       "      <td>0</td>\n",
       "      <td>1</td>\n",
       "      <td>Offline</td>\n",
       "      <td>1</td>\n",
       "      <td>1</td>\n",
       "      <td>Intermediate</td>\n",
       "      <td>...</td>\n",
       "      <td>3.0</td>\n",
       "      <td>100.0</td>\n",
       "      <td>Programming</td>\n",
       "      <td>3.0</td>\n",
       "      <td>Artificial Intelligence</td>\n",
       "      <td>3.78</td>\n",
       "      <td>3.040612</td>\n",
       "      <td>11.0</td>\n",
       "      <td>0</td>\n",
       "      <td>40000.0</td>\n",
       "    </tr>\n",
       "    <tr>\n",
       "      <th>248</th>\n",
       "      <td>20</td>\n",
       "      <td>Female</td>\n",
       "      <td>2022</td>\n",
       "      <td>2020</td>\n",
       "      <td>0</td>\n",
       "      <td>0</td>\n",
       "      <td>Online</td>\n",
       "      <td>1</td>\n",
       "      <td>1</td>\n",
       "      <td>Basic</td>\n",
       "      <td>...</td>\n",
       "      <td>1.0</td>\n",
       "      <td>98.0</td>\n",
       "      <td>Web development skill(Backend)</td>\n",
       "      <td>5.0</td>\n",
       "      <td>Software</td>\n",
       "      <td>3.53</td>\n",
       "      <td>3.530000</td>\n",
       "      <td>11.0</td>\n",
       "      <td>0</td>\n",
       "      <td>40000.0</td>\n",
       "    </tr>\n",
       "    <tr>\n",
       "      <th>254</th>\n",
       "      <td>19</td>\n",
       "      <td>Male</td>\n",
       "      <td>2022</td>\n",
       "      <td>2020</td>\n",
       "      <td>0</td>\n",
       "      <td>0</td>\n",
       "      <td>Offline</td>\n",
       "      <td>1</td>\n",
       "      <td>1</td>\n",
       "      <td>Basic</td>\n",
       "      <td>...</td>\n",
       "      <td>2.0</td>\n",
       "      <td>90.0</td>\n",
       "      <td>Programming</td>\n",
       "      <td>1.0</td>\n",
       "      <td>Artificial Intelligence</td>\n",
       "      <td>3.43</td>\n",
       "      <td>3.430000</td>\n",
       "      <td>14.0</td>\n",
       "      <td>0</td>\n",
       "      <td>24000.0</td>\n",
       "    </tr>\n",
       "    <tr>\n",
       "      <th>299</th>\n",
       "      <td>26</td>\n",
       "      <td>Male</td>\n",
       "      <td>2018</td>\n",
       "      <td>2018</td>\n",
       "      <td>0</td>\n",
       "      <td>1</td>\n",
       "      <td>Online</td>\n",
       "      <td>1</td>\n",
       "      <td>1</td>\n",
       "      <td>Intermediate</td>\n",
       "      <td>...</td>\n",
       "      <td>2.0</td>\n",
       "      <td>90.0</td>\n",
       "      <td>Web development skill(Frontend),</td>\n",
       "      <td>5.0</td>\n",
       "      <td>Networking</td>\n",
       "      <td>2.44</td>\n",
       "      <td>2.440000</td>\n",
       "      <td>90.0</td>\n",
       "      <td>0</td>\n",
       "      <td>20000.0</td>\n",
       "    </tr>\n",
       "    <tr>\n",
       "      <th>362</th>\n",
       "      <td>22</td>\n",
       "      <td>Female</td>\n",
       "      <td>2019</td>\n",
       "      <td>2018</td>\n",
       "      <td>0</td>\n",
       "      <td>1</td>\n",
       "      <td>Online</td>\n",
       "      <td>1</td>\n",
       "      <td>1</td>\n",
       "      <td>Intermediate</td>\n",
       "      <td>...</td>\n",
       "      <td>1.0</td>\n",
       "      <td>90.0</td>\n",
       "      <td>Programming, Software Development</td>\n",
       "      <td>2.0</td>\n",
       "      <td>Software</td>\n",
       "      <td>3.49</td>\n",
       "      <td>3.390000</td>\n",
       "      <td>126.0</td>\n",
       "      <td>0</td>\n",
       "      <td>20000.0</td>\n",
       "    </tr>\n",
       "    <tr>\n",
       "      <th>376</th>\n",
       "      <td>20</td>\n",
       "      <td>Female</td>\n",
       "      <td>2021</td>\n",
       "      <td>2020</td>\n",
       "      <td>1</td>\n",
       "      <td>0</td>\n",
       "      <td>Online</td>\n",
       "      <td>1</td>\n",
       "      <td>0</td>\n",
       "      <td>Advance</td>\n",
       "      <td>...</td>\n",
       "      <td>2.0</td>\n",
       "      <td>98.0</td>\n",
       "      <td>Programming</td>\n",
       "      <td>5.0</td>\n",
       "      <td>Networking</td>\n",
       "      <td>1.87</td>\n",
       "      <td>3.500000</td>\n",
       "      <td>32.0</td>\n",
       "      <td>0</td>\n",
       "      <td>20000.0</td>\n",
       "    </tr>\n",
       "    <tr>\n",
       "      <th>404</th>\n",
       "      <td>21</td>\n",
       "      <td>Female</td>\n",
       "      <td>2020</td>\n",
       "      <td>2019</td>\n",
       "      <td>1</td>\n",
       "      <td>0</td>\n",
       "      <td>Offline</td>\n",
       "      <td>1</td>\n",
       "      <td>1</td>\n",
       "      <td>Intermediate</td>\n",
       "      <td>...</td>\n",
       "      <td>2.0</td>\n",
       "      <td>95.0</td>\n",
       "      <td>Programming</td>\n",
       "      <td>1.0</td>\n",
       "      <td>Data Science</td>\n",
       "      <td>3.31</td>\n",
       "      <td>2.900000</td>\n",
       "      <td>70.0</td>\n",
       "      <td>0</td>\n",
       "      <td>20000.0</td>\n",
       "    </tr>\n",
       "    <tr>\n",
       "      <th>430</th>\n",
       "      <td>23</td>\n",
       "      <td>Male</td>\n",
       "      <td>2019</td>\n",
       "      <td>2018</td>\n",
       "      <td>1</td>\n",
       "      <td>0</td>\n",
       "      <td>Offline</td>\n",
       "      <td>1</td>\n",
       "      <td>1</td>\n",
       "      <td>Intermediate</td>\n",
       "      <td>...</td>\n",
       "      <td>1.5</td>\n",
       "      <td>99.0</td>\n",
       "      <td>Programming, Web development</td>\n",
       "      <td>3.0</td>\n",
       "      <td>Software</td>\n",
       "      <td>3.60</td>\n",
       "      <td>3.900000</td>\n",
       "      <td>130.0</td>\n",
       "      <td>0</td>\n",
       "      <td>20000.0</td>\n",
       "    </tr>\n",
       "    <tr>\n",
       "      <th>524</th>\n",
       "      <td>23</td>\n",
       "      <td>Male</td>\n",
       "      <td>2020</td>\n",
       "      <td>2018</td>\n",
       "      <td>1</td>\n",
       "      <td>1</td>\n",
       "      <td>Offline</td>\n",
       "      <td>1</td>\n",
       "      <td>1</td>\n",
       "      <td>Intermediate</td>\n",
       "      <td>...</td>\n",
       "      <td>2.0</td>\n",
       "      <td>98.0</td>\n",
       "      <td>Programming</td>\n",
       "      <td>2.0</td>\n",
       "      <td>Networking</td>\n",
       "      <td>3.66</td>\n",
       "      <td>3.810000</td>\n",
       "      <td>87.0</td>\n",
       "      <td>0</td>\n",
       "      <td>38000.0</td>\n",
       "    </tr>\n",
       "    <tr>\n",
       "      <th>561</th>\n",
       "      <td>20</td>\n",
       "      <td>Female</td>\n",
       "      <td>2022</td>\n",
       "      <td>2021</td>\n",
       "      <td>0</td>\n",
       "      <td>0</td>\n",
       "      <td>Offline</td>\n",
       "      <td>1</td>\n",
       "      <td>0</td>\n",
       "      <td>Basic</td>\n",
       "      <td>...</td>\n",
       "      <td>2.0</td>\n",
       "      <td>100.0</td>\n",
       "      <td>Programming</td>\n",
       "      <td>4.0</td>\n",
       "      <td>Data Science</td>\n",
       "      <td>1.45</td>\n",
       "      <td>2.380000</td>\n",
       "      <td>50.0</td>\n",
       "      <td>0</td>\n",
       "      <td>30000.0</td>\n",
       "    </tr>\n",
       "    <tr>\n",
       "      <th>577</th>\n",
       "      <td>22</td>\n",
       "      <td>Male</td>\n",
       "      <td>2021</td>\n",
       "      <td>2020</td>\n",
       "      <td>1</td>\n",
       "      <td>0</td>\n",
       "      <td>Online</td>\n",
       "      <td>1</td>\n",
       "      <td>1</td>\n",
       "      <td>Advance</td>\n",
       "      <td>...</td>\n",
       "      <td>7.0</td>\n",
       "      <td>70.0</td>\n",
       "      <td>Web development skill(Frontend)</td>\n",
       "      <td>3.0</td>\n",
       "      <td>Hardware</td>\n",
       "      <td>2.19</td>\n",
       "      <td>3.190000</td>\n",
       "      <td>63.0</td>\n",
       "      <td>0</td>\n",
       "      <td>45000.0</td>\n",
       "    </tr>\n",
       "    <tr>\n",
       "      <th>715</th>\n",
       "      <td>21</td>\n",
       "      <td>Female</td>\n",
       "      <td>2023</td>\n",
       "      <td>2022</td>\n",
       "      <td>0</td>\n",
       "      <td>0</td>\n",
       "      <td>Offline</td>\n",
       "      <td>1</td>\n",
       "      <td>1</td>\n",
       "      <td>Intermediate</td>\n",
       "      <td>...</td>\n",
       "      <td>5.0</td>\n",
       "      <td>100.0</td>\n",
       "      <td>Programming</td>\n",
       "      <td>3.0</td>\n",
       "      <td>Software</td>\n",
       "      <td>2.85</td>\n",
       "      <td>3.650000</td>\n",
       "      <td>28.0</td>\n",
       "      <td>0</td>\n",
       "      <td>25000.0</td>\n",
       "    </tr>\n",
       "    <tr>\n",
       "      <th>867</th>\n",
       "      <td>20</td>\n",
       "      <td>Female</td>\n",
       "      <td>2020</td>\n",
       "      <td>2019</td>\n",
       "      <td>0</td>\n",
       "      <td>0</td>\n",
       "      <td>Offline</td>\n",
       "      <td>1</td>\n",
       "      <td>1</td>\n",
       "      <td>Basic</td>\n",
       "      <td>...</td>\n",
       "      <td>3.0</td>\n",
       "      <td>100.0</td>\n",
       "      <td>Programming</td>\n",
       "      <td>4.0</td>\n",
       "      <td>Software</td>\n",
       "      <td>2.64</td>\n",
       "      <td>3.340000</td>\n",
       "      <td>70.0</td>\n",
       "      <td>0</td>\n",
       "      <td>200000.0</td>\n",
       "    </tr>\n",
       "    <tr>\n",
       "      <th>874</th>\n",
       "      <td>23</td>\n",
       "      <td>Male</td>\n",
       "      <td>2020</td>\n",
       "      <td>2019</td>\n",
       "      <td>1</td>\n",
       "      <td>1</td>\n",
       "      <td>Online</td>\n",
       "      <td>1</td>\n",
       "      <td>1</td>\n",
       "      <td>Intermediate</td>\n",
       "      <td>...</td>\n",
       "      <td>3.0</td>\n",
       "      <td>96.0</td>\n",
       "      <td>Networking</td>\n",
       "      <td>3.0</td>\n",
       "      <td>Data Science</td>\n",
       "      <td>2.67</td>\n",
       "      <td>3.400000</td>\n",
       "      <td>140.0</td>\n",
       "      <td>0</td>\n",
       "      <td>30000.0</td>\n",
       "    </tr>\n",
       "    <tr>\n",
       "      <th>878</th>\n",
       "      <td>23</td>\n",
       "      <td>Male</td>\n",
       "      <td>2021</td>\n",
       "      <td>2020</td>\n",
       "      <td>0</td>\n",
       "      <td>1</td>\n",
       "      <td>Offline</td>\n",
       "      <td>1</td>\n",
       "      <td>1</td>\n",
       "      <td>Basic</td>\n",
       "      <td>...</td>\n",
       "      <td>4.0</td>\n",
       "      <td>90.0</td>\n",
       "      <td>Web development skill(Backend)</td>\n",
       "      <td>5.0</td>\n",
       "      <td>Software</td>\n",
       "      <td>2.45</td>\n",
       "      <td>2.390000</td>\n",
       "      <td>40.0</td>\n",
       "      <td>0</td>\n",
       "      <td>35000.0</td>\n",
       "    </tr>\n",
       "    <tr>\n",
       "      <th>929</th>\n",
       "      <td>21</td>\n",
       "      <td>Female</td>\n",
       "      <td>2021</td>\n",
       "      <td>2020</td>\n",
       "      <td>1</td>\n",
       "      <td>1</td>\n",
       "      <td>Offline</td>\n",
       "      <td>1</td>\n",
       "      <td>1</td>\n",
       "      <td>Intermediate</td>\n",
       "      <td>...</td>\n",
       "      <td>6.0</td>\n",
       "      <td>100.0</td>\n",
       "      <td>Networking</td>\n",
       "      <td>6.0</td>\n",
       "      <td>Software</td>\n",
       "      <td>2.61</td>\n",
       "      <td>3.780000</td>\n",
       "      <td>35.0</td>\n",
       "      <td>0</td>\n",
       "      <td>70000.0</td>\n",
       "    </tr>\n",
       "  </tbody>\n",
       "</table>\n",
       "<p>23 rows × 31 columns</p>\n",
       "</div>"
      ],
      "text/plain": [
       "     age  gender  admission_year  hsc_year  scholarship  university_transport  \\\n",
       "35    23    Male            2019      2018            0                     1   \n",
       "53    21  Female            2018      2017            0                     0   \n",
       "64    22    Male            2020      2018            0                     0   \n",
       "79    20    Male            2022      2020            1                     1   \n",
       "101   24    Male            2018      2017            0                     0   \n",
       "113   19    Male            2021      2020            1                     1   \n",
       "150   21    Male            2022      2020            1                     1   \n",
       "221   19  Female            2021      2020            0                     1   \n",
       "248   20  Female            2022      2020            0                     0   \n",
       "254   19    Male            2022      2020            0                     0   \n",
       "299   26    Male            2018      2018            0                     1   \n",
       "362   22  Female            2019      2018            0                     1   \n",
       "376   20  Female            2021      2020            1                     0   \n",
       "404   21  Female            2020      2019            1                     0   \n",
       "430   23    Male            2019      2018            1                     0   \n",
       "524   23    Male            2020      2018            1                     1   \n",
       "561   20  Female            2022      2021            0                     0   \n",
       "577   22    Male            2021      2020            1                     0   \n",
       "715   21  Female            2023      2022            0                     0   \n",
       "867   20  Female            2020      2019            0                     0   \n",
       "874   23    Male            2020      2019            1                     1   \n",
       "878   23    Male            2021      2020            0                     1   \n",
       "929   21  Female            2021      2020            1                     1   \n",
       "\n",
       "    learning_mode  has_phone  has_laptop english_proficiency  ...  \\\n",
       "35        Offline          1           1        Intermediate  ...   \n",
       "53         Online          1           1             Advance  ...   \n",
       "64         Online          1           0        Intermediate  ...   \n",
       "79        Offline          1           1               Basic  ...   \n",
       "101       Offline          1           1        Intermediate  ...   \n",
       "113       Offline          1           1        Intermediate  ...   \n",
       "150       Offline          1           1        Intermediate  ...   \n",
       "221       Offline          1           1        Intermediate  ...   \n",
       "248        Online          1           1               Basic  ...   \n",
       "254       Offline          1           1               Basic  ...   \n",
       "299        Online          1           1        Intermediate  ...   \n",
       "362        Online          1           1        Intermediate  ...   \n",
       "376        Online          1           0             Advance  ...   \n",
       "404       Offline          1           1        Intermediate  ...   \n",
       "430       Offline          1           1        Intermediate  ...   \n",
       "524       Offline          1           1        Intermediate  ...   \n",
       "561       Offline          1           0               Basic  ...   \n",
       "577        Online          1           1             Advance  ...   \n",
       "715       Offline          1           1        Intermediate  ...   \n",
       "867       Offline          1           1               Basic  ...   \n",
       "874        Online          1           1        Intermediate  ...   \n",
       "878       Offline          1           1               Basic  ...   \n",
       "929       Offline          1           1        Intermediate  ...   \n",
       "\n",
       "     social_media_hours  average_attendance  \\\n",
       "35                  3.0                90.0   \n",
       "53                  5.0                95.0   \n",
       "64                  4.0                90.0   \n",
       "79                  6.0               100.0   \n",
       "101                 1.0                90.0   \n",
       "113                 5.0               100.0   \n",
       "150                 6.0                70.0   \n",
       "221                 3.0               100.0   \n",
       "248                 1.0                98.0   \n",
       "254                 2.0                90.0   \n",
       "299                 2.0                90.0   \n",
       "362                 1.0                90.0   \n",
       "376                 2.0                98.0   \n",
       "404                 2.0                95.0   \n",
       "430                 1.5                99.0   \n",
       "524                 2.0                98.0   \n",
       "561                 2.0               100.0   \n",
       "577                 7.0                70.0   \n",
       "715                 5.0               100.0   \n",
       "867                 3.0               100.0   \n",
       "874                 3.0                96.0   \n",
       "878                 4.0                90.0   \n",
       "929                 6.0               100.0   \n",
       "\n",
       "                                skills skills_development_hours  \\\n",
       "35                          Networking                      2.0   \n",
       "53                         Programming                      1.0   \n",
       "64         Software Development skill,                      5.0   \n",
       "79     Web development skill(Backend),                      4.0   \n",
       "101                         Networking                      3.0   \n",
       "113       Programming, Web development                      2.0   \n",
       "150                        Programming                      4.0   \n",
       "221                        Programming                      3.0   \n",
       "248     Web development skill(Backend)                      5.0   \n",
       "254                        Programming                      1.0   \n",
       "299   Web development skill(Frontend),                      5.0   \n",
       "362  Programming, Software Development                      2.0   \n",
       "376                        Programming                      5.0   \n",
       "404                        Programming                      1.0   \n",
       "430       Programming, Web development                      3.0   \n",
       "524                        Programming                      2.0   \n",
       "561                        Programming                      4.0   \n",
       "577    Web development skill(Frontend)                      3.0   \n",
       "715                        Programming                      3.0   \n",
       "867                        Programming                      4.0   \n",
       "874                         Networking                      3.0   \n",
       "878     Web development skill(Backend)                      5.0   \n",
       "929                         Networking                      6.0   \n",
       "\n",
       "            area_of_interest previous_gpa  current_gpa  completed_credits  \\\n",
       "35                Networking         3.29     3.230000              114.0   \n",
       "53                  Software         3.50     3.200000              122.0   \n",
       "64              Data Science         3.48     3.350000               75.0   \n",
       "79              Data Science         4.00     4.000000               14.0   \n",
       "101               Networking         3.68     3.330000              118.0   \n",
       "113             Data Science         3.72     3.890000               26.0   \n",
       "150                 Software         4.00     4.000000               12.0   \n",
       "221  Artificial Intelligence         3.78     3.040612               11.0   \n",
       "248                 Software         3.53     3.530000               11.0   \n",
       "254  Artificial Intelligence         3.43     3.430000               14.0   \n",
       "299               Networking         2.44     2.440000               90.0   \n",
       "362                 Software         3.49     3.390000              126.0   \n",
       "376               Networking         1.87     3.500000               32.0   \n",
       "404             Data Science         3.31     2.900000               70.0   \n",
       "430                 Software         3.60     3.900000              130.0   \n",
       "524               Networking         3.66     3.810000               87.0   \n",
       "561             Data Science         1.45     2.380000               50.0   \n",
       "577                 Hardware         2.19     3.190000               63.0   \n",
       "715                 Software         2.85     3.650000               28.0   \n",
       "867                 Software         2.64     3.340000               70.0   \n",
       "874             Data Science         2.67     3.400000              140.0   \n",
       "878                 Software         2.45     2.390000               40.0   \n",
       "929                 Software         2.61     3.780000               35.0   \n",
       "\n",
       "    has_diploma  house_income  \n",
       "35            0       28000.0  \n",
       "53            0       15000.0  \n",
       "64            0       40000.0  \n",
       "79            0       20000.0  \n",
       "101           0       20000.0  \n",
       "113           0       60000.0  \n",
       "150           0       30000.0  \n",
       "221           0       40000.0  \n",
       "248           0       40000.0  \n",
       "254           0       24000.0  \n",
       "299           0       20000.0  \n",
       "362           0       20000.0  \n",
       "376           0       20000.0  \n",
       "404           0       20000.0  \n",
       "430           0       20000.0  \n",
       "524           0       38000.0  \n",
       "561           0       30000.0  \n",
       "577           0       45000.0  \n",
       "715           0       25000.0  \n",
       "867           0      200000.0  \n",
       "874           0       30000.0  \n",
       "878           0       35000.0  \n",
       "929           0       70000.0  \n",
       "\n",
       "[23 rows x 31 columns]"
      ]
     },
     "execution_count": 131,
     "metadata": {},
     "output_type": "execute_result"
    }
   ],
   "source": [
    "study_anomaly = df[df['study_sessions'] > 4]\n",
    "study_anomaly"
   ]
  },
  {
   "cell_type": "code",
   "execution_count": 132,
   "metadata": {},
   "outputs": [
    {
     "data": {
      "text/plain": [
       "target\n",
       "Poor         9\n",
       "Good         6\n",
       "Average      6\n",
       "Excellent    2\n",
       "Name: count, dtype: int64"
      ]
     },
     "execution_count": 132,
     "metadata": {},
     "output_type": "execute_result"
    }
   ],
   "source": [
    "study_anomaly['target'].value_counts()"
   ]
  },
  {
   "cell_type": "code",
   "execution_count": 133,
   "metadata": {},
   "outputs": [],
   "source": [
    "#we relace outliers with upper bound values"
   ]
  },
  {
   "cell_type": "code",
   "execution_count": 134,
   "metadata": {},
   "outputs": [],
   "source": [
    "quart1 = df['study_sessions'].quantile(0.25)\n",
    "quart3 = df['study_sessions'].quantile(0.75)\n",
    "interqr = quart3 - quart1"
   ]
  },
  {
   "cell_type": "code",
   "execution_count": 135,
   "metadata": {},
   "outputs": [],
   "source": [
    "uBound = quart3 + 1.5 * interqr"
   ]
  },
  {
   "cell_type": "code",
   "execution_count": 136,
   "metadata": {},
   "outputs": [],
   "source": [
    "df.loc[df['study_sessions'] > 4, 'study_sessions'] = uBound"
   ]
  },
  {
   "cell_type": "code",
   "execution_count": 137,
   "metadata": {},
   "outputs": [],
   "source": [
    "#handled outliers in study sessions."
   ]
  },
  {
   "cell_type": "code",
   "execution_count": 138,
   "metadata": {},
   "outputs": [],
   "source": [
    "#checking for outliers in study_hours"
   ]
  },
  {
   "cell_type": "code",
   "execution_count": 139,
   "metadata": {},
   "outputs": [
    {
     "data": {
      "image/png": "[encoded data removed]",
      "text/plain": [
       "<Figure size 640x480 with 1 Axes>"
      ]
     },
     "metadata": {},
     "output_type": "display_data"
    }
   ],
   "source": [
    "sns.boxplot(y = 'study_hours', data = df)\n",
    "plt.title('study_hours outliers')\n",
    "plt.ylabel(\" number of hours\")\n",
    "plt.show()"
   ]
  },
  {
   "cell_type": "code",
   "execution_count": 140,
   "metadata": {},
   "outputs": [],
   "source": [
    "Quarr1 = df['study_hours'].quantile(0.25)\n",
    "Quarr3 = df['study_hours'].quantile(0.75)\n",
    "Intqurt = Quarr3 - Quarr1"
   ]
  },
  {
   "cell_type": "code",
   "execution_count": 141,
   "metadata": {},
   "outputs": [],
   "source": [
    "uppperbound = Quarr3 + 1.5 * Intqurt"
   ]
  },
  {
   "cell_type": "code",
   "execution_count": 142,
   "metadata": {},
   "outputs": [],
   "source": [
    "df.loc[df['study_hours'] > uppperbound, 'study_hours'] = uppperbound"
   ]
  },
  {
   "cell_type": "code",
   "execution_count": null,
   "metadata": {},
   "outputs": [],
   "source": []
  },
  {
   "cell_type": "code",
   "execution_count": 143,
   "metadata": {},
   "outputs": [],
   "source": [
    "#outlier in skill_development hour"
   ]
  },
  {
   "cell_type": "code",
   "execution_count": 144,
   "metadata": {},
   "outputs": [
    {
     "data": {
      "text/plain": [
       "Text(0.5, 1.0, 'outliers in skill development hours')"
      ]
     },
     "execution_count": 144,
     "metadata": {},
     "output_type": "execute_result"
    },
    {
     "data": {
      "image/png": "[encoded data removed]",
      "text/plain": [
       "<Figure size 640x480 with 1 Axes>"
      ]
     },
     "metadata": {},
     "output_type": "display_data"
    }
   ],
   "source": [
    "sns.boxplot(y = 'skills_development_hours', data = df)\n",
    "plt.title(\"outliers in skill development hours\")"
   ]
  },
  {
   "cell_type": "code",
   "execution_count": 145,
   "metadata": {},
   "outputs": [],
   "source": [
    "QTILE1 = df['skills_development_hours'].quantile(0.25)\n",
    "QTILE3 = df['skills_development_hours'].quantile(0.75)\n",
    "iQTILE = QTILE3 - QTILE1"
   ]
  },
  {
   "cell_type": "code",
   "execution_count": 146,
   "metadata": {},
   "outputs": [],
   "source": [
    "uBoUnd = QTILE3 + 1.5 * iQTILE"
   ]
  },
  {
   "cell_type": "code",
   "execution_count": 147,
   "metadata": {},
   "outputs": [],
   "source": [
    "df.loc[df['skills_development_hours'] > uBoUnd, 'skills_development_hours'] = uBoUnd"
   ]
  },
  {
   "cell_type": "code",
   "execution_count": 148,
   "metadata": {},
   "outputs": [],
   "source": [
    "#handled outliers in skill development hours"
   ]
  },
  {
   "cell_type": "code",
   "execution_count": 149,
   "metadata": {},
   "outputs": [],
   "source": [
    "#fixing 0 values in study hours and study sessions because during feature engineering this can create error"
   ]
  },
  {
   "cell_type": "code",
   "execution_count": 150,
   "metadata": {},
   "outputs": [],
   "source": [
    "df = df[df['study_hours'] != 0]"
   ]
  },
  {
   "cell_type": "code",
   "execution_count": 151,
   "metadata": {},
   "outputs": [
    {
     "name": "stdout",
     "output_type": "stream",
     "text": [
      "<class 'pandas.core.frame.DataFrame'>\n",
      "Index: 989 entries, 0 to 1008\n",
      "Data columns (total 31 columns):\n",
      " #   Column                    Non-Null Count  Dtype  \n",
      "---  ------                    --------------  -----  \n",
      " 0   age                       989 non-null    int64  \n",
      " 1   gender                    989 non-null    object \n",
      " 2   admission_year            989 non-null    int64  \n",
      " 3   hsc_year                  989 non-null    int64  \n",
      " 4   scholarship               989 non-null    int64  \n",
      " 5   university_transport      989 non-null    int64  \n",
      " 6   learning_mode             989 non-null    object \n",
      " 7   has_phone                 989 non-null    int64  \n",
      " 8   has_laptop                989 non-null    int64  \n",
      " 9   english_proficiency       989 non-null    object \n",
      " 10  on_probation              989 non-null    int64  \n",
      " 11  is_suspended              989 non-null    int64  \n",
      " 12  has_consulted_teacher     989 non-null    int64  \n",
      " 13  relationship              989 non-null    object \n",
      " 14  co_curricular             989 non-null    int64  \n",
      " 15  living_arrangement        989 non-null    object \n",
      " 16  health_issues             989 non-null    int64  \n",
      " 17  disabilities              989 non-null    int64  \n",
      " 18  target                    989 non-null    object \n",
      " 19  study_hours               989 non-null    float64\n",
      " 20  study_sessions            989 non-null    float64\n",
      " 21  social_media_hours        989 non-null    float64\n",
      " 22  average_attendance        989 non-null    float64\n",
      " 23  skills                    989 non-null    object \n",
      " 24  skills_development_hours  989 non-null    float64\n",
      " 25  area_of_interest          989 non-null    object \n",
      " 26  previous_gpa              989 non-null    float64\n",
      " 27  current_gpa               989 non-null    float64\n",
      " 28  completed_credits         989 non-null    float64\n",
      " 29  has_diploma               989 non-null    int64  \n",
      " 30  house_income              989 non-null    float64\n",
      "dtypes: float64(9), int64(14), object(8)\n",
      "memory usage: 247.2+ KB\n"
     ]
    }
   ],
   "source": [
    "df.info()"
   ]
  },
  {
   "cell_type": "code",
   "execution_count": null,
   "metadata": {},
   "outputs": [],
   "source": [
    "#REPORT SPECIFIC VISUALISATION:"
   ]
  },
  {
   "cell_type": "code",
   "execution_count": null,
   "metadata": {},
   "outputs": [],
   "source": []
  },
  {
   "cell_type": "code",
   "execution_count": null,
   "metadata": {},
   "outputs": [],
   "source": []
  },
  {
   "cell_type": "code",
   "execution_count": null,
   "metadata": {},
   "outputs": [],
   "source": []
  },
  {
   "cell_type": "code",
   "execution_count": null,
   "metadata": {},
   "outputs": [],
   "source": []
  },
  {
   "cell_type": "code",
   "execution_count": null,
   "metadata": {},
   "outputs": [],
   "source": []
  },
  {
   "cell_type": "code",
   "execution_count": null,
   "metadata": {},
   "outputs": [],
   "source": []
  },
  {
   "cell_type": "code",
   "execution_count": null,
   "metadata": {},
   "outputs": [],
   "source": []
  },
  {
   "cell_type": "code",
   "execution_count": null,
   "metadata": {},
   "outputs": [],
   "source": []
  },
  {
   "cell_type": "code",
   "execution_count": null,
   "metadata": {},
   "outputs": [],
   "source": []
  },
  {
   "cell_type": "code",
   "execution_count": null,
   "metadata": {},
   "outputs": [],
   "source": []
  },
  {
   "cell_type": "code",
   "execution_count": null,
   "metadata": {},
   "outputs": [],
   "source": []
  },
  {
   "cell_type": "code",
   "execution_count": null,
   "metadata": {
    "executionInfo": {
     "elapsed": 8,
     "status": "ok",
     "timestamp": 1744063180794,
     "user": {
      "displayName": "Anthony So",
      "userId": "05258592867336372279"
     },
     "user_tz": -600
    },
    "id": "ig3ZHEmDwQek"
   },
   "outputs": [],
   "source": [
    "# <Student to fill this section>\n",
    "dataset_insights = \"\"\"\"Some data or insight about the dataset The dataset comprises 1,009 rows and 45 columns, each representing unique student records. A preliminary analysis revealed that most columns were of object data type, even when some should have been numeric or categorical. Notably, columns such as age, admission year, and HSC year were incorrectly stored as float due to trailing decimals and were appropriately converted to integer type to reflect their discrete nature. \n",
    "\n",
    "1 Fixed missing values in Area of Interest and Skills.\n",
    "\n",
    "2 Treated 0 values in Previous GPA and Current GPA.\n",
    "\n",
    "3 Handled outliers in Current GPA, Household Income, and Social Media Hours.\n",
    "\n",
    "4 Converted Yes/No variables (e.g., scholarship, has_phone) into 0/1.\n",
    "\n",
    "5 Dropped personal information columns to maintain data integrity.\n",
    "\n",
    "6 Performed statistical tests on Attendance, Social Media Usage, and Study Hours across performance groups.\n",
    "\n",
    "7 Found significant differences, especially between Excellent and Poor students.\"\"\"\"\""
   ]
  },
  {
   "cell_type": "code",
   "execution_count": null,
   "metadata": {},
   "outputs": [],
   "source": []
  },
  {
   "cell_type": "code",
   "execution_count": null,
   "metadata": {
    "colab": {
     "base_uri": "https://localhost:8080/",
     "height": 81
    },
    "executionInfo": {
     "elapsed": 7,
     "status": "ok",
     "timestamp": 1744063180795,
     "user": {
      "displayName": "Anthony So",
      "userId": "05258592867336372279"
     },
     "user_tz": -600
    },
    "id": "d64Q58qywQh1",
    "outputId": "4ebe25b8-0f0c-456b-aeb0-f544d852de2b"
   },
   "outputs": [],
   "source": [
    "# Do not modify this code\n",
    "print_tile(size=\"h3\", key='dataset_insights', value=dataset_insights)"
   ]
  },
  {
   "cell_type": "markdown",
   "metadata": {
    "id": "bpaUZpXh2Myp"
   },
   "source": [
    "### C.2 Explore Target Variable"
   ]
  },
  {
   "cell_type": "code",
   "execution_count": null,
   "metadata": {
    "executionInfo": {
     "elapsed": 6,
     "status": "ok",
     "timestamp": 1744063180795,
     "user": {
      "displayName": "Anthony So",
      "userId": "05258592867336372279"
     },
     "user_tz": -600
    },
    "id": "-D7GFBIV2Sbx"
   },
   "outputs": [],
   "source": [
    "# <Student to fill this section>\n",
    "df['performance_group'] = df['target']\n",
    "target_name = 'performance_group'"
   ]
  },
  {
   "cell_type": "code",
   "execution_count": null,
   "metadata": {
    "executionInfo": {
     "elapsed": 6,
     "status": "ok",
     "timestamp": 1744063180796,
     "user": {
      "displayName": "Anthony So",
      "userId": "05258592867336372279"
     },
     "user_tz": -600
    },
    "id": "AtzhJ6W1PsYh"
   },
   "outputs": [],
   "source": [
    "df.drop(columns= {'target'},inplace = True)"
   ]
  },
  {
   "cell_type": "code",
   "execution_count": null,
   "metadata": {},
   "outputs": [],
   "source": [
    "df['performance_group'].value_counts()"
   ]
  },
  {
   "cell_type": "code",
   "execution_count": null,
   "metadata": {
    "executionInfo": {
     "elapsed": 1,
     "status": "ok",
     "timestamp": 1744063180797,
     "user": {
      "displayName": "Anthony So",
      "userId": "05258592867336372279"
     },
     "user_tz": -600
    },
    "id": "St1SZ6SSwYZw"
   },
   "outputs": [],
   "source": [
    "# <Student to fill this section>\n",
    "target_insights = \"\"\"The target variable (target) represents student performance levels: Poor, Average, Good, and Excellent.\n",
    "The distribution of student performance is highly imbalanced — a majority of students fall into the Poor category (~50%),\n",
    "while Excellent performers are very few (~6%).\"\"\"\n"
   ]
  },
  {
   "cell_type": "code",
   "execution_count": null,
   "metadata": {
    "colab": {
     "base_uri": "https://localhost:8080/",
     "height": 81
    },
    "executionInfo": {
     "elapsed": 2,
     "status": "ok",
     "timestamp": 1744063180799,
     "user": {
      "displayName": "Anthony So",
      "userId": "05258592867336372279"
     },
     "user_tz": -600
    },
    "id": "VMKtDFxOwYc3",
    "outputId": "2b3a718b-3bd1-4ee1-a39d-e62f0641a46f"
   },
   "outputs": [],
   "source": [
    "# Do not modify this code\n",
    "print_tile(size=\"h3\", key='target_insights', value=target_insights)"
   ]
  },
  {
   "cell_type": "markdown",
   "metadata": {
    "id": "Ig93bpyM2RGY"
   },
   "source": [
    "### C.4 Explore Feature of Interest `\\<AVERAGE ATTENDANCE\\>`"
   ]
  },
  {
   "cell_type": "code",
   "execution_count": null,
   "metadata": {
    "executionInfo": {
     "elapsed": 47,
     "status": "ok",
     "timestamp": 1744063180848,
     "user": {
      "displayName": "Anthony So",
      "userId": "05258592867336372279"
     },
     "user_tz": -600
    },
    "id": "GLxrz5Zb2TVo"
   },
   "outputs": [],
   "source": [
    "# <Student to fill this section>"
   ]
  },
  {
   "cell_type": "code",
   "execution_count": null,
   "metadata": {
    "executionInfo": {
     "elapsed": 7,
     "status": "ok",
     "timestamp": 1744063180852,
     "user": {
      "displayName": "Anthony So",
      "userId": "05258592867336372279"
     },
     "user_tz": -600
    },
    "id": "AEyDDr-NPrSl"
   },
   "outputs": [],
   "source": []
  },
  {
   "cell_type": "code",
   "execution_count": null,
   "metadata": {
    "executionInfo": {
     "elapsed": 8,
     "status": "ok",
     "timestamp": 1744063180853,
     "user": {
      "displayName": "Anthony So",
      "userId": "05258592867336372279"
     },
     "user_tz": -600
    },
    "id": "uPWXTAR1wf4y"
   },
   "outputs": [],
   "source": [
    "# <Student to fill this section>\n",
    "feature_1_insights = \"Average attendance reflects how consistently a student attends classes. In our project, it serves as a key behavioral indicator — lower attendance often correlates with poorer academic performance, making it crucial for predicting student outcomes.\""
   ]
  },
  {
   "cell_type": "code",
   "execution_count": null,
   "metadata": {
    "colab": {
     "base_uri": "https://localhost:8080/",
     "height": 81
    },
    "executionInfo": {
     "elapsed": 9,
     "status": "ok",
     "timestamp": 1744063180854,
     "user": {
      "displayName": "Anthony So",
      "userId": "05258592867336372279"
     },
     "user_tz": -600
    },
    "id": "V1bxPJtWwjNd",
    "outputId": "935897e5-9236-4f4d-a408-852a576e2ae6"
   },
   "outputs": [],
   "source": [
    "# Do not modify this code\n",
    "print_tile(size=\"h3\", key='feature_1_insights', value=feature_1_insights)"
   ]
  },
  {
   "cell_type": "markdown",
   "metadata": {
    "id": "CzAu4gM-wr1O"
   },
   "source": [
    "### C.5 Explore Feature of Interest `\\<sOCIAL MEDIA HOURS\\>`"
   ]
  },
  {
   "cell_type": "code",
   "execution_count": null,
   "metadata": {
    "executionInfo": {
     "elapsed": 7,
     "status": "ok",
     "timestamp": 1744063180854,
     "user": {
      "displayName": "Anthony So",
      "userId": "05258592867336372279"
     },
     "user_tz": -600
    },
    "id": "M8mmLJTbwsN-"
   },
   "outputs": [],
   "source": [
    "# <Student to fill this section>"
   ]
  },
  {
   "cell_type": "code",
   "execution_count": null,
   "metadata": {
    "executionInfo": {
     "elapsed": 0,
     "status": "ok",
     "timestamp": 1744063180856,
     "user": {
      "displayName": "Anthony So",
      "userId": "05258592867336372279"
     },
     "user_tz": -600
    },
    "id": "bFGJP7iqwsUO"
   },
   "outputs": [],
   "source": [
    "# <Student to fill this section>\n",
    "feature_2_insights = \"\"\"\n",
    "Social media usage captures how much time students spend online. High usage may signal distraction from studies. In this project, it helps identify lifestyle factors that potentially affect academic success, especially for students performing poorly.\n",
    "\"\"\""
   ]
  },
  {
   "cell_type": "code",
   "execution_count": null,
   "metadata": {
    "colab": {
     "base_uri": "https://localhost:8080/",
     "height": 81
    },
    "executionInfo": {
     "elapsed": 2,
     "status": "ok",
     "timestamp": 1744063180862,
     "user": {
      "displayName": "Anthony So",
      "userId": "05258592867336372279"
     },
     "user_tz": -600
    },
    "id": "gDUS_4R9wspm",
    "outputId": "db5d992d-940e-41e2-c028-c02301576963"
   },
   "outputs": [],
   "source": [
    "# Do not modify this code\n",
    "print_tile(size=\"h3\", key='feature_2_insights', value=feature_2_insights)"
   ]
  },
  {
   "cell_type": "markdown",
   "metadata": {
    "id": "CfsJyjfpwsyE"
   },
   "source": [
    "### C.6 Explore Feature of Interest `\\<SCHOLARSHIP\\>`"
   ]
  },
  {
   "cell_type": "code",
   "execution_count": null,
   "metadata": {
    "executionInfo": {
     "elapsed": 10,
     "status": "ok",
     "timestamp": 1744063180873,
     "user": {
      "displayName": "Anthony So",
      "userId": "05258592867336372279"
     },
     "user_tz": -600
    },
    "id": "44FtOBTRwtBR"
   },
   "outputs": [],
   "source": [
    "# <Student to fill this section>"
   ]
  },
  {
   "cell_type": "code",
   "execution_count": null,
   "metadata": {
    "executionInfo": {
     "elapsed": 2,
     "status": "ok",
     "timestamp": 1744063180878,
     "user": {
      "displayName": "Anthony So",
      "userId": "05258592867336372279"
     },
     "user_tz": -600
    },
    "id": "2JzXXa-vPqXb"
   },
   "outputs": [],
   "source": []
  },
  {
   "cell_type": "code",
   "execution_count": null,
   "metadata": {
    "executionInfo": {
     "elapsed": 13,
     "status": "ok",
     "timestamp": 1744063180892,
     "user": {
      "displayName": "Anthony So",
      "userId": "05258592867336372279"
     },
     "user_tz": -600
    },
    "id": "05WCrWhJwtFc"
   },
   "outputs": [],
   "source": [
    "# <Student to fill this section>\n",
    "feature_n_insights = \"\"\"\n",
    "The scholarship variable shows whether a student receives financial aid. In our project, it highlights economic support as a factor in performance — poor-performing students were mostly without scholarships, suggesting that financial strain could impact academic results.\n",
    "\"\"\""
   ]
  },
  {
   "cell_type": "code",
   "execution_count": null,
   "metadata": {
    "colab": {
     "base_uri": "https://localhost:8080/",
     "height": 81
    },
    "executionInfo": {
     "elapsed": 2,
     "status": "ok",
     "timestamp": 1744063180961,
     "user": {
      "displayName": "Anthony So",
      "userId": "05258592867336372279"
     },
     "user_tz": -600
    },
    "id": "6uawrdTewtJF",
    "outputId": "61afaa18-078f-4f5e-f813-ca2d24504b24"
   },
   "outputs": [],
   "source": [
    "# Do not modify this code\n",
    "print_tile(size=\"h3\", key='feature_n_insights', value=feature_n_insights)"
   ]
  },
  {
   "cell_type": "markdown",
   "metadata": {
    "id": "eAwoTL8txCxP"
   },
   "source": [
    "### C.n Explore Feature of Interest `\\<put feature name here\\>`\n",
    "\n",
    "> You can add more cells related to other feeatures in this section"
   ]
  },
  {
   "cell_type": "code",
   "execution_count": null,
   "metadata": {
    "executionInfo": {
     "elapsed": 0,
     "status": "ok",
     "timestamp": 1744063180962,
     "user": {
      "displayName": "Anthony So",
      "userId": "05258592867336372279"
     },
     "user_tz": -600
    },
    "id": "0t6jURh1xC5k"
   },
   "outputs": [],
   "source": []
  },
  {
   "cell_type": "markdown",
   "metadata": {
    "id": "_NCwQQFkU3v5"
   },
   "source": [
    "---\n",
    "## D. Feature Selection\n"
   ]
  },
  {
   "cell_type": "markdown",
   "metadata": {
    "id": "E18dcL6C3O-4"
   },
   "source": [
    "### D.1 Approach \"\\<describe_approach_here\\>\"\n"
   ]
  },
  {
   "cell_type": "code",
   "execution_count": null,
   "metadata": {
    "executionInfo": {
     "elapsed": 1,
     "status": "ok",
     "timestamp": 1744063180963,
     "user": {
      "displayName": "Anthony So",
      "userId": "05258592867336372279"
     },
     "user_tz": -600
    },
    "id": "SiroVmhn9_HP"
   },
   "outputs": [],
   "source": [
    "# <Student to fill this section>"
   ]
  },
  {
   "cell_type": "code",
   "execution_count": null,
   "metadata": {
    "executionInfo": {
     "elapsed": 0,
     "status": "ok",
     "timestamp": 1744063180963,
     "user": {
      "displayName": "Anthony So",
      "userId": "05258592867336372279"
     },
     "user_tz": -600
    },
    "id": "bVhY-yGxQIEp"
   },
   "outputs": [],
   "source": []
  },
  {
   "cell_type": "code",
   "execution_count": null,
   "metadata": {
    "executionInfo": {
     "elapsed": 1,
     "status": "ok",
     "timestamp": 1744063180964,
     "user": {
      "displayName": "Anthony So",
      "userId": "05258592867336372279"
     },
     "user_tz": -600
    },
    "id": "bkNjw_Osw_Ch"
   },
   "outputs": [],
   "source": [
    "# <Student to fill this section>\n",
    "feature_selection_1_insights = \"\"\"\n",
    "provide an explanation on why you use this approach for feature selection and describe its results\n",
    "\"\"\""
   ]
  },
  {
   "cell_type": "code",
   "execution_count": null,
   "metadata": {
    "colab": {
     "base_uri": "https://localhost:8080/",
     "height": 81
    },
    "executionInfo": {
     "elapsed": 1,
     "status": "ok",
     "timestamp": 1744063180965,
     "user": {
      "displayName": "Anthony So",
      "userId": "05258592867336372279"
     },
     "user_tz": -600
    },
    "id": "ew0xzw6PxE26",
    "outputId": "030de33e-1166-4297-fedc-65b4870be999"
   },
   "outputs": [],
   "source": [
    "# Do not modify this code\n",
    "print_tile(size=\"h3\", key='feature_selection_1_insights', value=feature_selection_1_insights)"
   ]
  },
  {
   "cell_type": "markdown",
   "metadata": {
    "id": "m0WdHbsf3vTm"
   },
   "source": [
    "### D.2 Approach \"\\<describe_approach_here\\>\"\n"
   ]
  },
  {
   "cell_type": "code",
   "execution_count": null,
   "metadata": {
    "executionInfo": {
     "elapsed": 11,
     "status": "ok",
     "timestamp": 1744063180976,
     "user": {
      "displayName": "Anthony So",
      "userId": "05258592867336372279"
     },
     "user_tz": -600
    },
    "id": "2aAKCI6v3xbC"
   },
   "outputs": [],
   "source": [
    "# <Student to fill this section>"
   ]
  },
  {
   "cell_type": "code",
   "execution_count": null,
   "metadata": {
    "executionInfo": {
     "elapsed": 0,
     "status": "ok",
     "timestamp": 1744063180977,
     "user": {
      "displayName": "Anthony So",
      "userId": "05258592867336372279"
     },
     "user_tz": -600
    },
    "id": "0Wk8RpjHQIqj"
   },
   "outputs": [],
   "source": []
  },
  {
   "cell_type": "code",
   "execution_count": null,
   "metadata": {
    "executionInfo": {
     "elapsed": 4,
     "status": "ok",
     "timestamp": 1744063180981,
     "user": {
      "displayName": "Anthony So",
      "userId": "05258592867336372279"
     },
     "user_tz": -600
    },
    "id": "JoFrM9L4xAYJ"
   },
   "outputs": [],
   "source": [
    "# <Student to fill this section>\n",
    "feature_selection_2_insights = \"\"\"\n",
    "provide an explanation on why you use this approach for feature selection and describe its results\n",
    "\"\"\""
   ]
  },
  {
   "cell_type": "code",
   "execution_count": null,
   "metadata": {
    "colab": {
     "base_uri": "https://localhost:8080/",
     "height": 81
    },
    "executionInfo": {
     "elapsed": 1,
     "status": "ok",
     "timestamp": 1744063180982,
     "user": {
      "displayName": "Anthony So",
      "userId": "05258592867336372279"
     },
     "user_tz": -600
    },
    "id": "Do4yXyzhxKOK",
    "outputId": "73dfa5b5-4c29-40aa-8a58-879cefa92870"
   },
   "outputs": [],
   "source": [
    "# Do not modify this code\n",
    "print_tile(size=\"h3\", key='feature_selection_2_insights', value=feature_selection_2_insights)"
   ]
  },
  {
   "cell_type": "markdown",
   "metadata": {
    "id": "-fYICFRZv8sn"
   },
   "source": [
    "### D.n Approach \"\\<describe_approach_here\\>\"\n",
    "\n",
    "> You can add more cells related to other approaches in this section"
   ]
  },
  {
   "cell_type": "code",
   "execution_count": null,
   "metadata": {},
   "outputs": [],
   "source": [
    "df.info()"
   ]
  },
  {
   "cell_type": "markdown",
   "metadata": {
    "id": "j5bbQlUn3635"
   },
   "source": [
    "## D.z Final Selection of Features"
   ]
  },
  {
   "cell_type": "code",
   "execution_count": null,
   "metadata": {
    "executionInfo": {
     "elapsed": 2,
     "status": "ok",
     "timestamp": 1744063180992,
     "user": {
      "displayName": "Anthony So",
      "userId": "05258592867336372279"
     },
     "user_tz": -600
    },
    "id": "zfC-DLKv4AuM"
   },
   "outputs": [],
   "source": [
    "# <Student to fill this section>\n",
    "\n",
    "features_list = [ 'scholarship', 'university_transport', 'learning_mode', 'english_proficiency'\n",
    "                , 'has_laptop', 'average_attendance','has_consulted_teacher', 'co_curricular', 'living_arrangement',\n",
    "                'health_issues', 'study_hours', 'study_sessions', 'on_probation', 'is_suspended', 'skills_development_hours', 'previous_gpa', 'current_gpa', \n",
    "                'completed_credits', 'house_income', 'performance_group','social_media_hours']"
   ]
  },
  {
   "cell_type": "code",
   "execution_count": null,
   "metadata": {
    "executionInfo": {
     "elapsed": 2,
     "status": "ok",
     "timestamp": 1744063181024,
     "user": {
      "displayName": "Anthony So",
      "userId": "05258592867336372279"
     },
     "user_tz": -600
    },
    "id": "DFpzSqrexOy6"
   },
   "outputs": [],
   "source": [
    "# <Student to fill this section>\n",
    "feature_selection_explanations = \"\"\"\n",
    "admission_year – Captures how recent a student is to the university system, possibly influencing adaptation and performance.\n",
    "\n",
    "hsc_year – Reflects educational background timing, which may impact readiness for university.\n",
    "\n",
    "scholarship – Indicates financial support status, a key socio-economic factor affecting performance.\n",
    "\n",
    "university_transport – Suggests ease of commute, which can impact attendance and energy for studies.\n",
    "\n",
    "learning_mode – Captures study mode (online/offline/blended), potentially affecting engagement and results.\n",
    "\n",
    "english_proficiency – Measures language skills, crucial for academic understanding and success.\n",
    "\n",
    "has_laptop – Reflects access to digital resources, influencing study efficiency and coursework completion.\n",
    "\n",
    "average_attendance – Directly linked to student discipline and class engagement, critical for learning outcomes.\n",
    "\n",
    "is_suspended – Signals severe academic or behavioral issues, highly correlated with poor performance.\n",
    "\n",
    "has_consulted_teacher – Indicates proactive academic behavior, often leading to better outcomes.\n",
    "\n",
    "co_curricular – Captures involvement beyond academics, influencing overall student development.\n",
    "\n",
    "living_arrangement – Affects environment stability and time management, both crucial for academic performance.\n",
    "\n",
    "health_issues – Health constraints may limit attendance, participation, and learning ability.\n",
    "\n",
    "study_hours – Direct measure of effort and time investment in academics.\n",
    "\n",
    "study_sessions – Reflects study habits and frequency, impacting learning depth.\n",
    "\n",
    "skills_development_hours – Shows focus on building additional competencies, often related to success.\n",
    "\n",
    "previous_gpa – Historical academic performance, strong predictor of future success or struggles.\n",
    "\n",
    "current_gpa – Direct indicator of present academic standing and performance.\n",
    "\n",
    "completed_credits – Measures academic progress and engagement with curriculum.\n",
    "\n",
    "\n",
    "house_income – Socio-economic background indicator, influencing access to resources and study environment.\n",
    "\n",
    "performance_group (target) – Defines the level of academic achievement we are trying to predict and explain.\n",
    "\"\"\""
   ]
  },
  {
   "cell_type": "code",
   "execution_count": null,
   "metadata": {
    "colab": {
     "base_uri": "https://localhost:8080/",
     "height": 81
    },
    "executionInfo": {
     "elapsed": 1,
     "status": "ok",
     "timestamp": 1744063181024,
     "user": {
      "displayName": "Anthony So",
      "userId": "05258592867336372279"
     },
     "user_tz": -600
    },
    "id": "-iFKuDtuxO4_",
    "outputId": "00557890-afc1-4ed3-cd27-31a0e419eb4b"
   },
   "outputs": [],
   "source": [
    "# Do not modify this code\n",
    "print_tile(size=\"h3\", key='feature_selection_explanations', value=feature_selection_explanations)"
   ]
  },
  {
   "cell_type": "markdown",
   "metadata": {
    "id": "ErH_bh604mOe"
   },
   "source": [
    "---\n",
    "## E. Data Cleaning"
   ]
  },
  {
   "cell_type": "code",
   "execution_count": null,
   "metadata": {
    "colab": {
     "base_uri": "https://localhost:8080/"
    },
    "executionInfo": {
     "elapsed": 4,
     "status": "ok",
     "timestamp": 1744063181029,
     "user": {
      "displayName": "Anthony So",
      "userId": "05258592867336372279"
     },
     "user_tz": -600
    },
    "id": "HrXR7NCLtwxB",
    "outputId": "743e1d9a-bca9-4bd6-f585-b4b069873c2c"
   },
   "outputs": [],
   "source": [
    "# Do not modify this code\n",
    "try:\n",
    "  df_clean = df[features_list].copy()\n",
    "except Exception as e:\n",
    "  print(e)"
   ]
  },
  {
   "cell_type": "markdown",
   "metadata": {
    "id": "bII_PglX5E-r"
   },
   "source": [
    "### E.1 Fixing \"\\<Implausible GPA Scores\\>\"\n"
   ]
  },
  {
   "cell_type": "code",
   "execution_count": null,
   "metadata": {
    "executionInfo": {
     "elapsed": 1,
     "status": "ok",
     "timestamp": 1744063181031,
     "user": {
      "displayName": "Anthony So",
      "userId": "05258592867336372279"
     },
     "user_tz": -600
    },
    "id": "iaR8p5n8hez4"
   },
   "outputs": [],
   "source": [
    "# <Student to fill this section>"
   ]
  },
  {
   "cell_type": "code",
   "execution_count": null,
   "metadata": {
    "executionInfo": {
     "elapsed": 1,
     "status": "ok",
     "timestamp": 1744063181032,
     "user": {
      "displayName": "Anthony So",
      "userId": "05258592867336372279"
     },
     "user_tz": -600
    },
    "id": "1SW-uuf1P1WA"
   },
   "outputs": [],
   "source": [
    "df_clean.info()\n"
   ]
  },
  {
   "cell_type": "code",
   "execution_count": null,
   "metadata": {
    "executionInfo": {
     "elapsed": 1,
     "status": "ok",
     "timestamp": 1744063181033,
     "user": {
      "displayName": "Anthony So",
      "userId": "05258592867336372279"
     },
     "user_tz": -600
    },
    "id": "GLPQSm-QxZ3m"
   },
   "outputs": [],
   "source": [
    "# <Student to fill this section>\n",
    "data_cleaning_1_explanations = \"\"\"\n",
    "Several entries for 'previous_gpa' and 'current_gpa' were recorded as 0, which is unrealistic for enrolled students. These values were handled appropriately to avoid skewing academic performance analysis.\n",
    "\"\"\""
   ]
  },
  {
   "cell_type": "code",
   "execution_count": null,
   "metadata": {
    "colab": {
     "base_uri": "https://localhost:8080/",
     "height": 81
    },
    "executionInfo": {
     "elapsed": 57,
     "status": "ok",
     "timestamp": 1744063181090,
     "user": {
      "displayName": "Anthony So",
      "userId": "05258592867336372279"
     },
     "user_tz": -600
    },
    "id": "I0whpKgVxZ92",
    "outputId": "30ae9306-36a7-40a4-e097-84f1e3d043dc"
   },
   "outputs": [],
   "source": [
    "# Do not modify this code\n",
    "print_tile(size=\"h3\", key='data_cleaning_1_explanations', value=data_cleaning_1_explanations)"
   ]
  },
  {
   "cell_type": "markdown",
   "metadata": {
    "id": "wRJ6Ql1F5ODe"
   },
   "source": [
    "### E.2 Fixing \"\\<Missing Values in Key Columns\\>\""
   ]
  },
  {
   "cell_type": "code",
   "execution_count": null,
   "metadata": {
    "executionInfo": {
     "elapsed": 10,
     "status": "ok",
     "timestamp": 1744063181090,
     "user": {
      "displayName": "Anthony So",
      "userId": "05258592867336372279"
     },
     "user_tz": -600
    },
    "id": "DsTzKV3bhez4"
   },
   "outputs": [],
   "source": [
    "# <Student to fill this section>"
   ]
  },
  {
   "cell_type": "code",
   "execution_count": null,
   "metadata": {
    "executionInfo": {
     "elapsed": 0,
     "status": "ok",
     "timestamp": 1744063181098,
     "user": {
      "displayName": "Anthony So",
      "userId": "05258592867336372279"
     },
     "user_tz": -600
    },
    "id": "se_O3nL1xjCD"
   },
   "outputs": [],
   "source": [
    "# <Student to fill this section>\n",
    "data_cleaning_2_explanations = \"\"\"\n",
    "The 'area_of_interest' and 'skill' columns had missing entries, which could have affected understanding of students' engagement and abilities. These missing values were carefully treated to preserve the richness of the data.\n",
    "\"\"\""
   ]
  },
  {
   "cell_type": "code",
   "execution_count": null,
   "metadata": {
    "colab": {
     "base_uri": "https://localhost:8080/",
     "height": 81
    },
    "executionInfo": {
     "elapsed": 1,
     "status": "ok",
     "timestamp": 1744063181100,
     "user": {
      "displayName": "Anthony So",
      "userId": "05258592867336372279"
     },
     "user_tz": -600
    },
    "id": "phfKSsB0xjG2",
    "outputId": "7c1cf159-a810-457a-a8d1-129f9d87adbc"
   },
   "outputs": [],
   "source": [
    "# Do not modify this code\n",
    "print_tile(size=\"h3\", key='data_cleaning_2_explanations', value=data_cleaning_2_explanations)"
   ]
  },
  {
   "cell_type": "markdown",
   "metadata": {
    "id": "OE7AqdGFvA6g"
   },
   "source": [
    "### E.3 Fixing \"\\<Inconsistent Categorical Values\\>\""
   ]
  },
  {
   "cell_type": "code",
   "execution_count": null,
   "metadata": {
    "executionInfo": {
     "elapsed": 0,
     "status": "ok",
     "timestamp": 1744063181101,
     "user": {
      "displayName": "Anthony So",
      "userId": "05258592867336372279"
     },
     "user_tz": -600
    },
    "id": "eJh1KWoF5Qze"
   },
   "outputs": [],
   "source": [
    "# <Student to fill this section>"
   ]
  },
  {
   "cell_type": "code",
   "execution_count": null,
   "metadata": {
    "executionInfo": {
     "elapsed": 3,
     "status": "ok",
     "timestamp": 1744063181105,
     "user": {
      "displayName": "Anthony So",
      "userId": "05258592867336372279"
     },
     "user_tz": -600
    },
    "id": "uNHYKGioxojE"
   },
   "outputs": [],
   "source": [
    "# <Student to fill this section>\n",
    "data_cleaning_3_explanations = \"\"\"\n",
    "Yes/No variables like 'scholarship', 'university_transport', and 'has_phone' were originally in text format. They were standardized to binary (1/0) values to make the data machine learning-ready and consistent for modeling.\n",
    "\"\"\""
   ]
  },
  {
   "cell_type": "code",
   "execution_count": null,
   "metadata": {
    "colab": {
     "base_uri": "https://localhost:8080/",
     "height": 81
    },
    "executionInfo": {
     "elapsed": 2,
     "status": "ok",
     "timestamp": 1744063181107,
     "user": {
      "displayName": "Anthony So",
      "userId": "05258592867336372279"
     },
     "user_tz": -600
    },
    "id": "ICKH-MEZxonW",
    "outputId": "72d966ca-465c-4deb-f944-6fbc6329815d"
   },
   "outputs": [],
   "source": [
    "# Do not modify this code\n",
    "print_tile(size=\"h3\", key='data_cleaning_3_explanations', value=data_cleaning_3_explanations)"
   ]
  },
  {
   "cell_type": "markdown",
   "metadata": {
    "id": "ujZunhZfvOA5"
   },
   "source": [
    "### E.n Fixing \"\\<Outlier Treatment in Numeric Columns\\>\"\n",
    "\n",
    "> You can add more cells related to other issues in this section"
   ]
  },
  {
   "cell_type": "markdown",
   "metadata": {
    "executionInfo": {
     "elapsed": 8,
     "status": "ok",
     "timestamp": 1744063181115,
     "user": {
      "displayName": "Anthony So",
      "userId": "05258592867336372279"
     },
     "user_tz": -600
    },
    "id": "iPLQ8oTRvOVN"
   },
   "source": [
    "#Columns like 'current_gpa', 'house_income', and 'social_media_hours' showed extreme outliers that could distort model learning. Outliers were handled using IQR techniques to keep the distribution realistic and robust."
   ]
  },
  {
   "cell_type": "markdown",
   "metadata": {
    "id": "Z9jsWz-z5-XS"
   },
   "source": [
    "---\n",
    "## F. Feature Engineering"
   ]
  },
  {
   "cell_type": "code",
   "execution_count": null,
   "metadata": {
    "colab": {
     "base_uri": "https://localhost:8080/"
    },
    "executionInfo": {
     "elapsed": 7,
     "status": "ok",
     "timestamp": 1744063181122,
     "user": {
      "displayName": "Anthony So",
      "userId": "05258592867336372279"
     },
     "user_tz": -600
    },
    "id": "viLWliu76Fm6",
    "outputId": "819416ab-5732-4c00-9ed6-0fcafbace046"
   },
   "outputs": [],
   "source": [
    "# Do not modify this code\n",
    "try:\n",
    "  df_eng = df_clean.copy()\n",
    "except Exception as e:\n",
    "  print(e)"
   ]
  },
  {
   "cell_type": "code",
   "execution_count": null,
   "metadata": {},
   "outputs": [],
   "source": [
    "df_eng\n"
   ]
  },
  {
   "cell_type": "markdown",
   "metadata": {
    "id": "imwl7ISs6O0t"
   },
   "source": [
    "### F.1 New Feature \"\\<social_risk\\>\"\n"
   ]
  },
  {
   "cell_type": "code",
   "execution_count": null,
   "metadata": {
    "executionInfo": {
     "elapsed": 11,
     "status": "ok",
     "timestamp": 1744063181133,
     "user": {
      "displayName": "Anthony So",
      "userId": "05258592867336372279"
     },
     "user_tz": -600
    },
    "id": "t5RVBQKW6mJj"
   },
   "outputs": [],
   "source": [
    "# <Student to fill this section>"
   ]
  },
  {
   "cell_type": "code",
   "execution_count": null,
   "metadata": {},
   "outputs": [],
   "source": [
    "df_eng['social_risk'] = df_eng['social_media_hours'] / df_eng['study_hours']"
   ]
  },
  {
   "cell_type": "code",
   "execution_count": null,
   "metadata": {
    "executionInfo": {
     "elapsed": 1,
     "status": "ok",
     "timestamp": 1744063181142,
     "user": {
      "displayName": "Anthony So",
      "userId": "05258592867336372279"
     },
     "user_tz": -600
    },
    "id": "2wxeJr9HxvAH"
   },
   "outputs": [],
   "source": [
    "# <Student to fill this section>\n",
    "feature_engineering_1_explanations = \"\"\"\n",
    "A high social_media to study_hours ratio might be bad for academic performance.\"\"\""
   ]
  },
  {
   "cell_type": "code",
   "execution_count": null,
   "metadata": {
    "colab": {
     "base_uri": "https://localhost:8080/",
     "height": 81
    },
    "executionInfo": {
     "elapsed": 29,
     "status": "ok",
     "timestamp": 1744063181171,
     "user": {
      "displayName": "Anthony So",
      "userId": "05258592867336372279"
     },
     "user_tz": -600
    },
    "id": "h4XlH3gUxvCj",
    "outputId": "43a20874-d383-43b9-bd16-26afb0cc1b5c"
   },
   "outputs": [],
   "source": [
    "# Do not modify this code\n",
    "print_tile(size=\"h3\", key='feature_engineering_1_explanations', value=feature_engineering_1_explanations)"
   ]
  },
  {
   "cell_type": "markdown",
   "metadata": {
    "id": "jYxCnW3C6zJj"
   },
   "source": [
    "### F.2 New Feature \"\\<gpa_improvement\\>\"\n",
    "\n",
    ">\n",
    "\n"
   ]
  },
  {
   "cell_type": "code",
   "execution_count": null,
   "metadata": {},
   "outputs": [],
   "source": [
    "df_eng['gpa_improvement'] = df_eng['current_gpa'] - df_eng['previous_gpa']"
   ]
  },
  {
   "cell_type": "code",
   "execution_count": null,
   "metadata": {
    "executionInfo": {
     "elapsed": 0,
     "status": "ok",
     "timestamp": 1744063181172,
     "user": {
      "displayName": "Anthony So",
      "userId": "05258592867336372279"
     },
     "user_tz": -600
    },
    "id": "y03X8eeW6zbL"
   },
   "outputs": [],
   "source": [
    "# <Student to fill this section>"
   ]
  },
  {
   "cell_type": "code",
   "execution_count": null,
   "metadata": {
    "executionInfo": {
     "elapsed": 1,
     "status": "ok",
     "timestamp": 1744063181174,
     "user": {
      "displayName": "Anthony So",
      "userId": "05258592867336372279"
     },
     "user_tz": -600
    },
    "id": "rjQArT6Yx3OR"
   },
   "outputs": [],
   "source": [
    "# <Student to fill this section>\n",
    "feature_engineering_2_explanations = \"\"\"\n",
    "Students improving their GPA may reflect better habits or interventions working.\n",
    "\"\"\""
   ]
  },
  {
   "cell_type": "code",
   "execution_count": null,
   "metadata": {
    "colab": {
     "base_uri": "https://localhost:8080/",
     "height": 81
    },
    "executionInfo": {
     "elapsed": 4,
     "status": "ok",
     "timestamp": 1744063181178,
     "user": {
      "displayName": "Anthony So",
      "userId": "05258592867336372279"
     },
     "user_tz": -600
    },
    "id": "VpP62hgkx3S7",
    "outputId": "c32717dc-bf9f-4f2f-93d6-0a0cc48d36b3"
   },
   "outputs": [],
   "source": [
    "# Do not modify this code\n",
    "print_tile(size=\"h3\", key='feature_engineering_2_explanations', value=feature_engineering_2_explanations)"
   ]
  },
  {
   "cell_type": "markdown",
   "metadata": {
    "id": "gWF4jvXb62kU"
   },
   "source": [
    "### F.3 New Feature \"\\<income_bin>\"\n",
    "\n"
   ]
  },
  {
   "cell_type": "code",
   "execution_count": null,
   "metadata": {},
   "outputs": [],
   "source": [
    "bins = [0, 40000, 100000, float('inf')]  \n",
    "labels = ['Low', 'Medium', 'High']\n",
    "df_eng['income_bin'] = pd.cut(df_eng['house_income'], bins=bins, labels=labels, right=True)"
   ]
  },
  {
   "cell_type": "code",
   "execution_count": null,
   "metadata": {
    "executionInfo": {
     "elapsed": 6,
     "status": "ok",
     "timestamp": 1744063181188,
     "user": {
      "displayName": "Anthony So",
      "userId": "05258592867336372279"
     },
     "user_tz": -600
    },
    "id": "SLYDy4TLx8zZ"
   },
   "outputs": [],
   "source": [
    "# <Student to fill this section>\n",
    "feature_engineering_n_explanations = \"\"\"\"\n",
    "Binning house_income into categories like Low, Medium, and High simplifies the feature, reduces skewness, and captures non-linear relationships, making it easier for models like decision trees and random forests to identify meaningful patterns and improve interpretability.\n",
    "\n",
    "\"\"\""
   ]
  },
  {
   "cell_type": "code",
   "execution_count": null,
   "metadata": {
    "colab": {
     "base_uri": "https://localhost:8080/",
     "height": 81
    },
    "executionInfo": {
     "elapsed": 40,
     "status": "ok",
     "timestamp": 1744063181251,
     "user": {
      "displayName": "Anthony So",
      "userId": "05258592867336372279"
     },
     "user_tz": -600
    },
    "id": "eyA_86xIx84Q",
    "outputId": "26fc3b09-d2d1-4a54-8f60-ff9a8cc3316d"
   },
   "outputs": [],
   "source": [
    "# Do not modify this code\n",
    "print_tile(size=\"h3\", key='feature_engineering_n_explanations', value=feature_engineering_n_explanations)"
   ]
  },
  {
   "cell_type": "markdown",
   "metadata": {
    "id": "71q4CKpPvc6K"
   },
   "source": [
    "### F.4 New Feature  \"\\<study_time_per_Session>\"\n",
    "\n",
    "> This score will tell us the time student spends per study session. "
   ]
  },
  {
   "cell_type": "code",
   "execution_count": null,
   "metadata": {},
   "outputs": [],
   "source": [
    "df_eng['study_time_per_Session'] = (df_eng['study_hours'] / df_eng['study_sessions']).round(2)"
   ]
  },
  {
   "cell_type": "code",
   "execution_count": null,
   "metadata": {},
   "outputs": [],
   "source": [
    "df_eng.info()"
   ]
  },
  {
   "cell_type": "code",
   "execution_count": null,
   "metadata": {},
   "outputs": [],
   "source": []
  },
  {
   "cell_type": "markdown",
   "metadata": {},
   "source": [
    "# F.4 New Feature  \"\\<Attendance bin>\"\n",
    "This will bin the attenndance numbers asa high medium low"
   ]
  },
  {
   "cell_type": "code",
   "execution_count": null,
   "metadata": {},
   "outputs": [],
   "source": [
    "binss = [0,70,85,100]\n",
    "labelss = ['Low', 'Medium', 'High']\n",
    "df_eng['attendance_bin'] = pd.cut(df_eng['average_attendance'], bins =binss, labels=labelss, right=True)"
   ]
  },
  {
   "cell_type": "code",
   "execution_count": null,
   "metadata": {
    "executionInfo": {
     "elapsed": 1,
     "status": "ok",
     "timestamp": 1744063181253,
     "user": {
      "displayName": "Anthony So",
      "userId": "05258592867336372279"
     },
     "user_tz": -600
    },
    "id": "lJhTt15nvc_8"
   },
   "outputs": [],
   "source": [
    "df_eng"
   ]
  },
  {
   "cell_type": "markdown",
   "metadata": {},
   "source": [
    "# Before splitting we will check for any milticolinearity or features that may be redundant"
   ]
  },
  {
   "cell_type": "code",
   "execution_count": null,
   "metadata": {},
   "outputs": [],
   "source": [
    "numeric_df = df_eng.select_dtypes(include='number')\n",
    "plt.figure(figsize = (16,8))\n",
    "sns.heatmap(numeric_df.corr(), annot=True, cmap='coolwarm')\n",
    "plt.show()"
   ]
  },
  {
   "cell_type": "code",
   "execution_count": null,
   "metadata": {},
   "outputs": [],
   "source": [
    "#using one hot encoding for yes / no columns"
   ]
  },
  {
   "cell_type": "code",
   "execution_count": null,
   "metadata": {},
   "outputs": [],
   "source": [
    "df_eng = pd.get_dummies(df_eng, columns = ['learning_mode','english_proficiency', 'living_arrangement','attendance_bin','income_bin'],dtype = 'int' )"
   ]
  },
  {
   "cell_type": "code",
   "execution_count": null,
   "metadata": {},
   "outputs": [],
   "source": [
    "df_eng.info()"
   ]
  },
  {
   "cell_type": "code",
   "execution_count": null,
   "metadata": {},
   "outputs": [],
   "source": [
    "#removing social_media_hours, previous gpa, due to of high milticolinearity."
   ]
  },
  {
   "cell_type": "code",
   "execution_count": null,
   "metadata": {},
   "outputs": [],
   "source": [
    "#also removing house_income and average attendance because we have already created bins for it"
   ]
  },
  {
   "cell_type": "code",
   "execution_count": null,
   "metadata": {},
   "outputs": [],
   "source": [
    "df_eng.drop(columns = {'social_media_hours',  'previous_gpa', 'house_income', 'average_attendance' ,'completed_credits'},inplace = True)"
   ]
  },
  {
   "cell_type": "code",
   "execution_count": null,
   "metadata": {},
   "outputs": [],
   "source": [
    "df_eng = df_eng.replace([np.inf, -np.inf], np.nan).fillna(0)"
   ]
  },
  {
   "cell_type": "code",
   "execution_count": null,
   "metadata": {},
   "outputs": [],
   "source": [
    "df_eng.to_csv('/Users/ratikpant/Desktop/machinelearningass2/df_eng.csv', index=False)"
   ]
  },
  {
   "cell_type": "markdown",
   "metadata": {
    "id": "N0S5LSAcjkvP"
   },
   "source": [
    "---\n",
    "## G. Data Preparation for Modeling"
   ]
  },
  {
   "cell_type": "markdown",
   "metadata": {
    "id": "TijNthzAyyAX"
   },
   "source": [
    "### G.1 Split Datasets\n"
   ]
  },
  {
   "cell_type": "code",
   "execution_count": null,
   "metadata": {
    "executionInfo": {
     "elapsed": 1,
     "status": "ok",
     "timestamp": 1744063181254,
     "user": {
      "displayName": "Anthony So",
      "userId": "05258592867336372279"
     },
     "user_tz": -600
    },
    "id": "yL_Jwh9KzFT_"
   },
   "outputs": [],
   "source": [
    "# <Student to fill this section>"
   ]
  },
  {
   "cell_type": "code",
   "execution_count": null,
   "metadata": {
    "executionInfo": {
     "elapsed": 1,
     "status": "ok",
     "timestamp": 1744063181255,
     "user": {
      "displayName": "Anthony So",
      "userId": "05258592867336372279"
     },
     "user_tz": -600
    },
    "id": "KBmEY01rMgnJ"
   },
   "outputs": [],
   "source": [
    "from sklearn.model_selection import StratifiedKFold\n",
    "from sklearn.model_selection import train_test_split\n",
    "from sklearn.preprocessing import LabelEncoder"
   ]
  },
  {
   "cell_type": "code",
   "execution_count": null,
   "metadata": {},
   "outputs": [],
   "source": [
    "#defining X and y for independent and dependent features"
   ]
  },
  {
   "cell_type": "code",
   "execution_count": null,
   "metadata": {},
   "outputs": [],
   "source": [
    "#TARGET VARIABLE\n",
    "y = df_eng.pop('performance_group')"
   ]
  },
  {
   "cell_type": "code",
   "execution_count": null,
   "metadata": {},
   "outputs": [],
   "source": [
    "y.info()"
   ]
  },
  {
   "cell_type": "code",
   "execution_count": null,
   "metadata": {},
   "outputs": [],
   "source": [
    "#INDEPENDENT FEATURES\n",
    "X = df_eng\n",
    "X.info()"
   ]
  },
  {
   "cell_type": "markdown",
   "metadata": {},
   "source": [
    "# Now before we could split training using stratified k fold, we will split using train and test and separate test sample"
   ]
  },
  {
   "cell_type": "code",
   "execution_count": null,
   "metadata": {},
   "outputs": [],
   "source": [
    "X_train, X_test, y_train, y_test = train_test_split(X,y, test_size = 0.2, stratify = y, random_state = 42)"
   ]
  },
  {
   "cell_type": "code",
   "execution_count": null,
   "metadata": {},
   "outputs": [],
   "source": [
    "#we will now split using stratified k fold"
   ]
  },
  {
   "cell_type": "code",
   "execution_count": null,
   "metadata": {},
   "outputs": [],
   "source": [
    "skf = StratifiedKFold(n_splits=5, shuffle=True, random_state=42)"
   ]
  },
  {
   "cell_type": "code",
   "execution_count": null,
   "metadata": {},
   "outputs": [],
   "source": [
    "for train_index, val_index in skf.split(X_train, y_train):\n",
    "    X_train_fold, X_val_fold = X_train.iloc[train_index], X_train.iloc[val_index]\n",
    "    y_train_fold, y_val_fold = y_train.iloc[train_index], y_train.iloc[val_index]"
   ]
  },
  {
   "cell_type": "code",
   "execution_count": null,
   "metadata": {
    "executionInfo": {
     "elapsed": 73,
     "status": "ok",
     "timestamp": 1744063181341,
     "user": {
      "displayName": "Anthony So",
      "userId": "05258592867336372279"
     },
     "user_tz": -600
    },
    "id": "2L2ZXDYRyN2N"
   },
   "outputs": [],
   "source": [
    "# <Student to fill this section>\n",
    "data_splitting_explanations = \"\"\"\n",
    "Stratified K-Fold was used before test-train splitting to make sure each fold has the same proportion of classes (Good, Poor, Average, Excellent).\n",
    "\n",
    "This is important because our problem is multiclass and some classes (like Excellent) are rare.\n",
    "\n",
    "Stratification prevents a situation where one fold has too many Poor students and no Excellent students, which would confuse the model.\n",
    "\n",
    "After splitting into folds, we reserved a part of the data separately as the final test set (untouched during training/validation).\n",
    "\"\"\""
   ]
  },
  {
   "cell_type": "code",
   "execution_count": null,
   "metadata": {
    "colab": {
     "base_uri": "https://localhost:8080/",
     "height": 81
    },
    "executionInfo": {
     "elapsed": 1,
     "status": "ok",
     "timestamp": 1744063181344,
     "user": {
      "displayName": "Anthony So",
      "userId": "05258592867336372279"
     },
     "user_tz": -600
    },
    "id": "jc8t17rMyN4y",
    "outputId": "062559c7-ea28-42b8-ba00-75775148a5a8"
   },
   "outputs": [],
   "source": [
    "# Do not modify this code\n",
    "print_tile(size=\"h3\", key='data_splitting_explanations', value=data_splitting_explanations)"
   ]
  },
  {
   "cell_type": "markdown",
   "metadata": {
    "id": "RKqt6BN6csNC"
   },
   "source": [
    "### G.2 Data Transformation <put_name_here>"
   ]
  },
  {
   "cell_type": "code",
   "execution_count": null,
   "metadata": {
    "executionInfo": {
     "elapsed": 0,
     "status": "ok",
     "timestamp": 1744063181345,
     "user": {
      "displayName": "Anthony So",
      "userId": "05258592867336372279"
     },
     "user_tz": -600
    },
    "id": "7PnGwsy2hez4"
   },
   "outputs": [],
   "source": [
    "# <Student to fill this section>"
   ]
  },
  {
   "cell_type": "markdown",
   "metadata": {
    "executionInfo": {
     "elapsed": 0,
     "status": "ok",
     "timestamp": 1744063181346,
     "user": {
      "displayName": "Anthony So",
      "userId": "05258592867336372279"
     },
     "user_tz": -600
    },
    "id": "afVed1knMEfu"
   },
   "source": [
    "# train set ; encoding the target variable"
   ]
  },
  {
   "cell_type": "code",
   "execution_count": null,
   "metadata": {},
   "outputs": [],
   "source": [
    "labelencoder = LabelEncoder()\n",
    "y_train_fold = labelencoder.fit_transform(y_train_fold)"
   ]
  },
  {
   "cell_type": "code",
   "execution_count": null,
   "metadata": {},
   "outputs": [],
   "source": [
    "X_train = X_train_fold\n",
    "X_train"
   ]
  },
  {
   "cell_type": "code",
   "execution_count": null,
   "metadata": {},
   "outputs": [],
   "source": [
    "y_train = y_train_fold"
   ]
  },
  {
   "cell_type": "code",
   "execution_count": null,
   "metadata": {
    "executionInfo": {
     "elapsed": 1,
     "status": "ok",
     "timestamp": 1744063181347,
     "user": {
      "displayName": "Anthony So",
      "userId": "05258592867336372279"
     },
     "user_tz": -600
    },
    "id": "GjO2VNe0yV4k"
   },
   "outputs": [],
   "source": [
    "# <Student to fill this section>\n",
    "data_transformation_1_explanations = \"\"\"\n",
    "Provide some explanations on why you believe it is important to perform this data transformation and its impacts\n",
    "\"\"\""
   ]
  },
  {
   "cell_type": "code",
   "execution_count": null,
   "metadata": {
    "colab": {
     "base_uri": "https://localhost:8080/",
     "height": 81
    },
    "executionInfo": {
     "elapsed": 1,
     "status": "ok",
     "timestamp": 1744063181349,
     "user": {
      "displayName": "Anthony So",
      "userId": "05258592867336372279"
     },
     "user_tz": -600
    },
    "id": "5iLMKPm_yWAU",
    "outputId": "bab23ec9-dd43-4224-ca4e-93af14307d99"
   },
   "outputs": [],
   "source": [
    "# Do not modify this code\n",
    "print_tile(size=\"h3\", key='data_transformation_1_explanations', value=data_transformation_1_explanations)"
   ]
  },
  {
   "cell_type": "markdown",
   "metadata": {
    "id": "Nl12P1VIdFGy"
   },
   "source": [
    "### G.3 Data Transformation <put_name_here>"
   ]
  },
  {
   "cell_type": "code",
   "execution_count": null,
   "metadata": {
    "executionInfo": {
     "elapsed": 0,
     "status": "ok",
     "timestamp": 1744063181350,
     "user": {
      "displayName": "Anthony So",
      "userId": "05258592867336372279"
     },
     "user_tz": -600
    },
    "id": "DWw06xkDHU1i"
   },
   "outputs": [],
   "source": [
    "# <Student to fill this section>"
   ]
  },
  {
   "cell_type": "markdown",
   "metadata": {
    "executionInfo": {
     "elapsed": 2,
     "status": "ok",
     "timestamp": 1744063181360,
     "user": {
      "displayName": "Anthony So",
      "userId": "05258592867336372279"
     },
     "user_tz": -600
    },
    "id": "kwX6GQclMFBb"
   },
   "source": [
    "# val set ; encoding the target variable"
   ]
  },
  {
   "cell_type": "code",
   "execution_count": null,
   "metadata": {},
   "outputs": [],
   "source": [
    "labelencoder = LabelEncoder()\n",
    "y_val_fold = labelencoder.fit_transform(y_val_fold)\n"
   ]
  },
  {
   "cell_type": "code",
   "execution_count": null,
   "metadata": {},
   "outputs": [],
   "source": [
    "#defining val set "
   ]
  },
  {
   "cell_type": "code",
   "execution_count": null,
   "metadata": {},
   "outputs": [],
   "source": [
    "X_val = X_val_fold\n",
    "X_val"
   ]
  },
  {
   "cell_type": "code",
   "execution_count": null,
   "metadata": {},
   "outputs": [],
   "source": [
    "y_val = y_val_fold"
   ]
  },
  {
   "cell_type": "code",
   "execution_count": null,
   "metadata": {
    "executionInfo": {
     "elapsed": 40,
     "status": "ok",
     "timestamp": 1744063181404,
     "user": {
      "displayName": "Anthony So",
      "userId": "05258592867336372279"
     },
     "user_tz": -600
    },
    "id": "AnOQ7dK1yfYl"
   },
   "outputs": [],
   "source": [
    "# <Student to fill this section>\n",
    "data_transformation_2_explanations = \"\"\"\n",
    "Provide some explanations on why you believe it is important to perform this data transformation and its impacts\n",
    "\"\"\""
   ]
  },
  {
   "cell_type": "code",
   "execution_count": null,
   "metadata": {
    "colab": {
     "base_uri": "https://localhost:8080/",
     "height": 81
    },
    "executionInfo": {
     "elapsed": 33,
     "status": "ok",
     "timestamp": 1744063181488,
     "user": {
      "displayName": "Anthony So",
      "userId": "05258592867336372279"
     },
     "user_tz": -600
    },
    "id": "GdboQEaayffW",
    "outputId": "02836cb8-a39b-4195-f803-4f4a96ab6bc7"
   },
   "outputs": [],
   "source": [
    "# Do not modify this code\n",
    "print_tile(size=\"h3\", key='data_transformation_2_explanations', value=data_transformation_2_explanations)"
   ]
  },
  {
   "cell_type": "markdown",
   "metadata": {
    "id": "nw8W-JpHdGlC"
   },
   "source": [
    "### G.4 Data Transformation <put_name_here>"
   ]
  },
  {
   "cell_type": "code",
   "execution_count": null,
   "metadata": {
    "executionInfo": {
     "elapsed": 1,
     "status": "ok",
     "timestamp": 1744063181535,
     "user": {
      "displayName": "Anthony So",
      "userId": "05258592867336372279"
     },
     "user_tz": -600
    },
    "id": "TTfdRd6vHTlX"
   },
   "outputs": [],
   "source": [
    "# <Student to fill this section>"
   ]
  },
  {
   "cell_type": "markdown",
   "metadata": {
    "executionInfo": {
     "elapsed": 1,
     "status": "ok",
     "timestamp": 1744063181540,
     "user": {
      "displayName": "Anthony So",
      "userId": "05258592867336372279"
     },
     "user_tz": -600
    },
    "id": "tuqwQORmMFuX"
   },
   "source": [
    "# test set ; encoding the target variable"
   ]
  },
  {
   "cell_type": "code",
   "execution_count": null,
   "metadata": {},
   "outputs": [],
   "source": [
    "labelencoder = LabelEncoder()\n",
    "y_test = labelencoder.fit_transform(y_test)"
   ]
  },
  {
   "cell_type": "code",
   "execution_count": null,
   "metadata": {},
   "outputs": [],
   "source": [
    "#defining xtest\n",
    "X_test"
   ]
  },
  {
   "cell_type": "code",
   "execution_count": null,
   "metadata": {
    "executionInfo": {
     "elapsed": 0,
     "status": "ok",
     "timestamp": 1744063181540,
     "user": {
      "displayName": "Anthony So",
      "userId": "05258592867336372279"
     },
     "user_tz": -600
    },
    "id": "-7jBQjaHykoD"
   },
   "outputs": [],
   "source": [
    "# <Student to fill this section>\n",
    "data_transformation_3_explanations = \"\"\"\n",
    "Provide some explanations on why you believe it is important to perform this data transformation and its impacts\n",
    "\"\"\""
   ]
  },
  {
   "cell_type": "code",
   "execution_count": null,
   "metadata": {
    "colab": {
     "base_uri": "https://localhost:8080/",
     "height": 81
    },
    "executionInfo": {
     "elapsed": 14,
     "status": "ok",
     "timestamp": 1744063181555,
     "user": {
      "displayName": "Anthony So",
      "userId": "05258592867336372279"
     },
     "user_tz": -600
    },
    "id": "Y_7Ko1Xoyk04",
    "outputId": "af3c04cd-13d1-46ab-e239-89df6ddfa600"
   },
   "outputs": [],
   "source": [
    "# Do not modify this code\n",
    "print_tile(size=\"h3\", key='data_transformation_3_explanations', value=data_transformation_3_explanations)"
   ]
  },
  {
   "cell_type": "markdown",
   "metadata": {
    "id": "Wnu5Vyvovh_w"
   },
   "source": [
    "### G.n Fixing \"\\<describe_issue_here\\>\"\n",
    "\n",
    "> You can add more cells related to data preparation in this section"
   ]
  },
  {
   "cell_type": "code",
   "execution_count": null,
   "metadata": {
    "executionInfo": {
     "elapsed": 25,
     "status": "ok",
     "timestamp": 1744063181580,
     "user": {
      "displayName": "Anthony So",
      "userId": "05258592867336372279"
     },
     "user_tz": -600
    },
    "id": "GLOatzghviGQ"
   },
   "outputs": [],
   "source": [
    "y_train = pd.Series(y_train)\n",
    "y_val = pd.Series(y_val)\n",
    "y_test = pd.Series(y_test)"
   ]
  },
  {
   "cell_type": "markdown",
   "metadata": {
    "id": "s0CJolMhdmLf"
   },
   "source": [
    "---\n",
    "## H. Save Datasets"
   ]
  },
  {
   "cell_type": "code",
   "execution_count": null,
   "metadata": {
    "colab": {
     "base_uri": "https://localhost:8080/"
    },
    "executionInfo": {
     "elapsed": 62,
     "status": "ok",
     "timestamp": 1744063181643,
     "user": {
      "displayName": "Anthony So",
      "userId": "05258592867336372279"
     },
     "user_tz": -600
    },
    "id": "hwIgKOsGdrf3",
    "outputId": "3d0b3379-d4ba-4fa1-c2bd-0c62086a5df9"
   },
   "outputs": [],
   "source": [
    "# Do not modify this code\n",
    "try:\n",
    "  X_train.to_csv('/Users/ratikpant/Desktop/machinelearningass2/X_train.csv', index=False)\n",
    "  y_train.to_csv('/Users/ratikpant/Desktop/machinelearningass2/y_train.csv', index=False)\n",
    "\n",
    "  X_val.to_csv('/Users/ratikpant/Desktop/machinelearningass2/X_val.csv', index=False)\n",
    "  y_val.to_csv('/Users/ratikpant/Desktop/machinelearningass2/y_val.csv', index=False)\n",
    "\n",
    "  X_test.to_csv('/Users/ratikpant/Desktop/machinelearningass2/X_test.csv', index=False)\n",
    "  y_test.to_csv('/Users/ratikpant/Desktop/machinelearningass2/y_test.csv', index=False)\n",
    "except Exception as e:\n",
    "  print(e)"
   ]
  },
  {
   "cell_type": "code",
   "execution_count": null,
   "metadata": {},
   "outputs": [],
   "source": [
    "pwd"
   ]
  },
  {
   "cell_type": "markdown",
   "metadata": {
    "id": "N8MNBrC4Zgz6"
   },
   "source": [
    "---\n",
    "## I. Assess Baseline Model"
   ]
  },
  {
   "cell_type": "markdown",
   "metadata": {
    "id": "4_tQitOfeDXr"
   },
   "source": [
    "### I.1 Generate Predictions with Baseline Model"
   ]
  },
  {
   "cell_type": "code",
   "execution_count": null,
   "metadata": {
    "executionInfo": {
     "elapsed": 47,
     "status": "ok",
     "timestamp": 1744063181690,
     "user": {
      "displayName": "Anthony So",
      "userId": "05258592867336372279"
     },
     "user_tz": -600
    },
    "id": "Mh6epkAThez5"
   },
   "outputs": [],
   "source": [
    "# <Student to fill this section>"
   ]
  },
  {
   "cell_type": "code",
   "execution_count": null,
   "metadata": {},
   "outputs": [],
   "source": [
    "#changing the target variable to encoded\n",
    "labelencoder = LabelEncoder()\n",
    "y_train = labelencoder.fit_transform(y_train)"
   ]
  },
  {
   "cell_type": "code",
   "execution_count": null,
   "metadata": {},
   "outputs": [],
   "source": [
    "y_train"
   ]
  },
  {
   "cell_type": "code",
   "execution_count": null,
   "metadata": {},
   "outputs": [],
   "source": [
    "labelencoder = LabelEncoder()\n",
    "y_val = labelencoder.fit_transform(y_val)"
   ]
  },
  {
   "cell_type": "code",
   "execution_count": null,
   "metadata": {},
   "outputs": [],
   "source": [
    "from sklearn.linear_model import LogisticRegression"
   ]
  },
  {
   "cell_type": "code",
   "execution_count": null,
   "metadata": {},
   "outputs": [],
   "source": [
    "# Multiclass = use multinomial option\n",
    "baseline_model = LogisticRegression(multi_class='multinomial', solver='lbfgs', max_iter=400)"
   ]
  },
  {
   "cell_type": "code",
   "execution_count": null,
   "metadata": {},
   "outputs": [],
   "source": [
    "baseline_model.fit(X_train, y_train)\n"
   ]
  },
  {
   "cell_type": "code",
   "execution_count": null,
   "metadata": {},
   "outputs": [],
   "source": [
    "y_val_pred = baseline_model.predict(X_val)"
   ]
  },
  {
   "cell_type": "code",
   "execution_count": null,
   "metadata": {},
   "outputs": [],
   "source": [
    "from sklearn.metrics import confusion_matrix, classification_report\n",
    "print(confusion_matrix(y_val, y_val_pred))\n",
    "print(classification_report(y_val, y_val_pred))"
   ]
  },
  {
   "cell_type": "code",
   "execution_count": null,
   "metadata": {},
   "outputs": [],
   "source": [
    "#baseline on test set"
   ]
  },
  {
   "cell_type": "code",
   "execution_count": null,
   "metadata": {},
   "outputs": [],
   "source": [
    "y_test_pred = baseline_model.predict(X_test)"
   ]
  },
  {
   "cell_type": "code",
   "execution_count": null,
   "metadata": {},
   "outputs": [],
   "source": [
    "print(confusion_matrix(y_test, y_test_pred))\n",
    "print(classification_report(y_test, y_test_pred))"
   ]
  },
  {
   "cell_type": "markdown",
   "metadata": {
    "id": "n5ApYC8BeLsB"
   },
   "source": [
    "### I.2 Selection of Performance Metrics\n"
   ]
  },
  {
   "cell_type": "code",
   "execution_count": null,
   "metadata": {
    "executionInfo": {
     "elapsed": 1,
     "status": "ok",
     "timestamp": 1744063181692,
     "user": {
      "displayName": "Anthony So",
      "userId": "05258592867336372279"
     },
     "user_tz": -600
    },
    "id": "7We16YIYhez5"
   },
   "outputs": [],
   "source": [
    "# <Student to fill this section>"
   ]
  },
  {
   "cell_type": "code",
   "execution_count": null,
   "metadata": {
    "executionInfo": {
     "elapsed": 1,
     "status": "ok",
     "timestamp": 1744063181693,
     "user": {
      "displayName": "Anthony So",
      "userId": "05258592867336372279"
     },
     "user_tz": -600
    },
    "id": "0L8bb2_yytDG"
   },
   "outputs": [],
   "source": [
    "# <Student to fill this section>\n",
    "performance_metrics_explanations = \"\"\"\n",
    "In this project, recall is the most important metric because our primary goal is to identify as many Average and Poor performing students as possible. Catching these students early allows the university to offer academic support, mentoring, and interventions to improve their future performance. From a business perspective, missing students who need help would mean lost opportunities to boost academic success rates, student satisfaction, and overall university reputation.\n",
    "\"\"\""
   ]
  },
  {
   "cell_type": "code",
   "execution_count": null,
   "metadata": {
    "colab": {
     "base_uri": "https://localhost:8080/",
     "height": 81
    },
    "executionInfo": {
     "elapsed": 1,
     "status": "ok",
     "timestamp": 1744063181694,
     "user": {
      "displayName": "Anthony So",
      "userId": "05258592867336372279"
     },
     "user_tz": -600
    },
    "id": "8PygG0TXytGd",
    "outputId": "689fb447-7a9d-4d3a-9e88-845a20f29290"
   },
   "outputs": [],
   "source": [
    "# Do not modify this code\n",
    "print_tile(size=\"h3\", key='performance_metrics_explanations', value=performance_metrics_explanations)"
   ]
  },
  {
   "cell_type": "markdown",
   "metadata": {
    "id": "q43YtqpdeniY"
   },
   "source": [
    "### I.3 Baseline Model Performance"
   ]
  },
  {
   "cell_type": "code",
   "execution_count": null,
   "metadata": {
    "executionInfo": {
     "elapsed": 0,
     "status": "ok",
     "timestamp": 1744063181695,
     "user": {
      "displayName": "Anthony So",
      "userId": "05258592867336372279"
     },
     "user_tz": -600
    },
    "id": "x1Q3oxoNhez5"
   },
   "outputs": [],
   "source": [
    "# <Student to fill this section>"
   ]
  },
  {
   "cell_type": "code",
   "execution_count": null,
   "metadata": {
    "executionInfo": {
     "elapsed": 0,
     "status": "ok",
     "timestamp": 1744063181697,
     "user": {
      "displayName": "Anthony So",
      "userId": "05258592867336372279"
     },
     "user_tz": -600
    },
    "id": "QO4YwUfSy2AQ"
   },
   "outputs": [],
   "source": [
    "# <Student to fill this section>\n",
    "baseline_performance_explanations = \"\"\"\n",
    "Finding Struggling Students (Recall):\n",
    "The model is good at catching most students who are struggling (especially Poor and Average students).\n",
    "\n",
    "Poor students (88% recall): Very high, meaning the model catches almost all students who need urgent help.\n",
    "\n",
    "Average students (83% recall): Also strong, so the model is identifying most students who might be at risk.\n",
    "\"\"\""
   ]
  },
  {
   "cell_type": "code",
   "execution_count": null,
   "metadata": {
    "colab": {
     "base_uri": "https://localhost:8080/",
     "height": 81
    },
    "executionInfo": {
     "elapsed": 2,
     "status": "ok",
     "timestamp": 1744063181700,
     "user": {
      "displayName": "Anthony So",
      "userId": "05258592867336372279"
     },
     "user_tz": -600
    },
    "id": "Y-Cxdd09y2D4",
    "outputId": "bcbfbe4b-d690-45ea-8717-66870fd651ff"
   },
   "outputs": [],
   "source": [
    "# Do not modify this code\n",
    "print_tile(size=\"h3\", key='baseline_performance_explanations', value=baseline_performance_explanations)"
   ]
  },
  {
   "cell_type": "code",
   "execution_count": null,
   "metadata": {
    "executionInfo": {
     "elapsed": 1,
     "status": "ok",
     "timestamp": 1744063181701,
     "user": {
      "displayName": "Anthony So",
      "userId": "05258592867336372279"
     },
     "user_tz": -600
    },
    "id": "XYI2cwfg6UCp"
   },
   "outputs": [],
   "source": [
    "#we will proceed with a more power classification model and compare it against the baseline model."
   ]
  },
  {
   "cell_type": "code",
   "execution_count": null,
   "metadata": {
    "executionInfo": {
     "elapsed": 1,
     "status": "ok",
     "timestamp": 1744063181702,
     "user": {
      "displayName": "Anthony So",
      "userId": "05258592867336372279"
     },
     "user_tz": -600
    },
    "id": "WVgxtsnk6ULQ"
   },
   "outputs": [],
   "source": []
  }
 ],
 "metadata": {
  "colab": {
   "provenance": [
    {
     "file_id": "13MHsQlFmfLuY1rWjvW73WSaDUaRPENW4",
     "timestamp": 1680399055727
    }
   ],
   "toc_visible": true
  },
  "kernelspec": {
   "display_name": "Python 3 (ipykernel)",
   "language": "python",
   "name": "python3"
  },
  "language_info": {
   "codemirror_mode": {
    "name": "ipython",
    "version": 3
   },
   "file_extension": ".py",
   "mimetype": "text/x-python",
   "name": "python",
   "nbconvert_exporter": "python",
   "pygments_lexer": "ipython3",
   "version": "3.11.5"
  }
 },
 "nbformat": 4,
 "nbformat_minor": 1
}
