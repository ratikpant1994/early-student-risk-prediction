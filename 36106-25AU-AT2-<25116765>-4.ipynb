{
 "cells": [
  {
   "cell_type": "markdown",
   "metadata": {
    "id": "uQ6wc2HE0pke"
   },
   "source": [
    "# **Experiment Notebook**\n",
    "\n"
   ]
  },
  {
   "cell_type": "markdown",
   "metadata": {
    "id": "KFVpE17Ahezu"
   },
   "source": [
    "---\n",
    "## 0. Setup Environment"
   ]
  },
  {
   "cell_type": "markdown",
   "metadata": {
    "id": "kWUmi7fakv5O"
   },
   "source": [
    "### 0.a Install Environment and Mandatory Packages"
   ]
  },
  {
   "cell_type": "code",
   "execution_count": 1,
   "metadata": {
    "colab": {
     "base_uri": "https://localhost:8080/"
    },
    "executionInfo": {
     "elapsed": 41323,
     "status": "ok",
     "timestamp": 1744063157520,
     "user": {
      "displayName": "Anthony So",
      "userId": "05258592867336372279"
     },
     "user_tz": -600
    },
    "id": "S8jFaNXqvV5W",
    "outputId": "c7c58941-09e4-48ff-f3af-5123920133af"
   },
   "outputs": [
    {
     "name": "stdout",
     "output_type": "stream",
     "text": [
      "\u001b[2K   \u001b[90m━━━━━━━━━━━━━━━━━━━━━━━━━━━━━━━━━━━━━━━━\u001b[0m \u001b[32m1.6/1.6 MB\u001b[0m \u001b[31m13.7 MB/s\u001b[0m eta \u001b[36m0:00:00\u001b[0m\n",
      "\u001b[?25hMounted at /content/gdrive\n",
      "\n",
      "You can now save your data files in: /content/36106/assignment/AT2/data\n"
     ]
    }
   ],
   "source": [
    "# Do not modify this code\n",
    "!pip install -q utstd\n",
    "\n",
    "from utstd.folders import *\n",
    "from utstd.ipyrenders import *\n",
    "\n",
    "at = AtFolder(\n",
    "    course_code=36106,\n",
    "    assignment=\"AT2\",\n",
    ")\n",
    "at.run()"
   ]
  },
  {
   "cell_type": "markdown",
   "metadata": {
    "id": "jM39DExClCc5"
   },
   "source": [
    "### 0.b Disable Warnings Messages"
   ]
  },
  {
   "cell_type": "code",
   "execution_count": 2,
   "metadata": {
    "executionInfo": {
     "elapsed": 7,
     "status": "ok",
     "timestamp": 1744063157526,
     "user": {
      "displayName": "Anthony So",
      "userId": "05258592867336372279"
     },
     "user_tz": -600
    },
    "id": "6FneOmBfka9G"
   },
   "outputs": [],
   "source": [
    "# Do not modify this code\n",
    "import warnings\n",
    "warnings.simplefilter(action='ignore')"
   ]
  },
  {
   "cell_type": "markdown",
   "metadata": {
    "id": "CgTrMfyylVLf"
   },
   "source": [
    "### 0.c Install Additional Packages\n",
    "\n",
    "> If you are using additional packages, you need to install them here using the command: `! pip install <package_name>`"
   ]
  },
  {
   "cell_type": "code",
   "execution_count": 3,
   "metadata": {
    "executionInfo": {
     "elapsed": 1,
     "status": "ok",
     "timestamp": 1744063157527,
     "user": {
      "displayName": "Anthony So",
      "userId": "05258592867336372279"
     },
     "user_tz": -600
    },
    "id": "D79tb2V-lVpJ"
   },
   "outputs": [],
   "source": [
    "# <Student to fill this section>"
   ]
  },
  {
   "cell_type": "markdown",
   "metadata": {
    "id": "mXFKfa2tp1ch"
   },
   "source": [
    "### 0.d Import Packages"
   ]
  },
  {
   "cell_type": "code",
   "execution_count": 3,
   "metadata": {
    "executionInfo": {
     "elapsed": 1093,
     "status": "ok",
     "timestamp": 1744063158621,
     "user": {
      "displayName": "Anthony So",
      "userId": "05258592867336372279"
     },
     "user_tz": -600
    },
    "id": "GBEAwdncnlAx"
   },
   "outputs": [],
   "source": [
    "# <Student to fill this section>\n",
    "import pandas as pd\n",
    "import altair as alt\n",
    "import numpy as np\n",
    "import matplotlib.pyplot as plt\n",
    "import seaborn as sns\n"
   ]
  },
  {
   "cell_type": "markdown",
   "metadata": {
    "id": "tQgxLRrvjiJb"
   },
   "source": [
    "---\n",
    "## A. Project Description\n"
   ]
  },
  {
   "cell_type": "code",
   "execution_count": 5,
   "metadata": {
    "executionInfo": {
     "elapsed": 2,
     "status": "ok",
     "timestamp": 1744063158624,
     "user": {
      "displayName": "Anthony So",
      "userId": "05258592867336372279"
     },
     "user_tz": -600
    },
    "id": "X5mh2fhW1iBy"
   },
   "outputs": [],
   "source": [
    "# <Student to fill this section>\n",
    "student_name = \"Ratik Pant\"\n",
    "student_id = \"25116765\""
   ]
  },
  {
   "cell_type": "code",
   "execution_count": 6,
   "metadata": {
    "colab": {
     "base_uri": "https://localhost:8080/",
     "height": 59
    },
    "executionInfo": {
     "elapsed": 51,
     "status": "ok",
     "timestamp": 1744063158677,
     "user": {
      "displayName": "Anthony So",
      "userId": "05258592867336372279"
     },
     "user_tz": -600
    },
    "id": "uaK__uW61iI8",
    "outputId": "61848c82-2aed-44b1-9264-4a9ef804a216"
   },
   "outputs": [
    {
     "data": {
      "text/html": [
       "<p style=\"color:grey\">student_name</p><h1 font-size: 3em></h1>"
      ],
      "text/plain": [
       "<IPython.core.display.HTML object>"
      ]
     },
     "metadata": {},
     "output_type": "display_data"
    }
   ],
   "source": [
    "# Do not modify this code\n",
    "print_tile(size=\"h1\", key='student_name', value=student_name)"
   ]
  },
  {
   "cell_type": "code",
   "execution_count": 7,
   "metadata": {
    "colab": {
     "base_uri": "https://localhost:8080/",
     "height": 59
    },
    "executionInfo": {
     "elapsed": 3,
     "status": "ok",
     "timestamp": 1744063158678,
     "user": {
      "displayName": "Anthony So",
      "userId": "05258592867336372279"
     },
     "user_tz": -600
    },
    "id": "3sklS9SO1iPN",
    "outputId": "895fdd64-6b2a-4ebf-8d67-a902fb7c7e4b"
   },
   "outputs": [
    {
     "data": {
      "text/html": [
       "<p style=\"color:grey\">student_id</p><h1 font-size: 3em></h1>"
      ],
      "text/plain": [
       "<IPython.core.display.HTML object>"
      ]
     },
     "metadata": {},
     "output_type": "display_data"
    }
   ],
   "source": [
    "# Do not modify this code\n",
    "print_tile(size=\"h1\", key='student_id', value=student_id)"
   ]
  },
  {
   "cell_type": "code",
   "execution_count": 8,
   "metadata": {
    "executionInfo": {
     "elapsed": 69,
     "status": "ok",
     "timestamp": 1744063158747,
     "user": {
      "displayName": "Anthony So",
      "userId": "05258592867336372279"
     },
     "user_tz": -600
    },
    "id": "GTf0Pg6Z2v-Z"
   },
   "outputs": [],
   "source": [
    "# <Student to fill this section>\n",
    "business_objective = \"\"\"\n",
    "\"\"\""
   ]
  },
  {
   "cell_type": "code",
   "execution_count": 9,
   "metadata": {
    "colab": {
     "base_uri": "https://localhost:8080/",
     "height": 57
    },
    "executionInfo": {
     "elapsed": 28,
     "status": "ok",
     "timestamp": 1744063158776,
     "user": {
      "displayName": "Anthony So",
      "userId": "05258592867336372279"
     },
     "user_tz": -600
    },
    "id": "exnz6agQ2wFg",
    "outputId": "e33c2475-d9a1-4521-8927-c1e782e17bc7"
   },
   "outputs": [
    {
     "data": {
      "text/html": [
       "<p style=\"color:grey\">business_objective</p><h3 font-size: 3em>\n",
       "</h3>"
      ],
      "text/plain": [
       "<IPython.core.display.HTML object>"
      ]
     },
     "metadata": {},
     "output_type": "display_data"
    }
   ],
   "source": [
    "# Do not modify this code\n",
    "print_tile(size=\"h3\", key='business_objective', value=business_objective)"
   ]
  },
  {
   "cell_type": "markdown",
   "metadata": {
    "id": "4q1Bzcejvfpm"
   },
   "source": [
    "---\n",
    "## B. Experiment Description"
   ]
  },
  {
   "cell_type": "code",
   "execution_count": 10,
   "metadata": {
    "colab": {
     "base_uri": "https://localhost:8080/",
     "height": 98
    },
    "executionInfo": {
     "elapsed": 2,
     "status": "ok",
     "timestamp": 1744063158779,
     "user": {
      "displayName": "Anthony So",
      "userId": "05258592867336372279"
     },
     "user_tz": -600
    },
    "id": "dXpWo_-o21FD",
    "outputId": "dc5544e2-92c6-4e30-a317-69923028db0b"
   },
   "outputs": [
    {
     "data": {
      "text/html": [
       "<p style=\"color:grey\">experiment_id</p><h1 font-size: 3em>4</h1>"
      ],
      "text/plain": [
       "<IPython.core.display.HTML object>"
      ]
     },
     "metadata": {},
     "output_type": "display_data"
    }
   ],
   "source": [
    "# Do not modify this code\n",
    "experiment_id = \"4\"\n",
    "print_tile(size=\"h1\", key='experiment_id', value=experiment_id)"
   ]
  },
  {
   "cell_type": "code",
   "execution_count": 11,
   "metadata": {
    "executionInfo": {
     "elapsed": 9,
     "status": "ok",
     "timestamp": 1744063158795,
     "user": {
      "displayName": "Anthony So",
      "userId": "05258592867336372279"
     },
     "user_tz": -600
    },
    "id": "qng9pUoU21Kp"
   },
   "outputs": [],
   "source": [
    "# <Student to fill this section>\n",
    "experiment_hypothesis = \"\"\"\n",
    "Present the hypothesis you want to test, the question you want to answer or the insight you are seeking.\n",
    "Explain the reasons why you think it is worthwhile considering it\n",
    "\"\"\""
   ]
  },
  {
   "cell_type": "code",
   "execution_count": 12,
   "metadata": {
    "colab": {
     "base_uri": "https://localhost:8080/",
     "height": 101
    },
    "executionInfo": {
     "elapsed": 12,
     "status": "ok",
     "timestamp": 1744063158856,
     "user": {
      "displayName": "Anthony So",
      "userId": "05258592867336372279"
     },
     "user_tz": -600
    },
    "id": "3F9fpCzf21YI",
    "outputId": "99a3f7be-201d-4351-a3e8-a16e78b1560b"
   },
   "outputs": [
    {
     "data": {
      "text/html": [
       "<p style=\"color:grey\">experiment_hypothesis</p><h3 font-size: 3em>\n",
       "Present the hypothesis you want to test, the question you want to answer or the insight you are seeking.\n",
       "Explain the reasons why you think it is worthwhile considering it\n",
       "</h3>"
      ],
      "text/plain": [
       "<IPython.core.display.HTML object>"
      ]
     },
     "metadata": {},
     "output_type": "display_data"
    }
   ],
   "source": [
    "# Do not modify this code\n",
    "print_tile(size=\"h3\", key='experiment_hypothesis', value=experiment_hypothesis)"
   ]
  },
  {
   "cell_type": "code",
   "execution_count": 13,
   "metadata": {
    "executionInfo": {
     "elapsed": 1,
     "status": "ok",
     "timestamp": 1744063158858,
     "user": {
      "displayName": "Anthony So",
      "userId": "05258592867336372279"
     },
     "user_tz": -600
    },
    "id": "8Ke5AG7A21dx"
   },
   "outputs": [],
   "source": [
    "# <Student to fill this section>\n",
    "experiment_expectations = \"\"\"\n",
    "Detail what will be the expected outcome of the experiment. If possible, estimate the goal you are expecting.\n",
    "List the possible scenarios resulting from this experiment.\n",
    "\"\"\""
   ]
  },
  {
   "cell_type": "code",
   "execution_count": 14,
   "metadata": {
    "colab": {
     "base_uri": "https://localhost:8080/",
     "height": 101
    },
    "executionInfo": {
     "elapsed": 8,
     "status": "ok",
     "timestamp": 1744063158867,
     "user": {
      "displayName": "Anthony So",
      "userId": "05258592867336372279"
     },
     "user_tz": -600
    },
    "id": "Aal6ECC821nJ",
    "outputId": "54a4d633-98dc-4e0a-e2c4-b88eef83d793"
   },
   "outputs": [
    {
     "data": {
      "text/html": [
       "<p style=\"color:grey\">experiment_expectations</p><h3 font-size: 3em>\n",
       "Detail what will be the expected outcome of the experiment. If possible, estimate the goal you are expecting.\n",
       "List the possible scenarios resulting from this experiment.\n",
       "</h3>"
      ],
      "text/plain": [
       "<IPython.core.display.HTML object>"
      ]
     },
     "metadata": {},
     "output_type": "display_data"
    }
   ],
   "source": [
    "# Do not modify this code\n",
    "print_tile(size=\"h3\", key='experiment_expectations', value=experiment_expectations)"
   ]
  },
  {
   "cell_type": "markdown",
   "metadata": {
    "id": "P0zsEPshwy1K"
   },
   "source": [
    "---\n",
    "## C. Data Understanding"
   ]
  },
  {
   "cell_type": "code",
   "execution_count": 23,
   "metadata": {
    "colab": {
     "base_uri": "https://localhost:8080/"
    },
    "executionInfo": {
     "elapsed": 66,
     "status": "ok",
     "timestamp": 1744063158934,
     "user": {
      "displayName": "Anthony So",
      "userId": "05258592867336372279"
     },
     "user_tz": -600
    },
    "id": "NKgOzSn-w0eq",
    "outputId": "785dd680-00c9-405c-feff-5cd5ac08e157"
   },
   "outputs": [],
   "source": [
    "# Do not modify this code\n",
    "# Load training data\n",
    "try:\n",
    "    df_eng = pd.read_csv('/Users/ratikpant/Desktop/machinelearningass2/df_eng.csv')\n",
    "    \n",
    "except Exception as e:\n",
    "    print(e)"
   ]
  },
  {
   "cell_type": "code",
   "execution_count": 24,
   "metadata": {},
   "outputs": [
    {
     "data": {
      "text/html": [
       "<div>\n",
       "<style scoped>\n",
       "    .dataframe tbody tr th:only-of-type {\n",
       "        vertical-align: middle;\n",
       "    }\n",
       "\n",
       "    .dataframe tbody tr th {\n",
       "        vertical-align: top;\n",
       "    }\n",
       "\n",
       "    .dataframe thead th {\n",
       "        text-align: right;\n",
       "    }\n",
       "</style>\n",
       "<table border=\"1\" class=\"dataframe\">\n",
       "  <thead>\n",
       "    <tr style=\"text-align: right;\">\n",
       "      <th></th>\n",
       "      <th>scholarship</th>\n",
       "      <th>university_transport</th>\n",
       "      <th>has_laptop</th>\n",
       "      <th>has_consulted_teacher</th>\n",
       "      <th>co_curricular</th>\n",
       "      <th>health_issues</th>\n",
       "      <th>study_hours</th>\n",
       "      <th>study_sessions</th>\n",
       "      <th>on_probation</th>\n",
       "      <th>is_suspended</th>\n",
       "      <th>...</th>\n",
       "      <th>english_proficiency_Basic</th>\n",
       "      <th>english_proficiency_Intermediate</th>\n",
       "      <th>living_arrangement_Bachelor</th>\n",
       "      <th>living_arrangement_Family</th>\n",
       "      <th>attendance_bin_Low</th>\n",
       "      <th>attendance_bin_Medium</th>\n",
       "      <th>attendance_bin_High</th>\n",
       "      <th>income_bin_Low</th>\n",
       "      <th>income_bin_Medium</th>\n",
       "      <th>income_bin_High</th>\n",
       "    </tr>\n",
       "  </thead>\n",
       "  <tbody>\n",
       "    <tr>\n",
       "      <th>0</th>\n",
       "      <td>1</td>\n",
       "      <td>0</td>\n",
       "      <td>1</td>\n",
       "      <td>1</td>\n",
       "      <td>0</td>\n",
       "      <td>0</td>\n",
       "      <td>2.0</td>\n",
       "      <td>2.0</td>\n",
       "      <td>1</td>\n",
       "      <td>0</td>\n",
       "      <td>...</td>\n",
       "      <td>1</td>\n",
       "      <td>0</td>\n",
       "      <td>1</td>\n",
       "      <td>0</td>\n",
       "      <td>0</td>\n",
       "      <td>0</td>\n",
       "      <td>1</td>\n",
       "      <td>1</td>\n",
       "      <td>0</td>\n",
       "      <td>0</td>\n",
       "    </tr>\n",
       "    <tr>\n",
       "      <th>1</th>\n",
       "      <td>0</td>\n",
       "      <td>0</td>\n",
       "      <td>1</td>\n",
       "      <td>0</td>\n",
       "      <td>0</td>\n",
       "      <td>1</td>\n",
       "      <td>3.5</td>\n",
       "      <td>2.0</td>\n",
       "      <td>0</td>\n",
       "      <td>0</td>\n",
       "      <td>...</td>\n",
       "      <td>1</td>\n",
       "      <td>0</td>\n",
       "      <td>1</td>\n",
       "      <td>0</td>\n",
       "      <td>0</td>\n",
       "      <td>0</td>\n",
       "      <td>1</td>\n",
       "      <td>1</td>\n",
       "      <td>0</td>\n",
       "      <td>0</td>\n",
       "    </tr>\n",
       "    <tr>\n",
       "      <th>2</th>\n",
       "      <td>1</td>\n",
       "      <td>1</td>\n",
       "      <td>1</td>\n",
       "      <td>1</td>\n",
       "      <td>1</td>\n",
       "      <td>0</td>\n",
       "      <td>2.0</td>\n",
       "      <td>1.0</td>\n",
       "      <td>0</td>\n",
       "      <td>0</td>\n",
       "      <td>...</td>\n",
       "      <td>1</td>\n",
       "      <td>0</td>\n",
       "      <td>0</td>\n",
       "      <td>1</td>\n",
       "      <td>0</td>\n",
       "      <td>0</td>\n",
       "      <td>1</td>\n",
       "      <td>1</td>\n",
       "      <td>0</td>\n",
       "      <td>0</td>\n",
       "    </tr>\n",
       "    <tr>\n",
       "      <th>3</th>\n",
       "      <td>1</td>\n",
       "      <td>0</td>\n",
       "      <td>1</td>\n",
       "      <td>1</td>\n",
       "      <td>0</td>\n",
       "      <td>0</td>\n",
       "      <td>1.0</td>\n",
       "      <td>2.0</td>\n",
       "      <td>0</td>\n",
       "      <td>0</td>\n",
       "      <td>...</td>\n",
       "      <td>0</td>\n",
       "      <td>0</td>\n",
       "      <td>0</td>\n",
       "      <td>1</td>\n",
       "      <td>0</td>\n",
       "      <td>0</td>\n",
       "      <td>1</td>\n",
       "      <td>1</td>\n",
       "      <td>0</td>\n",
       "      <td>0</td>\n",
       "    </tr>\n",
       "    <tr>\n",
       "      <th>4</th>\n",
       "      <td>1</td>\n",
       "      <td>0</td>\n",
       "      <td>1</td>\n",
       "      <td>1</td>\n",
       "      <td>1</td>\n",
       "      <td>0</td>\n",
       "      <td>3.0</td>\n",
       "      <td>2.0</td>\n",
       "      <td>0</td>\n",
       "      <td>0</td>\n",
       "      <td>...</td>\n",
       "      <td>0</td>\n",
       "      <td>1</td>\n",
       "      <td>1</td>\n",
       "      <td>0</td>\n",
       "      <td>0</td>\n",
       "      <td>0</td>\n",
       "      <td>1</td>\n",
       "      <td>1</td>\n",
       "      <td>0</td>\n",
       "      <td>0</td>\n",
       "    </tr>\n",
       "    <tr>\n",
       "      <th>...</th>\n",
       "      <td>...</td>\n",
       "      <td>...</td>\n",
       "      <td>...</td>\n",
       "      <td>...</td>\n",
       "      <td>...</td>\n",
       "      <td>...</td>\n",
       "      <td>...</td>\n",
       "      <td>...</td>\n",
       "      <td>...</td>\n",
       "      <td>...</td>\n",
       "      <td>...</td>\n",
       "      <td>...</td>\n",
       "      <td>...</td>\n",
       "      <td>...</td>\n",
       "      <td>...</td>\n",
       "      <td>...</td>\n",
       "      <td>...</td>\n",
       "      <td>...</td>\n",
       "      <td>...</td>\n",
       "      <td>...</td>\n",
       "      <td>...</td>\n",
       "    </tr>\n",
       "    <tr>\n",
       "      <th>984</th>\n",
       "      <td>0</td>\n",
       "      <td>1</td>\n",
       "      <td>1</td>\n",
       "      <td>0</td>\n",
       "      <td>1</td>\n",
       "      <td>0</td>\n",
       "      <td>1.0</td>\n",
       "      <td>2.0</td>\n",
       "      <td>1</td>\n",
       "      <td>0</td>\n",
       "      <td>...</td>\n",
       "      <td>1</td>\n",
       "      <td>0</td>\n",
       "      <td>1</td>\n",
       "      <td>0</td>\n",
       "      <td>1</td>\n",
       "      <td>0</td>\n",
       "      <td>0</td>\n",
       "      <td>0</td>\n",
       "      <td>0</td>\n",
       "      <td>1</td>\n",
       "    </tr>\n",
       "    <tr>\n",
       "      <th>985</th>\n",
       "      <td>1</td>\n",
       "      <td>1</td>\n",
       "      <td>1</td>\n",
       "      <td>1</td>\n",
       "      <td>1</td>\n",
       "      <td>0</td>\n",
       "      <td>4.0</td>\n",
       "      <td>4.0</td>\n",
       "      <td>1</td>\n",
       "      <td>0</td>\n",
       "      <td>...</td>\n",
       "      <td>1</td>\n",
       "      <td>0</td>\n",
       "      <td>1</td>\n",
       "      <td>0</td>\n",
       "      <td>0</td>\n",
       "      <td>0</td>\n",
       "      <td>1</td>\n",
       "      <td>0</td>\n",
       "      <td>0</td>\n",
       "      <td>1</td>\n",
       "    </tr>\n",
       "    <tr>\n",
       "      <th>986</th>\n",
       "      <td>0</td>\n",
       "      <td>1</td>\n",
       "      <td>0</td>\n",
       "      <td>0</td>\n",
       "      <td>1</td>\n",
       "      <td>0</td>\n",
       "      <td>3.0</td>\n",
       "      <td>3.0</td>\n",
       "      <td>1</td>\n",
       "      <td>0</td>\n",
       "      <td>...</td>\n",
       "      <td>1</td>\n",
       "      <td>0</td>\n",
       "      <td>0</td>\n",
       "      <td>1</td>\n",
       "      <td>0</td>\n",
       "      <td>0</td>\n",
       "      <td>1</td>\n",
       "      <td>0</td>\n",
       "      <td>0</td>\n",
       "      <td>1</td>\n",
       "    </tr>\n",
       "    <tr>\n",
       "      <th>987</th>\n",
       "      <td>0</td>\n",
       "      <td>1</td>\n",
       "      <td>1</td>\n",
       "      <td>1</td>\n",
       "      <td>0</td>\n",
       "      <td>0</td>\n",
       "      <td>5.0</td>\n",
       "      <td>3.0</td>\n",
       "      <td>0</td>\n",
       "      <td>0</td>\n",
       "      <td>...</td>\n",
       "      <td>0</td>\n",
       "      <td>1</td>\n",
       "      <td>1</td>\n",
       "      <td>0</td>\n",
       "      <td>0</td>\n",
       "      <td>0</td>\n",
       "      <td>1</td>\n",
       "      <td>0</td>\n",
       "      <td>0</td>\n",
       "      <td>1</td>\n",
       "    </tr>\n",
       "    <tr>\n",
       "      <th>988</th>\n",
       "      <td>0</td>\n",
       "      <td>1</td>\n",
       "      <td>1</td>\n",
       "      <td>0</td>\n",
       "      <td>1</td>\n",
       "      <td>0</td>\n",
       "      <td>3.0</td>\n",
       "      <td>2.0</td>\n",
       "      <td>0</td>\n",
       "      <td>0</td>\n",
       "      <td>...</td>\n",
       "      <td>0</td>\n",
       "      <td>1</td>\n",
       "      <td>1</td>\n",
       "      <td>0</td>\n",
       "      <td>0</td>\n",
       "      <td>0</td>\n",
       "      <td>1</td>\n",
       "      <td>0</td>\n",
       "      <td>0</td>\n",
       "      <td>1</td>\n",
       "    </tr>\n",
       "  </tbody>\n",
       "</table>\n",
       "<p>989 rows × 29 columns</p>\n",
       "</div>"
      ],
      "text/plain": [
       "     scholarship  university_transport  has_laptop  has_consulted_teacher  \\\n",
       "0              1                     0           1                      1   \n",
       "1              0                     0           1                      0   \n",
       "2              1                     1           1                      1   \n",
       "3              1                     0           1                      1   \n",
       "4              1                     0           1                      1   \n",
       "..           ...                   ...         ...                    ...   \n",
       "984            0                     1           1                      0   \n",
       "985            1                     1           1                      1   \n",
       "986            0                     1           0                      0   \n",
       "987            0                     1           1                      1   \n",
       "988            0                     1           1                      0   \n",
       "\n",
       "     co_curricular  health_issues  study_hours  study_sessions  on_probation  \\\n",
       "0                0              0          2.0             2.0             1   \n",
       "1                0              1          3.5             2.0             0   \n",
       "2                1              0          2.0             1.0             0   \n",
       "3                0              0          1.0             2.0             0   \n",
       "4                1              0          3.0             2.0             0   \n",
       "..             ...            ...          ...             ...           ...   \n",
       "984              1              0          1.0             2.0             1   \n",
       "985              1              0          4.0             4.0             1   \n",
       "986              1              0          3.0             3.0             1   \n",
       "987              0              0          5.0             3.0             0   \n",
       "988              1              0          3.0             2.0             0   \n",
       "\n",
       "     is_suspended  ...  english_proficiency_Basic  \\\n",
       "0               0  ...                          1   \n",
       "1               0  ...                          1   \n",
       "2               0  ...                          1   \n",
       "3               0  ...                          0   \n",
       "4               0  ...                          0   \n",
       "..            ...  ...                        ...   \n",
       "984             0  ...                          1   \n",
       "985             0  ...                          1   \n",
       "986             0  ...                          1   \n",
       "987             0  ...                          0   \n",
       "988             0  ...                          0   \n",
       "\n",
       "     english_proficiency_Intermediate living_arrangement_Bachelor  \\\n",
       "0                                   0                           1   \n",
       "1                                   0                           1   \n",
       "2                                   0                           0   \n",
       "3                                   0                           0   \n",
       "4                                   1                           1   \n",
       "..                                ...                         ...   \n",
       "984                                 0                           1   \n",
       "985                                 0                           1   \n",
       "986                                 0                           0   \n",
       "987                                 1                           1   \n",
       "988                                 1                           1   \n",
       "\n",
       "     living_arrangement_Family  attendance_bin_Low  attendance_bin_Medium  \\\n",
       "0                            0                   0                      0   \n",
       "1                            0                   0                      0   \n",
       "2                            1                   0                      0   \n",
       "3                            1                   0                      0   \n",
       "4                            0                   0                      0   \n",
       "..                         ...                 ...                    ...   \n",
       "984                          0                   1                      0   \n",
       "985                          0                   0                      0   \n",
       "986                          1                   0                      0   \n",
       "987                          0                   0                      0   \n",
       "988                          0                   0                      0   \n",
       "\n",
       "     attendance_bin_High  income_bin_Low  income_bin_Medium  income_bin_High  \n",
       "0                      1               1                  0                0  \n",
       "1                      1               1                  0                0  \n",
       "2                      1               1                  0                0  \n",
       "3                      1               1                  0                0  \n",
       "4                      1               1                  0                0  \n",
       "..                   ...             ...                ...              ...  \n",
       "984                    0               0                  0                1  \n",
       "985                    1               0                  0                1  \n",
       "986                    1               0                  0                1  \n",
       "987                    1               0                  0                1  \n",
       "988                    1               0                  0                1  \n",
       "\n",
       "[989 rows x 29 columns]"
      ]
     },
     "execution_count": 24,
     "metadata": {},
     "output_type": "execute_result"
    }
   ],
   "source": [
    "df_eng"
   ]
  },
  {
   "cell_type": "code",
   "execution_count": 25,
   "metadata": {},
   "outputs": [],
   "source": [
    "from sklearn.model_selection import StratifiedKFold\n",
    "from sklearn.model_selection import train_test_split\n",
    "from sklearn.preprocessing import LabelEncoder"
   ]
  },
  {
   "cell_type": "code",
   "execution_count": 26,
   "metadata": {},
   "outputs": [],
   "source": [
    "#TARGET VARIABLE\n",
    "y = df_eng.pop('performance_group')"
   ]
  },
  {
   "cell_type": "code",
   "execution_count": 27,
   "metadata": {},
   "outputs": [
    {
     "name": "stdout",
     "output_type": "stream",
     "text": [
      "<class 'pandas.core.frame.DataFrame'>\n",
      "RangeIndex: 989 entries, 0 to 988\n",
      "Data columns (total 28 columns):\n",
      " #   Column                            Non-Null Count  Dtype  \n",
      "---  ------                            --------------  -----  \n",
      " 0   scholarship                       989 non-null    int64  \n",
      " 1   university_transport              989 non-null    int64  \n",
      " 2   has_laptop                        989 non-null    int64  \n",
      " 3   has_consulted_teacher             989 non-null    int64  \n",
      " 4   co_curricular                     989 non-null    int64  \n",
      " 5   health_issues                     989 non-null    int64  \n",
      " 6   study_hours                       989 non-null    float64\n",
      " 7   study_sessions                    989 non-null    float64\n",
      " 8   on_probation                      989 non-null    int64  \n",
      " 9   is_suspended                      989 non-null    int64  \n",
      " 10  skills_development_hours          989 non-null    float64\n",
      " 11  current_gpa                       989 non-null    float64\n",
      " 12  social_risk                       989 non-null    float64\n",
      " 13  gpa_improvement                   989 non-null    float64\n",
      " 14  study_time_per_Session            989 non-null    float64\n",
      " 15  learning_mode_Offline             989 non-null    int64  \n",
      " 16  learning_mode_Online              989 non-null    int64  \n",
      " 17  english_proficiency_Advance       989 non-null    int64  \n",
      " 18  english_proficiency_Basic         989 non-null    int64  \n",
      " 19  english_proficiency_Intermediate  989 non-null    int64  \n",
      " 20  living_arrangement_Bachelor       989 non-null    int64  \n",
      " 21  living_arrangement_Family         989 non-null    int64  \n",
      " 22  attendance_bin_Low                989 non-null    int64  \n",
      " 23  attendance_bin_Medium             989 non-null    int64  \n",
      " 24  attendance_bin_High               989 non-null    int64  \n",
      " 25  income_bin_Low                    989 non-null    int64  \n",
      " 26  income_bin_Medium                 989 non-null    int64  \n",
      " 27  income_bin_High                   989 non-null    int64  \n",
      "dtypes: float64(7), int64(21)\n",
      "memory usage: 216.5 KB\n"
     ]
    }
   ],
   "source": [
    "#INDEPENDENT FEATURES\n",
    "X = df_eng\n",
    "X.info()"
   ]
  },
  {
   "cell_type": "code",
   "execution_count": null,
   "metadata": {},
   "outputs": [],
   "source": [
    "#train test split before stratified k fold"
   ]
  },
  {
   "cell_type": "code",
   "execution_count": 28,
   "metadata": {},
   "outputs": [],
   "source": [
    "X_train, X_test, y_train, y_test = train_test_split(X,y, test_size = 0.2, stratify = y, random_state = 42)"
   ]
  },
  {
   "cell_type": "code",
   "execution_count": 29,
   "metadata": {},
   "outputs": [],
   "source": [
    "skf = StratifiedKFold(n_splits=5, shuffle=True, random_state=42)"
   ]
  },
  {
   "cell_type": "code",
   "execution_count": 30,
   "metadata": {},
   "outputs": [],
   "source": [
    "for train_index, val_index in skf.split(X_train, y_train):\n",
    "    X_train_fold, X_val_fold = X_train.iloc[train_index], X_train.iloc[val_index]\n",
    "    y_train_fold, y_val_fold = y_train.iloc[train_index], y_train.iloc[val_index]"
   ]
  },
  {
   "cell_type": "code",
   "execution_count": null,
   "metadata": {},
   "outputs": [],
   "source": [
    "#train set encoding"
   ]
  },
  {
   "cell_type": "code",
   "execution_count": 31,
   "metadata": {},
   "outputs": [],
   "source": [
    "labelencoder = LabelEncoder()\n",
    "y_train_fold = labelencoder.fit_transform(y_train_fold)"
   ]
  },
  {
   "cell_type": "code",
   "execution_count": 32,
   "metadata": {},
   "outputs": [
    {
     "data": {
      "text/html": [
       "<div>\n",
       "<style scoped>\n",
       "    .dataframe tbody tr th:only-of-type {\n",
       "        vertical-align: middle;\n",
       "    }\n",
       "\n",
       "    .dataframe tbody tr th {\n",
       "        vertical-align: top;\n",
       "    }\n",
       "\n",
       "    .dataframe thead th {\n",
       "        text-align: right;\n",
       "    }\n",
       "</style>\n",
       "<table border=\"1\" class=\"dataframe\">\n",
       "  <thead>\n",
       "    <tr style=\"text-align: right;\">\n",
       "      <th></th>\n",
       "      <th>scholarship</th>\n",
       "      <th>university_transport</th>\n",
       "      <th>has_laptop</th>\n",
       "      <th>has_consulted_teacher</th>\n",
       "      <th>co_curricular</th>\n",
       "      <th>health_issues</th>\n",
       "      <th>study_hours</th>\n",
       "      <th>study_sessions</th>\n",
       "      <th>on_probation</th>\n",
       "      <th>is_suspended</th>\n",
       "      <th>...</th>\n",
       "      <th>english_proficiency_Basic</th>\n",
       "      <th>english_proficiency_Intermediate</th>\n",
       "      <th>living_arrangement_Bachelor</th>\n",
       "      <th>living_arrangement_Family</th>\n",
       "      <th>attendance_bin_Low</th>\n",
       "      <th>attendance_bin_Medium</th>\n",
       "      <th>attendance_bin_High</th>\n",
       "      <th>income_bin_Low</th>\n",
       "      <th>income_bin_Medium</th>\n",
       "      <th>income_bin_High</th>\n",
       "    </tr>\n",
       "  </thead>\n",
       "  <tbody>\n",
       "    <tr>\n",
       "      <th>101</th>\n",
       "      <td>0</td>\n",
       "      <td>0</td>\n",
       "      <td>1</td>\n",
       "      <td>1</td>\n",
       "      <td>0</td>\n",
       "      <td>0</td>\n",
       "      <td>5.0</td>\n",
       "      <td>3.5</td>\n",
       "      <td>0</td>\n",
       "      <td>0</td>\n",
       "      <td>...</td>\n",
       "      <td>0</td>\n",
       "      <td>1</td>\n",
       "      <td>0</td>\n",
       "      <td>1</td>\n",
       "      <td>0</td>\n",
       "      <td>0</td>\n",
       "      <td>1</td>\n",
       "      <td>1</td>\n",
       "      <td>0</td>\n",
       "      <td>0</td>\n",
       "    </tr>\n",
       "    <tr>\n",
       "      <th>330</th>\n",
       "      <td>1</td>\n",
       "      <td>0</td>\n",
       "      <td>1</td>\n",
       "      <td>1</td>\n",
       "      <td>1</td>\n",
       "      <td>0</td>\n",
       "      <td>2.0</td>\n",
       "      <td>2.0</td>\n",
       "      <td>0</td>\n",
       "      <td>0</td>\n",
       "      <td>...</td>\n",
       "      <td>0</td>\n",
       "      <td>1</td>\n",
       "      <td>0</td>\n",
       "      <td>1</td>\n",
       "      <td>0</td>\n",
       "      <td>0</td>\n",
       "      <td>1</td>\n",
       "      <td>1</td>\n",
       "      <td>0</td>\n",
       "      <td>0</td>\n",
       "    </tr>\n",
       "    <tr>\n",
       "      <th>730</th>\n",
       "      <td>0</td>\n",
       "      <td>0</td>\n",
       "      <td>1</td>\n",
       "      <td>1</td>\n",
       "      <td>1</td>\n",
       "      <td>0</td>\n",
       "      <td>3.0</td>\n",
       "      <td>3.0</td>\n",
       "      <td>0</td>\n",
       "      <td>0</td>\n",
       "      <td>...</td>\n",
       "      <td>1</td>\n",
       "      <td>0</td>\n",
       "      <td>0</td>\n",
       "      <td>1</td>\n",
       "      <td>0</td>\n",
       "      <td>0</td>\n",
       "      <td>1</td>\n",
       "      <td>0</td>\n",
       "      <td>1</td>\n",
       "      <td>0</td>\n",
       "    </tr>\n",
       "    <tr>\n",
       "      <th>58</th>\n",
       "      <td>1</td>\n",
       "      <td>0</td>\n",
       "      <td>1</td>\n",
       "      <td>0</td>\n",
       "      <td>1</td>\n",
       "      <td>0</td>\n",
       "      <td>5.0</td>\n",
       "      <td>2.0</td>\n",
       "      <td>0</td>\n",
       "      <td>0</td>\n",
       "      <td>...</td>\n",
       "      <td>0</td>\n",
       "      <td>0</td>\n",
       "      <td>0</td>\n",
       "      <td>1</td>\n",
       "      <td>0</td>\n",
       "      <td>0</td>\n",
       "      <td>1</td>\n",
       "      <td>0</td>\n",
       "      <td>1</td>\n",
       "      <td>0</td>\n",
       "    </tr>\n",
       "    <tr>\n",
       "      <th>403</th>\n",
       "      <td>1</td>\n",
       "      <td>0</td>\n",
       "      <td>1</td>\n",
       "      <td>1</td>\n",
       "      <td>0</td>\n",
       "      <td>0</td>\n",
       "      <td>5.5</td>\n",
       "      <td>2.0</td>\n",
       "      <td>0</td>\n",
       "      <td>0</td>\n",
       "      <td>...</td>\n",
       "      <td>1</td>\n",
       "      <td>0</td>\n",
       "      <td>1</td>\n",
       "      <td>0</td>\n",
       "      <td>0</td>\n",
       "      <td>0</td>\n",
       "      <td>1</td>\n",
       "      <td>1</td>\n",
       "      <td>0</td>\n",
       "      <td>0</td>\n",
       "    </tr>\n",
       "    <tr>\n",
       "      <th>...</th>\n",
       "      <td>...</td>\n",
       "      <td>...</td>\n",
       "      <td>...</td>\n",
       "      <td>...</td>\n",
       "      <td>...</td>\n",
       "      <td>...</td>\n",
       "      <td>...</td>\n",
       "      <td>...</td>\n",
       "      <td>...</td>\n",
       "      <td>...</td>\n",
       "      <td>...</td>\n",
       "      <td>...</td>\n",
       "      <td>...</td>\n",
       "      <td>...</td>\n",
       "      <td>...</td>\n",
       "      <td>...</td>\n",
       "      <td>...</td>\n",
       "      <td>...</td>\n",
       "      <td>...</td>\n",
       "      <td>...</td>\n",
       "      <td>...</td>\n",
       "    </tr>\n",
       "    <tr>\n",
       "      <th>546</th>\n",
       "      <td>1</td>\n",
       "      <td>0</td>\n",
       "      <td>1</td>\n",
       "      <td>1</td>\n",
       "      <td>0</td>\n",
       "      <td>0</td>\n",
       "      <td>1.0</td>\n",
       "      <td>2.0</td>\n",
       "      <td>0</td>\n",
       "      <td>0</td>\n",
       "      <td>...</td>\n",
       "      <td>0</td>\n",
       "      <td>0</td>\n",
       "      <td>1</td>\n",
       "      <td>0</td>\n",
       "      <td>0</td>\n",
       "      <td>0</td>\n",
       "      <td>1</td>\n",
       "      <td>1</td>\n",
       "      <td>0</td>\n",
       "      <td>0</td>\n",
       "    </tr>\n",
       "    <tr>\n",
       "      <th>340</th>\n",
       "      <td>0</td>\n",
       "      <td>1</td>\n",
       "      <td>1</td>\n",
       "      <td>0</td>\n",
       "      <td>0</td>\n",
       "      <td>0</td>\n",
       "      <td>2.5</td>\n",
       "      <td>1.5</td>\n",
       "      <td>1</td>\n",
       "      <td>0</td>\n",
       "      <td>...</td>\n",
       "      <td>0</td>\n",
       "      <td>1</td>\n",
       "      <td>0</td>\n",
       "      <td>1</td>\n",
       "      <td>0</td>\n",
       "      <td>0</td>\n",
       "      <td>1</td>\n",
       "      <td>0</td>\n",
       "      <td>1</td>\n",
       "      <td>0</td>\n",
       "    </tr>\n",
       "    <tr>\n",
       "      <th>504</th>\n",
       "      <td>1</td>\n",
       "      <td>0</td>\n",
       "      <td>1</td>\n",
       "      <td>0</td>\n",
       "      <td>0</td>\n",
       "      <td>0</td>\n",
       "      <td>3.0</td>\n",
       "      <td>2.0</td>\n",
       "      <td>0</td>\n",
       "      <td>0</td>\n",
       "      <td>...</td>\n",
       "      <td>0</td>\n",
       "      <td>1</td>\n",
       "      <td>1</td>\n",
       "      <td>0</td>\n",
       "      <td>0</td>\n",
       "      <td>0</td>\n",
       "      <td>1</td>\n",
       "      <td>1</td>\n",
       "      <td>0</td>\n",
       "      <td>0</td>\n",
       "    </tr>\n",
       "    <tr>\n",
       "      <th>639</th>\n",
       "      <td>0</td>\n",
       "      <td>0</td>\n",
       "      <td>1</td>\n",
       "      <td>1</td>\n",
       "      <td>0</td>\n",
       "      <td>0</td>\n",
       "      <td>2.0</td>\n",
       "      <td>1.0</td>\n",
       "      <td>0</td>\n",
       "      <td>0</td>\n",
       "      <td>...</td>\n",
       "      <td>0</td>\n",
       "      <td>0</td>\n",
       "      <td>1</td>\n",
       "      <td>0</td>\n",
       "      <td>0</td>\n",
       "      <td>0</td>\n",
       "      <td>1</td>\n",
       "      <td>0</td>\n",
       "      <td>1</td>\n",
       "      <td>0</td>\n",
       "    </tr>\n",
       "    <tr>\n",
       "      <th>882</th>\n",
       "      <td>0</td>\n",
       "      <td>1</td>\n",
       "      <td>1</td>\n",
       "      <td>0</td>\n",
       "      <td>1</td>\n",
       "      <td>0</td>\n",
       "      <td>3.0</td>\n",
       "      <td>2.0</td>\n",
       "      <td>0</td>\n",
       "      <td>0</td>\n",
       "      <td>...</td>\n",
       "      <td>0</td>\n",
       "      <td>0</td>\n",
       "      <td>0</td>\n",
       "      <td>1</td>\n",
       "      <td>0</td>\n",
       "      <td>0</td>\n",
       "      <td>1</td>\n",
       "      <td>0</td>\n",
       "      <td>1</td>\n",
       "      <td>0</td>\n",
       "    </tr>\n",
       "  </tbody>\n",
       "</table>\n",
       "<p>633 rows × 28 columns</p>\n",
       "</div>"
      ],
      "text/plain": [
       "     scholarship  university_transport  has_laptop  has_consulted_teacher  \\\n",
       "101            0                     0           1                      1   \n",
       "330            1                     0           1                      1   \n",
       "730            0                     0           1                      1   \n",
       "58             1                     0           1                      0   \n",
       "403            1                     0           1                      1   \n",
       "..           ...                   ...         ...                    ...   \n",
       "546            1                     0           1                      1   \n",
       "340            0                     1           1                      0   \n",
       "504            1                     0           1                      0   \n",
       "639            0                     0           1                      1   \n",
       "882            0                     1           1                      0   \n",
       "\n",
       "     co_curricular  health_issues  study_hours  study_sessions  on_probation  \\\n",
       "101              0              0          5.0             3.5             0   \n",
       "330              1              0          2.0             2.0             0   \n",
       "730              1              0          3.0             3.0             0   \n",
       "58               1              0          5.0             2.0             0   \n",
       "403              0              0          5.5             2.0             0   \n",
       "..             ...            ...          ...             ...           ...   \n",
       "546              0              0          1.0             2.0             0   \n",
       "340              0              0          2.5             1.5             1   \n",
       "504              0              0          3.0             2.0             0   \n",
       "639              0              0          2.0             1.0             0   \n",
       "882              1              0          3.0             2.0             0   \n",
       "\n",
       "     is_suspended  ...  english_proficiency_Basic  \\\n",
       "101             0  ...                          0   \n",
       "330             0  ...                          0   \n",
       "730             0  ...                          1   \n",
       "58              0  ...                          0   \n",
       "403             0  ...                          1   \n",
       "..            ...  ...                        ...   \n",
       "546             0  ...                          0   \n",
       "340             0  ...                          0   \n",
       "504             0  ...                          0   \n",
       "639             0  ...                          0   \n",
       "882             0  ...                          0   \n",
       "\n",
       "     english_proficiency_Intermediate  living_arrangement_Bachelor  \\\n",
       "101                                 1                            0   \n",
       "330                                 1                            0   \n",
       "730                                 0                            0   \n",
       "58                                  0                            0   \n",
       "403                                 0                            1   \n",
       "..                                ...                          ...   \n",
       "546                                 0                            1   \n",
       "340                                 1                            0   \n",
       "504                                 1                            1   \n",
       "639                                 0                            1   \n",
       "882                                 0                            0   \n",
       "\n",
       "     living_arrangement_Family  attendance_bin_Low  attendance_bin_Medium  \\\n",
       "101                          1                   0                      0   \n",
       "330                          1                   0                      0   \n",
       "730                          1                   0                      0   \n",
       "58                           1                   0                      0   \n",
       "403                          0                   0                      0   \n",
       "..                         ...                 ...                    ...   \n",
       "546                          0                   0                      0   \n",
       "340                          1                   0                      0   \n",
       "504                          0                   0                      0   \n",
       "639                          0                   0                      0   \n",
       "882                          1                   0                      0   \n",
       "\n",
       "     attendance_bin_High  income_bin_Low  income_bin_Medium  income_bin_High  \n",
       "101                    1               1                  0                0  \n",
       "330                    1               1                  0                0  \n",
       "730                    1               0                  1                0  \n",
       "58                     1               0                  1                0  \n",
       "403                    1               1                  0                0  \n",
       "..                   ...             ...                ...              ...  \n",
       "546                    1               1                  0                0  \n",
       "340                    1               0                  1                0  \n",
       "504                    1               1                  0                0  \n",
       "639                    1               0                  1                0  \n",
       "882                    1               0                  1                0  \n",
       "\n",
       "[633 rows x 28 columns]"
      ]
     },
     "execution_count": 32,
     "metadata": {},
     "output_type": "execute_result"
    }
   ],
   "source": [
    "X_train = X_train_fold\n",
    "X_train"
   ]
  },
  {
   "cell_type": "code",
   "execution_count": 33,
   "metadata": {},
   "outputs": [],
   "source": [
    "y_train = y_train_fold"
   ]
  },
  {
   "cell_type": "code",
   "execution_count": 34,
   "metadata": {},
   "outputs": [],
   "source": [
    "# val set "
   ]
  },
  {
   "cell_type": "code",
   "execution_count": 35,
   "metadata": {},
   "outputs": [],
   "source": [
    "labelencoder = LabelEncoder()\n",
    "y_val_fold = labelencoder.fit_transform(y_val_fold)"
   ]
  },
  {
   "cell_type": "code",
   "execution_count": 36,
   "metadata": {},
   "outputs": [
    {
     "data": {
      "text/html": [
       "<div>\n",
       "<style scoped>\n",
       "    .dataframe tbody tr th:only-of-type {\n",
       "        vertical-align: middle;\n",
       "    }\n",
       "\n",
       "    .dataframe tbody tr th {\n",
       "        vertical-align: top;\n",
       "    }\n",
       "\n",
       "    .dataframe thead th {\n",
       "        text-align: right;\n",
       "    }\n",
       "</style>\n",
       "<table border=\"1\" class=\"dataframe\">\n",
       "  <thead>\n",
       "    <tr style=\"text-align: right;\">\n",
       "      <th></th>\n",
       "      <th>scholarship</th>\n",
       "      <th>university_transport</th>\n",
       "      <th>has_laptop</th>\n",
       "      <th>has_consulted_teacher</th>\n",
       "      <th>co_curricular</th>\n",
       "      <th>health_issues</th>\n",
       "      <th>study_hours</th>\n",
       "      <th>study_sessions</th>\n",
       "      <th>on_probation</th>\n",
       "      <th>is_suspended</th>\n",
       "      <th>...</th>\n",
       "      <th>english_proficiency_Basic</th>\n",
       "      <th>english_proficiency_Intermediate</th>\n",
       "      <th>living_arrangement_Bachelor</th>\n",
       "      <th>living_arrangement_Family</th>\n",
       "      <th>attendance_bin_Low</th>\n",
       "      <th>attendance_bin_Medium</th>\n",
       "      <th>attendance_bin_High</th>\n",
       "      <th>income_bin_Low</th>\n",
       "      <th>income_bin_Medium</th>\n",
       "      <th>income_bin_High</th>\n",
       "    </tr>\n",
       "  </thead>\n",
       "  <tbody>\n",
       "    <tr>\n",
       "      <th>167</th>\n",
       "      <td>1</td>\n",
       "      <td>0</td>\n",
       "      <td>1</td>\n",
       "      <td>0</td>\n",
       "      <td>0</td>\n",
       "      <td>1</td>\n",
       "      <td>2.0</td>\n",
       "      <td>2.0</td>\n",
       "      <td>0</td>\n",
       "      <td>0</td>\n",
       "      <td>...</td>\n",
       "      <td>1</td>\n",
       "      <td>0</td>\n",
       "      <td>0</td>\n",
       "      <td>1</td>\n",
       "      <td>0</td>\n",
       "      <td>0</td>\n",
       "      <td>1</td>\n",
       "      <td>0</td>\n",
       "      <td>1</td>\n",
       "      <td>0</td>\n",
       "    </tr>\n",
       "    <tr>\n",
       "      <th>415</th>\n",
       "      <td>1</td>\n",
       "      <td>0</td>\n",
       "      <td>1</td>\n",
       "      <td>0</td>\n",
       "      <td>0</td>\n",
       "      <td>0</td>\n",
       "      <td>7.0</td>\n",
       "      <td>3.5</td>\n",
       "      <td>0</td>\n",
       "      <td>0</td>\n",
       "      <td>...</td>\n",
       "      <td>0</td>\n",
       "      <td>1</td>\n",
       "      <td>1</td>\n",
       "      <td>0</td>\n",
       "      <td>0</td>\n",
       "      <td>0</td>\n",
       "      <td>1</td>\n",
       "      <td>1</td>\n",
       "      <td>0</td>\n",
       "      <td>0</td>\n",
       "    </tr>\n",
       "    <tr>\n",
       "      <th>886</th>\n",
       "      <td>0</td>\n",
       "      <td>1</td>\n",
       "      <td>0</td>\n",
       "      <td>0</td>\n",
       "      <td>0</td>\n",
       "      <td>1</td>\n",
       "      <td>1.0</td>\n",
       "      <td>2.0</td>\n",
       "      <td>0</td>\n",
       "      <td>0</td>\n",
       "      <td>...</td>\n",
       "      <td>0</td>\n",
       "      <td>1</td>\n",
       "      <td>1</td>\n",
       "      <td>0</td>\n",
       "      <td>0</td>\n",
       "      <td>0</td>\n",
       "      <td>1</td>\n",
       "      <td>0</td>\n",
       "      <td>1</td>\n",
       "      <td>0</td>\n",
       "    </tr>\n",
       "    <tr>\n",
       "      <th>640</th>\n",
       "      <td>0</td>\n",
       "      <td>0</td>\n",
       "      <td>1</td>\n",
       "      <td>0</td>\n",
       "      <td>1</td>\n",
       "      <td>1</td>\n",
       "      <td>3.0</td>\n",
       "      <td>1.0</td>\n",
       "      <td>1</td>\n",
       "      <td>0</td>\n",
       "      <td>...</td>\n",
       "      <td>0</td>\n",
       "      <td>1</td>\n",
       "      <td>0</td>\n",
       "      <td>1</td>\n",
       "      <td>0</td>\n",
       "      <td>0</td>\n",
       "      <td>1</td>\n",
       "      <td>0</td>\n",
       "      <td>1</td>\n",
       "      <td>0</td>\n",
       "    </tr>\n",
       "    <tr>\n",
       "      <th>585</th>\n",
       "      <td>0</td>\n",
       "      <td>0</td>\n",
       "      <td>1</td>\n",
       "      <td>0</td>\n",
       "      <td>1</td>\n",
       "      <td>0</td>\n",
       "      <td>2.0</td>\n",
       "      <td>2.0</td>\n",
       "      <td>0</td>\n",
       "      <td>0</td>\n",
       "      <td>...</td>\n",
       "      <td>0</td>\n",
       "      <td>1</td>\n",
       "      <td>1</td>\n",
       "      <td>0</td>\n",
       "      <td>0</td>\n",
       "      <td>1</td>\n",
       "      <td>0</td>\n",
       "      <td>0</td>\n",
       "      <td>1</td>\n",
       "      <td>0</td>\n",
       "    </tr>\n",
       "    <tr>\n",
       "      <th>...</th>\n",
       "      <td>...</td>\n",
       "      <td>...</td>\n",
       "      <td>...</td>\n",
       "      <td>...</td>\n",
       "      <td>...</td>\n",
       "      <td>...</td>\n",
       "      <td>...</td>\n",
       "      <td>...</td>\n",
       "      <td>...</td>\n",
       "      <td>...</td>\n",
       "      <td>...</td>\n",
       "      <td>...</td>\n",
       "      <td>...</td>\n",
       "      <td>...</td>\n",
       "      <td>...</td>\n",
       "      <td>...</td>\n",
       "      <td>...</td>\n",
       "      <td>...</td>\n",
       "      <td>...</td>\n",
       "      <td>...</td>\n",
       "      <td>...</td>\n",
       "    </tr>\n",
       "    <tr>\n",
       "      <th>438</th>\n",
       "      <td>1</td>\n",
       "      <td>1</td>\n",
       "      <td>1</td>\n",
       "      <td>1</td>\n",
       "      <td>0</td>\n",
       "      <td>0</td>\n",
       "      <td>2.0</td>\n",
       "      <td>1.0</td>\n",
       "      <td>0</td>\n",
       "      <td>0</td>\n",
       "      <td>...</td>\n",
       "      <td>0</td>\n",
       "      <td>1</td>\n",
       "      <td>0</td>\n",
       "      <td>1</td>\n",
       "      <td>0</td>\n",
       "      <td>0</td>\n",
       "      <td>1</td>\n",
       "      <td>1</td>\n",
       "      <td>0</td>\n",
       "      <td>0</td>\n",
       "    </tr>\n",
       "    <tr>\n",
       "      <th>94</th>\n",
       "      <td>0</td>\n",
       "      <td>0</td>\n",
       "      <td>1</td>\n",
       "      <td>1</td>\n",
       "      <td>0</td>\n",
       "      <td>0</td>\n",
       "      <td>4.5</td>\n",
       "      <td>2.0</td>\n",
       "      <td>0</td>\n",
       "      <td>0</td>\n",
       "      <td>...</td>\n",
       "      <td>0</td>\n",
       "      <td>1</td>\n",
       "      <td>1</td>\n",
       "      <td>0</td>\n",
       "      <td>0</td>\n",
       "      <td>0</td>\n",
       "      <td>1</td>\n",
       "      <td>1</td>\n",
       "      <td>0</td>\n",
       "      <td>0</td>\n",
       "    </tr>\n",
       "    <tr>\n",
       "      <th>653</th>\n",
       "      <td>0</td>\n",
       "      <td>0</td>\n",
       "      <td>1</td>\n",
       "      <td>0</td>\n",
       "      <td>1</td>\n",
       "      <td>0</td>\n",
       "      <td>2.0</td>\n",
       "      <td>1.0</td>\n",
       "      <td>0</td>\n",
       "      <td>0</td>\n",
       "      <td>...</td>\n",
       "      <td>1</td>\n",
       "      <td>0</td>\n",
       "      <td>0</td>\n",
       "      <td>1</td>\n",
       "      <td>0</td>\n",
       "      <td>0</td>\n",
       "      <td>1</td>\n",
       "      <td>0</td>\n",
       "      <td>1</td>\n",
       "      <td>0</td>\n",
       "    </tr>\n",
       "    <tr>\n",
       "      <th>183</th>\n",
       "      <td>0</td>\n",
       "      <td>1</td>\n",
       "      <td>1</td>\n",
       "      <td>0</td>\n",
       "      <td>0</td>\n",
       "      <td>0</td>\n",
       "      <td>4.0</td>\n",
       "      <td>2.0</td>\n",
       "      <td>1</td>\n",
       "      <td>0</td>\n",
       "      <td>...</td>\n",
       "      <td>0</td>\n",
       "      <td>1</td>\n",
       "      <td>0</td>\n",
       "      <td>1</td>\n",
       "      <td>0</td>\n",
       "      <td>0</td>\n",
       "      <td>1</td>\n",
       "      <td>1</td>\n",
       "      <td>0</td>\n",
       "      <td>0</td>\n",
       "    </tr>\n",
       "    <tr>\n",
       "      <th>808</th>\n",
       "      <td>0</td>\n",
       "      <td>0</td>\n",
       "      <td>0</td>\n",
       "      <td>0</td>\n",
       "      <td>1</td>\n",
       "      <td>0</td>\n",
       "      <td>2.0</td>\n",
       "      <td>2.0</td>\n",
       "      <td>1</td>\n",
       "      <td>0</td>\n",
       "      <td>...</td>\n",
       "      <td>0</td>\n",
       "      <td>0</td>\n",
       "      <td>0</td>\n",
       "      <td>1</td>\n",
       "      <td>0</td>\n",
       "      <td>0</td>\n",
       "      <td>1</td>\n",
       "      <td>0</td>\n",
       "      <td>1</td>\n",
       "      <td>0</td>\n",
       "    </tr>\n",
       "  </tbody>\n",
       "</table>\n",
       "<p>158 rows × 28 columns</p>\n",
       "</div>"
      ],
      "text/plain": [
       "     scholarship  university_transport  has_laptop  has_consulted_teacher  \\\n",
       "167            1                     0           1                      0   \n",
       "415            1                     0           1                      0   \n",
       "886            0                     1           0                      0   \n",
       "640            0                     0           1                      0   \n",
       "585            0                     0           1                      0   \n",
       "..           ...                   ...         ...                    ...   \n",
       "438            1                     1           1                      1   \n",
       "94             0                     0           1                      1   \n",
       "653            0                     0           1                      0   \n",
       "183            0                     1           1                      0   \n",
       "808            0                     0           0                      0   \n",
       "\n",
       "     co_curricular  health_issues  study_hours  study_sessions  on_probation  \\\n",
       "167              0              1          2.0             2.0             0   \n",
       "415              0              0          7.0             3.5             0   \n",
       "886              0              1          1.0             2.0             0   \n",
       "640              1              1          3.0             1.0             1   \n",
       "585              1              0          2.0             2.0             0   \n",
       "..             ...            ...          ...             ...           ...   \n",
       "438              0              0          2.0             1.0             0   \n",
       "94               0              0          4.5             2.0             0   \n",
       "653              1              0          2.0             1.0             0   \n",
       "183              0              0          4.0             2.0             1   \n",
       "808              1              0          2.0             2.0             1   \n",
       "\n",
       "     is_suspended  ...  english_proficiency_Basic  \\\n",
       "167             0  ...                          1   \n",
       "415             0  ...                          0   \n",
       "886             0  ...                          0   \n",
       "640             0  ...                          0   \n",
       "585             0  ...                          0   \n",
       "..            ...  ...                        ...   \n",
       "438             0  ...                          0   \n",
       "94              0  ...                          0   \n",
       "653             0  ...                          1   \n",
       "183             0  ...                          0   \n",
       "808             0  ...                          0   \n",
       "\n",
       "     english_proficiency_Intermediate  living_arrangement_Bachelor  \\\n",
       "167                                 0                            0   \n",
       "415                                 1                            1   \n",
       "886                                 1                            1   \n",
       "640                                 1                            0   \n",
       "585                                 1                            1   \n",
       "..                                ...                          ...   \n",
       "438                                 1                            0   \n",
       "94                                  1                            1   \n",
       "653                                 0                            0   \n",
       "183                                 1                            0   \n",
       "808                                 0                            0   \n",
       "\n",
       "     living_arrangement_Family  attendance_bin_Low  attendance_bin_Medium  \\\n",
       "167                          1                   0                      0   \n",
       "415                          0                   0                      0   \n",
       "886                          0                   0                      0   \n",
       "640                          1                   0                      0   \n",
       "585                          0                   0                      1   \n",
       "..                         ...                 ...                    ...   \n",
       "438                          1                   0                      0   \n",
       "94                           0                   0                      0   \n",
       "653                          1                   0                      0   \n",
       "183                          1                   0                      0   \n",
       "808                          1                   0                      0   \n",
       "\n",
       "     attendance_bin_High  income_bin_Low  income_bin_Medium  income_bin_High  \n",
       "167                    1               0                  1                0  \n",
       "415                    1               1                  0                0  \n",
       "886                    1               0                  1                0  \n",
       "640                    1               0                  1                0  \n",
       "585                    0               0                  1                0  \n",
       "..                   ...             ...                ...              ...  \n",
       "438                    1               1                  0                0  \n",
       "94                     1               1                  0                0  \n",
       "653                    1               0                  1                0  \n",
       "183                    1               1                  0                0  \n",
       "808                    1               0                  1                0  \n",
       "\n",
       "[158 rows x 28 columns]"
      ]
     },
     "execution_count": 36,
     "metadata": {},
     "output_type": "execute_result"
    }
   ],
   "source": [
    "X_val = X_val_fold\n",
    "X_val"
   ]
  },
  {
   "cell_type": "code",
   "execution_count": 37,
   "metadata": {},
   "outputs": [],
   "source": [
    "y_val = y_val_fold"
   ]
  },
  {
   "cell_type": "code",
   "execution_count": null,
   "metadata": {},
   "outputs": [],
   "source": [
    "#test set"
   ]
  },
  {
   "cell_type": "code",
   "execution_count": 38,
   "metadata": {},
   "outputs": [],
   "source": [
    "labelencoder = LabelEncoder()\n",
    "y_test = labelencoder.fit_transform(y_test)"
   ]
  },
  {
   "cell_type": "code",
   "execution_count": 39,
   "metadata": {},
   "outputs": [
    {
     "data": {
      "text/html": [
       "<div>\n",
       "<style scoped>\n",
       "    .dataframe tbody tr th:only-of-type {\n",
       "        vertical-align: middle;\n",
       "    }\n",
       "\n",
       "    .dataframe tbody tr th {\n",
       "        vertical-align: top;\n",
       "    }\n",
       "\n",
       "    .dataframe thead th {\n",
       "        text-align: right;\n",
       "    }\n",
       "</style>\n",
       "<table border=\"1\" class=\"dataframe\">\n",
       "  <thead>\n",
       "    <tr style=\"text-align: right;\">\n",
       "      <th></th>\n",
       "      <th>scholarship</th>\n",
       "      <th>university_transport</th>\n",
       "      <th>has_laptop</th>\n",
       "      <th>has_consulted_teacher</th>\n",
       "      <th>co_curricular</th>\n",
       "      <th>health_issues</th>\n",
       "      <th>study_hours</th>\n",
       "      <th>study_sessions</th>\n",
       "      <th>on_probation</th>\n",
       "      <th>is_suspended</th>\n",
       "      <th>...</th>\n",
       "      <th>english_proficiency_Basic</th>\n",
       "      <th>english_proficiency_Intermediate</th>\n",
       "      <th>living_arrangement_Bachelor</th>\n",
       "      <th>living_arrangement_Family</th>\n",
       "      <th>attendance_bin_Low</th>\n",
       "      <th>attendance_bin_Medium</th>\n",
       "      <th>attendance_bin_High</th>\n",
       "      <th>income_bin_Low</th>\n",
       "      <th>income_bin_Medium</th>\n",
       "      <th>income_bin_High</th>\n",
       "    </tr>\n",
       "  </thead>\n",
       "  <tbody>\n",
       "    <tr>\n",
       "      <th>192</th>\n",
       "      <td>0</td>\n",
       "      <td>0</td>\n",
       "      <td>1</td>\n",
       "      <td>1</td>\n",
       "      <td>0</td>\n",
       "      <td>0</td>\n",
       "      <td>3.0</td>\n",
       "      <td>1.0</td>\n",
       "      <td>0</td>\n",
       "      <td>0</td>\n",
       "      <td>...</td>\n",
       "      <td>0</td>\n",
       "      <td>1</td>\n",
       "      <td>1</td>\n",
       "      <td>0</td>\n",
       "      <td>0</td>\n",
       "      <td>0</td>\n",
       "      <td>1</td>\n",
       "      <td>0</td>\n",
       "      <td>1</td>\n",
       "      <td>0</td>\n",
       "    </tr>\n",
       "    <tr>\n",
       "      <th>868</th>\n",
       "      <td>0</td>\n",
       "      <td>1</td>\n",
       "      <td>1</td>\n",
       "      <td>0</td>\n",
       "      <td>0</td>\n",
       "      <td>1</td>\n",
       "      <td>3.0</td>\n",
       "      <td>1.0</td>\n",
       "      <td>0</td>\n",
       "      <td>0</td>\n",
       "      <td>...</td>\n",
       "      <td>0</td>\n",
       "      <td>1</td>\n",
       "      <td>1</td>\n",
       "      <td>0</td>\n",
       "      <td>1</td>\n",
       "      <td>0</td>\n",
       "      <td>0</td>\n",
       "      <td>0</td>\n",
       "      <td>1</td>\n",
       "      <td>0</td>\n",
       "    </tr>\n",
       "    <tr>\n",
       "      <th>813</th>\n",
       "      <td>0</td>\n",
       "      <td>0</td>\n",
       "      <td>1</td>\n",
       "      <td>0</td>\n",
       "      <td>1</td>\n",
       "      <td>0</td>\n",
       "      <td>3.0</td>\n",
       "      <td>1.0</td>\n",
       "      <td>1</td>\n",
       "      <td>0</td>\n",
       "      <td>...</td>\n",
       "      <td>0</td>\n",
       "      <td>1</td>\n",
       "      <td>1</td>\n",
       "      <td>0</td>\n",
       "      <td>0</td>\n",
       "      <td>0</td>\n",
       "      <td>1</td>\n",
       "      <td>0</td>\n",
       "      <td>1</td>\n",
       "      <td>0</td>\n",
       "    </tr>\n",
       "    <tr>\n",
       "      <th>470</th>\n",
       "      <td>0</td>\n",
       "      <td>1</td>\n",
       "      <td>1</td>\n",
       "      <td>1</td>\n",
       "      <td>1</td>\n",
       "      <td>1</td>\n",
       "      <td>2.0</td>\n",
       "      <td>1.0</td>\n",
       "      <td>0</td>\n",
       "      <td>0</td>\n",
       "      <td>...</td>\n",
       "      <td>0</td>\n",
       "      <td>0</td>\n",
       "      <td>0</td>\n",
       "      <td>1</td>\n",
       "      <td>0</td>\n",
       "      <td>0</td>\n",
       "      <td>1</td>\n",
       "      <td>0</td>\n",
       "      <td>1</td>\n",
       "      <td>0</td>\n",
       "    </tr>\n",
       "    <tr>\n",
       "      <th>708</th>\n",
       "      <td>1</td>\n",
       "      <td>0</td>\n",
       "      <td>1</td>\n",
       "      <td>0</td>\n",
       "      <td>0</td>\n",
       "      <td>0</td>\n",
       "      <td>2.0</td>\n",
       "      <td>2.0</td>\n",
       "      <td>1</td>\n",
       "      <td>0</td>\n",
       "      <td>...</td>\n",
       "      <td>0</td>\n",
       "      <td>1</td>\n",
       "      <td>1</td>\n",
       "      <td>0</td>\n",
       "      <td>1</td>\n",
       "      <td>0</td>\n",
       "      <td>0</td>\n",
       "      <td>1</td>\n",
       "      <td>0</td>\n",
       "      <td>0</td>\n",
       "    </tr>\n",
       "    <tr>\n",
       "      <th>...</th>\n",
       "      <td>...</td>\n",
       "      <td>...</td>\n",
       "      <td>...</td>\n",
       "      <td>...</td>\n",
       "      <td>...</td>\n",
       "      <td>...</td>\n",
       "      <td>...</td>\n",
       "      <td>...</td>\n",
       "      <td>...</td>\n",
       "      <td>...</td>\n",
       "      <td>...</td>\n",
       "      <td>...</td>\n",
       "      <td>...</td>\n",
       "      <td>...</td>\n",
       "      <td>...</td>\n",
       "      <td>...</td>\n",
       "      <td>...</td>\n",
       "      <td>...</td>\n",
       "      <td>...</td>\n",
       "      <td>...</td>\n",
       "      <td>...</td>\n",
       "    </tr>\n",
       "    <tr>\n",
       "      <th>392</th>\n",
       "      <td>1</td>\n",
       "      <td>1</td>\n",
       "      <td>1</td>\n",
       "      <td>0</td>\n",
       "      <td>0</td>\n",
       "      <td>0</td>\n",
       "      <td>3.0</td>\n",
       "      <td>2.0</td>\n",
       "      <td>0</td>\n",
       "      <td>0</td>\n",
       "      <td>...</td>\n",
       "      <td>1</td>\n",
       "      <td>0</td>\n",
       "      <td>0</td>\n",
       "      <td>1</td>\n",
       "      <td>0</td>\n",
       "      <td>0</td>\n",
       "      <td>1</td>\n",
       "      <td>1</td>\n",
       "      <td>0</td>\n",
       "      <td>0</td>\n",
       "    </tr>\n",
       "    <tr>\n",
       "      <th>38</th>\n",
       "      <td>0</td>\n",
       "      <td>0</td>\n",
       "      <td>1</td>\n",
       "      <td>1</td>\n",
       "      <td>0</td>\n",
       "      <td>0</td>\n",
       "      <td>1.5</td>\n",
       "      <td>2.0</td>\n",
       "      <td>0</td>\n",
       "      <td>0</td>\n",
       "      <td>...</td>\n",
       "      <td>0</td>\n",
       "      <td>1</td>\n",
       "      <td>1</td>\n",
       "      <td>0</td>\n",
       "      <td>0</td>\n",
       "      <td>0</td>\n",
       "      <td>1</td>\n",
       "      <td>0</td>\n",
       "      <td>1</td>\n",
       "      <td>0</td>\n",
       "    </tr>\n",
       "    <tr>\n",
       "      <th>884</th>\n",
       "      <td>0</td>\n",
       "      <td>1</td>\n",
       "      <td>1</td>\n",
       "      <td>0</td>\n",
       "      <td>1</td>\n",
       "      <td>0</td>\n",
       "      <td>3.0</td>\n",
       "      <td>3.0</td>\n",
       "      <td>0</td>\n",
       "      <td>0</td>\n",
       "      <td>...</td>\n",
       "      <td>0</td>\n",
       "      <td>1</td>\n",
       "      <td>1</td>\n",
       "      <td>0</td>\n",
       "      <td>0</td>\n",
       "      <td>0</td>\n",
       "      <td>1</td>\n",
       "      <td>0</td>\n",
       "      <td>1</td>\n",
       "      <td>0</td>\n",
       "    </tr>\n",
       "    <tr>\n",
       "      <th>668</th>\n",
       "      <td>0</td>\n",
       "      <td>0</td>\n",
       "      <td>1</td>\n",
       "      <td>1</td>\n",
       "      <td>0</td>\n",
       "      <td>0</td>\n",
       "      <td>3.0</td>\n",
       "      <td>3.0</td>\n",
       "      <td>0</td>\n",
       "      <td>0</td>\n",
       "      <td>...</td>\n",
       "      <td>1</td>\n",
       "      <td>0</td>\n",
       "      <td>1</td>\n",
       "      <td>0</td>\n",
       "      <td>0</td>\n",
       "      <td>0</td>\n",
       "      <td>1</td>\n",
       "      <td>0</td>\n",
       "      <td>0</td>\n",
       "      <td>1</td>\n",
       "    </tr>\n",
       "    <tr>\n",
       "      <th>437</th>\n",
       "      <td>0</td>\n",
       "      <td>1</td>\n",
       "      <td>1</td>\n",
       "      <td>1</td>\n",
       "      <td>1</td>\n",
       "      <td>0</td>\n",
       "      <td>1.0</td>\n",
       "      <td>1.0</td>\n",
       "      <td>0</td>\n",
       "      <td>0</td>\n",
       "      <td>...</td>\n",
       "      <td>1</td>\n",
       "      <td>0</td>\n",
       "      <td>1</td>\n",
       "      <td>0</td>\n",
       "      <td>0</td>\n",
       "      <td>0</td>\n",
       "      <td>1</td>\n",
       "      <td>1</td>\n",
       "      <td>0</td>\n",
       "      <td>0</td>\n",
       "    </tr>\n",
       "  </tbody>\n",
       "</table>\n",
       "<p>198 rows × 28 columns</p>\n",
       "</div>"
      ],
      "text/plain": [
       "     scholarship  university_transport  has_laptop  has_consulted_teacher  \\\n",
       "192            0                     0           1                      1   \n",
       "868            0                     1           1                      0   \n",
       "813            0                     0           1                      0   \n",
       "470            0                     1           1                      1   \n",
       "708            1                     0           1                      0   \n",
       "..           ...                   ...         ...                    ...   \n",
       "392            1                     1           1                      0   \n",
       "38             0                     0           1                      1   \n",
       "884            0                     1           1                      0   \n",
       "668            0                     0           1                      1   \n",
       "437            0                     1           1                      1   \n",
       "\n",
       "     co_curricular  health_issues  study_hours  study_sessions  on_probation  \\\n",
       "192              0              0          3.0             1.0             0   \n",
       "868              0              1          3.0             1.0             0   \n",
       "813              1              0          3.0             1.0             1   \n",
       "470              1              1          2.0             1.0             0   \n",
       "708              0              0          2.0             2.0             1   \n",
       "..             ...            ...          ...             ...           ...   \n",
       "392              0              0          3.0             2.0             0   \n",
       "38               0              0          1.5             2.0             0   \n",
       "884              1              0          3.0             3.0             0   \n",
       "668              0              0          3.0             3.0             0   \n",
       "437              1              0          1.0             1.0             0   \n",
       "\n",
       "     is_suspended  ...  english_proficiency_Basic  \\\n",
       "192             0  ...                          0   \n",
       "868             0  ...                          0   \n",
       "813             0  ...                          0   \n",
       "470             0  ...                          0   \n",
       "708             0  ...                          0   \n",
       "..            ...  ...                        ...   \n",
       "392             0  ...                          1   \n",
       "38              0  ...                          0   \n",
       "884             0  ...                          0   \n",
       "668             0  ...                          1   \n",
       "437             0  ...                          1   \n",
       "\n",
       "     english_proficiency_Intermediate  living_arrangement_Bachelor  \\\n",
       "192                                 1                            1   \n",
       "868                                 1                            1   \n",
       "813                                 1                            1   \n",
       "470                                 0                            0   \n",
       "708                                 1                            1   \n",
       "..                                ...                          ...   \n",
       "392                                 0                            0   \n",
       "38                                  1                            1   \n",
       "884                                 1                            1   \n",
       "668                                 0                            1   \n",
       "437                                 0                            1   \n",
       "\n",
       "     living_arrangement_Family  attendance_bin_Low  attendance_bin_Medium  \\\n",
       "192                          0                   0                      0   \n",
       "868                          0                   1                      0   \n",
       "813                          0                   0                      0   \n",
       "470                          1                   0                      0   \n",
       "708                          0                   1                      0   \n",
       "..                         ...                 ...                    ...   \n",
       "392                          1                   0                      0   \n",
       "38                           0                   0                      0   \n",
       "884                          0                   0                      0   \n",
       "668                          0                   0                      0   \n",
       "437                          0                   0                      0   \n",
       "\n",
       "     attendance_bin_High  income_bin_Low  income_bin_Medium  income_bin_High  \n",
       "192                    1               0                  1                0  \n",
       "868                    0               0                  1                0  \n",
       "813                    1               0                  1                0  \n",
       "470                    1               0                  1                0  \n",
       "708                    0               1                  0                0  \n",
       "..                   ...             ...                ...              ...  \n",
       "392                    1               1                  0                0  \n",
       "38                     1               0                  1                0  \n",
       "884                    1               0                  1                0  \n",
       "668                    1               0                  0                1  \n",
       "437                    1               1                  0                0  \n",
       "\n",
       "[198 rows x 28 columns]"
      ]
     },
     "execution_count": 39,
     "metadata": {},
     "output_type": "execute_result"
    }
   ],
   "source": [
    "#defining xtest\n",
    "X_test"
   ]
  },
  {
   "cell_type": "markdown",
   "metadata": {
    "id": "_NCwQQFkU3v5"
   },
   "source": [
    "---\n",
    "## D. Feature Selection\n"
   ]
  },
  {
   "cell_type": "code",
   "execution_count": 16,
   "metadata": {
    "executionInfo": {
     "elapsed": 0,
     "status": "ok",
     "timestamp": 1744063158935,
     "user": {
      "displayName": "Anthony So",
      "userId": "05258592867336372279"
     },
     "user_tz": -600
    },
    "id": "zfC-DLKv4AuM"
   },
   "outputs": [],
   "source": [
    "# <Student to fill this section>\n",
    "\n",
    "features_list = []"
   ]
  },
  {
   "cell_type": "code",
   "execution_count": 17,
   "metadata": {
    "executionInfo": {
     "elapsed": 1,
     "status": "ok",
     "timestamp": 1744063158936,
     "user": {
      "displayName": "Anthony So",
      "userId": "05258592867336372279"
     },
     "user_tz": -600
    },
    "id": "ZHaIRLAj2_fj"
   },
   "outputs": [],
   "source": [
    "# <Student to fill this section>\n",
    "feature_selection_explanations = \"\"\"\n",
    "Provide a rationale on why you are selected these features but also why you decided to remove other ones\n",
    "\"\"\""
   ]
  },
  {
   "cell_type": "code",
   "execution_count": 18,
   "metadata": {
    "colab": {
     "base_uri": "https://localhost:8080/",
     "height": 81
    },
    "executionInfo": {
     "elapsed": 18,
     "status": "ok",
     "timestamp": 1744063158954,
     "user": {
      "displayName": "Anthony So",
      "userId": "05258592867336372279"
     },
     "user_tz": -600
    },
    "id": "GXCmXWx62_kZ",
    "outputId": "9727f361-0d15-40c4-f134-25cfeb40b08e"
   },
   "outputs": [
    {
     "data": {
      "text/html": [
       "<p style=\"color:grey\">feature_selection_explanations</p><h3 font-size: 3em>\n",
       "Provide a rationale on why you are selected these features but also why you decided to remove other ones\n",
       "</h3>"
      ],
      "text/plain": [
       "<IPython.core.display.HTML object>"
      ]
     },
     "metadata": {},
     "output_type": "display_data"
    }
   ],
   "source": [
    "# Do not modify this code\n",
    "print_tile(size=\"h3\", key='feature_selection_explanations', value=feature_selection_explanations)"
   ]
  },
  {
   "cell_type": "markdown",
   "metadata": {
    "id": "j-nNSpJK0Rgu"
   },
   "source": [
    "---\n",
    "## E. Data Preparation"
   ]
  },
  {
   "cell_type": "markdown",
   "metadata": {
    "id": "EDtRq1990rcW"
   },
   "source": [
    "### E.1 Data Transformation <put_name_here>\n"
   ]
  },
  {
   "cell_type": "code",
   "execution_count": 19,
   "metadata": {
    "executionInfo": {
     "elapsed": 86,
     "status": "ok",
     "timestamp": 1744063159040,
     "user": {
      "displayName": "Anthony So",
      "userId": "05258592867336372279"
     },
     "user_tz": -600
    },
    "id": "AZN0u9DD0v5X"
   },
   "outputs": [],
   "source": [
    "# <Student to fill this section>"
   ]
  },
  {
   "cell_type": "code",
   "execution_count": 20,
   "metadata": {
    "executionInfo": {
     "elapsed": 1,
     "status": "ok",
     "timestamp": 1744063159041,
     "user": {
      "displayName": "Anthony So",
      "userId": "05258592867336372279"
     },
     "user_tz": -600
    },
    "id": "GKhUJOlM3FkC"
   },
   "outputs": [],
   "source": [
    "# <Student to fill this section>\n",
    "data_transformation_1_explanations = \"\"\"\n",
    "Provide some explanations on why you believe it is important to perform this data transformation and its impacts\n",
    "\"\"\""
   ]
  },
  {
   "cell_type": "code",
   "execution_count": 21,
   "metadata": {
    "colab": {
     "base_uri": "https://localhost:8080/",
     "height": 81
    },
    "executionInfo": {
     "elapsed": 2,
     "status": "ok",
     "timestamp": 1744063159043,
     "user": {
      "displayName": "Anthony So",
      "userId": "05258592867336372279"
     },
     "user_tz": -600
    },
    "id": "GaWzPi9h3Fqi",
    "outputId": "1ab5adf6-5185-4ba0-f72c-7f215e1e2361"
   },
   "outputs": [
    {
     "data": {
      "text/html": [
       "<p style=\"color:grey\">data_transformation_1_explanations</p><h3 font-size: 3em>\n",
       "Provide some explanations on why you believe it is important to perform this data transformation and its impacts\n",
       "</h3>"
      ],
      "text/plain": [
       "<IPython.core.display.HTML object>"
      ]
     },
     "metadata": {},
     "output_type": "display_data"
    }
   ],
   "source": [
    "# Do not modify this code\n",
    "print_tile(size=\"h3\", key='data_transformation_1_explanations', value=data_transformation_1_explanations)"
   ]
  },
  {
   "cell_type": "markdown",
   "metadata": {
    "id": "SxhDoAkw08Eb"
   },
   "source": [
    "### E.2 Data Transformation <put_name_here>\n"
   ]
  },
  {
   "cell_type": "code",
   "execution_count": 22,
   "metadata": {
    "executionInfo": {
     "elapsed": 1,
     "status": "ok",
     "timestamp": 1744063159044,
     "user": {
      "displayName": "Anthony So",
      "userId": "05258592867336372279"
     },
     "user_tz": -600
    },
    "id": "OO5ITMDZ035_"
   },
   "outputs": [],
   "source": [
    "# <Student to fill this section>"
   ]
  },
  {
   "cell_type": "code",
   "execution_count": 23,
   "metadata": {
    "executionInfo": {
     "elapsed": 1,
     "status": "ok",
     "timestamp": 1744063159045,
     "user": {
      "displayName": "Anthony So",
      "userId": "05258592867336372279"
     },
     "user_tz": -600
    },
    "id": "QZeg-jbf3YPr"
   },
   "outputs": [],
   "source": [
    "# <Student to fill this section>\n",
    "data_transformation_2_explanations = \"\"\"\n",
    "Provide some explanations on why you believe it is important to perform this data transformation and its impacts\n",
    "\"\"\""
   ]
  },
  {
   "cell_type": "code",
   "execution_count": 24,
   "metadata": {
    "colab": {
     "base_uri": "https://localhost:8080/",
     "height": 81
    },
    "executionInfo": {
     "elapsed": 2,
     "status": "ok",
     "timestamp": 1744063159047,
     "user": {
      "displayName": "Anthony So",
      "userId": "05258592867336372279"
     },
     "user_tz": -600
    },
    "id": "dyr9ZQOL3YUX",
    "outputId": "8ae0f97f-0294-449f-f441-d906aa017477"
   },
   "outputs": [
    {
     "data": {
      "text/html": [
       "<p style=\"color:grey\">data_transformation_2_explanations</p><h3 font-size: 3em>\n",
       "Provide some explanations on why you believe it is important to perform this data transformation and its impacts\n",
       "</h3>"
      ],
      "text/plain": [
       "<IPython.core.display.HTML object>"
      ]
     },
     "metadata": {},
     "output_type": "display_data"
    }
   ],
   "source": [
    "# Do not modify this code\n",
    "print_tile(size=\"h3\", key='data_transformation_2_explanations', value=data_transformation_2_explanations)"
   ]
  },
  {
   "cell_type": "markdown",
   "metadata": {
    "id": "ylQxO-4g03qH"
   },
   "source": [
    "### E.3 Data Transformation <put_name_here>\n"
   ]
  },
  {
   "cell_type": "code",
   "execution_count": 25,
   "metadata": {
    "executionInfo": {
     "elapsed": 63,
     "status": "ok",
     "timestamp": 1744063159109,
     "user": {
      "displayName": "Anthony So",
      "userId": "05258592867336372279"
     },
     "user_tz": -600
    },
    "id": "5VymIZpS1Ch7"
   },
   "outputs": [],
   "source": [
    "# <Student to fill this section>"
   ]
  },
  {
   "cell_type": "code",
   "execution_count": 26,
   "metadata": {
    "executionInfo": {
     "elapsed": 1,
     "status": "ok",
     "timestamp": 1744063159111,
     "user": {
      "displayName": "Anthony So",
      "userId": "05258592867336372279"
     },
     "user_tz": -600
    },
    "id": "68S5Eev23b1j"
   },
   "outputs": [],
   "source": [
    "# <Student to fill this section>\n",
    "data_transformation_3_explanations = \"\"\"\n",
    "Provide some explanations on why you believe it is important to perform this data transformation and its impacts\n",
    "\"\"\""
   ]
  },
  {
   "cell_type": "code",
   "execution_count": 27,
   "metadata": {
    "colab": {
     "base_uri": "https://localhost:8080/",
     "height": 81
    },
    "executionInfo": {
     "elapsed": 9,
     "status": "ok",
     "timestamp": 1744063159121,
     "user": {
      "displayName": "Anthony So",
      "userId": "05258592867336372279"
     },
     "user_tz": -600
    },
    "id": "yeT-WCIm3b4g",
    "outputId": "d2e4f6f8-3acf-4607-904e-a58fb800dd59"
   },
   "outputs": [
    {
     "data": {
      "text/html": [
       "<p style=\"color:grey\">data_transformation_3_explanations</p><h3 font-size: 3em>\n",
       "Provide some explanations on why you believe it is important to perform this data transformation and its impacts\n",
       "</h3>"
      ],
      "text/plain": [
       "<IPython.core.display.HTML object>"
      ]
     },
     "metadata": {},
     "output_type": "display_data"
    }
   ],
   "source": [
    "# Do not modify this code\n",
    "print_tile(size=\"h3\", key='data_transformation_3_explanations', value=data_transformation_3_explanations)"
   ]
  },
  {
   "cell_type": "markdown",
   "metadata": {
    "id": "0ykY58h40rwu"
   },
   "source": [
    "### G.n Fixing \"\\<describe_issue_here\\>\"\n",
    "\n",
    "> You can add more cells related to data preparation in this section"
   ]
  },
  {
   "cell_type": "code",
   "execution_count": 27,
   "metadata": {
    "executionInfo": {
     "elapsed": 1,
     "status": "ok",
     "timestamp": 1744063159122,
     "user": {
      "displayName": "Anthony So",
      "userId": "05258592867336372279"
     },
     "user_tz": -600
    },
    "id": "fk_i65M20r1y"
   },
   "outputs": [],
   "source": []
  },
  {
   "cell_type": "markdown",
   "metadata": {
    "id": "S80O7okb0RIx"
   },
   "source": [
    "---\n",
    "## F. Feature Engineering"
   ]
  },
  {
   "cell_type": "markdown",
   "metadata": {},
   "source": [
    "# feature engineering is done in 0 experiment file"
   ]
  },
  {
   "cell_type": "markdown",
   "metadata": {
    "id": "Kst7h7wp1MFK"
   },
   "source": [
    "### F.1 New Feature \"\\<put_name_here\\>\"\n",
    "\n"
   ]
  },
  {
   "cell_type": "code",
   "execution_count": 28,
   "metadata": {
    "executionInfo": {
     "elapsed": 1,
     "status": "ok",
     "timestamp": 1744063159123,
     "user": {
      "displayName": "Anthony So",
      "userId": "05258592867336372279"
     },
     "user_tz": -600
    },
    "id": "f_wsc2n-1Mdm"
   },
   "outputs": [],
   "source": [
    "# <Student to fill this section>"
   ]
  },
  {
   "cell_type": "code",
   "execution_count": 29,
   "metadata": {
    "executionInfo": {
     "elapsed": 1,
     "status": "ok",
     "timestamp": 1744063159124,
     "user": {
      "displayName": "Anthony So",
      "userId": "05258592867336372279"
     },
     "user_tz": -600
    },
    "id": "9Bh6p8D_3hC2"
   },
   "outputs": [],
   "source": [
    "# <Student to fill this section>\n",
    "feature_engineering_1_explanations = \"\"\"\n",
    "Provide some explanations on why you believe it is important to create this feature and its impacts\n",
    "\"\"\""
   ]
  },
  {
   "cell_type": "code",
   "execution_count": 30,
   "metadata": {
    "colab": {
     "base_uri": "https://localhost:8080/",
     "height": 81
    },
    "executionInfo": {
     "elapsed": 14,
     "status": "ok",
     "timestamp": 1744063159140,
     "user": {
      "displayName": "Anthony So",
      "userId": "05258592867336372279"
     },
     "user_tz": -600
    },
    "id": "CBCPPzRB3hFt",
    "outputId": "953611bb-59e5-437f-fc03-783c4f84e1e4"
   },
   "outputs": [
    {
     "data": {
      "text/html": [
       "<p style=\"color:grey\">feature_engineering_1_explanations</p><h3 font-size: 3em>\n",
       "Provide some explanations on why you believe it is important to create this feature and its impacts\n",
       "</h3>"
      ],
      "text/plain": [
       "<IPython.core.display.HTML object>"
      ]
     },
     "metadata": {},
     "output_type": "display_data"
    }
   ],
   "source": [
    "# Do not modify this code\n",
    "print_tile(size=\"h3\", key='feature_engineering_1_explanations', value=feature_engineering_1_explanations)"
   ]
  },
  {
   "cell_type": "markdown",
   "metadata": {
    "id": "xY_hWhC71XAl"
   },
   "source": [
    "### F.2 New Feature \"\\<put_name_here\\>\"\n"
   ]
  },
  {
   "cell_type": "code",
   "execution_count": 31,
   "metadata": {
    "executionInfo": {
     "elapsed": 30,
     "status": "ok",
     "timestamp": 1744063159171,
     "user": {
      "displayName": "Anthony So",
      "userId": "05258592867336372279"
     },
     "user_tz": -600
    },
    "id": "F3DhQoJZ1Xvw"
   },
   "outputs": [],
   "source": [
    "# <Student to fill this section>"
   ]
  },
  {
   "cell_type": "code",
   "execution_count": 32,
   "metadata": {
    "executionInfo": {
     "elapsed": 1,
     "status": "ok",
     "timestamp": 1744063159172,
     "user": {
      "displayName": "Anthony So",
      "userId": "05258592867336372279"
     },
     "user_tz": -600
    },
    "id": "BJyOmWEm3l8a"
   },
   "outputs": [],
   "source": [
    "# <Student to fill this section>\n",
    "feature_engineering_2_explanations = \"\"\"\n",
    "Provide some explanations on why you believe it is important to create this feature and its impacts\n",
    "\"\"\""
   ]
  },
  {
   "cell_type": "code",
   "execution_count": 33,
   "metadata": {
    "colab": {
     "base_uri": "https://localhost:8080/",
     "height": 81
    },
    "executionInfo": {
     "elapsed": 12,
     "status": "ok",
     "timestamp": 1744063159184,
     "user": {
      "displayName": "Anthony So",
      "userId": "05258592867336372279"
     },
     "user_tz": -600
    },
    "id": "5l9zSFCt3l_4",
    "outputId": "274d9f12-602a-4451-a979-f24dd64130df"
   },
   "outputs": [
    {
     "data": {
      "text/html": [
       "<p style=\"color:grey\">feature_engineering_2_explanations</p><h3 font-size: 3em>\n",
       "Provide some explanations on why you believe it is important to create this feature and its impacts\n",
       "</h3>"
      ],
      "text/plain": [
       "<IPython.core.display.HTML object>"
      ]
     },
     "metadata": {},
     "output_type": "display_data"
    }
   ],
   "source": [
    "# Do not modify this code\n",
    "print_tile(size=\"h3\", key='feature_engineering_2_explanations', value=feature_engineering_2_explanations)"
   ]
  },
  {
   "cell_type": "markdown",
   "metadata": {
    "id": "w0Fhn4271gVu"
   },
   "source": [
    "### F.3 New Feature \"\\<put_name_here\\>\"\n"
   ]
  },
  {
   "cell_type": "code",
   "execution_count": 34,
   "metadata": {
    "executionInfo": {
     "elapsed": 1,
     "status": "ok",
     "timestamp": 1744063159186,
     "user": {
      "displayName": "Anthony So",
      "userId": "05258592867336372279"
     },
     "user_tz": -600
    },
    "id": "N6wBdmYD1g6c"
   },
   "outputs": [],
   "source": [
    "# <Student to fill this section>"
   ]
  },
  {
   "cell_type": "code",
   "execution_count": 35,
   "metadata": {
    "executionInfo": {
     "elapsed": 1,
     "status": "ok",
     "timestamp": 1744063159187,
     "user": {
      "displayName": "Anthony So",
      "userId": "05258592867336372279"
     },
     "user_tz": -600
    },
    "id": "ftZovroG3pv8"
   },
   "outputs": [],
   "source": [
    "# <Student to fill this section>\n",
    "feature_engineering_3_explanations = \"\"\"\n",
    "Provide some explanations on why you believe it is important to create this feature and its impacts\n",
    "\"\"\""
   ]
  },
  {
   "cell_type": "code",
   "execution_count": 36,
   "metadata": {
    "colab": {
     "base_uri": "https://localhost:8080/",
     "height": 81
    },
    "executionInfo": {
     "elapsed": 2,
     "status": "ok",
     "timestamp": 1744063159217,
     "user": {
      "displayName": "Anthony So",
      "userId": "05258592867336372279"
     },
     "user_tz": -600
    },
    "id": "xDeQtmJf3pzj",
    "outputId": "7e3729d2-d3a1-4a4d-b8ea-f7b0d5fb60dd"
   },
   "outputs": [
    {
     "data": {
      "text/html": [
       "<p style=\"color:grey\">feature_engineering_3_explanations</p><h3 font-size: 3em>\n",
       "Provide some explanations on why you believe it is important to create this feature and its impacts\n",
       "</h3>"
      ],
      "text/plain": [
       "<IPython.core.display.HTML object>"
      ]
     },
     "metadata": {},
     "output_type": "display_data"
    }
   ],
   "source": [
    "# Do not modify this code\n",
    "print_tile(size=\"h3\", key='feature_engineering_3_explanations', value=feature_engineering_3_explanations)"
   ]
  },
  {
   "cell_type": "markdown",
   "metadata": {
    "id": "hEIG3OUB0p66"
   },
   "source": [
    "### F.n Fixing \"\\<describe_issue_here\\>\"\n",
    "\n",
    "> You can add more cells related to new features in this section"
   ]
  },
  {
   "cell_type": "code",
   "execution_count": 36,
   "metadata": {
    "executionInfo": {
     "elapsed": 1,
     "status": "ok",
     "timestamp": 1744063159218,
     "user": {
      "displayName": "Anthony So",
      "userId": "05258592867336372279"
     },
     "user_tz": -600
    },
    "id": "1wLqXCWt0p_i"
   },
   "outputs": [],
   "source": []
  },
  {
   "cell_type": "markdown",
   "metadata": {
    "id": "N8MNBrC4Zgz6"
   },
   "source": [
    "---\n",
    "## G. Train Machine Learning Model"
   ]
  },
  {
   "cell_type": "markdown",
   "metadata": {
    "id": "4_tQitOfeDXr"
   },
   "source": [
    "### G.1 Import Algorithm\n"
   ]
  },
  {
   "cell_type": "code",
   "execution_count": 37,
   "metadata": {
    "executionInfo": {
     "elapsed": 1,
     "status": "ok",
     "timestamp": 1744063159219,
     "user": {
      "displayName": "Anthony So",
      "userId": "05258592867336372279"
     },
     "user_tz": -600
    },
    "id": "Mh6epkAThez5"
   },
   "outputs": [],
   "source": [
    "# <Student to fill this section>"
   ]
  },
  {
   "cell_type": "code",
   "execution_count": 47,
   "metadata": {},
   "outputs": [],
   "source": [
    "from sklearn.svm import SVC\n",
    "from sklearn.model_selection import RandomizedSearchCV\n",
    "import numpy as np\n",
    "from sklearn.metrics import classification_report, confusion_matrix"
   ]
  },
  {
   "cell_type": "code",
   "execution_count": 42,
   "metadata": {},
   "outputs": [],
   "source": [
    "param_dist = {\n",
    "    'C': np.logspace(-3, 3, 7),  \n",
    "    'gamma': np.logspace(-3, 3, 7),  \n",
    "    'kernel': ['linear', 'rbf', 'poly']  \n",
    "}"
   ]
  },
  {
   "cell_type": "code",
   "execution_count": 43,
   "metadata": {},
   "outputs": [],
   "source": [
    "svm = SVC()"
   ]
  },
  {
   "cell_type": "code",
   "execution_count": 44,
   "metadata": {},
   "outputs": [],
   "source": [
    "random_search = RandomizedSearchCV(svm, param_distributions=param_dist, n_iter=50, cv=5, n_jobs=-1, random_state=42)"
   ]
  },
  {
   "cell_type": "code",
   "execution_count": 45,
   "metadata": {},
   "outputs": [
    {
     "name": "stderr",
     "output_type": "stream",
     "text": [
      "/Users/ratikpant/anaconda3/lib/python3.11/site-packages/pandas/core/arrays/masked.py:60: UserWarning: Pandas requires version '1.3.6' or newer of 'bottleneck' (version '1.3.5' currently installed).\n",
      "  from pandas.core import (\n",
      "/Users/ratikpant/anaconda3/lib/python3.11/site-packages/pandas/core/arrays/masked.py:60: UserWarning: Pandas requires version '1.3.6' or newer of 'bottleneck' (version '1.3.5' currently installed).\n",
      "  from pandas.core import (\n",
      "/Users/ratikpant/anaconda3/lib/python3.11/site-packages/pandas/core/arrays/masked.py:60: UserWarning: Pandas requires version '1.3.6' or newer of 'bottleneck' (version '1.3.5' currently installed).\n",
      "  from pandas.core import (\n",
      "/Users/ratikpant/anaconda3/lib/python3.11/site-packages/pandas/core/arrays/masked.py:60: UserWarning: Pandas requires version '1.3.6' or newer of 'bottleneck' (version '1.3.5' currently installed).\n",
      "  from pandas.core import (\n",
      "/Users/ratikpant/anaconda3/lib/python3.11/site-packages/pandas/core/arrays/masked.py:60: UserWarning: Pandas requires version '1.3.6' or newer of 'bottleneck' (version '1.3.5' currently installed).\n",
      "  from pandas.core import (\n",
      "/Users/ratikpant/anaconda3/lib/python3.11/site-packages/pandas/core/arrays/masked.py:60: UserWarning: Pandas requires version '1.3.6' or newer of 'bottleneck' (version '1.3.5' currently installed).\n",
      "  from pandas.core import (\n",
      "/Users/ratikpant/anaconda3/lib/python3.11/site-packages/pandas/core/arrays/masked.py:60: UserWarning: Pandas requires version '1.3.6' or newer of 'bottleneck' (version '1.3.5' currently installed).\n",
      "  from pandas.core import (\n",
      "/Users/ratikpant/anaconda3/lib/python3.11/site-packages/pandas/core/arrays/masked.py:60: UserWarning: Pandas requires version '1.3.6' or newer of 'bottleneck' (version '1.3.5' currently installed).\n",
      "  from pandas.core import (\n"
     ]
    },
    {
     "data": {
      "text/html": [
       "<style>#sk-container-id-1 {\n",
       "  /* Definition of color scheme common for light and dark mode */\n",
       "  --sklearn-color-text: #000;\n",
       "  --sklearn-color-text-muted: #666;\n",
       "  --sklearn-color-line: gray;\n",
       "  /* Definition of color scheme for unfitted estimators */\n",
       "  --sklearn-color-unfitted-level-0: #fff5e6;\n",
       "  --sklearn-color-unfitted-level-1: #f6e4d2;\n",
       "  --sklearn-color-unfitted-level-2: #ffe0b3;\n",
       "  --sklearn-color-unfitted-level-3: chocolate;\n",
       "  /* Definition of color scheme for fitted estimators */\n",
       "  --sklearn-color-fitted-level-0: #f0f8ff;\n",
       "  --sklearn-color-fitted-level-1: #d4ebff;\n",
       "  --sklearn-color-fitted-level-2: #b3dbfd;\n",
       "  --sklearn-color-fitted-level-3: cornflowerblue;\n",
       "\n",
       "  /* Specific color for light theme */\n",
       "  --sklearn-color-text-on-default-background: var(--sg-text-color, var(--theme-code-foreground, var(--jp-content-font-color1, black)));\n",
       "  --sklearn-color-background: var(--sg-background-color, var(--theme-background, var(--jp-layout-color0, white)));\n",
       "  --sklearn-color-border-box: var(--sg-text-color, var(--theme-code-foreground, var(--jp-content-font-color1, black)));\n",
       "  --sklearn-color-icon: #696969;\n",
       "\n",
       "  @media (prefers-color-scheme: dark) {\n",
       "    /* Redefinition of color scheme for dark theme */\n",
       "    --sklearn-color-text-on-default-background: var(--sg-text-color, var(--theme-code-foreground, var(--jp-content-font-color1, white)));\n",
       "    --sklearn-color-background: var(--sg-background-color, var(--theme-background, var(--jp-layout-color0, #111)));\n",
       "    --sklearn-color-border-box: var(--sg-text-color, var(--theme-code-foreground, var(--jp-content-font-color1, white)));\n",
       "    --sklearn-color-icon: #878787;\n",
       "  }\n",
       "}\n",
       "\n",
       "#sk-container-id-1 {\n",
       "  color: var(--sklearn-color-text);\n",
       "}\n",
       "\n",
       "#sk-container-id-1 pre {\n",
       "  padding: 0;\n",
       "}\n",
       "\n",
       "#sk-container-id-1 input.sk-hidden--visually {\n",
       "  border: 0;\n",
       "  clip: rect(1px 1px 1px 1px);\n",
       "  clip: rect(1px, 1px, 1px, 1px);\n",
       "  height: 1px;\n",
       "  margin: -1px;\n",
       "  overflow: hidden;\n",
       "  padding: 0;\n",
       "  position: absolute;\n",
       "  width: 1px;\n",
       "}\n",
       "\n",
       "#sk-container-id-1 div.sk-dashed-wrapped {\n",
       "  border: 1px dashed var(--sklearn-color-line);\n",
       "  margin: 0 0.4em 0.5em 0.4em;\n",
       "  box-sizing: border-box;\n",
       "  padding-bottom: 0.4em;\n",
       "  background-color: var(--sklearn-color-background);\n",
       "}\n",
       "\n",
       "#sk-container-id-1 div.sk-container {\n",
       "  /* jupyter's `normalize.less` sets `[hidden] { display: none; }`\n",
       "     but bootstrap.min.css set `[hidden] { display: none !important; }`\n",
       "     so we also need the `!important` here to be able to override the\n",
       "     default hidden behavior on the sphinx rendered scikit-learn.org.\n",
       "     See: https://github.com/scikit-learn/scikit-learn/issues/21755 */\n",
       "  display: inline-block !important;\n",
       "  position: relative;\n",
       "}\n",
       "\n",
       "#sk-container-id-1 div.sk-text-repr-fallback {\n",
       "  display: none;\n",
       "}\n",
       "\n",
       "div.sk-parallel-item,\n",
       "div.sk-serial,\n",
       "div.sk-item {\n",
       "  /* draw centered vertical line to link estimators */\n",
       "  background-image: linear-gradient(var(--sklearn-color-text-on-default-background), var(--sklearn-color-text-on-default-background));\n",
       "  background-size: 2px 100%;\n",
       "  background-repeat: no-repeat;\n",
       "  background-position: center center;\n",
       "}\n",
       "\n",
       "/* Parallel-specific style estimator block */\n",
       "\n",
       "#sk-container-id-1 div.sk-parallel-item::after {\n",
       "  content: \"\";\n",
       "  width: 100%;\n",
       "  border-bottom: 2px solid var(--sklearn-color-text-on-default-background);\n",
       "  flex-grow: 1;\n",
       "}\n",
       "\n",
       "#sk-container-id-1 div.sk-parallel {\n",
       "  display: flex;\n",
       "  align-items: stretch;\n",
       "  justify-content: center;\n",
       "  background-color: var(--sklearn-color-background);\n",
       "  position: relative;\n",
       "}\n",
       "\n",
       "#sk-container-id-1 div.sk-parallel-item {\n",
       "  display: flex;\n",
       "  flex-direction: column;\n",
       "}\n",
       "\n",
       "#sk-container-id-1 div.sk-parallel-item:first-child::after {\n",
       "  align-self: flex-end;\n",
       "  width: 50%;\n",
       "}\n",
       "\n",
       "#sk-container-id-1 div.sk-parallel-item:last-child::after {\n",
       "  align-self: flex-start;\n",
       "  width: 50%;\n",
       "}\n",
       "\n",
       "#sk-container-id-1 div.sk-parallel-item:only-child::after {\n",
       "  width: 0;\n",
       "}\n",
       "\n",
       "/* Serial-specific style estimator block */\n",
       "\n",
       "#sk-container-id-1 div.sk-serial {\n",
       "  display: flex;\n",
       "  flex-direction: column;\n",
       "  align-items: center;\n",
       "  background-color: var(--sklearn-color-background);\n",
       "  padding-right: 1em;\n",
       "  padding-left: 1em;\n",
       "}\n",
       "\n",
       "\n",
       "/* Toggleable style: style used for estimator/Pipeline/ColumnTransformer box that is\n",
       "clickable and can be expanded/collapsed.\n",
       "- Pipeline and ColumnTransformer use this feature and define the default style\n",
       "- Estimators will overwrite some part of the style using the `sk-estimator` class\n",
       "*/\n",
       "\n",
       "/* Pipeline and ColumnTransformer style (default) */\n",
       "\n",
       "#sk-container-id-1 div.sk-toggleable {\n",
       "  /* Default theme specific background. It is overwritten whether we have a\n",
       "  specific estimator or a Pipeline/ColumnTransformer */\n",
       "  background-color: var(--sklearn-color-background);\n",
       "}\n",
       "\n",
       "/* Toggleable label */\n",
       "#sk-container-id-1 label.sk-toggleable__label {\n",
       "  cursor: pointer;\n",
       "  display: flex;\n",
       "  width: 100%;\n",
       "  margin-bottom: 0;\n",
       "  padding: 0.5em;\n",
       "  box-sizing: border-box;\n",
       "  text-align: center;\n",
       "  align-items: start;\n",
       "  justify-content: space-between;\n",
       "  gap: 0.5em;\n",
       "}\n",
       "\n",
       "#sk-container-id-1 label.sk-toggleable__label .caption {\n",
       "  font-size: 0.6rem;\n",
       "  font-weight: lighter;\n",
       "  color: var(--sklearn-color-text-muted);\n",
       "}\n",
       "\n",
       "#sk-container-id-1 label.sk-toggleable__label-arrow:before {\n",
       "  /* Arrow on the left of the label */\n",
       "  content: \"▸\";\n",
       "  float: left;\n",
       "  margin-right: 0.25em;\n",
       "  color: var(--sklearn-color-icon);\n",
       "}\n",
       "\n",
       "#sk-container-id-1 label.sk-toggleable__label-arrow:hover:before {\n",
       "  color: var(--sklearn-color-text);\n",
       "}\n",
       "\n",
       "/* Toggleable content - dropdown */\n",
       "\n",
       "#sk-container-id-1 div.sk-toggleable__content {\n",
       "  max-height: 0;\n",
       "  max-width: 0;\n",
       "  overflow: hidden;\n",
       "  text-align: left;\n",
       "  /* unfitted */\n",
       "  background-color: var(--sklearn-color-unfitted-level-0);\n",
       "}\n",
       "\n",
       "#sk-container-id-1 div.sk-toggleable__content.fitted {\n",
       "  /* fitted */\n",
       "  background-color: var(--sklearn-color-fitted-level-0);\n",
       "}\n",
       "\n",
       "#sk-container-id-1 div.sk-toggleable__content pre {\n",
       "  margin: 0.2em;\n",
       "  border-radius: 0.25em;\n",
       "  color: var(--sklearn-color-text);\n",
       "  /* unfitted */\n",
       "  background-color: var(--sklearn-color-unfitted-level-0);\n",
       "}\n",
       "\n",
       "#sk-container-id-1 div.sk-toggleable__content.fitted pre {\n",
       "  /* unfitted */\n",
       "  background-color: var(--sklearn-color-fitted-level-0);\n",
       "}\n",
       "\n",
       "#sk-container-id-1 input.sk-toggleable__control:checked~div.sk-toggleable__content {\n",
       "  /* Expand drop-down */\n",
       "  max-height: 200px;\n",
       "  max-width: 100%;\n",
       "  overflow: auto;\n",
       "}\n",
       "\n",
       "#sk-container-id-1 input.sk-toggleable__control:checked~label.sk-toggleable__label-arrow:before {\n",
       "  content: \"▾\";\n",
       "}\n",
       "\n",
       "/* Pipeline/ColumnTransformer-specific style */\n",
       "\n",
       "#sk-container-id-1 div.sk-label input.sk-toggleable__control:checked~label.sk-toggleable__label {\n",
       "  color: var(--sklearn-color-text);\n",
       "  background-color: var(--sklearn-color-unfitted-level-2);\n",
       "}\n",
       "\n",
       "#sk-container-id-1 div.sk-label.fitted input.sk-toggleable__control:checked~label.sk-toggleable__label {\n",
       "  background-color: var(--sklearn-color-fitted-level-2);\n",
       "}\n",
       "\n",
       "/* Estimator-specific style */\n",
       "\n",
       "/* Colorize estimator box */\n",
       "#sk-container-id-1 div.sk-estimator input.sk-toggleable__control:checked~label.sk-toggleable__label {\n",
       "  /* unfitted */\n",
       "  background-color: var(--sklearn-color-unfitted-level-2);\n",
       "}\n",
       "\n",
       "#sk-container-id-1 div.sk-estimator.fitted input.sk-toggleable__control:checked~label.sk-toggleable__label {\n",
       "  /* fitted */\n",
       "  background-color: var(--sklearn-color-fitted-level-2);\n",
       "}\n",
       "\n",
       "#sk-container-id-1 div.sk-label label.sk-toggleable__label,\n",
       "#sk-container-id-1 div.sk-label label {\n",
       "  /* The background is the default theme color */\n",
       "  color: var(--sklearn-color-text-on-default-background);\n",
       "}\n",
       "\n",
       "/* On hover, darken the color of the background */\n",
       "#sk-container-id-1 div.sk-label:hover label.sk-toggleable__label {\n",
       "  color: var(--sklearn-color-text);\n",
       "  background-color: var(--sklearn-color-unfitted-level-2);\n",
       "}\n",
       "\n",
       "/* Label box, darken color on hover, fitted */\n",
       "#sk-container-id-1 div.sk-label.fitted:hover label.sk-toggleable__label.fitted {\n",
       "  color: var(--sklearn-color-text);\n",
       "  background-color: var(--sklearn-color-fitted-level-2);\n",
       "}\n",
       "\n",
       "/* Estimator label */\n",
       "\n",
       "#sk-container-id-1 div.sk-label label {\n",
       "  font-family: monospace;\n",
       "  font-weight: bold;\n",
       "  display: inline-block;\n",
       "  line-height: 1.2em;\n",
       "}\n",
       "\n",
       "#sk-container-id-1 div.sk-label-container {\n",
       "  text-align: center;\n",
       "}\n",
       "\n",
       "/* Estimator-specific */\n",
       "#sk-container-id-1 div.sk-estimator {\n",
       "  font-family: monospace;\n",
       "  border: 1px dotted var(--sklearn-color-border-box);\n",
       "  border-radius: 0.25em;\n",
       "  box-sizing: border-box;\n",
       "  margin-bottom: 0.5em;\n",
       "  /* unfitted */\n",
       "  background-color: var(--sklearn-color-unfitted-level-0);\n",
       "}\n",
       "\n",
       "#sk-container-id-1 div.sk-estimator.fitted {\n",
       "  /* fitted */\n",
       "  background-color: var(--sklearn-color-fitted-level-0);\n",
       "}\n",
       "\n",
       "/* on hover */\n",
       "#sk-container-id-1 div.sk-estimator:hover {\n",
       "  /* unfitted */\n",
       "  background-color: var(--sklearn-color-unfitted-level-2);\n",
       "}\n",
       "\n",
       "#sk-container-id-1 div.sk-estimator.fitted:hover {\n",
       "  /* fitted */\n",
       "  background-color: var(--sklearn-color-fitted-level-2);\n",
       "}\n",
       "\n",
       "/* Specification for estimator info (e.g. \"i\" and \"?\") */\n",
       "\n",
       "/* Common style for \"i\" and \"?\" */\n",
       "\n",
       ".sk-estimator-doc-link,\n",
       "a:link.sk-estimator-doc-link,\n",
       "a:visited.sk-estimator-doc-link {\n",
       "  float: right;\n",
       "  font-size: smaller;\n",
       "  line-height: 1em;\n",
       "  font-family: monospace;\n",
       "  background-color: var(--sklearn-color-background);\n",
       "  border-radius: 1em;\n",
       "  height: 1em;\n",
       "  width: 1em;\n",
       "  text-decoration: none !important;\n",
       "  margin-left: 0.5em;\n",
       "  text-align: center;\n",
       "  /* unfitted */\n",
       "  border: var(--sklearn-color-unfitted-level-1) 1pt solid;\n",
       "  color: var(--sklearn-color-unfitted-level-1);\n",
       "}\n",
       "\n",
       ".sk-estimator-doc-link.fitted,\n",
       "a:link.sk-estimator-doc-link.fitted,\n",
       "a:visited.sk-estimator-doc-link.fitted {\n",
       "  /* fitted */\n",
       "  border: var(--sklearn-color-fitted-level-1) 1pt solid;\n",
       "  color: var(--sklearn-color-fitted-level-1);\n",
       "}\n",
       "\n",
       "/* On hover */\n",
       "div.sk-estimator:hover .sk-estimator-doc-link:hover,\n",
       ".sk-estimator-doc-link:hover,\n",
       "div.sk-label-container:hover .sk-estimator-doc-link:hover,\n",
       ".sk-estimator-doc-link:hover {\n",
       "  /* unfitted */\n",
       "  background-color: var(--sklearn-color-unfitted-level-3);\n",
       "  color: var(--sklearn-color-background);\n",
       "  text-decoration: none;\n",
       "}\n",
       "\n",
       "div.sk-estimator.fitted:hover .sk-estimator-doc-link.fitted:hover,\n",
       ".sk-estimator-doc-link.fitted:hover,\n",
       "div.sk-label-container:hover .sk-estimator-doc-link.fitted:hover,\n",
       ".sk-estimator-doc-link.fitted:hover {\n",
       "  /* fitted */\n",
       "  background-color: var(--sklearn-color-fitted-level-3);\n",
       "  color: var(--sklearn-color-background);\n",
       "  text-decoration: none;\n",
       "}\n",
       "\n",
       "/* Span, style for the box shown on hovering the info icon */\n",
       ".sk-estimator-doc-link span {\n",
       "  display: none;\n",
       "  z-index: 9999;\n",
       "  position: relative;\n",
       "  font-weight: normal;\n",
       "  right: .2ex;\n",
       "  padding: .5ex;\n",
       "  margin: .5ex;\n",
       "  width: min-content;\n",
       "  min-width: 20ex;\n",
       "  max-width: 50ex;\n",
       "  color: var(--sklearn-color-text);\n",
       "  box-shadow: 2pt 2pt 4pt #999;\n",
       "  /* unfitted */\n",
       "  background: var(--sklearn-color-unfitted-level-0);\n",
       "  border: .5pt solid var(--sklearn-color-unfitted-level-3);\n",
       "}\n",
       "\n",
       ".sk-estimator-doc-link.fitted span {\n",
       "  /* fitted */\n",
       "  background: var(--sklearn-color-fitted-level-0);\n",
       "  border: var(--sklearn-color-fitted-level-3);\n",
       "}\n",
       "\n",
       ".sk-estimator-doc-link:hover span {\n",
       "  display: block;\n",
       "}\n",
       "\n",
       "/* \"?\"-specific style due to the `<a>` HTML tag */\n",
       "\n",
       "#sk-container-id-1 a.estimator_doc_link {\n",
       "  float: right;\n",
       "  font-size: 1rem;\n",
       "  line-height: 1em;\n",
       "  font-family: monospace;\n",
       "  background-color: var(--sklearn-color-background);\n",
       "  border-radius: 1rem;\n",
       "  height: 1rem;\n",
       "  width: 1rem;\n",
       "  text-decoration: none;\n",
       "  /* unfitted */\n",
       "  color: var(--sklearn-color-unfitted-level-1);\n",
       "  border: var(--sklearn-color-unfitted-level-1) 1pt solid;\n",
       "}\n",
       "\n",
       "#sk-container-id-1 a.estimator_doc_link.fitted {\n",
       "  /* fitted */\n",
       "  border: var(--sklearn-color-fitted-level-1) 1pt solid;\n",
       "  color: var(--sklearn-color-fitted-level-1);\n",
       "}\n",
       "\n",
       "/* On hover */\n",
       "#sk-container-id-1 a.estimator_doc_link:hover {\n",
       "  /* unfitted */\n",
       "  background-color: var(--sklearn-color-unfitted-level-3);\n",
       "  color: var(--sklearn-color-background);\n",
       "  text-decoration: none;\n",
       "}\n",
       "\n",
       "#sk-container-id-1 a.estimator_doc_link.fitted:hover {\n",
       "  /* fitted */\n",
       "  background-color: var(--sklearn-color-fitted-level-3);\n",
       "}\n",
       "</style><div id=\"sk-container-id-1\" class=\"sk-top-container\"><div class=\"sk-text-repr-fallback\"><pre>RandomizedSearchCV(cv=5, estimator=SVC(), n_iter=50, n_jobs=-1,\n",
       "                   param_distributions={&#x27;C&#x27;: array([1.e-03, 1.e-02, 1.e-01, 1.e+00, 1.e+01, 1.e+02, 1.e+03]),\n",
       "                                        &#x27;gamma&#x27;: array([1.e-03, 1.e-02, 1.e-01, 1.e+00, 1.e+01, 1.e+02, 1.e+03]),\n",
       "                                        &#x27;kernel&#x27;: [&#x27;linear&#x27;, &#x27;rbf&#x27;, &#x27;poly&#x27;]},\n",
       "                   random_state=42)</pre><b>In a Jupyter environment, please rerun this cell to show the HTML representation or trust the notebook. <br />On GitHub, the HTML representation is unable to render, please try loading this page with nbviewer.org.</b></div><div class=\"sk-container\" hidden><div class=\"sk-item sk-dashed-wrapped\"><div class=\"sk-label-container\"><div class=\"sk-label fitted sk-toggleable\"><input class=\"sk-toggleable__control sk-hidden--visually\" id=\"sk-estimator-id-1\" type=\"checkbox\" ><label for=\"sk-estimator-id-1\" class=\"sk-toggleable__label fitted sk-toggleable__label-arrow\"><div><div>RandomizedSearchCV</div></div><div><a class=\"sk-estimator-doc-link fitted\" rel=\"noreferrer\" target=\"_blank\" href=\"https://scikit-learn.org/1.6/modules/generated/sklearn.model_selection.RandomizedSearchCV.html\">?<span>Documentation for RandomizedSearchCV</span></a><span class=\"sk-estimator-doc-link fitted\">i<span>Fitted</span></span></div></label><div class=\"sk-toggleable__content fitted\"><pre>RandomizedSearchCV(cv=5, estimator=SVC(), n_iter=50, n_jobs=-1,\n",
       "                   param_distributions={&#x27;C&#x27;: array([1.e-03, 1.e-02, 1.e-01, 1.e+00, 1.e+01, 1.e+02, 1.e+03]),\n",
       "                                        &#x27;gamma&#x27;: array([1.e-03, 1.e-02, 1.e-01, 1.e+00, 1.e+01, 1.e+02, 1.e+03]),\n",
       "                                        &#x27;kernel&#x27;: [&#x27;linear&#x27;, &#x27;rbf&#x27;, &#x27;poly&#x27;]},\n",
       "                   random_state=42)</pre></div> </div></div><div class=\"sk-parallel\"><div class=\"sk-parallel-item\"><div class=\"sk-item\"><div class=\"sk-label-container\"><div class=\"sk-label fitted sk-toggleable\"><input class=\"sk-toggleable__control sk-hidden--visually\" id=\"sk-estimator-id-2\" type=\"checkbox\" ><label for=\"sk-estimator-id-2\" class=\"sk-toggleable__label fitted sk-toggleable__label-arrow\"><div><div>best_estimator_: SVC</div></div></label><div class=\"sk-toggleable__content fitted\"><pre>SVC(C=1000.0, gamma=0.001)</pre></div> </div></div><div class=\"sk-serial\"><div class=\"sk-item\"><div class=\"sk-estimator fitted sk-toggleable\"><input class=\"sk-toggleable__control sk-hidden--visually\" id=\"sk-estimator-id-3\" type=\"checkbox\" ><label for=\"sk-estimator-id-3\" class=\"sk-toggleable__label fitted sk-toggleable__label-arrow\"><div><div>SVC</div></div><div><a class=\"sk-estimator-doc-link fitted\" rel=\"noreferrer\" target=\"_blank\" href=\"https://scikit-learn.org/1.6/modules/generated/sklearn.svm.SVC.html\">?<span>Documentation for SVC</span></a></div></label><div class=\"sk-toggleable__content fitted\"><pre>SVC(C=1000.0, gamma=0.001)</pre></div> </div></div></div></div></div></div></div></div></div>"
      ],
      "text/plain": [
       "RandomizedSearchCV(cv=5, estimator=SVC(), n_iter=50, n_jobs=-1,\n",
       "                   param_distributions={'C': array([1.e-03, 1.e-02, 1.e-01, 1.e+00, 1.e+01, 1.e+02, 1.e+03]),\n",
       "                                        'gamma': array([1.e-03, 1.e-02, 1.e-01, 1.e+00, 1.e+01, 1.e+02, 1.e+03]),\n",
       "                                        'kernel': ['linear', 'rbf', 'poly']},\n",
       "                   random_state=42)"
      ]
     },
     "execution_count": 45,
     "metadata": {},
     "output_type": "execute_result"
    }
   ],
   "source": [
    "random_search.fit(X_train, y_train)"
   ]
  },
  {
   "cell_type": "code",
   "execution_count": 46,
   "metadata": {},
   "outputs": [
    {
     "name": "stdout",
     "output_type": "stream",
     "text": [
      "Best parameters: {'kernel': 'rbf', 'gamma': 0.001, 'C': 1000.0}\n",
      "Best cross-validation score: 0.7881514810648669\n"
     ]
    }
   ],
   "source": [
    "print(f\"Best parameters: {random_search.best_params_}\")\n",
    "print(f\"Best cross-validation score: {random_search.best_score_}\")"
   ]
  },
  {
   "cell_type": "code",
   "execution_count": 48,
   "metadata": {},
   "outputs": [],
   "source": [
    "y_val_pred  =random_search.predict(X_val)"
   ]
  },
  {
   "cell_type": "code",
   "execution_count": 50,
   "metadata": {},
   "outputs": [
    {
     "name": "stdout",
     "output_type": "stream",
     "text": [
      "[[31  0  6  7]\n",
      " [ 0  5  4  0]\n",
      " [ 7  2 19  0]\n",
      " [ 9  0  2 66]]\n",
      "              precision    recall  f1-score   support\n",
      "\n",
      "           0       0.66      0.70      0.68        44\n",
      "           1       0.71      0.56      0.62         9\n",
      "           2       0.61      0.68      0.64        28\n",
      "           3       0.90      0.86      0.88        77\n",
      "\n",
      "    accuracy                           0.77       158\n",
      "   macro avg       0.72      0.70      0.71       158\n",
      "weighted avg       0.77      0.77      0.77       158\n",
      "\n"
     ]
    }
   ],
   "source": [
    "print(confusion_matrix(y_val, y_val_pred))\n",
    "print(classification_report(y_val, y_val_pred))"
   ]
  },
  {
   "cell_type": "code",
   "execution_count": 51,
   "metadata": {},
   "outputs": [],
   "source": [
    "y_test_pred = random_search.predict(X_test)"
   ]
  },
  {
   "cell_type": "code",
   "execution_count": 52,
   "metadata": {},
   "outputs": [
    {
     "name": "stdout",
     "output_type": "stream",
     "text": [
      "[[46  0  4  4]\n",
      " [ 0  6  5  0]\n",
      " [ 9  3 24  0]\n",
      " [11  0  2 84]]\n",
      "              precision    recall  f1-score   support\n",
      "\n",
      "           0       0.70      0.85      0.77        54\n",
      "           1       0.67      0.55      0.60        11\n",
      "           2       0.69      0.67      0.68        36\n",
      "           3       0.95      0.87      0.91        97\n",
      "\n",
      "    accuracy                           0.81       198\n",
      "   macro avg       0.75      0.73      0.74       198\n",
      "weighted avg       0.82      0.81      0.81       198\n",
      "\n"
     ]
    }
   ],
   "source": [
    "print(confusion_matrix(y_test, y_test_pred))\n",
    "print(classification_report(y_test, y_test_pred))"
   ]
  },
  {
   "cell_type": "code",
   "execution_count": null,
   "metadata": {},
   "outputs": [],
   "source": []
  },
  {
   "cell_type": "code",
   "execution_count": null,
   "metadata": {},
   "outputs": [],
   "source": []
  },
  {
   "cell_type": "code",
   "execution_count": null,
   "metadata": {},
   "outputs": [],
   "source": []
  },
  {
   "cell_type": "code",
   "execution_count": null,
   "metadata": {},
   "outputs": [],
   "source": []
  },
  {
   "cell_type": "code",
   "execution_count": null,
   "metadata": {},
   "outputs": [],
   "source": []
  },
  {
   "cell_type": "code",
   "execution_count": 38,
   "metadata": {
    "executionInfo": {
     "elapsed": 1,
     "status": "ok",
     "timestamp": 1744063159220,
     "user": {
      "displayName": "Anthony So",
      "userId": "05258592867336372279"
     },
     "user_tz": -600
    },
    "id": "OOzgowlJ3uyp"
   },
   "outputs": [],
   "source": [
    "# <Student to fill this section>\n",
    "algorithm_selection_explanations = \"\"\"\n",
    "Provide some explanations on why you believe this algorithm is a good fit\n",
    "\"\"\""
   ]
  },
  {
   "cell_type": "code",
   "execution_count": 39,
   "metadata": {
    "colab": {
     "base_uri": "https://localhost:8080/",
     "height": 81
    },
    "executionInfo": {
     "elapsed": 20,
     "status": "ok",
     "timestamp": 1744063159240,
     "user": {
      "displayName": "Anthony So",
      "userId": "05258592867336372279"
     },
     "user_tz": -600
    },
    "id": "BYNgEFLX3u17",
    "outputId": "9b38b7da-5e92-4c5d-9c79-238fcca7288e"
   },
   "outputs": [
    {
     "data": {
      "text/html": [
       "<p style=\"color:grey\">algorithm_selection_explanations</p><h3 font-size: 3em>\n",
       "Provide some explanations on why you believe this algorithm is a good fit\n",
       "</h3>"
      ],
      "text/plain": [
       "<IPython.core.display.HTML object>"
      ]
     },
     "metadata": {},
     "output_type": "display_data"
    }
   ],
   "source": [
    "# Do not modify this code\n",
    "print_tile(size=\"h3\", key='algorithm_selection_explanations', value=algorithm_selection_explanations)"
   ]
  },
  {
   "cell_type": "markdown",
   "metadata": {
    "id": "0ks_MmM2mCfm"
   },
   "source": [
    "### G.2 Set Hyperparameters"
   ]
  },
  {
   "cell_type": "code",
   "execution_count": 40,
   "metadata": {
    "executionInfo": {
     "elapsed": 1,
     "status": "ok",
     "timestamp": 1744063159241,
     "user": {
      "displayName": "Anthony So",
      "userId": "05258592867336372279"
     },
     "user_tz": -600
    },
    "id": "NUswpGVLmDXl"
   },
   "outputs": [],
   "source": [
    "# <Student to fill this section>"
   ]
  },
  {
   "cell_type": "code",
   "execution_count": 41,
   "metadata": {
    "executionInfo": {
     "elapsed": 1,
     "status": "ok",
     "timestamp": 1744063159242,
     "user": {
      "displayName": "Anthony So",
      "userId": "05258592867336372279"
     },
     "user_tz": -600
    },
    "id": "L_hjiXab31B3"
   },
   "outputs": [],
   "source": [
    "# <Student to fill this section>\n",
    "hyperparameters_selection_explanations = \"\"\"\n",
    "Explain why you are tuning these hyperparameters\n",
    "\"\"\""
   ]
  },
  {
   "cell_type": "code",
   "execution_count": 42,
   "metadata": {
    "colab": {
     "base_uri": "https://localhost:8080/",
     "height": 81
    },
    "executionInfo": {
     "elapsed": 1,
     "status": "ok",
     "timestamp": 1744063159244,
     "user": {
      "displayName": "Anthony So",
      "userId": "05258592867336372279"
     },
     "user_tz": -600
    },
    "id": "tcZOBvcv31E5",
    "outputId": "f9b918bb-f3cf-4dea-86a4-bca492ed0b06"
   },
   "outputs": [
    {
     "data": {
      "text/html": [
       "<p style=\"color:grey\">hyperparameters_selection_explanations</p><h3 font-size: 3em>\n",
       "Explain why you are tuning these hyperparameters\n",
       "</h3>"
      ],
      "text/plain": [
       "<IPython.core.display.HTML object>"
      ]
     },
     "metadata": {},
     "output_type": "display_data"
    }
   ],
   "source": [
    "# Do not modify this code\n",
    "print_tile(size=\"h3\", key='hyperparameters_selection_explanations', value=hyperparameters_selection_explanations)"
   ]
  },
  {
   "cell_type": "markdown",
   "metadata": {
    "id": "VDjdjQjFmkLe"
   },
   "source": [
    "### G.3 Fit Model"
   ]
  },
  {
   "cell_type": "code",
   "execution_count": 43,
   "metadata": {
    "executionInfo": {
     "elapsed": 0,
     "status": "ok",
     "timestamp": 1744063159245,
     "user": {
      "displayName": "Anthony So",
      "userId": "05258592867336372279"
     },
     "user_tz": -600
    },
    "id": "0Ub3Nrdgmm2N"
   },
   "outputs": [],
   "source": [
    "# <Student to fill this section>"
   ]
  },
  {
   "cell_type": "markdown",
   "metadata": {
    "id": "q43YtqpdeniY"
   },
   "source": [
    "### G.4 Model Technical Performance"
   ]
  },
  {
   "cell_type": "code",
   "execution_count": 44,
   "metadata": {
    "executionInfo": {
     "elapsed": 1,
     "status": "ok",
     "timestamp": 1744063159247,
     "user": {
      "displayName": "Anthony So",
      "userId": "05258592867336372279"
     },
     "user_tz": -600
    },
    "id": "x1Q3oxoNhez5"
   },
   "outputs": [],
   "source": [
    "# <Student to fill this section>"
   ]
  },
  {
   "cell_type": "code",
   "execution_count": 53,
   "metadata": {
    "executionInfo": {
     "elapsed": 1,
     "status": "ok",
     "timestamp": 1744063159248,
     "user": {
      "displayName": "Anthony So",
      "userId": "05258592867336372279"
     },
     "user_tz": -600
    },
    "id": "7movz2AD3-k_"
   },
   "outputs": [],
   "source": [
    "# <Student to fill this section>\n",
    "model_performance_explanations = \"\"\"\n",
    "Class 3 (Poor Performers):\n",
    "\n",
    "The recall for class 3 is 0.87, which indicates that the model correctly identifies 87% of the actual poor performers. \n",
    "This is a strong result and aligns well with the business goal of identifying students who need support due to poor academic performance.\n",
    "\"\"\""
   ]
  },
  {
   "cell_type": "code",
   "execution_count": 46,
   "metadata": {
    "colab": {
     "base_uri": "https://localhost:8080/",
     "height": 81
    },
    "executionInfo": {
     "elapsed": 4,
     "status": "ok",
     "timestamp": 1744063159252,
     "user": {
      "displayName": "Anthony So",
      "userId": "05258592867336372279"
     },
     "user_tz": -600
    },
    "id": "1U_nKfW93-t0",
    "outputId": "584ee322-ccec-4b0c-9cd2-4a7edc64f357"
   },
   "outputs": [
    {
     "data": {
      "text/html": [
       "<p style=\"color:grey\">model_performance_explanations</p><h3 font-size: 3em>\n",
       "Provide some explanations on model performance\n",
       "</h3>"
      ],
      "text/plain": [
       "<IPython.core.display.HTML object>"
      ]
     },
     "metadata": {},
     "output_type": "display_data"
    }
   ],
   "source": [
    "# Do not modify this code\n",
    "print_tile(size=\"h3\", key='model_performance_explanations', value=model_performance_explanations)"
   ]
  },
  {
   "cell_type": "markdown",
   "metadata": {
    "id": "W1HgZMPcmtu7"
   },
   "source": [
    "### G.5 Business Impact from Current Model Performance\n"
   ]
  },
  {
   "cell_type": "code",
   "execution_count": 47,
   "metadata": {
    "executionInfo": {
     "elapsed": 1,
     "status": "ok",
     "timestamp": 1744063159282,
     "user": {
      "displayName": "Anthony So",
      "userId": "05258592867336372279"
     },
     "user_tz": -600
    },
    "id": "XGq2RWyqmuKM"
   },
   "outputs": [],
   "source": [
    "# <Student to fill this section>"
   ]
  },
  {
   "cell_type": "code",
   "execution_count": 54,
   "metadata": {
    "executionInfo": {
     "elapsed": 0,
     "status": "ok",
     "timestamp": 1744063159282,
     "user": {
      "displayName": "Anthony So",
      "userId": "05258592867336372279"
     },
     "user_tz": -600
    },
    "id": "T7zWIZ4v4Ehd"
   },
   "outputs": [],
   "source": [
    "# <Student to fill this section>\n",
    "business_impacts_explanations = \"\"\"\n",
    "The Support Vector Machine (SVM) model has demonstrated solid performance, particularly in identifying poor performers (class 3), which aligns well with the business goal of targeting students who need intervention due to poor academic performance.\n",
    "Model Performance Summary:\n",
    "Class 3 (Poor Performers):\n",
    "The recall for class 3 is 0.87, meaning the model correctly identifies 87% of the students who are performing poorly. This result is quite strong and reflects the model's ability to pinpoint those most in need of support, which is the primary business objective.\n",
    "Class 0 (Average Performers):\n",
    "The recall for class 0 is 0.85, meaning 85% of average performers are correctly identified. While this may not be the primary focus, it is important for the business to accurately recognize this group, as they represent a significant portion of the student body. This insight allows for additional resources or support to be applied where necessary to maintain overall academic performance.\n",
    "\"\"\""
   ]
  },
  {
   "cell_type": "code",
   "execution_count": 49,
   "metadata": {
    "colab": {
     "base_uri": "https://localhost:8080/",
     "height": 101
    },
    "executionInfo": {
     "elapsed": 6,
     "status": "ok",
     "timestamp": 1744063159289,
     "user": {
      "displayName": "Anthony So",
      "userId": "05258592867336372279"
     },
     "user_tz": -600
    },
    "id": "OfuoUsp84Eod",
    "outputId": "ef3b0520-c79d-42e0-8943-483c50ce6ff7"
   },
   "outputs": [
    {
     "data": {
      "text/html": [
       "<p style=\"color:grey\">business_impacts_explanations</p><h3 font-size: 3em>\n",
       "Interpret the results of the experiments related to the business objective set earlier. Estimate the impacts of the incorrect results for the business (some results may have more impact compared to others)\n",
       "</h3>"
      ],
      "text/plain": [
       "<IPython.core.display.HTML object>"
      ]
     },
     "metadata": {},
     "output_type": "display_data"
    }
   ],
   "source": [
    "# Do not modify this code\n",
    "print_tile(size=\"h3\", key='business_impacts_explanations', value=business_impacts_explanations)"
   ]
  },
  {
   "cell_type": "markdown",
   "metadata": {
    "id": "mp1Ie9o8nDl1"
   },
   "source": [
    "## H. Experiment Outcomes"
   ]
  },
  {
   "cell_type": "code",
   "execution_count": 50,
   "metadata": {
    "executionInfo": {
     "elapsed": 1,
     "status": "ok",
     "timestamp": 1744063159290,
     "user": {
      "displayName": "Anthony So",
      "userId": "05258592867336372279"
     },
     "user_tz": -600
    },
    "id": "f1ks62SL4KEk"
   },
   "outputs": [],
   "source": [
    "# <Student to fill this section>\n",
    "experiment_outcome = \"\" # Either 'Hypothesis Confirmed', 'Hypothesis Partially Confirmed' or 'Hypothesis Rejected'"
   ]
  },
  {
   "cell_type": "code",
   "execution_count": 51,
   "metadata": {
    "colab": {
     "base_uri": "https://localhost:8080/",
     "height": 58
    },
    "executionInfo": {
     "elapsed": 2,
     "status": "ok",
     "timestamp": 1744063159292,
     "user": {
      "displayName": "Anthony So",
      "userId": "05258592867336372279"
     },
     "user_tz": -600
    },
    "id": "1Z2YIMpr4KLJ",
    "outputId": "da69b267-f24f-411e-b1ae-7552a3a36e20"
   },
   "outputs": [
    {
     "data": {
      "text/html": [
       "<p style=\"color:grey\">experiment_outcomes_explanations</p><h2 font-size: 3em></h2>"
      ],
      "text/plain": [
       "<IPython.core.display.HTML object>"
      ]
     },
     "metadata": {},
     "output_type": "display_data"
    }
   ],
   "source": [
    "# Do not modify this code\n",
    "print_tile(size=\"h2\", key='experiment_outcomes_explanations', value=experiment_outcome)"
   ]
  },
  {
   "cell_type": "code",
   "execution_count": 52,
   "metadata": {
    "executionInfo": {
     "elapsed": 5,
     "status": "ok",
     "timestamp": 1744063159321,
     "user": {
      "displayName": "Anthony So",
      "userId": "05258592867336372279"
     },
     "user_tz": -600
    },
    "id": "6tw5lZ2S4KV3"
   },
   "outputs": [],
   "source": [
    "# <Student to fill this section>\n",
    "experiment_results_explanations = \"\"\"\n",
    "Reflect on the outcome of the experiment and list the new insights you gained from it. Provide rationale for pursuing more experimentation with the current approach or call out if you think it is a dead end.\n",
    "Given the results achieved and the overall objective of the project, list the potential next steps and experiments. For each of them assess the expected uplift or gains and rank them accordingly. If the experiment achieved the required outcome for the business, recommend the steps to deploy this solution into production.\n",
    "\"\"\""
   ]
  },
  {
   "cell_type": "code",
   "execution_count": 53,
   "metadata": {
    "colab": {
     "base_uri": "https://localhost:8080/",
     "height": 218
    },
    "executionInfo": {
     "elapsed": 2,
     "status": "ok",
     "timestamp": 1744063159323,
     "user": {
      "displayName": "Anthony So",
      "userId": "05258592867336372279"
     },
     "user_tz": -600
    },
    "id": "H-Zd7BEz4Kc3",
    "outputId": "7bf01040-67c4-40f6-fa16-a47d0549c0f2"
   },
   "outputs": [
    {
     "data": {
      "text/html": [
       "<p style=\"color:grey\">experiment_results_explanations</p><h2 font-size: 3em>\n",
       "Reflect on the outcome of the experiment and list the new insights you gained from it. Provide rationale for pursuing more experimentation with the current approach or call out if you think it is a dead end.\n",
       "Given the results achieved and the overall objective of the project, list the potential next steps and experiments. For each of them assess the expected uplift or gains and rank them accordingly. If the experiment achieved the required outcome for the business, recommend the steps to deploy this solution into production.\n",
       "</h2>"
      ],
      "text/plain": [
       "<IPython.core.display.HTML object>"
      ]
     },
     "metadata": {},
     "output_type": "display_data"
    }
   ],
   "source": [
    "# Do not modify this code\n",
    "print_tile(size=\"h2\", key='experiment_results_explanations', value=experiment_results_explanations)"
   ]
  },
  {
   "cell_type": "markdown",
   "metadata": {
    "executionInfo": {
     "elapsed": 0,
     "status": "ok",
     "timestamp": 1744063159323,
     "user": {
      "displayName": "Anthony So",
      "userId": "05258592867336372279"
     },
     "user_tz": -600
    },
    "id": "RMYQ-XSv6YgU"
   },
   "source": [
    "# end of experimentation"
   ]
  },
  {
   "cell_type": "code",
   "execution_count": 53,
   "metadata": {
    "executionInfo": {
     "elapsed": 0,
     "status": "ok",
     "timestamp": 1744063159324,
     "user": {
      "displayName": "Anthony So",
      "userId": "05258592867336372279"
     },
     "user_tz": -600
    },
    "id": "2kJZdk0g6Yir"
   },
   "outputs": [],
   "source": []
  }
 ],
 "metadata": {
  "colab": {
   "provenance": [
    {
     "file_id": "13MHsQlFmfLuY1rWjvW73WSaDUaRPENW4",
     "timestamp": 1680399055727
    }
   ],
   "toc_visible": true
  },
  "kernelspec": {
   "display_name": "Python 3 (ipykernel)",
   "language": "python",
   "name": "python3"
  },
  "language_info": {
   "codemirror_mode": {
    "name": "ipython",
    "version": 3
   },
   "file_extension": ".py",
   "mimetype": "text/x-python",
   "name": "python",
   "nbconvert_exporter": "python",
   "pygments_lexer": "ipython3",
   "version": "3.11.5"
  }
 },
 "nbformat": 4,
 "nbformat_minor": 1
}
