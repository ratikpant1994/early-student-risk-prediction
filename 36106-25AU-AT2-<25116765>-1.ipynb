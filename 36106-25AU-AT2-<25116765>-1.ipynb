{
 "cells": [
  {
   "cell_type": "markdown",
   "metadata": {
    "id": "uQ6wc2HE0pke"
   },
   "source": [
    "# **Experiment Notebook**\n",
    "\n"
   ]
  },
  {
   "cell_type": "markdown",
   "metadata": {
    "id": "KFVpE17Ahezu"
   },
   "source": [
    "---\n",
    "## 0. Setup Environment"
   ]
  },
  {
   "cell_type": "markdown",
   "metadata": {
    "id": "kWUmi7fakv5O"
   },
   "source": [
    "### 0.a Install Environment and Mandatory Packages"
   ]
  },
  {
   "cell_type": "code",
   "execution_count": 2,
   "metadata": {
    "colab": {
     "base_uri": "https://localhost:8080/"
    },
    "executionInfo": {
     "elapsed": 15226,
     "status": "ok",
     "timestamp": 1744063094978,
     "user": {
      "displayName": "Anthony So",
      "userId": "05258592867336372279"
     },
     "user_tz": -600
    },
    "id": "S8jFaNXqvV5W",
    "outputId": "510b23f1-17c0-4e76-ad18-07891b75d8d2"
   },
   "outputs": [
    {
     "name": "stdout",
     "output_type": "stream",
     "text": [
      "Mounted at /content/gdrive\n",
      "\n",
      "You can now save your data files in: /content/36106/assignment/AT2/data\n"
     ]
    }
   ],
   "source": [
    "# Do not modify this code\n",
    "!pip install -q utstd\n",
    "\n",
    "from utstd.folders import *\n",
    "from utstd.ipyrenders import *\n",
    "\n",
    "at = AtFolder(\n",
    "    course_code=36106,\n",
    "    assignment=\"AT2\",\n",
    ")\n",
    "at.run()"
   ]
  },
  {
   "cell_type": "markdown",
   "metadata": {
    "id": "jM39DExClCc5"
   },
   "source": [
    "### 0.b Disable Warnings Messages"
   ]
  },
  {
   "cell_type": "code",
   "execution_count": 3,
   "metadata": {
    "executionInfo": {
     "elapsed": 21,
     "status": "ok",
     "timestamp": 1744063095008,
     "user": {
      "displayName": "Anthony So",
      "userId": "05258592867336372279"
     },
     "user_tz": -600
    },
    "id": "6FneOmBfka9G"
   },
   "outputs": [],
   "source": [
    "# Do not modify this code\n",
    "import warnings\n",
    "warnings.simplefilter(action='ignore')"
   ]
  },
  {
   "cell_type": "markdown",
   "metadata": {
    "id": "CgTrMfyylVLf"
   },
   "source": [
    "### 0.c Install Additional Packages\n",
    "\n",
    "> If you are using additional packages, you need to install them here using the command: `! pip install <package_name>`"
   ]
  },
  {
   "cell_type": "code",
   "execution_count": 4,
   "metadata": {
    "executionInfo": {
     "elapsed": 4,
     "status": "ok",
     "timestamp": 1744063095012,
     "user": {
      "displayName": "Anthony So",
      "userId": "05258592867336372279"
     },
     "user_tz": -600
    },
    "id": "D79tb2V-lVpJ"
   },
   "outputs": [],
   "source": [
    "# <Student to fill this section>"
   ]
  },
  {
   "cell_type": "markdown",
   "metadata": {
    "id": "mXFKfa2tp1ch"
   },
   "source": [
    "### 0.d Import Packages"
   ]
  },
  {
   "cell_type": "code",
   "execution_count": 7,
   "metadata": {
    "executionInfo": {
     "elapsed": 1254,
     "status": "ok",
     "timestamp": 1744063096266,
     "user": {
      "displayName": "Anthony So",
      "userId": "05258592867336372279"
     },
     "user_tz": -600
    },
    "id": "GBEAwdncnlAx"
   },
   "outputs": [
    {
     "name": "stderr",
     "output_type": "stream",
     "text": [
      "/Users/ratikpant/anaconda3/lib/python3.11/site-packages/pandas/core/arrays/masked.py:60: UserWarning: Pandas requires version '1.3.6' or newer of 'bottleneck' (version '1.3.5' currently installed).\n",
      "  from pandas.core import (\n"
     ]
    }
   ],
   "source": [
    "# <Student to fill this section>\n",
    "import pandas as pd\n",
    "import altair as alt\n",
    "import numpy as np\n",
    "import matplotlib.pyplot as plt\n",
    "import seaborn as sns"
   ]
  },
  {
   "cell_type": "markdown",
   "metadata": {
    "id": "tQgxLRrvjiJb"
   },
   "source": [
    "---\n",
    "## A. Project Description\n"
   ]
  },
  {
   "cell_type": "code",
   "execution_count": 6,
   "metadata": {
    "executionInfo": {
     "elapsed": 10,
     "status": "ok",
     "timestamp": 1744063096280,
     "user": {
      "displayName": "Anthony So",
      "userId": "05258592867336372279"
     },
     "user_tz": -600
    },
    "id": "X5mh2fhW1iBy"
   },
   "outputs": [],
   "source": [
    "# <Student to fill this section>\n",
    "student_name = \"\"\n",
    "student_id = \"\""
   ]
  },
  {
   "cell_type": "code",
   "execution_count": 4,
   "metadata": {
    "colab": {
     "base_uri": "https://localhost:8080/",
     "height": 59
    },
    "executionInfo": {
     "elapsed": 25,
     "status": "ok",
     "timestamp": 1744063096307,
     "user": {
      "displayName": "Anthony So",
      "userId": "05258592867336372279"
     },
     "user_tz": -600
    },
    "id": "uaK__uW61iI8",
    "outputId": "945bb40f-4a92-4f0a-abe8-510ecfd3aaba"
   },
   "outputs": [
    {
     "ename": "NameError",
     "evalue": "name 'print_tile' is not defined",
     "output_type": "error",
     "traceback": [
      "\u001b[0;31m---------------------------------------------------------------------------\u001b[0m",
      "\u001b[0;31mNameError\u001b[0m                                 Traceback (most recent call last)",
      "Cell \u001b[0;32mIn[4], line 2\u001b[0m\n\u001b[1;32m      1\u001b[0m \u001b[38;5;66;03m# Do not modify this code\u001b[39;00m\n\u001b[0;32m----> 2\u001b[0m print_tile(size\u001b[38;5;241m=\u001b[39m\u001b[38;5;124m\"\u001b[39m\u001b[38;5;124mh1\u001b[39m\u001b[38;5;124m\"\u001b[39m, key\u001b[38;5;241m=\u001b[39m\u001b[38;5;124m'\u001b[39m\u001b[38;5;124mstudent_name\u001b[39m\u001b[38;5;124m'\u001b[39m, value\u001b[38;5;241m=\u001b[39mstudent_name)\n",
      "\u001b[0;31mNameError\u001b[0m: name 'print_tile' is not defined"
     ]
    }
   ],
   "source": [
    "# Do not modify this code\n",
    "print_tile(size=\"h1\", key='student_name', value=student_name)"
   ]
  },
  {
   "cell_type": "code",
   "execution_count": 8,
   "metadata": {
    "colab": {
     "base_uri": "https://localhost:8080/",
     "height": 59
    },
    "executionInfo": {
     "elapsed": 7,
     "status": "ok",
     "timestamp": 1744063096314,
     "user": {
      "displayName": "Anthony So",
      "userId": "05258592867336372279"
     },
     "user_tz": -600
    },
    "id": "3sklS9SO1iPN",
    "outputId": "b441559b-fb7d-4422-ced0-fc99a072fcd9"
   },
   "outputs": [
    {
     "data": {
      "text/html": [
       "<p style=\"color:grey\">student_id</p><h1 font-size: 3em></h1>"
      ],
      "text/plain": [
       "<IPython.core.display.HTML object>"
      ]
     },
     "metadata": {},
     "output_type": "display_data"
    }
   ],
   "source": [
    "# Do not modify this code\n",
    "print_tile(size=\"h1\", key='student_id', value=student_id)"
   ]
  },
  {
   "cell_type": "code",
   "execution_count": 9,
   "metadata": {
    "executionInfo": {
     "elapsed": 8,
     "status": "ok",
     "timestamp": 1744063096324,
     "user": {
      "displayName": "Anthony So",
      "userId": "05258592867336372279"
     },
     "user_tz": -600
    },
    "id": "GTf0Pg6Z2v-Z"
   },
   "outputs": [],
   "source": [
    "# <Student to fill this section>\n",
    "business_objective = \"\"\"\n",
    "Explain clearly what is the goal of this project for the business. How will the results be used? What will be the impact of accurate or incorrect results?\n",
    "\"\"\""
   ]
  },
  {
   "cell_type": "code",
   "execution_count": 10,
   "metadata": {
    "colab": {
     "base_uri": "https://localhost:8080/",
     "height": 101
    },
    "executionInfo": {
     "elapsed": 13,
     "status": "ok",
     "timestamp": 1744063096342,
     "user": {
      "displayName": "Anthony So",
      "userId": "05258592867336372279"
     },
     "user_tz": -600
    },
    "id": "exnz6agQ2wFg",
    "outputId": "5ff6741d-638e-451d-d8ac-89dcf3c314ab"
   },
   "outputs": [
    {
     "data": {
      "text/html": [
       "<p style=\"color:grey\">business_objective</p><h3 font-size: 3em>\n",
       "Explain clearly what is the goal of this project for the business. How will the results be used? What will be the impact of accurate or incorrect results?\n",
       "</h3>"
      ],
      "text/plain": [
       "<IPython.core.display.HTML object>"
      ]
     },
     "metadata": {},
     "output_type": "display_data"
    }
   ],
   "source": [
    "# Do not modify this code\n",
    "print_tile(size=\"h3\", key='business_objective', value=business_objective)"
   ]
  },
  {
   "cell_type": "markdown",
   "metadata": {
    "id": "4q1Bzcejvfpm"
   },
   "source": [
    "---\n",
    "## B. Experiment Description"
   ]
  },
  {
   "cell_type": "code",
   "execution_count": 11,
   "metadata": {
    "colab": {
     "base_uri": "https://localhost:8080/",
     "height": 98
    },
    "executionInfo": {
     "elapsed": 17,
     "status": "ok",
     "timestamp": 1744063096366,
     "user": {
      "displayName": "Anthony So",
      "userId": "05258592867336372279"
     },
     "user_tz": -600
    },
    "id": "dXpWo_-o21FD",
    "outputId": "4517592e-e8d5-4bef-bb4c-bfb2ee82cac0"
   },
   "outputs": [
    {
     "data": {
      "text/html": [
       "<p style=\"color:grey\">experiment_id</p><h1 font-size: 3em>1</h1>"
      ],
      "text/plain": [
       "<IPython.core.display.HTML object>"
      ]
     },
     "metadata": {},
     "output_type": "display_data"
    }
   ],
   "source": [
    "# Do not modify this code\n",
    "experiment_id = \"1\"\n",
    "print_tile(size=\"h1\", key='experiment_id', value=experiment_id)"
   ]
  },
  {
   "cell_type": "code",
   "execution_count": 3,
   "metadata": {
    "executionInfo": {
     "elapsed": 10,
     "status": "ok",
     "timestamp": 1744063096377,
     "user": {
      "displayName": "Anthony So",
      "userId": "05258592867336372279"
     },
     "user_tz": -600
    },
    "id": "qng9pUoU21Kp"
   },
   "outputs": [
    {
     "ename": "SyntaxError",
     "evalue": "unterminated string literal (detected at line 5) (1040667455.py, line 5)",
     "output_type": "error",
     "traceback": [
      "\u001b[0;36m  Cell \u001b[0;32mIn[3], line 5\u001b[0;36m\u001b[0m\n\u001b[0;31m    \"\"\"\"\u001b[0m\n\u001b[0m       ^\u001b[0m\n\u001b[0;31mSyntaxError\u001b[0m\u001b[0;31m:\u001b[0m unterminated string literal (detected at line 5)\n"
     ]
    }
   ],
   "source": [
    "# <Student to fill this section>\n",
    "experiment_hypothesis = \"\"\"\"\n",
    "Present the hypothesis you want to test, the question you want to answer or the insight you are seeking.\n",
    "Explain the reasons why you think it is worthwhile considering it\n",
    "\"\"\"\""
   ]
  },
  {
   "cell_type": "code",
   "execution_count": 13,
   "metadata": {
    "colab": {
     "base_uri": "https://localhost:8080/",
     "height": 101
    },
    "executionInfo": {
     "elapsed": 16,
     "status": "ok",
     "timestamp": 1744063096395,
     "user": {
      "displayName": "Anthony So",
      "userId": "05258592867336372279"
     },
     "user_tz": -600
    },
    "id": "3F9fpCzf21YI",
    "outputId": "6c525060-1573-4b2f-afa9-6bd8d7d51e10"
   },
   "outputs": [
    {
     "data": {
      "text/html": [
       "<p style=\"color:grey\">experiment_hypothesis</p><h3 font-size: 3em>\n",
       "Present the hypothesis you want to test, the question you want to answer or the insight you are seeking.\n",
       "Explain the reasons why you think it is worthwhile considering it\n",
       "</h3>"
      ],
      "text/plain": [
       "<IPython.core.display.HTML object>"
      ]
     },
     "metadata": {},
     "output_type": "display_data"
    }
   ],
   "source": [
    "# Do not modify this code\n",
    "print_tile(size=\"h3\", key='experiment_hypothesis', value=experiment_hypothesis)"
   ]
  },
  {
   "cell_type": "code",
   "execution_count": 14,
   "metadata": {
    "executionInfo": {
     "elapsed": 7,
     "status": "ok",
     "timestamp": 1744063096406,
     "user": {
      "displayName": "Anthony So",
      "userId": "05258592867336372279"
     },
     "user_tz": -600
    },
    "id": "8Ke5AG7A21dx"
   },
   "outputs": [],
   "source": [
    "# <Student to fill this section>\n",
    "experiment_expectations = \"\"\"\n",
    "Detail what will be the expected outcome of the experiment. If possible, estimate the goal you are expecting.\n",
    "List the possible scenarios resulting from this experiment.\n",
    "\"\"\""
   ]
  },
  {
   "cell_type": "code",
   "execution_count": 15,
   "metadata": {
    "colab": {
     "base_uri": "https://localhost:8080/",
     "height": 101
    },
    "executionInfo": {
     "elapsed": 12,
     "status": "ok",
     "timestamp": 1744063096421,
     "user": {
      "displayName": "Anthony So",
      "userId": "05258592867336372279"
     },
     "user_tz": -600
    },
    "id": "Aal6ECC821nJ",
    "outputId": "36d2e822-f438-45c1-b2d0-95c520c1ba1a"
   },
   "outputs": [
    {
     "data": {
      "text/html": [
       "<p style=\"color:grey\">experiment_expectations</p><h3 font-size: 3em>\n",
       "Detail what will be the expected outcome of the experiment. If possible, estimate the goal you are expecting.\n",
       "List the possible scenarios resulting from this experiment.\n",
       "</h3>"
      ],
      "text/plain": [
       "<IPython.core.display.HTML object>"
      ]
     },
     "metadata": {},
     "output_type": "display_data"
    }
   ],
   "source": [
    "# Do not modify this code\n",
    "print_tile(size=\"h3\", key='experiment_expectations', value=experiment_expectations)"
   ]
  },
  {
   "cell_type": "markdown",
   "metadata": {
    "id": "P0zsEPshwy1K"
   },
   "source": [
    "---\n",
    "## C. Data Understanding"
   ]
  },
  {
   "cell_type": "code",
   "execution_count": 8,
   "metadata": {
    "colab": {
     "base_uri": "https://localhost:8080/"
    },
    "executionInfo": {
     "elapsed": 18,
     "status": "ok",
     "timestamp": 1744063096440,
     "user": {
      "displayName": "Anthony So",
      "userId": "05258592867336372279"
     },
     "user_tz": -600
    },
    "id": "NKgOzSn-w0eq",
    "outputId": "2a1b060f-c380-4596-fea3-581b4b62b644"
   },
   "outputs": [],
   "source": [
    "# Do not modify this code\n",
    "try:\n",
    "  X_train = pd.read_csv('/Users/ratikpant/Desktop/machinelearningass2/X_train.csv')\n",
    "  y_train = pd.read_csv('/Users/ratikpant/Desktop/machinelearningass2/y_train.csv')\n",
    "\n",
    "  X_val = pd.read_csv('/Users/ratikpant/Desktop/machinelearningass2/X_val.csv')\n",
    "  y_val = pd.read_csv('/Users/ratikpant/Desktop/machinelearningass2/y_val.csv')\n",
    "\n",
    "  X_test = pd.read_csv('/Users/ratikpant/Desktop/machinelearningass2/X_test.csv')\n",
    "  y_test = pd.read_csv('/Users/ratikpant/Desktop/machinelearningass2/y_test.csv')\n",
    "except Exception as e:\n",
    "  print(e)"
   ]
  },
  {
   "cell_type": "markdown",
   "metadata": {
    "id": "_NCwQQFkU3v5"
   },
   "source": [
    "---\n",
    "## D. Feature Selection\n"
   ]
  },
  {
   "cell_type": "code",
   "execution_count": 12,
   "metadata": {},
   "outputs": [
    {
     "name": "stdout",
     "output_type": "stream",
     "text": [
      "<class 'pandas.core.frame.DataFrame'>\n",
      "RangeIndex: 633 entries, 0 to 632\n",
      "Data columns (total 28 columns):\n",
      " #   Column                            Non-Null Count  Dtype  \n",
      "---  ------                            --------------  -----  \n",
      " 0   scholarship                       633 non-null    int64  \n",
      " 1   university_transport              633 non-null    int64  \n",
      " 2   has_laptop                        633 non-null    int64  \n",
      " 3   has_consulted_teacher             633 non-null    int64  \n",
      " 4   co_curricular                     633 non-null    int64  \n",
      " 5   health_issues                     633 non-null    int64  \n",
      " 6   study_hours                       633 non-null    float64\n",
      " 7   study_sessions                    633 non-null    float64\n",
      " 8   on_probation                      633 non-null    int64  \n",
      " 9   is_suspended                      633 non-null    int64  \n",
      " 10  skills_development_hours          633 non-null    float64\n",
      " 11  current_gpa                       633 non-null    float64\n",
      " 12  social_risk                       633 non-null    float64\n",
      " 13  gpa_improvement                   633 non-null    float64\n",
      " 14  study_time_per_Session            633 non-null    float64\n",
      " 15  learning_mode_Offline             633 non-null    int64  \n",
      " 16  learning_mode_Online              633 non-null    int64  \n",
      " 17  english_proficiency_Advance       633 non-null    int64  \n",
      " 18  english_proficiency_Basic         633 non-null    int64  \n",
      " 19  english_proficiency_Intermediate  633 non-null    int64  \n",
      " 20  living_arrangement_Bachelor       633 non-null    int64  \n",
      " 21  living_arrangement_Family         633 non-null    int64  \n",
      " 22  attendance_bin_Low                633 non-null    int64  \n",
      " 23  attendance_bin_Medium             633 non-null    int64  \n",
      " 24  attendance_bin_High               633 non-null    int64  \n",
      " 25  income_bin_Low                    633 non-null    int64  \n",
      " 26  income_bin_Medium                 633 non-null    int64  \n",
      " 27  income_bin_High                   633 non-null    int64  \n",
      "dtypes: float64(7), int64(21)\n",
      "memory usage: 138.6 KB\n"
     ]
    }
   ],
   "source": [
    "X_train.info()"
   ]
  },
  {
   "cell_type": "code",
   "execution_count": 13,
   "metadata": {
    "executionInfo": {
     "elapsed": 16,
     "status": "ok",
     "timestamp": 1744063096457,
     "user": {
      "displayName": "Anthony So",
      "userId": "05258592867336372279"
     },
     "user_tz": -600
    },
    "id": "zfC-DLKv4AuM"
   },
   "outputs": [],
   "source": [
    "# <Student to fill this section>\n",
    "\n",
    "features_list = [\n",
    "    'scholarship', \n",
    "    'university_transport', \n",
    "    'has_laptop', \n",
    "    'has_consulted_teacher', \n",
    "    'co_curricular', \n",
    "    'health_issues', \n",
    "    'study_hours', \n",
    "    'study_sessions', \n",
    "    'on_probation', \n",
    "    'is_suspended', \n",
    "    'skills_development_hours', \n",
    "    'current_gpa', \n",
    "    'social_risk', \n",
    "    'gpa_improvement', \n",
    "    'study_time_per_Session', \n",
    "    'learning_mode_Offline', \n",
    "    'learning_mode_Online', \n",
    "    'english_proficiency_Advance', \n",
    "    'english_proficiency_Basic', \n",
    "    'english_proficiency_Intermediate', \n",
    "    'living_arrangement_Bachelor', \n",
    "    'living_arrangement_Family', \n",
    "    'attendance_bin_Low', \n",
    "    'attendance_bin_Medium', \n",
    "    'attendance_bin_High', \n",
    "    'income_bin_Low', \n",
    "    'income_bin_Medium', \n",
    "    'income_bin_High'\n",
    "]"
   ]
  },
  {
   "cell_type": "code",
   "execution_count": 18,
   "metadata": {
    "executionInfo": {
     "elapsed": 8,
     "status": "ok",
     "timestamp": 1744063096465,
     "user": {
      "displayName": "Anthony So",
      "userId": "05258592867336372279"
     },
     "user_tz": -600
    },
    "id": "ZHaIRLAj2_fj"
   },
   "outputs": [],
   "source": [
    "# <Student to fill this section>\n",
    "feature_selection_explanations = \"\"\"\n",
    "Provide a rationale on why you are selected these features but also why you decided to remove other ones\n",
    "\"\"\""
   ]
  },
  {
   "cell_type": "code",
   "execution_count": 19,
   "metadata": {
    "colab": {
     "base_uri": "https://localhost:8080/",
     "height": 81
    },
    "executionInfo": {
     "elapsed": 17,
     "status": "ok",
     "timestamp": 1744063096483,
     "user": {
      "displayName": "Anthony So",
      "userId": "05258592867336372279"
     },
     "user_tz": -600
    },
    "id": "GXCmXWx62_kZ",
    "outputId": "616363ea-2bb5-480b-dac4-6a0d5cc876d7"
   },
   "outputs": [
    {
     "data": {
      "text/html": [
       "<p style=\"color:grey\">feature_selection_explanations</p><h3 font-size: 3em>\n",
       "Provide a rationale on why you are selected these features but also why you decided to remove other ones\n",
       "</h3>"
      ],
      "text/plain": [
       "<IPython.core.display.HTML object>"
      ]
     },
     "metadata": {},
     "output_type": "display_data"
    }
   ],
   "source": [
    "# Do not modify this code\n",
    "print_tile(size=\"h3\", key='feature_selection_explanations', value=feature_selection_explanations)"
   ]
  },
  {
   "cell_type": "markdown",
   "metadata": {
    "id": "j-nNSpJK0Rgu"
   },
   "source": [
    "---\n",
    "## E. Data Preparation"
   ]
  },
  {
   "cell_type": "markdown",
   "metadata": {
    "id": "EDtRq1990rcW"
   },
   "source": [
    "### E.1 Data Transformation <put_name_here>\n"
   ]
  },
  {
   "cell_type": "code",
   "execution_count": 20,
   "metadata": {
    "executionInfo": {
     "elapsed": 18,
     "status": "ok",
     "timestamp": 1744063096502,
     "user": {
      "displayName": "Anthony So",
      "userId": "05258592867336372279"
     },
     "user_tz": -600
    },
    "id": "AZN0u9DD0v5X"
   },
   "outputs": [],
   "source": [
    "# <Student to fill this section>"
   ]
  },
  {
   "cell_type": "code",
   "execution_count": 21,
   "metadata": {
    "executionInfo": {
     "elapsed": 40,
     "status": "ok",
     "timestamp": 1744063096542,
     "user": {
      "displayName": "Anthony So",
      "userId": "05258592867336372279"
     },
     "user_tz": -600
    },
    "id": "GKhUJOlM3FkC"
   },
   "outputs": [],
   "source": [
    "# <Student to fill this section>\n",
    "data_transformation_1_explanations = \"\"\"\n",
    "Provide some explanations on why you believe it is important to perform this data transformation and its impacts\n",
    "\"\"\""
   ]
  },
  {
   "cell_type": "code",
   "execution_count": 22,
   "metadata": {
    "colab": {
     "base_uri": "https://localhost:8080/",
     "height": 81
    },
    "executionInfo": {
     "elapsed": 2,
     "status": "ok",
     "timestamp": 1744063096542,
     "user": {
      "displayName": "Anthony So",
      "userId": "05258592867336372279"
     },
     "user_tz": -600
    },
    "id": "GaWzPi9h3Fqi",
    "outputId": "ade54724-a8cc-4f9e-fc74-96ada7140cf5"
   },
   "outputs": [
    {
     "data": {
      "text/html": [
       "<p style=\"color:grey\">data_transformation_1_explanations</p><h3 font-size: 3em>\n",
       "Provide some explanations on why you believe it is important to perform this data transformation and its impacts\n",
       "</h3>"
      ],
      "text/plain": [
       "<IPython.core.display.HTML object>"
      ]
     },
     "metadata": {},
     "output_type": "display_data"
    }
   ],
   "source": [
    "# Do not modify this code\n",
    "print_tile(size=\"h3\", key='data_transformation_1_explanations', value=data_transformation_1_explanations)"
   ]
  },
  {
   "cell_type": "markdown",
   "metadata": {
    "id": "SxhDoAkw08Eb"
   },
   "source": [
    "### E.2 Data Transformation <put_name_here>\n"
   ]
  },
  {
   "cell_type": "code",
   "execution_count": 23,
   "metadata": {
    "executionInfo": {
     "elapsed": 2,
     "status": "ok",
     "timestamp": 1744063096543,
     "user": {
      "displayName": "Anthony So",
      "userId": "05258592867336372279"
     },
     "user_tz": -600
    },
    "id": "OO5ITMDZ035_"
   },
   "outputs": [],
   "source": [
    "# <Student to fill this section>"
   ]
  },
  {
   "cell_type": "code",
   "execution_count": 24,
   "metadata": {
    "executionInfo": {
     "elapsed": 6,
     "status": "ok",
     "timestamp": 1744063096548,
     "user": {
      "displayName": "Anthony So",
      "userId": "05258592867336372279"
     },
     "user_tz": -600
    },
    "id": "QZeg-jbf3YPr"
   },
   "outputs": [],
   "source": [
    "# <Student to fill this section>\n",
    "data_transformation_2_explanations = \"\"\"\n",
    "Provide some explanations on why you believe it is important to perform this data transformation and its impacts\n",
    "\"\"\""
   ]
  },
  {
   "cell_type": "code",
   "execution_count": 25,
   "metadata": {
    "colab": {
     "base_uri": "https://localhost:8080/",
     "height": 81
    },
    "executionInfo": {
     "elapsed": 1,
     "status": "ok",
     "timestamp": 1744063096550,
     "user": {
      "displayName": "Anthony So",
      "userId": "05258592867336372279"
     },
     "user_tz": -600
    },
    "id": "dyr9ZQOL3YUX",
    "outputId": "d404255d-ab7a-46f1-828d-1700a663d261"
   },
   "outputs": [
    {
     "data": {
      "text/html": [
       "<p style=\"color:grey\">data_transformation_2_explanations</p><h3 font-size: 3em>\n",
       "Provide some explanations on why you believe it is important to perform this data transformation and its impacts\n",
       "</h3>"
      ],
      "text/plain": [
       "<IPython.core.display.HTML object>"
      ]
     },
     "metadata": {},
     "output_type": "display_data"
    }
   ],
   "source": [
    "# Do not modify this code\n",
    "print_tile(size=\"h3\", key='data_transformation_2_explanations', value=data_transformation_2_explanations)"
   ]
  },
  {
   "cell_type": "markdown",
   "metadata": {
    "id": "ylQxO-4g03qH"
   },
   "source": [
    "### E.3 Data Transformation <put_name_here>\n"
   ]
  },
  {
   "cell_type": "code",
   "execution_count": 26,
   "metadata": {
    "executionInfo": {
     "elapsed": 1,
     "status": "ok",
     "timestamp": 1744063096576,
     "user": {
      "displayName": "Anthony So",
      "userId": "05258592867336372279"
     },
     "user_tz": -600
    },
    "id": "5VymIZpS1Ch7"
   },
   "outputs": [],
   "source": [
    "# <Student to fill this section>"
   ]
  },
  {
   "cell_type": "code",
   "execution_count": 27,
   "metadata": {
    "executionInfo": {
     "elapsed": 0,
     "status": "ok",
     "timestamp": 1744063096577,
     "user": {
      "displayName": "Anthony So",
      "userId": "05258592867336372279"
     },
     "user_tz": -600
    },
    "id": "68S5Eev23b1j"
   },
   "outputs": [],
   "source": [
    "# <Student to fill this section>\n",
    "data_transformation_3_explanations = \"\"\"\n",
    "Provide some explanations on why you believe it is important to perform this data transformation and its impacts\n",
    "\"\"\""
   ]
  },
  {
   "cell_type": "code",
   "execution_count": 28,
   "metadata": {
    "colab": {
     "base_uri": "https://localhost:8080/",
     "height": 81
    },
    "executionInfo": {
     "elapsed": 4,
     "status": "ok",
     "timestamp": 1744063096581,
     "user": {
      "displayName": "Anthony So",
      "userId": "05258592867336372279"
     },
     "user_tz": -600
    },
    "id": "yeT-WCIm3b4g",
    "outputId": "03ff6129-78a4-459a-e31c-86406380541b"
   },
   "outputs": [
    {
     "data": {
      "text/html": [
       "<p style=\"color:grey\">data_transformation_3_explanations</p><h3 font-size: 3em>\n",
       "Provide some explanations on why you believe it is important to perform this data transformation and its impacts\n",
       "</h3>"
      ],
      "text/plain": [
       "<IPython.core.display.HTML object>"
      ]
     },
     "metadata": {},
     "output_type": "display_data"
    }
   ],
   "source": [
    "# Do not modify this code\n",
    "print_tile(size=\"h3\", key='data_transformation_3_explanations', value=data_transformation_3_explanations)"
   ]
  },
  {
   "cell_type": "markdown",
   "metadata": {
    "id": "0ykY58h40rwu"
   },
   "source": [
    "### G.n Fixing \"\\<describe_issue_here\\>\"\n",
    "\n",
    "> You can add more cells related to data preparation in this section"
   ]
  },
  {
   "cell_type": "code",
   "execution_count": 28,
   "metadata": {
    "executionInfo": {
     "elapsed": 10,
     "status": "ok",
     "timestamp": 1744063096599,
     "user": {
      "displayName": "Anthony So",
      "userId": "05258592867336372279"
     },
     "user_tz": -600
    },
    "id": "fk_i65M20r1y"
   },
   "outputs": [],
   "source": []
  },
  {
   "cell_type": "markdown",
   "metadata": {
    "id": "S80O7okb0RIx"
   },
   "source": [
    "---\n",
    "## F. Feature Engineering"
   ]
  },
  {
   "cell_type": "markdown",
   "metadata": {
    "id": "Kst7h7wp1MFK"
   },
   "source": [
    "### F.1 New Feature \"\\<put_name_here\\>\"\n",
    "\n"
   ]
  },
  {
   "cell_type": "code",
   "execution_count": 29,
   "metadata": {
    "executionInfo": {
     "elapsed": 9,
     "status": "ok",
     "timestamp": 1744063096600,
     "user": {
      "displayName": "Anthony So",
      "userId": "05258592867336372279"
     },
     "user_tz": -600
    },
    "id": "f_wsc2n-1Mdm"
   },
   "outputs": [],
   "source": [
    "# <Student to fill this section>"
   ]
  },
  {
   "cell_type": "code",
   "execution_count": 30,
   "metadata": {
    "executionInfo": {
     "elapsed": 8,
     "status": "ok",
     "timestamp": 1744063096601,
     "user": {
      "displayName": "Anthony So",
      "userId": "05258592867336372279"
     },
     "user_tz": -600
    },
    "id": "9Bh6p8D_3hC2"
   },
   "outputs": [],
   "source": [
    "# <Student to fill this section>\n",
    "feature_engineering_1_explanations = \"\"\"\n",
    "Provide some explanations on why you believe it is important to create this feature and its impacts\n",
    "\"\"\""
   ]
  },
  {
   "cell_type": "code",
   "execution_count": 31,
   "metadata": {
    "colab": {
     "base_uri": "https://localhost:8080/",
     "height": 81
    },
    "executionInfo": {
     "elapsed": 14,
     "status": "ok",
     "timestamp": 1744063096613,
     "user": {
      "displayName": "Anthony So",
      "userId": "05258592867336372279"
     },
     "user_tz": -600
    },
    "id": "CBCPPzRB3hFt",
    "outputId": "581b65e2-de3d-4f4b-8e3c-9dd9fed015b0"
   },
   "outputs": [
    {
     "data": {
      "text/html": [
       "<p style=\"color:grey\">feature_engineering_1_explanations</p><h3 font-size: 3em>\n",
       "Provide some explanations on why you believe it is important to create this feature and its impacts\n",
       "</h3>"
      ],
      "text/plain": [
       "<IPython.core.display.HTML object>"
      ]
     },
     "metadata": {},
     "output_type": "display_data"
    }
   ],
   "source": [
    "# Do not modify this code\n",
    "print_tile(size=\"h3\", key='feature_engineering_1_explanations', value=feature_engineering_1_explanations)"
   ]
  },
  {
   "cell_type": "markdown",
   "metadata": {
    "id": "xY_hWhC71XAl"
   },
   "source": [
    "### F.2 New Feature \"\\<put_name_here\\>\"\n"
   ]
  },
  {
   "cell_type": "code",
   "execution_count": 32,
   "metadata": {
    "executionInfo": {
     "elapsed": 1,
     "status": "ok",
     "timestamp": 1744063096615,
     "user": {
      "displayName": "Anthony So",
      "userId": "05258592867336372279"
     },
     "user_tz": -600
    },
    "id": "F3DhQoJZ1Xvw"
   },
   "outputs": [],
   "source": [
    "# <Student to fill this section>"
   ]
  },
  {
   "cell_type": "code",
   "execution_count": 33,
   "metadata": {
    "executionInfo": {
     "elapsed": 12,
     "status": "ok",
     "timestamp": 1744063096627,
     "user": {
      "displayName": "Anthony So",
      "userId": "05258592867336372279"
     },
     "user_tz": -600
    },
    "id": "BJyOmWEm3l8a"
   },
   "outputs": [],
   "source": [
    "# <Student to fill this section>\n",
    "feature_engineering_2_explanations = \"\"\"\n",
    "Provide some explanations on why you believe it is important to create this feature and its impacts\n",
    "\"\"\""
   ]
  },
  {
   "cell_type": "code",
   "execution_count": 34,
   "metadata": {
    "colab": {
     "base_uri": "https://localhost:8080/",
     "height": 81
    },
    "executionInfo": {
     "elapsed": 2,
     "status": "ok",
     "timestamp": 1744063096630,
     "user": {
      "displayName": "Anthony So",
      "userId": "05258592867336372279"
     },
     "user_tz": -600
    },
    "id": "5l9zSFCt3l_4",
    "outputId": "40888a37-edd5-45cf-ecf0-fbce655b4b4e"
   },
   "outputs": [
    {
     "data": {
      "text/html": [
       "<p style=\"color:grey\">feature_engineering_2_explanations</p><h3 font-size: 3em>\n",
       "Provide some explanations on why you believe it is important to create this feature and its impacts\n",
       "</h3>"
      ],
      "text/plain": [
       "<IPython.core.display.HTML object>"
      ]
     },
     "metadata": {},
     "output_type": "display_data"
    }
   ],
   "source": [
    "# Do not modify this code\n",
    "print_tile(size=\"h3\", key='feature_engineering_2_explanations', value=feature_engineering_2_explanations)"
   ]
  },
  {
   "cell_type": "markdown",
   "metadata": {
    "id": "w0Fhn4271gVu"
   },
   "source": [
    "### F.3 New Feature \"\\<put_name_here\\>\"\n"
   ]
  },
  {
   "cell_type": "code",
   "execution_count": 35,
   "metadata": {
    "executionInfo": {
     "elapsed": 10,
     "status": "ok",
     "timestamp": 1744063096640,
     "user": {
      "displayName": "Anthony So",
      "userId": "05258592867336372279"
     },
     "user_tz": -600
    },
    "id": "N6wBdmYD1g6c"
   },
   "outputs": [],
   "source": [
    "# <Student to fill this section>"
   ]
  },
  {
   "cell_type": "code",
   "execution_count": 36,
   "metadata": {
    "executionInfo": {
     "elapsed": 2,
     "status": "ok",
     "timestamp": 1744063096641,
     "user": {
      "displayName": "Anthony So",
      "userId": "05258592867336372279"
     },
     "user_tz": -600
    },
    "id": "ftZovroG3pv8"
   },
   "outputs": [],
   "source": [
    "# <Student to fill this section>\n",
    "feature_engineering_3_explanations = \"\"\"\n",
    "Provide some explanations on why you believe it is important to create this feature and its impacts\n",
    "\"\"\""
   ]
  },
  {
   "cell_type": "code",
   "execution_count": 37,
   "metadata": {
    "colab": {
     "base_uri": "https://localhost:8080/",
     "height": 81
    },
    "executionInfo": {
     "elapsed": 20,
     "status": "ok",
     "timestamp": 1744063096669,
     "user": {
      "displayName": "Anthony So",
      "userId": "05258592867336372279"
     },
     "user_tz": -600
    },
    "id": "xDeQtmJf3pzj",
    "outputId": "93cd2f28-9740-45ad-8395-0d11899eb9f2"
   },
   "outputs": [
    {
     "data": {
      "text/html": [
       "<p style=\"color:grey\">feature_engineering_3_explanations</p><h3 font-size: 3em>\n",
       "Provide some explanations on why you believe it is important to create this feature and its impacts\n",
       "</h3>"
      ],
      "text/plain": [
       "<IPython.core.display.HTML object>"
      ]
     },
     "metadata": {},
     "output_type": "display_data"
    }
   ],
   "source": [
    "# Do not modify this code\n",
    "print_tile(size=\"h3\", key='feature_engineering_3_explanations', value=feature_engineering_3_explanations)"
   ]
  },
  {
   "cell_type": "markdown",
   "metadata": {
    "id": "hEIG3OUB0p66"
   },
   "source": [
    "### F.n Fixing \"\\<describe_issue_here\\>\"\n",
    "\n",
    "> You can add more cells related to new features in this section"
   ]
  },
  {
   "cell_type": "code",
   "execution_count": 37,
   "metadata": {
    "executionInfo": {
     "elapsed": 26,
     "status": "ok",
     "timestamp": 1744063096695,
     "user": {
      "displayName": "Anthony So",
      "userId": "05258592867336372279"
     },
     "user_tz": -600
    },
    "id": "1wLqXCWt0p_i"
   },
   "outputs": [],
   "source": []
  },
  {
   "cell_type": "markdown",
   "metadata": {
    "id": "N8MNBrC4Zgz6"
   },
   "source": [
    "---\n",
    "## G. Train Machine Learning Model"
   ]
  },
  {
   "cell_type": "markdown",
   "metadata": {
    "id": "4_tQitOfeDXr"
   },
   "source": [
    "### G.1 Import Algorithm\n"
   ]
  },
  {
   "cell_type": "code",
   "execution_count": 38,
   "metadata": {
    "executionInfo": {
     "elapsed": 1,
     "status": "ok",
     "timestamp": 1744063096697,
     "user": {
      "displayName": "Anthony So",
      "userId": "05258592867336372279"
     },
     "user_tz": -600
    },
    "id": "Mh6epkAThez5"
   },
   "outputs": [],
   "source": [
    "# <Student to fill this section>"
   ]
  },
  {
   "cell_type": "code",
   "execution_count": 22,
   "metadata": {},
   "outputs": [],
   "source": [
    "from sklearn.tree import DecisionTreeClassifier\n",
    "from sklearn.metrics import confusion_matrix , classification_report"
   ]
  },
  {
   "cell_type": "code",
   "execution_count": 40,
   "metadata": {},
   "outputs": [],
   "source": [
    "dt = DecisionTreeClassifier(max_depth=5,\n",
    "    min_samples_split=2,\n",
    "    min_samples_leaf=3)"
   ]
  },
  {
   "cell_type": "code",
   "execution_count": 41,
   "metadata": {},
   "outputs": [
    {
     "data": {
      "text/html": [
       "<style>#sk-container-id-6 {\n",
       "  /* Definition of color scheme common for light and dark mode */\n",
       "  --sklearn-color-text: #000;\n",
       "  --sklearn-color-text-muted: #666;\n",
       "  --sklearn-color-line: gray;\n",
       "  /* Definition of color scheme for unfitted estimators */\n",
       "  --sklearn-color-unfitted-level-0: #fff5e6;\n",
       "  --sklearn-color-unfitted-level-1: #f6e4d2;\n",
       "  --sklearn-color-unfitted-level-2: #ffe0b3;\n",
       "  --sklearn-color-unfitted-level-3: chocolate;\n",
       "  /* Definition of color scheme for fitted estimators */\n",
       "  --sklearn-color-fitted-level-0: #f0f8ff;\n",
       "  --sklearn-color-fitted-level-1: #d4ebff;\n",
       "  --sklearn-color-fitted-level-2: #b3dbfd;\n",
       "  --sklearn-color-fitted-level-3: cornflowerblue;\n",
       "\n",
       "  /* Specific color for light theme */\n",
       "  --sklearn-color-text-on-default-background: var(--sg-text-color, var(--theme-code-foreground, var(--jp-content-font-color1, black)));\n",
       "  --sklearn-color-background: var(--sg-background-color, var(--theme-background, var(--jp-layout-color0, white)));\n",
       "  --sklearn-color-border-box: var(--sg-text-color, var(--theme-code-foreground, var(--jp-content-font-color1, black)));\n",
       "  --sklearn-color-icon: #696969;\n",
       "\n",
       "  @media (prefers-color-scheme: dark) {\n",
       "    /* Redefinition of color scheme for dark theme */\n",
       "    --sklearn-color-text-on-default-background: var(--sg-text-color, var(--theme-code-foreground, var(--jp-content-font-color1, white)));\n",
       "    --sklearn-color-background: var(--sg-background-color, var(--theme-background, var(--jp-layout-color0, #111)));\n",
       "    --sklearn-color-border-box: var(--sg-text-color, var(--theme-code-foreground, var(--jp-content-font-color1, white)));\n",
       "    --sklearn-color-icon: #878787;\n",
       "  }\n",
       "}\n",
       "\n",
       "#sk-container-id-6 {\n",
       "  color: var(--sklearn-color-text);\n",
       "}\n",
       "\n",
       "#sk-container-id-6 pre {\n",
       "  padding: 0;\n",
       "}\n",
       "\n",
       "#sk-container-id-6 input.sk-hidden--visually {\n",
       "  border: 0;\n",
       "  clip: rect(1px 1px 1px 1px);\n",
       "  clip: rect(1px, 1px, 1px, 1px);\n",
       "  height: 1px;\n",
       "  margin: -1px;\n",
       "  overflow: hidden;\n",
       "  padding: 0;\n",
       "  position: absolute;\n",
       "  width: 1px;\n",
       "}\n",
       "\n",
       "#sk-container-id-6 div.sk-dashed-wrapped {\n",
       "  border: 1px dashed var(--sklearn-color-line);\n",
       "  margin: 0 0.4em 0.5em 0.4em;\n",
       "  box-sizing: border-box;\n",
       "  padding-bottom: 0.4em;\n",
       "  background-color: var(--sklearn-color-background);\n",
       "}\n",
       "\n",
       "#sk-container-id-6 div.sk-container {\n",
       "  /* jupyter's `normalize.less` sets `[hidden] { display: none; }`\n",
       "     but bootstrap.min.css set `[hidden] { display: none !important; }`\n",
       "     so we also need the `!important` here to be able to override the\n",
       "     default hidden behavior on the sphinx rendered scikit-learn.org.\n",
       "     See: https://github.com/scikit-learn/scikit-learn/issues/21755 */\n",
       "  display: inline-block !important;\n",
       "  position: relative;\n",
       "}\n",
       "\n",
       "#sk-container-id-6 div.sk-text-repr-fallback {\n",
       "  display: none;\n",
       "}\n",
       "\n",
       "div.sk-parallel-item,\n",
       "div.sk-serial,\n",
       "div.sk-item {\n",
       "  /* draw centered vertical line to link estimators */\n",
       "  background-image: linear-gradient(var(--sklearn-color-text-on-default-background), var(--sklearn-color-text-on-default-background));\n",
       "  background-size: 2px 100%;\n",
       "  background-repeat: no-repeat;\n",
       "  background-position: center center;\n",
       "}\n",
       "\n",
       "/* Parallel-specific style estimator block */\n",
       "\n",
       "#sk-container-id-6 div.sk-parallel-item::after {\n",
       "  content: \"\";\n",
       "  width: 100%;\n",
       "  border-bottom: 2px solid var(--sklearn-color-text-on-default-background);\n",
       "  flex-grow: 1;\n",
       "}\n",
       "\n",
       "#sk-container-id-6 div.sk-parallel {\n",
       "  display: flex;\n",
       "  align-items: stretch;\n",
       "  justify-content: center;\n",
       "  background-color: var(--sklearn-color-background);\n",
       "  position: relative;\n",
       "}\n",
       "\n",
       "#sk-container-id-6 div.sk-parallel-item {\n",
       "  display: flex;\n",
       "  flex-direction: column;\n",
       "}\n",
       "\n",
       "#sk-container-id-6 div.sk-parallel-item:first-child::after {\n",
       "  align-self: flex-end;\n",
       "  width: 50%;\n",
       "}\n",
       "\n",
       "#sk-container-id-6 div.sk-parallel-item:last-child::after {\n",
       "  align-self: flex-start;\n",
       "  width: 50%;\n",
       "}\n",
       "\n",
       "#sk-container-id-6 div.sk-parallel-item:only-child::after {\n",
       "  width: 0;\n",
       "}\n",
       "\n",
       "/* Serial-specific style estimator block */\n",
       "\n",
       "#sk-container-id-6 div.sk-serial {\n",
       "  display: flex;\n",
       "  flex-direction: column;\n",
       "  align-items: center;\n",
       "  background-color: var(--sklearn-color-background);\n",
       "  padding-right: 1em;\n",
       "  padding-left: 1em;\n",
       "}\n",
       "\n",
       "\n",
       "/* Toggleable style: style used for estimator/Pipeline/ColumnTransformer box that is\n",
       "clickable and can be expanded/collapsed.\n",
       "- Pipeline and ColumnTransformer use this feature and define the default style\n",
       "- Estimators will overwrite some part of the style using the `sk-estimator` class\n",
       "*/\n",
       "\n",
       "/* Pipeline and ColumnTransformer style (default) */\n",
       "\n",
       "#sk-container-id-6 div.sk-toggleable {\n",
       "  /* Default theme specific background. It is overwritten whether we have a\n",
       "  specific estimator or a Pipeline/ColumnTransformer */\n",
       "  background-color: var(--sklearn-color-background);\n",
       "}\n",
       "\n",
       "/* Toggleable label */\n",
       "#sk-container-id-6 label.sk-toggleable__label {\n",
       "  cursor: pointer;\n",
       "  display: flex;\n",
       "  width: 100%;\n",
       "  margin-bottom: 0;\n",
       "  padding: 0.5em;\n",
       "  box-sizing: border-box;\n",
       "  text-align: center;\n",
       "  align-items: start;\n",
       "  justify-content: space-between;\n",
       "  gap: 0.5em;\n",
       "}\n",
       "\n",
       "#sk-container-id-6 label.sk-toggleable__label .caption {\n",
       "  font-size: 0.6rem;\n",
       "  font-weight: lighter;\n",
       "  color: var(--sklearn-color-text-muted);\n",
       "}\n",
       "\n",
       "#sk-container-id-6 label.sk-toggleable__label-arrow:before {\n",
       "  /* Arrow on the left of the label */\n",
       "  content: \"▸\";\n",
       "  float: left;\n",
       "  margin-right: 0.25em;\n",
       "  color: var(--sklearn-color-icon);\n",
       "}\n",
       "\n",
       "#sk-container-id-6 label.sk-toggleable__label-arrow:hover:before {\n",
       "  color: var(--sklearn-color-text);\n",
       "}\n",
       "\n",
       "/* Toggleable content - dropdown */\n",
       "\n",
       "#sk-container-id-6 div.sk-toggleable__content {\n",
       "  max-height: 0;\n",
       "  max-width: 0;\n",
       "  overflow: hidden;\n",
       "  text-align: left;\n",
       "  /* unfitted */\n",
       "  background-color: var(--sklearn-color-unfitted-level-0);\n",
       "}\n",
       "\n",
       "#sk-container-id-6 div.sk-toggleable__content.fitted {\n",
       "  /* fitted */\n",
       "  background-color: var(--sklearn-color-fitted-level-0);\n",
       "}\n",
       "\n",
       "#sk-container-id-6 div.sk-toggleable__content pre {\n",
       "  margin: 0.2em;\n",
       "  border-radius: 0.25em;\n",
       "  color: var(--sklearn-color-text);\n",
       "  /* unfitted */\n",
       "  background-color: var(--sklearn-color-unfitted-level-0);\n",
       "}\n",
       "\n",
       "#sk-container-id-6 div.sk-toggleable__content.fitted pre {\n",
       "  /* unfitted */\n",
       "  background-color: var(--sklearn-color-fitted-level-0);\n",
       "}\n",
       "\n",
       "#sk-container-id-6 input.sk-toggleable__control:checked~div.sk-toggleable__content {\n",
       "  /* Expand drop-down */\n",
       "  max-height: 200px;\n",
       "  max-width: 100%;\n",
       "  overflow: auto;\n",
       "}\n",
       "\n",
       "#sk-container-id-6 input.sk-toggleable__control:checked~label.sk-toggleable__label-arrow:before {\n",
       "  content: \"▾\";\n",
       "}\n",
       "\n",
       "/* Pipeline/ColumnTransformer-specific style */\n",
       "\n",
       "#sk-container-id-6 div.sk-label input.sk-toggleable__control:checked~label.sk-toggleable__label {\n",
       "  color: var(--sklearn-color-text);\n",
       "  background-color: var(--sklearn-color-unfitted-level-2);\n",
       "}\n",
       "\n",
       "#sk-container-id-6 div.sk-label.fitted input.sk-toggleable__control:checked~label.sk-toggleable__label {\n",
       "  background-color: var(--sklearn-color-fitted-level-2);\n",
       "}\n",
       "\n",
       "/* Estimator-specific style */\n",
       "\n",
       "/* Colorize estimator box */\n",
       "#sk-container-id-6 div.sk-estimator input.sk-toggleable__control:checked~label.sk-toggleable__label {\n",
       "  /* unfitted */\n",
       "  background-color: var(--sklearn-color-unfitted-level-2);\n",
       "}\n",
       "\n",
       "#sk-container-id-6 div.sk-estimator.fitted input.sk-toggleable__control:checked~label.sk-toggleable__label {\n",
       "  /* fitted */\n",
       "  background-color: var(--sklearn-color-fitted-level-2);\n",
       "}\n",
       "\n",
       "#sk-container-id-6 div.sk-label label.sk-toggleable__label,\n",
       "#sk-container-id-6 div.sk-label label {\n",
       "  /* The background is the default theme color */\n",
       "  color: var(--sklearn-color-text-on-default-background);\n",
       "}\n",
       "\n",
       "/* On hover, darken the color of the background */\n",
       "#sk-container-id-6 div.sk-label:hover label.sk-toggleable__label {\n",
       "  color: var(--sklearn-color-text);\n",
       "  background-color: var(--sklearn-color-unfitted-level-2);\n",
       "}\n",
       "\n",
       "/* Label box, darken color on hover, fitted */\n",
       "#sk-container-id-6 div.sk-label.fitted:hover label.sk-toggleable__label.fitted {\n",
       "  color: var(--sklearn-color-text);\n",
       "  background-color: var(--sklearn-color-fitted-level-2);\n",
       "}\n",
       "\n",
       "/* Estimator label */\n",
       "\n",
       "#sk-container-id-6 div.sk-label label {\n",
       "  font-family: monospace;\n",
       "  font-weight: bold;\n",
       "  display: inline-block;\n",
       "  line-height: 1.2em;\n",
       "}\n",
       "\n",
       "#sk-container-id-6 div.sk-label-container {\n",
       "  text-align: center;\n",
       "}\n",
       "\n",
       "/* Estimator-specific */\n",
       "#sk-container-id-6 div.sk-estimator {\n",
       "  font-family: monospace;\n",
       "  border: 1px dotted var(--sklearn-color-border-box);\n",
       "  border-radius: 0.25em;\n",
       "  box-sizing: border-box;\n",
       "  margin-bottom: 0.5em;\n",
       "  /* unfitted */\n",
       "  background-color: var(--sklearn-color-unfitted-level-0);\n",
       "}\n",
       "\n",
       "#sk-container-id-6 div.sk-estimator.fitted {\n",
       "  /* fitted */\n",
       "  background-color: var(--sklearn-color-fitted-level-0);\n",
       "}\n",
       "\n",
       "/* on hover */\n",
       "#sk-container-id-6 div.sk-estimator:hover {\n",
       "  /* unfitted */\n",
       "  background-color: var(--sklearn-color-unfitted-level-2);\n",
       "}\n",
       "\n",
       "#sk-container-id-6 div.sk-estimator.fitted:hover {\n",
       "  /* fitted */\n",
       "  background-color: var(--sklearn-color-fitted-level-2);\n",
       "}\n",
       "\n",
       "/* Specification for estimator info (e.g. \"i\" and \"?\") */\n",
       "\n",
       "/* Common style for \"i\" and \"?\" */\n",
       "\n",
       ".sk-estimator-doc-link,\n",
       "a:link.sk-estimator-doc-link,\n",
       "a:visited.sk-estimator-doc-link {\n",
       "  float: right;\n",
       "  font-size: smaller;\n",
       "  line-height: 1em;\n",
       "  font-family: monospace;\n",
       "  background-color: var(--sklearn-color-background);\n",
       "  border-radius: 1em;\n",
       "  height: 1em;\n",
       "  width: 1em;\n",
       "  text-decoration: none !important;\n",
       "  margin-left: 0.5em;\n",
       "  text-align: center;\n",
       "  /* unfitted */\n",
       "  border: var(--sklearn-color-unfitted-level-1) 1pt solid;\n",
       "  color: var(--sklearn-color-unfitted-level-1);\n",
       "}\n",
       "\n",
       ".sk-estimator-doc-link.fitted,\n",
       "a:link.sk-estimator-doc-link.fitted,\n",
       "a:visited.sk-estimator-doc-link.fitted {\n",
       "  /* fitted */\n",
       "  border: var(--sklearn-color-fitted-level-1) 1pt solid;\n",
       "  color: var(--sklearn-color-fitted-level-1);\n",
       "}\n",
       "\n",
       "/* On hover */\n",
       "div.sk-estimator:hover .sk-estimator-doc-link:hover,\n",
       ".sk-estimator-doc-link:hover,\n",
       "div.sk-label-container:hover .sk-estimator-doc-link:hover,\n",
       ".sk-estimator-doc-link:hover {\n",
       "  /* unfitted */\n",
       "  background-color: var(--sklearn-color-unfitted-level-3);\n",
       "  color: var(--sklearn-color-background);\n",
       "  text-decoration: none;\n",
       "}\n",
       "\n",
       "div.sk-estimator.fitted:hover .sk-estimator-doc-link.fitted:hover,\n",
       ".sk-estimator-doc-link.fitted:hover,\n",
       "div.sk-label-container:hover .sk-estimator-doc-link.fitted:hover,\n",
       ".sk-estimator-doc-link.fitted:hover {\n",
       "  /* fitted */\n",
       "  background-color: var(--sklearn-color-fitted-level-3);\n",
       "  color: var(--sklearn-color-background);\n",
       "  text-decoration: none;\n",
       "}\n",
       "\n",
       "/* Span, style for the box shown on hovering the info icon */\n",
       ".sk-estimator-doc-link span {\n",
       "  display: none;\n",
       "  z-index: 9999;\n",
       "  position: relative;\n",
       "  font-weight: normal;\n",
       "  right: .2ex;\n",
       "  padding: .5ex;\n",
       "  margin: .5ex;\n",
       "  width: min-content;\n",
       "  min-width: 20ex;\n",
       "  max-width: 50ex;\n",
       "  color: var(--sklearn-color-text);\n",
       "  box-shadow: 2pt 2pt 4pt #999;\n",
       "  /* unfitted */\n",
       "  background: var(--sklearn-color-unfitted-level-0);\n",
       "  border: .5pt solid var(--sklearn-color-unfitted-level-3);\n",
       "}\n",
       "\n",
       ".sk-estimator-doc-link.fitted span {\n",
       "  /* fitted */\n",
       "  background: var(--sklearn-color-fitted-level-0);\n",
       "  border: var(--sklearn-color-fitted-level-3);\n",
       "}\n",
       "\n",
       ".sk-estimator-doc-link:hover span {\n",
       "  display: block;\n",
       "}\n",
       "\n",
       "/* \"?\"-specific style due to the `<a>` HTML tag */\n",
       "\n",
       "#sk-container-id-6 a.estimator_doc_link {\n",
       "  float: right;\n",
       "  font-size: 1rem;\n",
       "  line-height: 1em;\n",
       "  font-family: monospace;\n",
       "  background-color: var(--sklearn-color-background);\n",
       "  border-radius: 1rem;\n",
       "  height: 1rem;\n",
       "  width: 1rem;\n",
       "  text-decoration: none;\n",
       "  /* unfitted */\n",
       "  color: var(--sklearn-color-unfitted-level-1);\n",
       "  border: var(--sklearn-color-unfitted-level-1) 1pt solid;\n",
       "}\n",
       "\n",
       "#sk-container-id-6 a.estimator_doc_link.fitted {\n",
       "  /* fitted */\n",
       "  border: var(--sklearn-color-fitted-level-1) 1pt solid;\n",
       "  color: var(--sklearn-color-fitted-level-1);\n",
       "}\n",
       "\n",
       "/* On hover */\n",
       "#sk-container-id-6 a.estimator_doc_link:hover {\n",
       "  /* unfitted */\n",
       "  background-color: var(--sklearn-color-unfitted-level-3);\n",
       "  color: var(--sklearn-color-background);\n",
       "  text-decoration: none;\n",
       "}\n",
       "\n",
       "#sk-container-id-6 a.estimator_doc_link.fitted:hover {\n",
       "  /* fitted */\n",
       "  background-color: var(--sklearn-color-fitted-level-3);\n",
       "}\n",
       "</style><div id=\"sk-container-id-6\" class=\"sk-top-container\"><div class=\"sk-text-repr-fallback\"><pre>DecisionTreeClassifier(max_depth=5, min_samples_leaf=3)</pre><b>In a Jupyter environment, please rerun this cell to show the HTML representation or trust the notebook. <br />On GitHub, the HTML representation is unable to render, please try loading this page with nbviewer.org.</b></div><div class=\"sk-container\" hidden><div class=\"sk-item\"><div class=\"sk-estimator fitted sk-toggleable\"><input class=\"sk-toggleable__control sk-hidden--visually\" id=\"sk-estimator-id-6\" type=\"checkbox\" checked><label for=\"sk-estimator-id-6\" class=\"sk-toggleable__label fitted sk-toggleable__label-arrow\"><div><div>DecisionTreeClassifier</div></div><div><a class=\"sk-estimator-doc-link fitted\" rel=\"noreferrer\" target=\"_blank\" href=\"https://scikit-learn.org/1.6/modules/generated/sklearn.tree.DecisionTreeClassifier.html\">?<span>Documentation for DecisionTreeClassifier</span></a><span class=\"sk-estimator-doc-link fitted\">i<span>Fitted</span></span></div></label><div class=\"sk-toggleable__content fitted\"><pre>DecisionTreeClassifier(max_depth=5, min_samples_leaf=3)</pre></div> </div></div></div></div>"
      ],
      "text/plain": [
       "DecisionTreeClassifier(max_depth=5, min_samples_leaf=3)"
      ]
     },
     "execution_count": 41,
     "metadata": {},
     "output_type": "execute_result"
    }
   ],
   "source": [
    "dt.fit(X_train,y_train)"
   ]
  },
  {
   "cell_type": "code",
   "execution_count": 42,
   "metadata": {},
   "outputs": [],
   "source": [
    "y_val_pred = dt.predict(X_val)"
   ]
  },
  {
   "cell_type": "code",
   "execution_count": 43,
   "metadata": {},
   "outputs": [
    {
     "name": "stdout",
     "output_type": "stream",
     "text": [
      "[[42  0  0  2]\n",
      " [ 1  8  0  0]\n",
      " [ 5  0 23  0]\n",
      " [ 9  2  2 64]]\n",
      "              precision    recall  f1-score   support\n",
      "\n",
      "           0       0.74      0.95      0.83        44\n",
      "           1       0.80      0.89      0.84         9\n",
      "           2       0.92      0.82      0.87        28\n",
      "           3       0.97      0.83      0.90        77\n",
      "\n",
      "    accuracy                           0.87       158\n",
      "   macro avg       0.86      0.87      0.86       158\n",
      "weighted avg       0.89      0.87      0.87       158\n",
      "\n"
     ]
    }
   ],
   "source": [
    "print(confusion_matrix(y_val,y_val_pred))\n",
    "print(classification_report(y_val,y_val_pred))"
   ]
  },
  {
   "cell_type": "code",
   "execution_count": null,
   "metadata": {},
   "outputs": [],
   "source": [
    "# we see Average and poor are being identified nicely by the decision tree , for poor performance group there are a couple being identified as excellent which is not good."
   ]
  },
  {
   "cell_type": "code",
   "execution_count": null,
   "metadata": {},
   "outputs": [],
   "source": []
  },
  {
   "cell_type": "code",
   "execution_count": null,
   "metadata": {},
   "outputs": [],
   "source": [
    "#performance on test set:"
   ]
  },
  {
   "cell_type": "code",
   "execution_count": 44,
   "metadata": {},
   "outputs": [],
   "source": [
    "y_test_pred = dt.predict(X_test)"
   ]
  },
  {
   "cell_type": "code",
   "execution_count": 45,
   "metadata": {},
   "outputs": [
    {
     "name": "stdout",
     "output_type": "stream",
     "text": [
      "[[50  1  1  2]\n",
      " [ 0 11  0  0]\n",
      " [ 4  0 32  0]\n",
      " [14  0  2 81]]\n",
      "              precision    recall  f1-score   support\n",
      "\n",
      "           0       0.74      0.93      0.82        54\n",
      "           1       0.92      1.00      0.96        11\n",
      "           2       0.91      0.89      0.90        36\n",
      "           3       0.98      0.84      0.90        97\n",
      "\n",
      "    accuracy                           0.88       198\n",
      "   macro avg       0.89      0.91      0.89       198\n",
      "weighted avg       0.90      0.88      0.88       198\n",
      "\n"
     ]
    }
   ],
   "source": [
    "print(confusion_matrix(y_test,y_test_pred))\n",
    "print(classification_report(y_test,y_test_pred))"
   ]
  },
  {
   "cell_type": "code",
   "execution_count": null,
   "metadata": {},
   "outputs": [],
   "source": [
    "#let's look at the feature importance here."
   ]
  },
  {
   "cell_type": "code",
   "execution_count": 48,
   "metadata": {},
   "outputs": [
    {
     "data": {
      "image/png": "[encoded data removed]",
      "text/plain": [
       "<Figure size 640x480 with 1 Axes>"
      ]
     },
     "metadata": {},
     "output_type": "display_data"
    }
   ],
   "source": [
    "importance = dt.feature_importances_\n",
    "\n",
    "# Get the feature names (replace X_train.columns with your actual features)\n",
    "features = X_test.columns\n",
    "\n",
    "# Plot feature importance\n",
    "plt.barh(features, importance)\n",
    "plt.xlabel('Feature Importance')\n",
    "plt.title('Feature Importance in Decision Tree')\n",
    "plt.show()"
   ]
  },
  {
   "cell_type": "code",
   "execution_count": 39,
   "metadata": {
    "executionInfo": {
     "elapsed": 1,
     "status": "ok",
     "timestamp": 1744063096698,
     "user": {
      "displayName": "Anthony So",
      "userId": "05258592867336372279"
     },
     "user_tz": -600
    },
    "id": "OOzgowlJ3uyp"
   },
   "outputs": [],
   "source": [
    "# <Student to fill this section>\n",
    "algorithm_selection_explanations = \"\"\"\n",
    "\n",
    "\n",
    "\"\"\""
   ]
  },
  {
   "cell_type": "code",
   "execution_count": 40,
   "metadata": {
    "colab": {
     "base_uri": "https://localhost:8080/",
     "height": 81
    },
    "executionInfo": {
     "elapsed": 1,
     "status": "ok",
     "timestamp": 1744063096699,
     "user": {
      "displayName": "Anthony So",
      "userId": "05258592867336372279"
     },
     "user_tz": -600
    },
    "id": "BYNgEFLX3u17",
    "outputId": "8f3e14fc-04c4-44d9-f004-6502a2baca40"
   },
   "outputs": [
    {
     "data": {
      "text/html": [
       "<p style=\"color:grey\">algorithm_selection_explanations</p><h3 font-size: 3em>\n",
       "Provide some explanations on why you believe this algorithm is a good fit\n",
       "</h3>"
      ],
      "text/plain": [
       "<IPython.core.display.HTML object>"
      ]
     },
     "metadata": {},
     "output_type": "display_data"
    }
   ],
   "source": [
    "# Do not modify this code\n",
    "print_tile(size=\"h3\", key='algorithm_selection_explanations', value=algorithm_selection_explanations)"
   ]
  },
  {
   "cell_type": "markdown",
   "metadata": {
    "id": "0ks_MmM2mCfm"
   },
   "source": [
    "### G.2 Set Hyperparameters"
   ]
  },
  {
   "cell_type": "code",
   "execution_count": 41,
   "metadata": {
    "executionInfo": {
     "elapsed": 66,
     "status": "ok",
     "timestamp": 1744063096766,
     "user": {
      "displayName": "Anthony So",
      "userId": "05258592867336372279"
     },
     "user_tz": -600
    },
    "id": "NUswpGVLmDXl"
   },
   "outputs": [],
   "source": [
    "# <Student to fill this section>"
   ]
  },
  {
   "cell_type": "code",
   "execution_count": 42,
   "metadata": {
    "executionInfo": {
     "elapsed": 17,
     "status": "ok",
     "timestamp": 1744063096784,
     "user": {
      "displayName": "Anthony So",
      "userId": "05258592867336372279"
     },
     "user_tz": -600
    },
    "id": "L_hjiXab31B3"
   },
   "outputs": [],
   "source": [
    "# <Student to fill this section>\n",
    "hyperparameters_selection_explanations = \"\"\"\n",
    "max_depth=5:\n",
    "\n",
    "Why it's good: A max_depth of 5 prevents the decision tree from growing too deep and overfitting the training data. This keeps the model simple, helping it generalize well on unseen data (such as the validation/test set).\n",
    "\n",
    "Why this matters: In your business case, we want a model that can generalize well to new students, so a moderate tree depth ensures the model is not overly complex and avoids capturing noise in the training data.\n",
    "\n",
    "min_samples_split=2:\n",
    "\n",
    "Why it's good: This is the default value and allows the tree to make splits as long as there are at least 2 samples in a node. This can help the tree learn more detailed patterns.\n",
    "\n",
    "Why this matters: With min_samples_split=2, the model has the flexibility to make splits and learn from the data. However, this also needs to be balanced with other parameters (like min_samples_leaf) to avoid overfitting.\n",
    "\n",
    "min_samples_leaf=3:\n",
    "\n",
    "Why it's good: By setting min_samples_leaf=3, each leaf in the tree must contain at least 3 samples. This ensures the model doesn’t create overly specific branches based on too few samples, which could lead to overfitting.\n",
    "\n",
    "Why this matters: This helps the model generalize better by ensuring that each leaf node has enough samples to make reliable decisions.\n",
    "\"\"\""
   ]
  },
  {
   "cell_type": "code",
   "execution_count": 43,
   "metadata": {
    "colab": {
     "base_uri": "https://localhost:8080/",
     "height": 81
    },
    "executionInfo": {
     "elapsed": 26,
     "status": "ok",
     "timestamp": 1744063096816,
     "user": {
      "displayName": "Anthony So",
      "userId": "05258592867336372279"
     },
     "user_tz": -600
    },
    "id": "tcZOBvcv31E5",
    "outputId": "7733142d-b175-4cc0-de7b-e56d0817ed4f"
   },
   "outputs": [
    {
     "data": {
      "text/html": [
       "<p style=\"color:grey\">hyperparameters_selection_explanations</p><h3 font-size: 3em>\n",
       "Explain why you are tuning these hyperparameters\n",
       "</h3>"
      ],
      "text/plain": [
       "<IPython.core.display.HTML object>"
      ]
     },
     "metadata": {},
     "output_type": "display_data"
    }
   ],
   "source": [
    "# Do not modify this code\n",
    "print_tile(size=\"h3\", key='hyperparameters_selection_explanations', value=hyperparameters_selection_explanations)"
   ]
  },
  {
   "cell_type": "markdown",
   "metadata": {
    "id": "VDjdjQjFmkLe"
   },
   "source": [
    "### G.3 Fit Model"
   ]
  },
  {
   "cell_type": "code",
   "execution_count": 44,
   "metadata": {
    "executionInfo": {
     "elapsed": 0,
     "status": "ok",
     "timestamp": 1744063096817,
     "user": {
      "displayName": "Anthony So",
      "userId": "05258592867336372279"
     },
     "user_tz": -600
    },
    "id": "0Ub3Nrdgmm2N"
   },
   "outputs": [],
   "source": [
    "# <Student to fill this section>"
   ]
  },
  {
   "cell_type": "markdown",
   "metadata": {
    "id": "q43YtqpdeniY"
   },
   "source": [
    "### G.4 Model Technical Performance"
   ]
  },
  {
   "cell_type": "code",
   "execution_count": 45,
   "metadata": {
    "executionInfo": {
     "elapsed": 0,
     "status": "ok",
     "timestamp": 1744063096818,
     "user": {
      "displayName": "Anthony So",
      "userId": "05258592867336372279"
     },
     "user_tz": -600
    },
    "id": "x1Q3oxoNhez5"
   },
   "outputs": [],
   "source": [
    "# <Student to fill this section>"
   ]
  },
  {
   "cell_type": "code",
   "execution_count": 46,
   "metadata": {
    "executionInfo": {
     "elapsed": 0,
     "status": "ok",
     "timestamp": 1744063096821,
     "user": {
      "displayName": "Anthony So",
      "userId": "05258592867336372279"
     },
     "user_tz": -600
    },
    "id": "7movz2AD3-k_"
   },
   "outputs": [],
   "source": [
    "# <Student to fill this section>\n",
    "model_performance_explanations = \"\"\"\n",
    "Overall: The precision is high across all categories ( 0.74 for Average, 0.92 for Excellent, etc.). This means that the model is good at correctly identifying students in each category.\n",
    "Overall: The recall is particularly high for categories like Excellent (1.00) and Average (0.93). However, recall for the \"Poor\" category (0.84) is lower.\n",
    "\"\"\""
   ]
  },
  {
   "cell_type": "code",
   "execution_count": 47,
   "metadata": {
    "colab": {
     "base_uri": "https://localhost:8080/",
     "height": 81
    },
    "executionInfo": {
     "elapsed": 1,
     "status": "ok",
     "timestamp": 1744063096823,
     "user": {
      "displayName": "Anthony So",
      "userId": "05258592867336372279"
     },
     "user_tz": -600
    },
    "id": "1U_nKfW93-t0",
    "outputId": "b8eddc73-2746-49cc-c407-5719cda0c310"
   },
   "outputs": [
    {
     "data": {
      "text/html": [
       "<p style=\"color:grey\">model_performance_explanations</p><h3 font-size: 3em>\n",
       "Provide some explanations on model performance\n",
       "</h3>"
      ],
      "text/plain": [
       "<IPython.core.display.HTML object>"
      ]
     },
     "metadata": {},
     "output_type": "display_data"
    }
   ],
   "source": [
    "# Do not modify this code\n",
    "print_tile(size=\"h3\", key='model_performance_explanations', value=model_performance_explanations)"
   ]
  },
  {
   "cell_type": "markdown",
   "metadata": {
    "id": "W1HgZMPcmtu7"
   },
   "source": [
    "### G.5 Business Impact from Current Model Performance\n"
   ]
  },
  {
   "cell_type": "code",
   "execution_count": 48,
   "metadata": {
    "executionInfo": {
     "elapsed": 1,
     "status": "ok",
     "timestamp": 1744063096841,
     "user": {
      "displayName": "Anthony So",
      "userId": "05258592867336372279"
     },
     "user_tz": -600
    },
    "id": "XGq2RWyqmuKM"
   },
   "outputs": [],
   "source": [
    "# <Student to fill this section>"
   ]
  },
  {
   "cell_type": "code",
   "execution_count": 46,
   "metadata": {
    "executionInfo": {
     "elapsed": 2,
     "status": "ok",
     "timestamp": 1744063096843,
     "user": {
      "displayName": "Anthony So",
      "userId": "05258592867336372279"
     },
     "user_tz": -600
    },
    "id": "T7zWIZ4v4Ehd"
   },
   "outputs": [],
   "source": [
    "# <Student to fill this section>\n",
    "business_impacts_explanations = \"\"\"\n",
    "Business Implication: High recall in most categories, especially for Excellent (where recall is perfect), suggests that the model can effectively identify students who truly belong in each category. The slightly lower recall for Poor students can be improved by fine-tuning the tree further.\n",
    "\"\"\""
   ]
  },
  {
   "cell_type": "code",
   "execution_count": 50,
   "metadata": {
    "colab": {
     "base_uri": "https://localhost:8080/",
     "height": 101
    },
    "executionInfo": {
     "elapsed": 4,
     "status": "ok",
     "timestamp": 1744063096848,
     "user": {
      "displayName": "Anthony So",
      "userId": "05258592867336372279"
     },
     "user_tz": -600
    },
    "id": "OfuoUsp84Eod",
    "outputId": "386a7698-cfcf-42ed-dac3-1d73d6cf37f1"
   },
   "outputs": [
    {
     "data": {
      "text/html": [
       "<p style=\"color:grey\">business_impacts_explanations</p><h3 font-size: 3em>\n",
       "Interpret the results of the experiments related to the business objective set earlier. Estimate the impacts of the incorrect results for the business (some results may have more impact compared to others)\n",
       "</h3>"
      ],
      "text/plain": [
       "<IPython.core.display.HTML object>"
      ]
     },
     "metadata": {},
     "output_type": "display_data"
    }
   ],
   "source": [
    "# Do not modify this code\n",
    "print_tile(size=\"h3\", key='business_impacts_explanations', value=business_impacts_explanations)"
   ]
  },
  {
   "cell_type": "markdown",
   "metadata": {
    "id": "mp1Ie9o8nDl1"
   },
   "source": [
    "## H. Experiment Outcomes"
   ]
  },
  {
   "cell_type": "code",
   "execution_count": 51,
   "metadata": {
    "executionInfo": {
     "elapsed": 0,
     "status": "ok",
     "timestamp": 1744063096849,
     "user": {
      "displayName": "Anthony So",
      "userId": "05258592867336372279"
     },
     "user_tz": -600
    },
    "id": "f1ks62SL4KEk"
   },
   "outputs": [],
   "source": [
    "# <Student to fill this section>\n",
    "experiment_outcome = \"\" # Either 'Hypothesis Confirmed', 'Hypothesis Partially Confirmed' or 'Hypothesis Rejected'"
   ]
  },
  {
   "cell_type": "code",
   "execution_count": 52,
   "metadata": {
    "colab": {
     "base_uri": "https://localhost:8080/",
     "height": 58
    },
    "executionInfo": {
     "elapsed": 6,
     "status": "ok",
     "timestamp": 1744063096855,
     "user": {
      "displayName": "Anthony So",
      "userId": "05258592867336372279"
     },
     "user_tz": -600
    },
    "id": "1Z2YIMpr4KLJ",
    "outputId": "748ebb93-ddf5-417b-ad3d-dda99757cf2c"
   },
   "outputs": [
    {
     "data": {
      "text/html": [
       "<p style=\"color:grey\">experiment_outcomes_explanations</p><h2 font-size: 3em></h2>"
      ],
      "text/plain": [
       "<IPython.core.display.HTML object>"
      ]
     },
     "metadata": {},
     "output_type": "display_data"
    }
   ],
   "source": [
    "# Do not modify this code\n",
    "print_tile(size=\"h2\", key='experiment_outcomes_explanations', value=experiment_outcome)"
   ]
  },
  {
   "cell_type": "code",
   "execution_count": 53,
   "metadata": {
    "executionInfo": {
     "elapsed": 1,
     "status": "ok",
     "timestamp": 1744063096874,
     "user": {
      "displayName": "Anthony So",
      "userId": "05258592867336372279"
     },
     "user_tz": -600
    },
    "id": "6tw5lZ2S4KV3"
   },
   "outputs": [],
   "source": [
    "# <Student to fill this section>\n",
    "experiment_results_explanations = \"\"\"\n",
    "Reflect on the outcome of the experiment and list the new insights you gained from it. Provide rationale for pursuing more experimentation with the current approach or call out if you think it is a dead end.\n",
    "Given the results achieved and the overall objective of the project, list the potential next steps and experiments. For each of them assess the expected uplift or gains and rank them accordingly. If the experiment achieved the required outcome for the business, recommend the steps to deploy this solution into production.\n",
    "\"\"\""
   ]
  },
  {
   "cell_type": "code",
   "execution_count": 54,
   "metadata": {
    "colab": {
     "base_uri": "https://localhost:8080/",
     "height": 218
    },
    "executionInfo": {
     "elapsed": 29,
     "status": "ok",
     "timestamp": 1744063096904,
     "user": {
      "displayName": "Anthony So",
      "userId": "05258592867336372279"
     },
     "user_tz": -600
    },
    "id": "H-Zd7BEz4Kc3",
    "outputId": "bcd99de6-23a5-4a0c-e72f-39e7913e0907"
   },
   "outputs": [
    {
     "data": {
      "text/html": [
       "<p style=\"color:grey\">experiment_results_explanations</p><h2 font-size: 3em>\n",
       "Reflect on the outcome of the experiment and list the new insights you gained from it. Provide rationale for pursuing more experimentation with the current approach or call out if you think it is a dead end.\n",
       "Given the results achieved and the overall objective of the project, list the potential next steps and experiments. For each of them assess the expected uplift or gains and rank them accordingly. If the experiment achieved the required outcome for the business, recommend the steps to deploy this solution into production.\n",
       "</h2>"
      ],
      "text/plain": [
       "<IPython.core.display.HTML object>"
      ]
     },
     "metadata": {},
     "output_type": "display_data"
    }
   ],
   "source": [
    "# Do not modify this code\n",
    "print_tile(size=\"h2\", key='experiment_results_explanations', value=experiment_results_explanations)"
   ]
  },
  {
   "cell_type": "markdown",
   "metadata": {
    "executionInfo": {
     "elapsed": 1,
     "status": "ok",
     "timestamp": 1744063096905,
     "user": {
      "displayName": "Anthony So",
      "userId": "05258592867336372279"
     },
     "user_tz": -600
    },
    "id": "RMYQ-XSv6YgU"
   },
   "source": [
    "# we will proceed with random forest, applying grid search and removing a few columns which were found of not much use\n",
    "# for this business usecase."
   ]
  },
  {
   "cell_type": "code",
   "execution_count": 54,
   "metadata": {
    "executionInfo": {
     "elapsed": 0,
     "status": "ok",
     "timestamp": 1744063096905,
     "user": {
      "displayName": "Anthony So",
      "userId": "05258592867336372279"
     },
     "user_tz": -600
    },
    "id": "2kJZdk0g6Yir"
   },
   "outputs": [],
   "source": []
  }
 ],
 "metadata": {
  "colab": {
   "provenance": [
    {
     "file_id": "13MHsQlFmfLuY1rWjvW73WSaDUaRPENW4",
     "timestamp": 1680399055727
    }
   ],
   "toc_visible": true
  },
  "kernelspec": {
   "display_name": "Python 3 (ipykernel)",
   "language": "python",
   "name": "python3"
  },
  "language_info": {
   "codemirror_mode": {
    "name": "ipython",
    "version": 3
   },
   "file_extension": ".py",
   "mimetype": "text/x-python",
   "name": "python",
   "nbconvert_exporter": "python",
   "pygments_lexer": "ipython3",
   "version": "3.11.5"
  }
 },
 "nbformat": 4,
 "nbformat_minor": 1
}
